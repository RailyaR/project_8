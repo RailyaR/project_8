{
  "cells": [
    {
      "cell_type": "markdown",
      "metadata": {
        "toc": true,
        "id": "tA6UASRziM5u"
      },
      "source": [
        "<h1>Содержание<span class=\"tocSkip\"></span></h1>\n",
        "<div class=\"toc\"><ul class=\"toc-item\"><li><span><a href=\"#Подготовка-данных\" data-toc-modified-id=\"Подготовка-данных-1\"><span class=\"toc-item-num\">1&nbsp;&nbsp;</span>Подготовка данных</a></span></li><li><span><a href=\"#Анализ-данных\" data-toc-modified-id=\"Анализ-данных-2\"><span class=\"toc-item-num\">2&nbsp;&nbsp;</span>Анализ данных</a></span></li><li><span><a href=\"#Модель\" data-toc-modified-id=\"Модель-3\"><span class=\"toc-item-num\">3&nbsp;&nbsp;</span>Модель</a></span></li><li><span><a href=\"#Чек-лист-готовности-проекта\" data-toc-modified-id=\"Чек-лист-готовности-проекта-4\"><span class=\"toc-item-num\">4&nbsp;&nbsp;</span>Чек-лист готовности проекта</a></span></li></ul></div>"
      ]
    },
    {
      "cell_type": "markdown",
      "metadata": {
        "id": "ZdZz1_BniM5x"
      },
      "source": [
        "# Восстановление золота из руды"
      ]
    },
    {
      "cell_type": "markdown",
      "metadata": {
        "id": "PM9eXbZGiM5x"
      },
      "source": [
        "Подготовьте прототип модели машинного обучения для «Цифры». Компания разрабатывает решения для эффективной работы промышленных предприятий.\n",
        "\n",
        "Модель должна предсказать коэффициент восстановления золота из золотосодержащей руды. Используйте данные с параметрами добычи и очистки. \n",
        "\n",
        "Модель поможет оптимизировать производство, чтобы не запускать предприятие с убыточными характеристиками.\n",
        "\n",
        "Вам нужно:\n",
        "\n",
        "1. Подготовить данные;\n",
        "2. Провести исследовательский анализ данных;\n",
        "3. Построить и обучить модель.\n",
        "\n",
        "Чтобы выполнить проект, обращайтесь к библиотекам *pandas*, *matplotlib* и *sklearn.* Вам поможет их документация."
      ]
    },
    {
      "cell_type": "markdown",
      "metadata": {
        "id": "RVcxJ7hEiM5y"
      },
      "source": [
        "# Описание данных"
      ]
    },
    {
      "cell_type": "markdown",
      "metadata": {
        "id": "Vc0ZtgIfiM5y"
      },
      "source": [
        "**Технологический процесс:**\n",
        "    \n",
        "- Rougher feed — исходное сырье\n",
        "- Rougher additions (или reagent additions) — флотационные реагенты: Xanthate, Sulphate, Depressant\n",
        "- Xanthate **— ксантогенат (промотер, или активатор флотации);\n",
        "- Sulphate — сульфат (на данном производстве сульфид натрия);\n",
        "- Depressant — депрессант (силикат натрия).\n",
        "- Rougher process (англ. «грубый процесс») — флотация\n",
        "- Rougher tails — отвальные хвосты\n",
        "- Float banks — флотационная установка\n",
        "- Cleaner process — очистка\n",
        "- Rougher Au — черновой концентрат золота\n",
        "- Final Au — финальный концентрат золота\n",
        "\n",
        "**Параметры этапов:**\n",
        "    \n",
        "- air amount — объём воздуха\n",
        "- fluid levels — уровень жидкости\n",
        "- feed size — размер гранул сырья\n",
        "- feed rate — скорость подачи"
      ]
    },
    {
      "cell_type": "markdown",
      "metadata": {
        "id": "wbOxBB5SiM50"
      },
      "source": [
        "## Подготовка данных"
      ]
    },
    {
      "cell_type": "code",
      "execution_count": null,
      "metadata": {
        "id": "vKBl87SGiM51"
      },
      "outputs": [],
      "source": [
        "import pandas as pd \n",
        "import numpy as np\n",
        "\n",
        "import matplotlib.pyplot as plt\n",
        "import seaborn as sns\n",
        "\n",
        "from sklearn.linear_model import LinearRegression\n",
        "from sklearn.tree import DecisionTreeRegressor\n",
        "from sklearn.ensemble import RandomForestRegressor\n",
        "\n",
        "from sklearn.model_selection import cross_val_score, GridSearchCV\n",
        "from sklearn.metrics import mean_absolute_error, make_scorer\n",
        "from sklearn.preprocessing import StandardScaler\n",
        "from sklearn.dummy import DummyRegressor\n",
        "\n",
        "RANDOM_STATE = 12345\n",
        "\n",
        "METALS = ['au', 'ag', 'pb']\n",
        "\n",
        "CONCENTRATE_METRICS = [\n",
        "    'rougher.input.feed',\n",
        "    'rougher.output.concentrate',\n",
        "    'primary_cleaner.output.concentrate',\n",
        "    'final.output.concentrate',\n",
        "]\n",
        "\n",
        "import warnings\n",
        "warnings.simplefilter(action='ignore')"
      ]
    },
    {
      "cell_type": "code",
      "execution_count": null,
      "metadata": {
        "id": "zg1I4M7EiM53"
      },
      "outputs": [],
      "source": [
        "df_train = pd.read_csv('/datasets/gold_recovery_train_new.csv')\n",
        "df_test = pd.read_csv('/datasets/gold_recovery_test_new.csv')\n",
        "df_full = pd.read_csv('/datasets/gold_recovery_full_new.csv')"
      ]
    },
    {
      "cell_type": "code",
      "execution_count": null,
      "metadata": {
        "id": "TN49FqZ3iM54",
        "outputId": "dc1c8508-d181-4b66-ae8c-b283c1d59a45"
      },
      "outputs": [
        {
          "data": {
            "text/html": [
              "<div>\n",
              "<style scoped>\n",
              "    .dataframe tbody tr th:only-of-type {\n",
              "        vertical-align: middle;\n",
              "    }\n",
              "\n",
              "    .dataframe tbody tr th {\n",
              "        vertical-align: top;\n",
              "    }\n",
              "\n",
              "    .dataframe thead th {\n",
              "        text-align: right;\n",
              "    }\n",
              "</style>\n",
              "<table border=\"1\" class=\"dataframe\">\n",
              "  <thead>\n",
              "    <tr style=\"text-align: right;\">\n",
              "      <th></th>\n",
              "      <th>date</th>\n",
              "      <th>final.output.concentrate_ag</th>\n",
              "      <th>final.output.concentrate_pb</th>\n",
              "      <th>final.output.concentrate_sol</th>\n",
              "      <th>final.output.concentrate_au</th>\n",
              "      <th>final.output.recovery</th>\n",
              "      <th>final.output.tail_ag</th>\n",
              "      <th>final.output.tail_pb</th>\n",
              "      <th>final.output.tail_sol</th>\n",
              "      <th>final.output.tail_au</th>\n",
              "      <th>...</th>\n",
              "      <th>secondary_cleaner.state.floatbank4_a_air</th>\n",
              "      <th>secondary_cleaner.state.floatbank4_a_level</th>\n",
              "      <th>secondary_cleaner.state.floatbank4_b_air</th>\n",
              "      <th>secondary_cleaner.state.floatbank4_b_level</th>\n",
              "      <th>secondary_cleaner.state.floatbank5_a_air</th>\n",
              "      <th>secondary_cleaner.state.floatbank5_a_level</th>\n",
              "      <th>secondary_cleaner.state.floatbank5_b_air</th>\n",
              "      <th>secondary_cleaner.state.floatbank5_b_level</th>\n",
              "      <th>secondary_cleaner.state.floatbank6_a_air</th>\n",
              "      <th>secondary_cleaner.state.floatbank6_a_level</th>\n",
              "    </tr>\n",
              "  </thead>\n",
              "  <tbody>\n",
              "    <tr>\n",
              "      <th>0</th>\n",
              "      <td>2016-01-15 00:00:00</td>\n",
              "      <td>6.055403</td>\n",
              "      <td>9.889648</td>\n",
              "      <td>5.507324</td>\n",
              "      <td>42.192020</td>\n",
              "      <td>70.541216</td>\n",
              "      <td>10.411962</td>\n",
              "      <td>0.895447</td>\n",
              "      <td>16.904297</td>\n",
              "      <td>2.143149</td>\n",
              "      <td>...</td>\n",
              "      <td>14.016835</td>\n",
              "      <td>-502.488007</td>\n",
              "      <td>12.099931</td>\n",
              "      <td>-504.715942</td>\n",
              "      <td>9.925633</td>\n",
              "      <td>-498.310211</td>\n",
              "      <td>8.079666</td>\n",
              "      <td>-500.470978</td>\n",
              "      <td>14.151341</td>\n",
              "      <td>-605.841980</td>\n",
              "    </tr>\n",
              "    <tr>\n",
              "      <th>1</th>\n",
              "      <td>2016-01-15 01:00:00</td>\n",
              "      <td>6.029369</td>\n",
              "      <td>9.968944</td>\n",
              "      <td>5.257781</td>\n",
              "      <td>42.701629</td>\n",
              "      <td>69.266198</td>\n",
              "      <td>10.462676</td>\n",
              "      <td>0.927452</td>\n",
              "      <td>16.634514</td>\n",
              "      <td>2.224930</td>\n",
              "      <td>...</td>\n",
              "      <td>13.992281</td>\n",
              "      <td>-505.503262</td>\n",
              "      <td>11.950531</td>\n",
              "      <td>-501.331529</td>\n",
              "      <td>10.039245</td>\n",
              "      <td>-500.169983</td>\n",
              "      <td>7.984757</td>\n",
              "      <td>-500.582168</td>\n",
              "      <td>13.998353</td>\n",
              "      <td>-599.787184</td>\n",
              "    </tr>\n",
              "    <tr>\n",
              "      <th>2</th>\n",
              "      <td>2016-01-15 02:00:00</td>\n",
              "      <td>6.055926</td>\n",
              "      <td>10.213995</td>\n",
              "      <td>5.383759</td>\n",
              "      <td>42.657501</td>\n",
              "      <td>68.116445</td>\n",
              "      <td>10.507046</td>\n",
              "      <td>0.953716</td>\n",
              "      <td>16.208849</td>\n",
              "      <td>2.257889</td>\n",
              "      <td>...</td>\n",
              "      <td>14.015015</td>\n",
              "      <td>-502.520901</td>\n",
              "      <td>11.912783</td>\n",
              "      <td>-501.133383</td>\n",
              "      <td>10.070913</td>\n",
              "      <td>-500.129135</td>\n",
              "      <td>8.013877</td>\n",
              "      <td>-500.517572</td>\n",
              "      <td>14.028663</td>\n",
              "      <td>-601.427363</td>\n",
              "    </tr>\n",
              "    <tr>\n",
              "      <th>3</th>\n",
              "      <td>2016-01-15 03:00:00</td>\n",
              "      <td>6.047977</td>\n",
              "      <td>9.977019</td>\n",
              "      <td>4.858634</td>\n",
              "      <td>42.689819</td>\n",
              "      <td>68.347543</td>\n",
              "      <td>10.422762</td>\n",
              "      <td>0.883763</td>\n",
              "      <td>16.532835</td>\n",
              "      <td>2.146849</td>\n",
              "      <td>...</td>\n",
              "      <td>14.036510</td>\n",
              "      <td>-500.857308</td>\n",
              "      <td>11.999550</td>\n",
              "      <td>-501.193686</td>\n",
              "      <td>9.970366</td>\n",
              "      <td>-499.201640</td>\n",
              "      <td>7.977324</td>\n",
              "      <td>-500.255908</td>\n",
              "      <td>14.005551</td>\n",
              "      <td>-599.996129</td>\n",
              "    </tr>\n",
              "    <tr>\n",
              "      <th>4</th>\n",
              "      <td>2016-01-15 04:00:00</td>\n",
              "      <td>6.148599</td>\n",
              "      <td>10.142511</td>\n",
              "      <td>4.939416</td>\n",
              "      <td>42.774141</td>\n",
              "      <td>66.927016</td>\n",
              "      <td>10.360302</td>\n",
              "      <td>0.792826</td>\n",
              "      <td>16.525686</td>\n",
              "      <td>2.055292</td>\n",
              "      <td>...</td>\n",
              "      <td>14.027298</td>\n",
              "      <td>-499.838632</td>\n",
              "      <td>11.953070</td>\n",
              "      <td>-501.053894</td>\n",
              "      <td>9.925709</td>\n",
              "      <td>-501.686727</td>\n",
              "      <td>7.894242</td>\n",
              "      <td>-500.356035</td>\n",
              "      <td>13.996647</td>\n",
              "      <td>-601.496691</td>\n",
              "    </tr>\n",
              "    <tr>\n",
              "      <th>...</th>\n",
              "      <td>...</td>\n",
              "      <td>...</td>\n",
              "      <td>...</td>\n",
              "      <td>...</td>\n",
              "      <td>...</td>\n",
              "      <td>...</td>\n",
              "      <td>...</td>\n",
              "      <td>...</td>\n",
              "      <td>...</td>\n",
              "      <td>...</td>\n",
              "      <td>...</td>\n",
              "      <td>...</td>\n",
              "      <td>...</td>\n",
              "      <td>...</td>\n",
              "      <td>...</td>\n",
              "      <td>...</td>\n",
              "      <td>...</td>\n",
              "      <td>...</td>\n",
              "      <td>...</td>\n",
              "      <td>...</td>\n",
              "      <td>...</td>\n",
              "    </tr>\n",
              "    <tr>\n",
              "      <th>14144</th>\n",
              "      <td>2018-08-18 06:59:59</td>\n",
              "      <td>3.224920</td>\n",
              "      <td>11.356233</td>\n",
              "      <td>6.803482</td>\n",
              "      <td>46.713954</td>\n",
              "      <td>73.755150</td>\n",
              "      <td>8.769645</td>\n",
              "      <td>3.141541</td>\n",
              "      <td>10.403181</td>\n",
              "      <td>1.529220</td>\n",
              "      <td>...</td>\n",
              "      <td>23.031497</td>\n",
              "      <td>-501.167942</td>\n",
              "      <td>20.007571</td>\n",
              "      <td>-499.740028</td>\n",
              "      <td>18.006038</td>\n",
              "      <td>-499.834374</td>\n",
              "      <td>13.001114</td>\n",
              "      <td>-500.155694</td>\n",
              "      <td>20.007840</td>\n",
              "      <td>-501.296428</td>\n",
              "    </tr>\n",
              "    <tr>\n",
              "      <th>14145</th>\n",
              "      <td>2018-08-18 07:59:59</td>\n",
              "      <td>3.195978</td>\n",
              "      <td>11.349355</td>\n",
              "      <td>6.862249</td>\n",
              "      <td>46.866780</td>\n",
              "      <td>69.049291</td>\n",
              "      <td>8.897321</td>\n",
              "      <td>3.130493</td>\n",
              "      <td>10.549470</td>\n",
              "      <td>1.612542</td>\n",
              "      <td>...</td>\n",
              "      <td>22.960095</td>\n",
              "      <td>-501.612783</td>\n",
              "      <td>20.035660</td>\n",
              "      <td>-500.251357</td>\n",
              "      <td>17.998535</td>\n",
              "      <td>-500.395178</td>\n",
              "      <td>12.954048</td>\n",
              "      <td>-499.895163</td>\n",
              "      <td>19.968498</td>\n",
              "      <td>-501.041608</td>\n",
              "    </tr>\n",
              "    <tr>\n",
              "      <th>14146</th>\n",
              "      <td>2018-08-18 08:59:59</td>\n",
              "      <td>3.109998</td>\n",
              "      <td>11.434366</td>\n",
              "      <td>6.886013</td>\n",
              "      <td>46.795691</td>\n",
              "      <td>67.002189</td>\n",
              "      <td>8.529606</td>\n",
              "      <td>2.911418</td>\n",
              "      <td>11.115147</td>\n",
              "      <td>1.596616</td>\n",
              "      <td>...</td>\n",
              "      <td>23.015718</td>\n",
              "      <td>-501.711599</td>\n",
              "      <td>19.951231</td>\n",
              "      <td>-499.857027</td>\n",
              "      <td>18.019543</td>\n",
              "      <td>-500.451156</td>\n",
              "      <td>13.023431</td>\n",
              "      <td>-499.914391</td>\n",
              "      <td>19.990885</td>\n",
              "      <td>-501.518452</td>\n",
              "    </tr>\n",
              "    <tr>\n",
              "      <th>14147</th>\n",
              "      <td>2018-08-18 09:59:59</td>\n",
              "      <td>3.367241</td>\n",
              "      <td>11.625587</td>\n",
              "      <td>6.799433</td>\n",
              "      <td>46.408188</td>\n",
              "      <td>65.523246</td>\n",
              "      <td>8.777171</td>\n",
              "      <td>2.819214</td>\n",
              "      <td>10.463847</td>\n",
              "      <td>1.602879</td>\n",
              "      <td>...</td>\n",
              "      <td>23.024963</td>\n",
              "      <td>-501.153409</td>\n",
              "      <td>20.054122</td>\n",
              "      <td>-500.314711</td>\n",
              "      <td>17.979515</td>\n",
              "      <td>-499.272871</td>\n",
              "      <td>12.992404</td>\n",
              "      <td>-499.976268</td>\n",
              "      <td>20.013986</td>\n",
              "      <td>-500.625471</td>\n",
              "    </tr>\n",
              "    <tr>\n",
              "      <th>14148</th>\n",
              "      <td>2018-08-18 10:59:59</td>\n",
              "      <td>3.598375</td>\n",
              "      <td>11.737832</td>\n",
              "      <td>6.717509</td>\n",
              "      <td>46.299438</td>\n",
              "      <td>70.281454</td>\n",
              "      <td>8.406690</td>\n",
              "      <td>2.517518</td>\n",
              "      <td>10.652193</td>\n",
              "      <td>1.389434</td>\n",
              "      <td>...</td>\n",
              "      <td>23.018622</td>\n",
              "      <td>-500.492702</td>\n",
              "      <td>20.020205</td>\n",
              "      <td>-500.220296</td>\n",
              "      <td>17.963512</td>\n",
              "      <td>-499.939490</td>\n",
              "      <td>12.990306</td>\n",
              "      <td>-500.080993</td>\n",
              "      <td>19.990336</td>\n",
              "      <td>-499.191575</td>\n",
              "    </tr>\n",
              "  </tbody>\n",
              "</table>\n",
              "<p>14149 rows × 87 columns</p>\n",
              "</div>"
            ],
            "text/plain": [
              "                      date  final.output.concentrate_ag  \\\n",
              "0      2016-01-15 00:00:00                     6.055403   \n",
              "1      2016-01-15 01:00:00                     6.029369   \n",
              "2      2016-01-15 02:00:00                     6.055926   \n",
              "3      2016-01-15 03:00:00                     6.047977   \n",
              "4      2016-01-15 04:00:00                     6.148599   \n",
              "...                    ...                          ...   \n",
              "14144  2018-08-18 06:59:59                     3.224920   \n",
              "14145  2018-08-18 07:59:59                     3.195978   \n",
              "14146  2018-08-18 08:59:59                     3.109998   \n",
              "14147  2018-08-18 09:59:59                     3.367241   \n",
              "14148  2018-08-18 10:59:59                     3.598375   \n",
              "\n",
              "       final.output.concentrate_pb  final.output.concentrate_sol  \\\n",
              "0                         9.889648                      5.507324   \n",
              "1                         9.968944                      5.257781   \n",
              "2                        10.213995                      5.383759   \n",
              "3                         9.977019                      4.858634   \n",
              "4                        10.142511                      4.939416   \n",
              "...                            ...                           ...   \n",
              "14144                    11.356233                      6.803482   \n",
              "14145                    11.349355                      6.862249   \n",
              "14146                    11.434366                      6.886013   \n",
              "14147                    11.625587                      6.799433   \n",
              "14148                    11.737832                      6.717509   \n",
              "\n",
              "       final.output.concentrate_au  final.output.recovery  \\\n",
              "0                        42.192020              70.541216   \n",
              "1                        42.701629              69.266198   \n",
              "2                        42.657501              68.116445   \n",
              "3                        42.689819              68.347543   \n",
              "4                        42.774141              66.927016   \n",
              "...                            ...                    ...   \n",
              "14144                    46.713954              73.755150   \n",
              "14145                    46.866780              69.049291   \n",
              "14146                    46.795691              67.002189   \n",
              "14147                    46.408188              65.523246   \n",
              "14148                    46.299438              70.281454   \n",
              "\n",
              "       final.output.tail_ag  final.output.tail_pb  final.output.tail_sol  \\\n",
              "0                 10.411962              0.895447              16.904297   \n",
              "1                 10.462676              0.927452              16.634514   \n",
              "2                 10.507046              0.953716              16.208849   \n",
              "3                 10.422762              0.883763              16.532835   \n",
              "4                 10.360302              0.792826              16.525686   \n",
              "...                     ...                   ...                    ...   \n",
              "14144              8.769645              3.141541              10.403181   \n",
              "14145              8.897321              3.130493              10.549470   \n",
              "14146              8.529606              2.911418              11.115147   \n",
              "14147              8.777171              2.819214              10.463847   \n",
              "14148              8.406690              2.517518              10.652193   \n",
              "\n",
              "       final.output.tail_au  ...  secondary_cleaner.state.floatbank4_a_air  \\\n",
              "0                  2.143149  ...                                 14.016835   \n",
              "1                  2.224930  ...                                 13.992281   \n",
              "2                  2.257889  ...                                 14.015015   \n",
              "3                  2.146849  ...                                 14.036510   \n",
              "4                  2.055292  ...                                 14.027298   \n",
              "...                     ...  ...                                       ...   \n",
              "14144              1.529220  ...                                 23.031497   \n",
              "14145              1.612542  ...                                 22.960095   \n",
              "14146              1.596616  ...                                 23.015718   \n",
              "14147              1.602879  ...                                 23.024963   \n",
              "14148              1.389434  ...                                 23.018622   \n",
              "\n",
              "       secondary_cleaner.state.floatbank4_a_level  \\\n",
              "0                                     -502.488007   \n",
              "1                                     -505.503262   \n",
              "2                                     -502.520901   \n",
              "3                                     -500.857308   \n",
              "4                                     -499.838632   \n",
              "...                                           ...   \n",
              "14144                                 -501.167942   \n",
              "14145                                 -501.612783   \n",
              "14146                                 -501.711599   \n",
              "14147                                 -501.153409   \n",
              "14148                                 -500.492702   \n",
              "\n",
              "       secondary_cleaner.state.floatbank4_b_air  \\\n",
              "0                                     12.099931   \n",
              "1                                     11.950531   \n",
              "2                                     11.912783   \n",
              "3                                     11.999550   \n",
              "4                                     11.953070   \n",
              "...                                         ...   \n",
              "14144                                 20.007571   \n",
              "14145                                 20.035660   \n",
              "14146                                 19.951231   \n",
              "14147                                 20.054122   \n",
              "14148                                 20.020205   \n",
              "\n",
              "       secondary_cleaner.state.floatbank4_b_level  \\\n",
              "0                                     -504.715942   \n",
              "1                                     -501.331529   \n",
              "2                                     -501.133383   \n",
              "3                                     -501.193686   \n",
              "4                                     -501.053894   \n",
              "...                                           ...   \n",
              "14144                                 -499.740028   \n",
              "14145                                 -500.251357   \n",
              "14146                                 -499.857027   \n",
              "14147                                 -500.314711   \n",
              "14148                                 -500.220296   \n",
              "\n",
              "       secondary_cleaner.state.floatbank5_a_air  \\\n",
              "0                                      9.925633   \n",
              "1                                     10.039245   \n",
              "2                                     10.070913   \n",
              "3                                      9.970366   \n",
              "4                                      9.925709   \n",
              "...                                         ...   \n",
              "14144                                 18.006038   \n",
              "14145                                 17.998535   \n",
              "14146                                 18.019543   \n",
              "14147                                 17.979515   \n",
              "14148                                 17.963512   \n",
              "\n",
              "       secondary_cleaner.state.floatbank5_a_level  \\\n",
              "0                                     -498.310211   \n",
              "1                                     -500.169983   \n",
              "2                                     -500.129135   \n",
              "3                                     -499.201640   \n",
              "4                                     -501.686727   \n",
              "...                                           ...   \n",
              "14144                                 -499.834374   \n",
              "14145                                 -500.395178   \n",
              "14146                                 -500.451156   \n",
              "14147                                 -499.272871   \n",
              "14148                                 -499.939490   \n",
              "\n",
              "       secondary_cleaner.state.floatbank5_b_air  \\\n",
              "0                                      8.079666   \n",
              "1                                      7.984757   \n",
              "2                                      8.013877   \n",
              "3                                      7.977324   \n",
              "4                                      7.894242   \n",
              "...                                         ...   \n",
              "14144                                 13.001114   \n",
              "14145                                 12.954048   \n",
              "14146                                 13.023431   \n",
              "14147                                 12.992404   \n",
              "14148                                 12.990306   \n",
              "\n",
              "       secondary_cleaner.state.floatbank5_b_level  \\\n",
              "0                                     -500.470978   \n",
              "1                                     -500.582168   \n",
              "2                                     -500.517572   \n",
              "3                                     -500.255908   \n",
              "4                                     -500.356035   \n",
              "...                                           ...   \n",
              "14144                                 -500.155694   \n",
              "14145                                 -499.895163   \n",
              "14146                                 -499.914391   \n",
              "14147                                 -499.976268   \n",
              "14148                                 -500.080993   \n",
              "\n",
              "       secondary_cleaner.state.floatbank6_a_air  \\\n",
              "0                                     14.151341   \n",
              "1                                     13.998353   \n",
              "2                                     14.028663   \n",
              "3                                     14.005551   \n",
              "4                                     13.996647   \n",
              "...                                         ...   \n",
              "14144                                 20.007840   \n",
              "14145                                 19.968498   \n",
              "14146                                 19.990885   \n",
              "14147                                 20.013986   \n",
              "14148                                 19.990336   \n",
              "\n",
              "       secondary_cleaner.state.floatbank6_a_level  \n",
              "0                                     -605.841980  \n",
              "1                                     -599.787184  \n",
              "2                                     -601.427363  \n",
              "3                                     -599.996129  \n",
              "4                                     -601.496691  \n",
              "...                                           ...  \n",
              "14144                                 -501.296428  \n",
              "14145                                 -501.041608  \n",
              "14146                                 -501.518452  \n",
              "14147                                 -500.625471  \n",
              "14148                                 -499.191575  \n",
              "\n",
              "[14149 rows x 87 columns]"
            ]
          },
          "execution_count": 3,
          "metadata": {},
          "output_type": "execute_result"
        }
      ],
      "source": [
        "\n",
        "df_train"
      ]
    },
    {
      "cell_type": "code",
      "execution_count": null,
      "metadata": {
        "scrolled": true,
        "id": "8SzzLa5MiM55",
        "outputId": "c3016cf8-fd2d-4ccf-bacb-1d30f1659cf2"
      },
      "outputs": [
        {
          "name": "stdout",
          "output_type": "stream",
          "text": [
            "<class 'pandas.core.frame.DataFrame'>\n",
            "RangeIndex: 14149 entries, 0 to 14148\n",
            "Data columns (total 87 columns):\n",
            " #   Column                                              Non-Null Count  Dtype  \n",
            "---  ------                                              --------------  -----  \n",
            " 0   date                                                14149 non-null  object \n",
            " 1   final.output.concentrate_ag                         14148 non-null  float64\n",
            " 2   final.output.concentrate_pb                         14148 non-null  float64\n",
            " 3   final.output.concentrate_sol                        13938 non-null  float64\n",
            " 4   final.output.concentrate_au                         14149 non-null  float64\n",
            " 5   final.output.recovery                               14149 non-null  float64\n",
            " 6   final.output.tail_ag                                14149 non-null  float64\n",
            " 7   final.output.tail_pb                                14049 non-null  float64\n",
            " 8   final.output.tail_sol                               14144 non-null  float64\n",
            " 9   final.output.tail_au                                14149 non-null  float64\n",
            " 10  primary_cleaner.input.sulfate                       14129 non-null  float64\n",
            " 11  primary_cleaner.input.depressant                    14117 non-null  float64\n",
            " 12  primary_cleaner.input.feed_size                     14149 non-null  float64\n",
            " 13  primary_cleaner.input.xanthate                      14049 non-null  float64\n",
            " 14  primary_cleaner.output.concentrate_ag               14149 non-null  float64\n",
            " 15  primary_cleaner.output.concentrate_pb               14063 non-null  float64\n",
            " 16  primary_cleaner.output.concentrate_sol              13863 non-null  float64\n",
            " 17  primary_cleaner.output.concentrate_au               14149 non-null  float64\n",
            " 18  primary_cleaner.output.tail_ag                      14148 non-null  float64\n",
            " 19  primary_cleaner.output.tail_pb                      14134 non-null  float64\n",
            " 20  primary_cleaner.output.tail_sol                     14103 non-null  float64\n",
            " 21  primary_cleaner.output.tail_au                      14149 non-null  float64\n",
            " 22  primary_cleaner.state.floatbank8_a_air              14145 non-null  float64\n",
            " 23  primary_cleaner.state.floatbank8_a_level            14148 non-null  float64\n",
            " 24  primary_cleaner.state.floatbank8_b_air              14145 non-null  float64\n",
            " 25  primary_cleaner.state.floatbank8_b_level            14148 non-null  float64\n",
            " 26  primary_cleaner.state.floatbank8_c_air              14147 non-null  float64\n",
            " 27  primary_cleaner.state.floatbank8_c_level            14148 non-null  float64\n",
            " 28  primary_cleaner.state.floatbank8_d_air              14146 non-null  float64\n",
            " 29  primary_cleaner.state.floatbank8_d_level            14148 non-null  float64\n",
            " 30  rougher.calculation.sulfate_to_au_concentrate       14148 non-null  float64\n",
            " 31  rougher.calculation.floatbank10_sulfate_to_au_feed  14148 non-null  float64\n",
            " 32  rougher.calculation.floatbank11_sulfate_to_au_feed  14148 non-null  float64\n",
            " 33  rougher.calculation.au_pb_ratio                     14149 non-null  float64\n",
            " 34  rougher.input.feed_ag                               14149 non-null  float64\n",
            " 35  rougher.input.feed_pb                               14049 non-null  float64\n",
            " 36  rougher.input.feed_rate                             14141 non-null  float64\n",
            " 37  rougher.input.feed_size                             14005 non-null  float64\n",
            " 38  rougher.input.feed_sol                              14071 non-null  float64\n",
            " 39  rougher.input.feed_au                               14149 non-null  float64\n",
            " 40  rougher.input.floatbank10_sulfate                   14120 non-null  float64\n",
            " 41  rougher.input.floatbank10_xanthate                  14141 non-null  float64\n",
            " 42  rougher.input.floatbank11_sulfate                   14113 non-null  float64\n",
            " 43  rougher.input.floatbank11_xanthate                  13721 non-null  float64\n",
            " 44  rougher.output.concentrate_ag                       14149 non-null  float64\n",
            " 45  rougher.output.concentrate_pb                       14149 non-null  float64\n",
            " 46  rougher.output.concentrate_sol                      14127 non-null  float64\n",
            " 47  rougher.output.concentrate_au                       14149 non-null  float64\n",
            " 48  rougher.output.recovery                             14149 non-null  float64\n",
            " 49  rougher.output.tail_ag                              14148 non-null  float64\n",
            " 50  rougher.output.tail_pb                              14149 non-null  float64\n",
            " 51  rougher.output.tail_sol                             14149 non-null  float64\n",
            " 52  rougher.output.tail_au                              14149 non-null  float64\n",
            " 53  rougher.state.floatbank10_a_air                     14148 non-null  float64\n",
            " 54  rougher.state.floatbank10_a_level                   14148 non-null  float64\n",
            " 55  rougher.state.floatbank10_b_air                     14148 non-null  float64\n",
            " 56  rougher.state.floatbank10_b_level                   14148 non-null  float64\n",
            " 57  rougher.state.floatbank10_c_air                     14148 non-null  float64\n",
            " 58  rougher.state.floatbank10_c_level                   14148 non-null  float64\n",
            " 59  rougher.state.floatbank10_d_air                     14149 non-null  float64\n",
            " 60  rougher.state.floatbank10_d_level                   14149 non-null  float64\n",
            " 61  rougher.state.floatbank10_e_air                     13713 non-null  float64\n",
            " 62  rougher.state.floatbank10_e_level                   14149 non-null  float64\n",
            " 63  rougher.state.floatbank10_f_air                     14149 non-null  float64\n",
            " 64  rougher.state.floatbank10_f_level                   14149 non-null  float64\n",
            " 65  secondary_cleaner.output.tail_ag                    14147 non-null  float64\n",
            " 66  secondary_cleaner.output.tail_pb                    14139 non-null  float64\n",
            " 67  secondary_cleaner.output.tail_sol                   12544 non-null  float64\n",
            " 68  secondary_cleaner.output.tail_au                    14149 non-null  float64\n",
            " 69  secondary_cleaner.state.floatbank2_a_air            13932 non-null  float64\n",
            " 70  secondary_cleaner.state.floatbank2_a_level          14148 non-null  float64\n",
            " 71  secondary_cleaner.state.floatbank2_b_air            14128 non-null  float64\n",
            " 72  secondary_cleaner.state.floatbank2_b_level          14148 non-null  float64\n",
            " 73  secondary_cleaner.state.floatbank3_a_air            14145 non-null  float64\n",
            " 74  secondary_cleaner.state.floatbank3_a_level          14148 non-null  float64\n",
            " 75  secondary_cleaner.state.floatbank3_b_air            14148 non-null  float64\n",
            " 76  secondary_cleaner.state.floatbank3_b_level          14148 non-null  float64\n",
            " 77  secondary_cleaner.state.floatbank4_a_air            14143 non-null  float64\n",
            " 78  secondary_cleaner.state.floatbank4_a_level          14148 non-null  float64\n",
            " 79  secondary_cleaner.state.floatbank4_b_air            14148 non-null  float64\n",
            " 80  secondary_cleaner.state.floatbank4_b_level          14148 non-null  float64\n",
            " 81  secondary_cleaner.state.floatbank5_a_air            14148 non-null  float64\n",
            " 82  secondary_cleaner.state.floatbank5_a_level          14148 non-null  float64\n",
            " 83  secondary_cleaner.state.floatbank5_b_air            14148 non-null  float64\n",
            " 84  secondary_cleaner.state.floatbank5_b_level          14148 non-null  float64\n",
            " 85  secondary_cleaner.state.floatbank6_a_air            14147 non-null  float64\n",
            " 86  secondary_cleaner.state.floatbank6_a_level          14148 non-null  float64\n",
            "dtypes: float64(86), object(1)\n",
            "memory usage: 9.4+ MB\n"
          ]
        }
      ],
      "source": [
        "df_train.info()"
      ]
    },
    {
      "cell_type": "code",
      "execution_count": null,
      "metadata": {
        "scrolled": true,
        "id": "ztZi329giM56",
        "outputId": "f49f3d6b-7611-4e92-8fc1-26a6239ce3e1"
      },
      "outputs": [
        {
          "data": {
            "text/html": [
              "<div>\n",
              "<style scoped>\n",
              "    .dataframe tbody tr th:only-of-type {\n",
              "        vertical-align: middle;\n",
              "    }\n",
              "\n",
              "    .dataframe tbody tr th {\n",
              "        vertical-align: top;\n",
              "    }\n",
              "\n",
              "    .dataframe thead th {\n",
              "        text-align: right;\n",
              "    }\n",
              "</style>\n",
              "<table border=\"1\" class=\"dataframe\">\n",
              "  <thead>\n",
              "    <tr style=\"text-align: right;\">\n",
              "      <th></th>\n",
              "      <th>date</th>\n",
              "      <th>primary_cleaner.input.sulfate</th>\n",
              "      <th>primary_cleaner.input.depressant</th>\n",
              "      <th>primary_cleaner.input.feed_size</th>\n",
              "      <th>primary_cleaner.input.xanthate</th>\n",
              "      <th>primary_cleaner.state.floatbank8_a_air</th>\n",
              "      <th>primary_cleaner.state.floatbank8_a_level</th>\n",
              "      <th>primary_cleaner.state.floatbank8_b_air</th>\n",
              "      <th>primary_cleaner.state.floatbank8_b_level</th>\n",
              "      <th>primary_cleaner.state.floatbank8_c_air</th>\n",
              "      <th>...</th>\n",
              "      <th>secondary_cleaner.state.floatbank4_a_air</th>\n",
              "      <th>secondary_cleaner.state.floatbank4_a_level</th>\n",
              "      <th>secondary_cleaner.state.floatbank4_b_air</th>\n",
              "      <th>secondary_cleaner.state.floatbank4_b_level</th>\n",
              "      <th>secondary_cleaner.state.floatbank5_a_air</th>\n",
              "      <th>secondary_cleaner.state.floatbank5_a_level</th>\n",
              "      <th>secondary_cleaner.state.floatbank5_b_air</th>\n",
              "      <th>secondary_cleaner.state.floatbank5_b_level</th>\n",
              "      <th>secondary_cleaner.state.floatbank6_a_air</th>\n",
              "      <th>secondary_cleaner.state.floatbank6_a_level</th>\n",
              "    </tr>\n",
              "  </thead>\n",
              "  <tbody>\n",
              "    <tr>\n",
              "      <th>0</th>\n",
              "      <td>2016-09-01 00:59:59</td>\n",
              "      <td>210.800909</td>\n",
              "      <td>14.993118</td>\n",
              "      <td>8.080000</td>\n",
              "      <td>1.005021</td>\n",
              "      <td>1398.981301</td>\n",
              "      <td>-500.225577</td>\n",
              "      <td>1399.144926</td>\n",
              "      <td>-499.919735</td>\n",
              "      <td>1400.102998</td>\n",
              "      <td>...</td>\n",
              "      <td>12.023554</td>\n",
              "      <td>-497.795834</td>\n",
              "      <td>8.016656</td>\n",
              "      <td>-501.289139</td>\n",
              "      <td>7.946562</td>\n",
              "      <td>-432.317850</td>\n",
              "      <td>4.872511</td>\n",
              "      <td>-500.037437</td>\n",
              "      <td>26.705889</td>\n",
              "      <td>-499.709414</td>\n",
              "    </tr>\n",
              "    <tr>\n",
              "      <th>1</th>\n",
              "      <td>2016-09-01 01:59:59</td>\n",
              "      <td>215.392455</td>\n",
              "      <td>14.987471</td>\n",
              "      <td>8.080000</td>\n",
              "      <td>0.990469</td>\n",
              "      <td>1398.777912</td>\n",
              "      <td>-500.057435</td>\n",
              "      <td>1398.055362</td>\n",
              "      <td>-499.778182</td>\n",
              "      <td>1396.151033</td>\n",
              "      <td>...</td>\n",
              "      <td>12.058140</td>\n",
              "      <td>-498.695773</td>\n",
              "      <td>8.130979</td>\n",
              "      <td>-499.634209</td>\n",
              "      <td>7.958270</td>\n",
              "      <td>-525.839648</td>\n",
              "      <td>4.878850</td>\n",
              "      <td>-500.162375</td>\n",
              "      <td>25.019940</td>\n",
              "      <td>-499.819438</td>\n",
              "    </tr>\n",
              "    <tr>\n",
              "      <th>2</th>\n",
              "      <td>2016-09-01 02:59:59</td>\n",
              "      <td>215.259946</td>\n",
              "      <td>12.884934</td>\n",
              "      <td>7.786667</td>\n",
              "      <td>0.996043</td>\n",
              "      <td>1398.493666</td>\n",
              "      <td>-500.868360</td>\n",
              "      <td>1398.860436</td>\n",
              "      <td>-499.764529</td>\n",
              "      <td>1398.075709</td>\n",
              "      <td>...</td>\n",
              "      <td>11.962366</td>\n",
              "      <td>-498.767484</td>\n",
              "      <td>8.096893</td>\n",
              "      <td>-500.827423</td>\n",
              "      <td>8.071056</td>\n",
              "      <td>-500.801673</td>\n",
              "      <td>4.905125</td>\n",
              "      <td>-499.828510</td>\n",
              "      <td>24.994862</td>\n",
              "      <td>-500.622559</td>\n",
              "    </tr>\n",
              "    <tr>\n",
              "      <th>3</th>\n",
              "      <td>2016-09-01 03:59:59</td>\n",
              "      <td>215.336236</td>\n",
              "      <td>12.006805</td>\n",
              "      <td>7.640000</td>\n",
              "      <td>0.863514</td>\n",
              "      <td>1399.618111</td>\n",
              "      <td>-498.863574</td>\n",
              "      <td>1397.440120</td>\n",
              "      <td>-499.211024</td>\n",
              "      <td>1400.129303</td>\n",
              "      <td>...</td>\n",
              "      <td>12.033091</td>\n",
              "      <td>-498.350935</td>\n",
              "      <td>8.074946</td>\n",
              "      <td>-499.474407</td>\n",
              "      <td>7.897085</td>\n",
              "      <td>-500.868509</td>\n",
              "      <td>4.931400</td>\n",
              "      <td>-499.963623</td>\n",
              "      <td>24.948919</td>\n",
              "      <td>-498.709987</td>\n",
              "    </tr>\n",
              "    <tr>\n",
              "      <th>4</th>\n",
              "      <td>2016-09-01 04:59:59</td>\n",
              "      <td>199.099327</td>\n",
              "      <td>10.682530</td>\n",
              "      <td>7.530000</td>\n",
              "      <td>0.805575</td>\n",
              "      <td>1401.268123</td>\n",
              "      <td>-500.808305</td>\n",
              "      <td>1398.128818</td>\n",
              "      <td>-499.504543</td>\n",
              "      <td>1402.172226</td>\n",
              "      <td>...</td>\n",
              "      <td>12.025367</td>\n",
              "      <td>-500.786497</td>\n",
              "      <td>8.054678</td>\n",
              "      <td>-500.397500</td>\n",
              "      <td>8.107890</td>\n",
              "      <td>-509.526725</td>\n",
              "      <td>4.957674</td>\n",
              "      <td>-500.360026</td>\n",
              "      <td>25.003331</td>\n",
              "      <td>-500.856333</td>\n",
              "    </tr>\n",
              "    <tr>\n",
              "      <th>...</th>\n",
              "      <td>...</td>\n",
              "      <td>...</td>\n",
              "      <td>...</td>\n",
              "      <td>...</td>\n",
              "      <td>...</td>\n",
              "      <td>...</td>\n",
              "      <td>...</td>\n",
              "      <td>...</td>\n",
              "      <td>...</td>\n",
              "      <td>...</td>\n",
              "      <td>...</td>\n",
              "      <td>...</td>\n",
              "      <td>...</td>\n",
              "      <td>...</td>\n",
              "      <td>...</td>\n",
              "      <td>...</td>\n",
              "      <td>...</td>\n",
              "      <td>...</td>\n",
              "      <td>...</td>\n",
              "      <td>...</td>\n",
              "      <td>...</td>\n",
              "    </tr>\n",
              "    <tr>\n",
              "      <th>5285</th>\n",
              "      <td>2017-12-31 19:59:59</td>\n",
              "      <td>173.957757</td>\n",
              "      <td>15.963399</td>\n",
              "      <td>8.070000</td>\n",
              "      <td>0.896701</td>\n",
              "      <td>1401.930554</td>\n",
              "      <td>-499.728848</td>\n",
              "      <td>1401.441445</td>\n",
              "      <td>-499.193423</td>\n",
              "      <td>1399.810313</td>\n",
              "      <td>...</td>\n",
              "      <td>13.995957</td>\n",
              "      <td>-500.157454</td>\n",
              "      <td>12.069155</td>\n",
              "      <td>-499.673279</td>\n",
              "      <td>7.977259</td>\n",
              "      <td>-499.516126</td>\n",
              "      <td>5.933319</td>\n",
              "      <td>-499.965973</td>\n",
              "      <td>8.987171</td>\n",
              "      <td>-499.755909</td>\n",
              "    </tr>\n",
              "    <tr>\n",
              "      <th>5286</th>\n",
              "      <td>2017-12-31 20:59:59</td>\n",
              "      <td>172.910270</td>\n",
              "      <td>16.002605</td>\n",
              "      <td>8.070000</td>\n",
              "      <td>0.896519</td>\n",
              "      <td>1447.075722</td>\n",
              "      <td>-494.716823</td>\n",
              "      <td>1448.851892</td>\n",
              "      <td>-465.963026</td>\n",
              "      <td>1443.890424</td>\n",
              "      <td>...</td>\n",
              "      <td>16.749781</td>\n",
              "      <td>-496.031539</td>\n",
              "      <td>13.365371</td>\n",
              "      <td>-499.122723</td>\n",
              "      <td>9.288553</td>\n",
              "      <td>-496.892967</td>\n",
              "      <td>7.372897</td>\n",
              "      <td>-499.942956</td>\n",
              "      <td>8.986832</td>\n",
              "      <td>-499.903761</td>\n",
              "    </tr>\n",
              "    <tr>\n",
              "      <th>5287</th>\n",
              "      <td>2017-12-31 21:59:59</td>\n",
              "      <td>171.135718</td>\n",
              "      <td>15.993669</td>\n",
              "      <td>8.070000</td>\n",
              "      <td>1.165996</td>\n",
              "      <td>1498.836182</td>\n",
              "      <td>-501.770403</td>\n",
              "      <td>1499.572353</td>\n",
              "      <td>-495.516347</td>\n",
              "      <td>1502.749213</td>\n",
              "      <td>...</td>\n",
              "      <td>19.994130</td>\n",
              "      <td>-499.791312</td>\n",
              "      <td>15.101425</td>\n",
              "      <td>-499.936252</td>\n",
              "      <td>10.989181</td>\n",
              "      <td>-498.347898</td>\n",
              "      <td>9.020944</td>\n",
              "      <td>-500.040448</td>\n",
              "      <td>8.982038</td>\n",
              "      <td>-497.789882</td>\n",
              "    </tr>\n",
              "    <tr>\n",
              "      <th>5288</th>\n",
              "      <td>2017-12-31 22:59:59</td>\n",
              "      <td>179.697158</td>\n",
              "      <td>15.438979</td>\n",
              "      <td>8.070000</td>\n",
              "      <td>1.501068</td>\n",
              "      <td>1498.466243</td>\n",
              "      <td>-500.483984</td>\n",
              "      <td>1497.986986</td>\n",
              "      <td>-519.200340</td>\n",
              "      <td>1496.569047</td>\n",
              "      <td>...</td>\n",
              "      <td>19.958760</td>\n",
              "      <td>-499.958750</td>\n",
              "      <td>15.026853</td>\n",
              "      <td>-499.723143</td>\n",
              "      <td>11.011607</td>\n",
              "      <td>-499.985046</td>\n",
              "      <td>9.009783</td>\n",
              "      <td>-499.937902</td>\n",
              "      <td>9.012660</td>\n",
              "      <td>-500.154284</td>\n",
              "    </tr>\n",
              "    <tr>\n",
              "      <th>5289</th>\n",
              "      <td>2017-12-31 23:59:59</td>\n",
              "      <td>181.556856</td>\n",
              "      <td>14.995850</td>\n",
              "      <td>8.070000</td>\n",
              "      <td>1.623454</td>\n",
              "      <td>1498.096303</td>\n",
              "      <td>-499.796922</td>\n",
              "      <td>1501.743791</td>\n",
              "      <td>-505.146931</td>\n",
              "      <td>1499.535978</td>\n",
              "      <td>...</td>\n",
              "      <td>20.034715</td>\n",
              "      <td>-500.728588</td>\n",
              "      <td>14.914199</td>\n",
              "      <td>-499.948518</td>\n",
              "      <td>10.986607</td>\n",
              "      <td>-500.658027</td>\n",
              "      <td>8.989497</td>\n",
              "      <td>-500.337588</td>\n",
              "      <td>8.988632</td>\n",
              "      <td>-500.764937</td>\n",
              "    </tr>\n",
              "  </tbody>\n",
              "</table>\n",
              "<p>5290 rows × 53 columns</p>\n",
              "</div>"
            ],
            "text/plain": [
              "                     date  primary_cleaner.input.sulfate  \\\n",
              "0     2016-09-01 00:59:59                     210.800909   \n",
              "1     2016-09-01 01:59:59                     215.392455   \n",
              "2     2016-09-01 02:59:59                     215.259946   \n",
              "3     2016-09-01 03:59:59                     215.336236   \n",
              "4     2016-09-01 04:59:59                     199.099327   \n",
              "...                   ...                            ...   \n",
              "5285  2017-12-31 19:59:59                     173.957757   \n",
              "5286  2017-12-31 20:59:59                     172.910270   \n",
              "5287  2017-12-31 21:59:59                     171.135718   \n",
              "5288  2017-12-31 22:59:59                     179.697158   \n",
              "5289  2017-12-31 23:59:59                     181.556856   \n",
              "\n",
              "      primary_cleaner.input.depressant  primary_cleaner.input.feed_size  \\\n",
              "0                            14.993118                         8.080000   \n",
              "1                            14.987471                         8.080000   \n",
              "2                            12.884934                         7.786667   \n",
              "3                            12.006805                         7.640000   \n",
              "4                            10.682530                         7.530000   \n",
              "...                                ...                              ...   \n",
              "5285                         15.963399                         8.070000   \n",
              "5286                         16.002605                         8.070000   \n",
              "5287                         15.993669                         8.070000   \n",
              "5288                         15.438979                         8.070000   \n",
              "5289                         14.995850                         8.070000   \n",
              "\n",
              "      primary_cleaner.input.xanthate  primary_cleaner.state.floatbank8_a_air  \\\n",
              "0                           1.005021                             1398.981301   \n",
              "1                           0.990469                             1398.777912   \n",
              "2                           0.996043                             1398.493666   \n",
              "3                           0.863514                             1399.618111   \n",
              "4                           0.805575                             1401.268123   \n",
              "...                              ...                                     ...   \n",
              "5285                        0.896701                             1401.930554   \n",
              "5286                        0.896519                             1447.075722   \n",
              "5287                        1.165996                             1498.836182   \n",
              "5288                        1.501068                             1498.466243   \n",
              "5289                        1.623454                             1498.096303   \n",
              "\n",
              "      primary_cleaner.state.floatbank8_a_level  \\\n",
              "0                                  -500.225577   \n",
              "1                                  -500.057435   \n",
              "2                                  -500.868360   \n",
              "3                                  -498.863574   \n",
              "4                                  -500.808305   \n",
              "...                                        ...   \n",
              "5285                               -499.728848   \n",
              "5286                               -494.716823   \n",
              "5287                               -501.770403   \n",
              "5288                               -500.483984   \n",
              "5289                               -499.796922   \n",
              "\n",
              "      primary_cleaner.state.floatbank8_b_air  \\\n",
              "0                                1399.144926   \n",
              "1                                1398.055362   \n",
              "2                                1398.860436   \n",
              "3                                1397.440120   \n",
              "4                                1398.128818   \n",
              "...                                      ...   \n",
              "5285                             1401.441445   \n",
              "5286                             1448.851892   \n",
              "5287                             1499.572353   \n",
              "5288                             1497.986986   \n",
              "5289                             1501.743791   \n",
              "\n",
              "      primary_cleaner.state.floatbank8_b_level  \\\n",
              "0                                  -499.919735   \n",
              "1                                  -499.778182   \n",
              "2                                  -499.764529   \n",
              "3                                  -499.211024   \n",
              "4                                  -499.504543   \n",
              "...                                        ...   \n",
              "5285                               -499.193423   \n",
              "5286                               -465.963026   \n",
              "5287                               -495.516347   \n",
              "5288                               -519.200340   \n",
              "5289                               -505.146931   \n",
              "\n",
              "      primary_cleaner.state.floatbank8_c_air  ...  \\\n",
              "0                                1400.102998  ...   \n",
              "1                                1396.151033  ...   \n",
              "2                                1398.075709  ...   \n",
              "3                                1400.129303  ...   \n",
              "4                                1402.172226  ...   \n",
              "...                                      ...  ...   \n",
              "5285                             1399.810313  ...   \n",
              "5286                             1443.890424  ...   \n",
              "5287                             1502.749213  ...   \n",
              "5288                             1496.569047  ...   \n",
              "5289                             1499.535978  ...   \n",
              "\n",
              "      secondary_cleaner.state.floatbank4_a_air  \\\n",
              "0                                    12.023554   \n",
              "1                                    12.058140   \n",
              "2                                    11.962366   \n",
              "3                                    12.033091   \n",
              "4                                    12.025367   \n",
              "...                                        ...   \n",
              "5285                                 13.995957   \n",
              "5286                                 16.749781   \n",
              "5287                                 19.994130   \n",
              "5288                                 19.958760   \n",
              "5289                                 20.034715   \n",
              "\n",
              "      secondary_cleaner.state.floatbank4_a_level  \\\n",
              "0                                    -497.795834   \n",
              "1                                    -498.695773   \n",
              "2                                    -498.767484   \n",
              "3                                    -498.350935   \n",
              "4                                    -500.786497   \n",
              "...                                          ...   \n",
              "5285                                 -500.157454   \n",
              "5286                                 -496.031539   \n",
              "5287                                 -499.791312   \n",
              "5288                                 -499.958750   \n",
              "5289                                 -500.728588   \n",
              "\n",
              "      secondary_cleaner.state.floatbank4_b_air  \\\n",
              "0                                     8.016656   \n",
              "1                                     8.130979   \n",
              "2                                     8.096893   \n",
              "3                                     8.074946   \n",
              "4                                     8.054678   \n",
              "...                                        ...   \n",
              "5285                                 12.069155   \n",
              "5286                                 13.365371   \n",
              "5287                                 15.101425   \n",
              "5288                                 15.026853   \n",
              "5289                                 14.914199   \n",
              "\n",
              "      secondary_cleaner.state.floatbank4_b_level  \\\n",
              "0                                    -501.289139   \n",
              "1                                    -499.634209   \n",
              "2                                    -500.827423   \n",
              "3                                    -499.474407   \n",
              "4                                    -500.397500   \n",
              "...                                          ...   \n",
              "5285                                 -499.673279   \n",
              "5286                                 -499.122723   \n",
              "5287                                 -499.936252   \n",
              "5288                                 -499.723143   \n",
              "5289                                 -499.948518   \n",
              "\n",
              "      secondary_cleaner.state.floatbank5_a_air  \\\n",
              "0                                     7.946562   \n",
              "1                                     7.958270   \n",
              "2                                     8.071056   \n",
              "3                                     7.897085   \n",
              "4                                     8.107890   \n",
              "...                                        ...   \n",
              "5285                                  7.977259   \n",
              "5286                                  9.288553   \n",
              "5287                                 10.989181   \n",
              "5288                                 11.011607   \n",
              "5289                                 10.986607   \n",
              "\n",
              "      secondary_cleaner.state.floatbank5_a_level  \\\n",
              "0                                    -432.317850   \n",
              "1                                    -525.839648   \n",
              "2                                    -500.801673   \n",
              "3                                    -500.868509   \n",
              "4                                    -509.526725   \n",
              "...                                          ...   \n",
              "5285                                 -499.516126   \n",
              "5286                                 -496.892967   \n",
              "5287                                 -498.347898   \n",
              "5288                                 -499.985046   \n",
              "5289                                 -500.658027   \n",
              "\n",
              "      secondary_cleaner.state.floatbank5_b_air  \\\n",
              "0                                     4.872511   \n",
              "1                                     4.878850   \n",
              "2                                     4.905125   \n",
              "3                                     4.931400   \n",
              "4                                     4.957674   \n",
              "...                                        ...   \n",
              "5285                                  5.933319   \n",
              "5286                                  7.372897   \n",
              "5287                                  9.020944   \n",
              "5288                                  9.009783   \n",
              "5289                                  8.989497   \n",
              "\n",
              "      secondary_cleaner.state.floatbank5_b_level  \\\n",
              "0                                    -500.037437   \n",
              "1                                    -500.162375   \n",
              "2                                    -499.828510   \n",
              "3                                    -499.963623   \n",
              "4                                    -500.360026   \n",
              "...                                          ...   \n",
              "5285                                 -499.965973   \n",
              "5286                                 -499.942956   \n",
              "5287                                 -500.040448   \n",
              "5288                                 -499.937902   \n",
              "5289                                 -500.337588   \n",
              "\n",
              "      secondary_cleaner.state.floatbank6_a_air  \\\n",
              "0                                    26.705889   \n",
              "1                                    25.019940   \n",
              "2                                    24.994862   \n",
              "3                                    24.948919   \n",
              "4                                    25.003331   \n",
              "...                                        ...   \n",
              "5285                                  8.987171   \n",
              "5286                                  8.986832   \n",
              "5287                                  8.982038   \n",
              "5288                                  9.012660   \n",
              "5289                                  8.988632   \n",
              "\n",
              "      secondary_cleaner.state.floatbank6_a_level  \n",
              "0                                    -499.709414  \n",
              "1                                    -499.819438  \n",
              "2                                    -500.622559  \n",
              "3                                    -498.709987  \n",
              "4                                    -500.856333  \n",
              "...                                          ...  \n",
              "5285                                 -499.755909  \n",
              "5286                                 -499.903761  \n",
              "5287                                 -497.789882  \n",
              "5288                                 -500.154284  \n",
              "5289                                 -500.764937  \n",
              "\n",
              "[5290 rows x 53 columns]"
            ]
          },
          "execution_count": 5,
          "metadata": {},
          "output_type": "execute_result"
        }
      ],
      "source": [
        "df_test "
      ]
    },
    {
      "cell_type": "code",
      "execution_count": null,
      "metadata": {
        "scrolled": true,
        "id": "aDJB9mGqiM56",
        "outputId": "2bf9e438-130c-4290-a5d5-36f6a6ba4aa2"
      },
      "outputs": [
        {
          "name": "stdout",
          "output_type": "stream",
          "text": [
            "<class 'pandas.core.frame.DataFrame'>\n",
            "RangeIndex: 5290 entries, 0 to 5289\n",
            "Data columns (total 53 columns):\n",
            " #   Column                                      Non-Null Count  Dtype  \n",
            "---  ------                                      --------------  -----  \n",
            " 0   date                                        5290 non-null   object \n",
            " 1   primary_cleaner.input.sulfate               5286 non-null   float64\n",
            " 2   primary_cleaner.input.depressant            5285 non-null   float64\n",
            " 3   primary_cleaner.input.feed_size             5290 non-null   float64\n",
            " 4   primary_cleaner.input.xanthate              5286 non-null   float64\n",
            " 5   primary_cleaner.state.floatbank8_a_air      5290 non-null   float64\n",
            " 6   primary_cleaner.state.floatbank8_a_level    5290 non-null   float64\n",
            " 7   primary_cleaner.state.floatbank8_b_air      5290 non-null   float64\n",
            " 8   primary_cleaner.state.floatbank8_b_level    5290 non-null   float64\n",
            " 9   primary_cleaner.state.floatbank8_c_air      5290 non-null   float64\n",
            " 10  primary_cleaner.state.floatbank8_c_level    5290 non-null   float64\n",
            " 11  primary_cleaner.state.floatbank8_d_air      5290 non-null   float64\n",
            " 12  primary_cleaner.state.floatbank8_d_level    5290 non-null   float64\n",
            " 13  rougher.input.feed_ag                       5290 non-null   float64\n",
            " 14  rougher.input.feed_pb                       5290 non-null   float64\n",
            " 15  rougher.input.feed_rate                     5287 non-null   float64\n",
            " 16  rougher.input.feed_size                     5289 non-null   float64\n",
            " 17  rougher.input.feed_sol                      5269 non-null   float64\n",
            " 18  rougher.input.feed_au                       5290 non-null   float64\n",
            " 19  rougher.input.floatbank10_sulfate           5285 non-null   float64\n",
            " 20  rougher.input.floatbank10_xanthate          5290 non-null   float64\n",
            " 21  rougher.input.floatbank11_sulfate           5282 non-null   float64\n",
            " 22  rougher.input.floatbank11_xanthate          5265 non-null   float64\n",
            " 23  rougher.state.floatbank10_a_air             5290 non-null   float64\n",
            " 24  rougher.state.floatbank10_a_level           5290 non-null   float64\n",
            " 25  rougher.state.floatbank10_b_air             5290 non-null   float64\n",
            " 26  rougher.state.floatbank10_b_level           5290 non-null   float64\n",
            " 27  rougher.state.floatbank10_c_air             5290 non-null   float64\n",
            " 28  rougher.state.floatbank10_c_level           5290 non-null   float64\n",
            " 29  rougher.state.floatbank10_d_air             5290 non-null   float64\n",
            " 30  rougher.state.floatbank10_d_level           5290 non-null   float64\n",
            " 31  rougher.state.floatbank10_e_air             5290 non-null   float64\n",
            " 32  rougher.state.floatbank10_e_level           5290 non-null   float64\n",
            " 33  rougher.state.floatbank10_f_air             5290 non-null   float64\n",
            " 34  rougher.state.floatbank10_f_level           5290 non-null   float64\n",
            " 35  secondary_cleaner.state.floatbank2_a_air    5287 non-null   float64\n",
            " 36  secondary_cleaner.state.floatbank2_a_level  5290 non-null   float64\n",
            " 37  secondary_cleaner.state.floatbank2_b_air    5288 non-null   float64\n",
            " 38  secondary_cleaner.state.floatbank2_b_level  5290 non-null   float64\n",
            " 39  secondary_cleaner.state.floatbank3_a_air    5281 non-null   float64\n",
            " 40  secondary_cleaner.state.floatbank3_a_level  5290 non-null   float64\n",
            " 41  secondary_cleaner.state.floatbank3_b_air    5290 non-null   float64\n",
            " 42  secondary_cleaner.state.floatbank3_b_level  5290 non-null   float64\n",
            " 43  secondary_cleaner.state.floatbank4_a_air    5290 non-null   float64\n",
            " 44  secondary_cleaner.state.floatbank4_a_level  5290 non-null   float64\n",
            " 45  secondary_cleaner.state.floatbank4_b_air    5290 non-null   float64\n",
            " 46  secondary_cleaner.state.floatbank4_b_level  5290 non-null   float64\n",
            " 47  secondary_cleaner.state.floatbank5_a_air    5290 non-null   float64\n",
            " 48  secondary_cleaner.state.floatbank5_a_level  5290 non-null   float64\n",
            " 49  secondary_cleaner.state.floatbank5_b_air    5290 non-null   float64\n",
            " 50  secondary_cleaner.state.floatbank5_b_level  5290 non-null   float64\n",
            " 51  secondary_cleaner.state.floatbank6_a_air    5290 non-null   float64\n",
            " 52  secondary_cleaner.state.floatbank6_a_level  5290 non-null   float64\n",
            "dtypes: float64(52), object(1)\n",
            "memory usage: 2.1+ MB\n"
          ]
        }
      ],
      "source": [
        "df_test.info()"
      ]
    },
    {
      "cell_type": "code",
      "execution_count": null,
      "metadata": {
        "scrolled": true,
        "id": "FpV7-DEiiM57",
        "outputId": "aa28ebd7-56ec-4633-ea93-88c3c4b0a944"
      },
      "outputs": [
        {
          "data": {
            "text/html": [
              "<div>\n",
              "<style scoped>\n",
              "    .dataframe tbody tr th:only-of-type {\n",
              "        vertical-align: middle;\n",
              "    }\n",
              "\n",
              "    .dataframe tbody tr th {\n",
              "        vertical-align: top;\n",
              "    }\n",
              "\n",
              "    .dataframe thead th {\n",
              "        text-align: right;\n",
              "    }\n",
              "</style>\n",
              "<table border=\"1\" class=\"dataframe\">\n",
              "  <thead>\n",
              "    <tr style=\"text-align: right;\">\n",
              "      <th></th>\n",
              "      <th>date</th>\n",
              "      <th>final.output.concentrate_ag</th>\n",
              "      <th>final.output.concentrate_pb</th>\n",
              "      <th>final.output.concentrate_sol</th>\n",
              "      <th>final.output.concentrate_au</th>\n",
              "      <th>final.output.recovery</th>\n",
              "      <th>final.output.tail_ag</th>\n",
              "      <th>final.output.tail_pb</th>\n",
              "      <th>final.output.tail_sol</th>\n",
              "      <th>final.output.tail_au</th>\n",
              "      <th>...</th>\n",
              "      <th>secondary_cleaner.state.floatbank4_a_air</th>\n",
              "      <th>secondary_cleaner.state.floatbank4_a_level</th>\n",
              "      <th>secondary_cleaner.state.floatbank4_b_air</th>\n",
              "      <th>secondary_cleaner.state.floatbank4_b_level</th>\n",
              "      <th>secondary_cleaner.state.floatbank5_a_air</th>\n",
              "      <th>secondary_cleaner.state.floatbank5_a_level</th>\n",
              "      <th>secondary_cleaner.state.floatbank5_b_air</th>\n",
              "      <th>secondary_cleaner.state.floatbank5_b_level</th>\n",
              "      <th>secondary_cleaner.state.floatbank6_a_air</th>\n",
              "      <th>secondary_cleaner.state.floatbank6_a_level</th>\n",
              "    </tr>\n",
              "  </thead>\n",
              "  <tbody>\n",
              "    <tr>\n",
              "      <th>0</th>\n",
              "      <td>2016-01-15 00:00:00</td>\n",
              "      <td>6.055403</td>\n",
              "      <td>9.889648</td>\n",
              "      <td>5.507324</td>\n",
              "      <td>42.192020</td>\n",
              "      <td>70.541216</td>\n",
              "      <td>10.411962</td>\n",
              "      <td>0.895447</td>\n",
              "      <td>16.904297</td>\n",
              "      <td>2.143149</td>\n",
              "      <td>...</td>\n",
              "      <td>14.016835</td>\n",
              "      <td>-502.488007</td>\n",
              "      <td>12.099931</td>\n",
              "      <td>-504.715942</td>\n",
              "      <td>9.925633</td>\n",
              "      <td>-498.310211</td>\n",
              "      <td>8.079666</td>\n",
              "      <td>-500.470978</td>\n",
              "      <td>14.151341</td>\n",
              "      <td>-605.841980</td>\n",
              "    </tr>\n",
              "    <tr>\n",
              "      <th>1</th>\n",
              "      <td>2016-01-15 01:00:00</td>\n",
              "      <td>6.029369</td>\n",
              "      <td>9.968944</td>\n",
              "      <td>5.257781</td>\n",
              "      <td>42.701629</td>\n",
              "      <td>69.266198</td>\n",
              "      <td>10.462676</td>\n",
              "      <td>0.927452</td>\n",
              "      <td>16.634514</td>\n",
              "      <td>2.224930</td>\n",
              "      <td>...</td>\n",
              "      <td>13.992281</td>\n",
              "      <td>-505.503262</td>\n",
              "      <td>11.950531</td>\n",
              "      <td>-501.331529</td>\n",
              "      <td>10.039245</td>\n",
              "      <td>-500.169983</td>\n",
              "      <td>7.984757</td>\n",
              "      <td>-500.582168</td>\n",
              "      <td>13.998353</td>\n",
              "      <td>-599.787184</td>\n",
              "    </tr>\n",
              "    <tr>\n",
              "      <th>2</th>\n",
              "      <td>2016-01-15 02:00:00</td>\n",
              "      <td>6.055926</td>\n",
              "      <td>10.213995</td>\n",
              "      <td>5.383759</td>\n",
              "      <td>42.657501</td>\n",
              "      <td>68.116445</td>\n",
              "      <td>10.507046</td>\n",
              "      <td>0.953716</td>\n",
              "      <td>16.208849</td>\n",
              "      <td>2.257889</td>\n",
              "      <td>...</td>\n",
              "      <td>14.015015</td>\n",
              "      <td>-502.520901</td>\n",
              "      <td>11.912783</td>\n",
              "      <td>-501.133383</td>\n",
              "      <td>10.070913</td>\n",
              "      <td>-500.129135</td>\n",
              "      <td>8.013877</td>\n",
              "      <td>-500.517572</td>\n",
              "      <td>14.028663</td>\n",
              "      <td>-601.427363</td>\n",
              "    </tr>\n",
              "    <tr>\n",
              "      <th>3</th>\n",
              "      <td>2016-01-15 03:00:00</td>\n",
              "      <td>6.047977</td>\n",
              "      <td>9.977019</td>\n",
              "      <td>4.858634</td>\n",
              "      <td>42.689819</td>\n",
              "      <td>68.347543</td>\n",
              "      <td>10.422762</td>\n",
              "      <td>0.883763</td>\n",
              "      <td>16.532835</td>\n",
              "      <td>2.146849</td>\n",
              "      <td>...</td>\n",
              "      <td>14.036510</td>\n",
              "      <td>-500.857308</td>\n",
              "      <td>11.999550</td>\n",
              "      <td>-501.193686</td>\n",
              "      <td>9.970366</td>\n",
              "      <td>-499.201640</td>\n",
              "      <td>7.977324</td>\n",
              "      <td>-500.255908</td>\n",
              "      <td>14.005551</td>\n",
              "      <td>-599.996129</td>\n",
              "    </tr>\n",
              "    <tr>\n",
              "      <th>4</th>\n",
              "      <td>2016-01-15 04:00:00</td>\n",
              "      <td>6.148599</td>\n",
              "      <td>10.142511</td>\n",
              "      <td>4.939416</td>\n",
              "      <td>42.774141</td>\n",
              "      <td>66.927016</td>\n",
              "      <td>10.360302</td>\n",
              "      <td>0.792826</td>\n",
              "      <td>16.525686</td>\n",
              "      <td>2.055292</td>\n",
              "      <td>...</td>\n",
              "      <td>14.027298</td>\n",
              "      <td>-499.838632</td>\n",
              "      <td>11.953070</td>\n",
              "      <td>-501.053894</td>\n",
              "      <td>9.925709</td>\n",
              "      <td>-501.686727</td>\n",
              "      <td>7.894242</td>\n",
              "      <td>-500.356035</td>\n",
              "      <td>13.996647</td>\n",
              "      <td>-601.496691</td>\n",
              "    </tr>\n",
              "    <tr>\n",
              "      <th>...</th>\n",
              "      <td>...</td>\n",
              "      <td>...</td>\n",
              "      <td>...</td>\n",
              "      <td>...</td>\n",
              "      <td>...</td>\n",
              "      <td>...</td>\n",
              "      <td>...</td>\n",
              "      <td>...</td>\n",
              "      <td>...</td>\n",
              "      <td>...</td>\n",
              "      <td>...</td>\n",
              "      <td>...</td>\n",
              "      <td>...</td>\n",
              "      <td>...</td>\n",
              "      <td>...</td>\n",
              "      <td>...</td>\n",
              "      <td>...</td>\n",
              "      <td>...</td>\n",
              "      <td>...</td>\n",
              "      <td>...</td>\n",
              "      <td>...</td>\n",
              "    </tr>\n",
              "    <tr>\n",
              "      <th>19434</th>\n",
              "      <td>2018-08-18 06:59:59</td>\n",
              "      <td>3.224920</td>\n",
              "      <td>11.356233</td>\n",
              "      <td>6.803482</td>\n",
              "      <td>46.713954</td>\n",
              "      <td>73.755150</td>\n",
              "      <td>8.769645</td>\n",
              "      <td>3.141541</td>\n",
              "      <td>10.403181</td>\n",
              "      <td>1.529220</td>\n",
              "      <td>...</td>\n",
              "      <td>23.031497</td>\n",
              "      <td>-501.167942</td>\n",
              "      <td>20.007571</td>\n",
              "      <td>-499.740028</td>\n",
              "      <td>18.006038</td>\n",
              "      <td>-499.834374</td>\n",
              "      <td>13.001114</td>\n",
              "      <td>-500.155694</td>\n",
              "      <td>20.007840</td>\n",
              "      <td>-501.296428</td>\n",
              "    </tr>\n",
              "    <tr>\n",
              "      <th>19435</th>\n",
              "      <td>2018-08-18 07:59:59</td>\n",
              "      <td>3.195978</td>\n",
              "      <td>11.349355</td>\n",
              "      <td>6.862249</td>\n",
              "      <td>46.866780</td>\n",
              "      <td>69.049291</td>\n",
              "      <td>8.897321</td>\n",
              "      <td>3.130493</td>\n",
              "      <td>10.549470</td>\n",
              "      <td>1.612542</td>\n",
              "      <td>...</td>\n",
              "      <td>22.960095</td>\n",
              "      <td>-501.612783</td>\n",
              "      <td>20.035660</td>\n",
              "      <td>-500.251357</td>\n",
              "      <td>17.998535</td>\n",
              "      <td>-500.395178</td>\n",
              "      <td>12.954048</td>\n",
              "      <td>-499.895163</td>\n",
              "      <td>19.968498</td>\n",
              "      <td>-501.041608</td>\n",
              "    </tr>\n",
              "    <tr>\n",
              "      <th>19436</th>\n",
              "      <td>2018-08-18 08:59:59</td>\n",
              "      <td>3.109998</td>\n",
              "      <td>11.434366</td>\n",
              "      <td>6.886013</td>\n",
              "      <td>46.795691</td>\n",
              "      <td>67.002189</td>\n",
              "      <td>8.529606</td>\n",
              "      <td>2.911418</td>\n",
              "      <td>11.115147</td>\n",
              "      <td>1.596616</td>\n",
              "      <td>...</td>\n",
              "      <td>23.015718</td>\n",
              "      <td>-501.711599</td>\n",
              "      <td>19.951231</td>\n",
              "      <td>-499.857027</td>\n",
              "      <td>18.019543</td>\n",
              "      <td>-500.451156</td>\n",
              "      <td>13.023431</td>\n",
              "      <td>-499.914391</td>\n",
              "      <td>19.990885</td>\n",
              "      <td>-501.518452</td>\n",
              "    </tr>\n",
              "    <tr>\n",
              "      <th>19437</th>\n",
              "      <td>2018-08-18 09:59:59</td>\n",
              "      <td>3.367241</td>\n",
              "      <td>11.625587</td>\n",
              "      <td>6.799433</td>\n",
              "      <td>46.408188</td>\n",
              "      <td>65.523246</td>\n",
              "      <td>8.777171</td>\n",
              "      <td>2.819214</td>\n",
              "      <td>10.463847</td>\n",
              "      <td>1.602879</td>\n",
              "      <td>...</td>\n",
              "      <td>23.024963</td>\n",
              "      <td>-501.153409</td>\n",
              "      <td>20.054122</td>\n",
              "      <td>-500.314711</td>\n",
              "      <td>17.979515</td>\n",
              "      <td>-499.272871</td>\n",
              "      <td>12.992404</td>\n",
              "      <td>-499.976268</td>\n",
              "      <td>20.013986</td>\n",
              "      <td>-500.625471</td>\n",
              "    </tr>\n",
              "    <tr>\n",
              "      <th>19438</th>\n",
              "      <td>2018-08-18 10:59:59</td>\n",
              "      <td>3.598375</td>\n",
              "      <td>11.737832</td>\n",
              "      <td>6.717509</td>\n",
              "      <td>46.299438</td>\n",
              "      <td>70.281454</td>\n",
              "      <td>8.406690</td>\n",
              "      <td>2.517518</td>\n",
              "      <td>10.652193</td>\n",
              "      <td>1.389434</td>\n",
              "      <td>...</td>\n",
              "      <td>23.018622</td>\n",
              "      <td>-500.492702</td>\n",
              "      <td>20.020205</td>\n",
              "      <td>-500.220296</td>\n",
              "      <td>17.963512</td>\n",
              "      <td>-499.939490</td>\n",
              "      <td>12.990306</td>\n",
              "      <td>-500.080993</td>\n",
              "      <td>19.990336</td>\n",
              "      <td>-499.191575</td>\n",
              "    </tr>\n",
              "  </tbody>\n",
              "</table>\n",
              "<p>19439 rows × 87 columns</p>\n",
              "</div>"
            ],
            "text/plain": [
              "                      date  final.output.concentrate_ag  \\\n",
              "0      2016-01-15 00:00:00                     6.055403   \n",
              "1      2016-01-15 01:00:00                     6.029369   \n",
              "2      2016-01-15 02:00:00                     6.055926   \n",
              "3      2016-01-15 03:00:00                     6.047977   \n",
              "4      2016-01-15 04:00:00                     6.148599   \n",
              "...                    ...                          ...   \n",
              "19434  2018-08-18 06:59:59                     3.224920   \n",
              "19435  2018-08-18 07:59:59                     3.195978   \n",
              "19436  2018-08-18 08:59:59                     3.109998   \n",
              "19437  2018-08-18 09:59:59                     3.367241   \n",
              "19438  2018-08-18 10:59:59                     3.598375   \n",
              "\n",
              "       final.output.concentrate_pb  final.output.concentrate_sol  \\\n",
              "0                         9.889648                      5.507324   \n",
              "1                         9.968944                      5.257781   \n",
              "2                        10.213995                      5.383759   \n",
              "3                         9.977019                      4.858634   \n",
              "4                        10.142511                      4.939416   \n",
              "...                            ...                           ...   \n",
              "19434                    11.356233                      6.803482   \n",
              "19435                    11.349355                      6.862249   \n",
              "19436                    11.434366                      6.886013   \n",
              "19437                    11.625587                      6.799433   \n",
              "19438                    11.737832                      6.717509   \n",
              "\n",
              "       final.output.concentrate_au  final.output.recovery  \\\n",
              "0                        42.192020              70.541216   \n",
              "1                        42.701629              69.266198   \n",
              "2                        42.657501              68.116445   \n",
              "3                        42.689819              68.347543   \n",
              "4                        42.774141              66.927016   \n",
              "...                            ...                    ...   \n",
              "19434                    46.713954              73.755150   \n",
              "19435                    46.866780              69.049291   \n",
              "19436                    46.795691              67.002189   \n",
              "19437                    46.408188              65.523246   \n",
              "19438                    46.299438              70.281454   \n",
              "\n",
              "       final.output.tail_ag  final.output.tail_pb  final.output.tail_sol  \\\n",
              "0                 10.411962              0.895447              16.904297   \n",
              "1                 10.462676              0.927452              16.634514   \n",
              "2                 10.507046              0.953716              16.208849   \n",
              "3                 10.422762              0.883763              16.532835   \n",
              "4                 10.360302              0.792826              16.525686   \n",
              "...                     ...                   ...                    ...   \n",
              "19434              8.769645              3.141541              10.403181   \n",
              "19435              8.897321              3.130493              10.549470   \n",
              "19436              8.529606              2.911418              11.115147   \n",
              "19437              8.777171              2.819214              10.463847   \n",
              "19438              8.406690              2.517518              10.652193   \n",
              "\n",
              "       final.output.tail_au  ...  secondary_cleaner.state.floatbank4_a_air  \\\n",
              "0                  2.143149  ...                                 14.016835   \n",
              "1                  2.224930  ...                                 13.992281   \n",
              "2                  2.257889  ...                                 14.015015   \n",
              "3                  2.146849  ...                                 14.036510   \n",
              "4                  2.055292  ...                                 14.027298   \n",
              "...                     ...  ...                                       ...   \n",
              "19434              1.529220  ...                                 23.031497   \n",
              "19435              1.612542  ...                                 22.960095   \n",
              "19436              1.596616  ...                                 23.015718   \n",
              "19437              1.602879  ...                                 23.024963   \n",
              "19438              1.389434  ...                                 23.018622   \n",
              "\n",
              "       secondary_cleaner.state.floatbank4_a_level  \\\n",
              "0                                     -502.488007   \n",
              "1                                     -505.503262   \n",
              "2                                     -502.520901   \n",
              "3                                     -500.857308   \n",
              "4                                     -499.838632   \n",
              "...                                           ...   \n",
              "19434                                 -501.167942   \n",
              "19435                                 -501.612783   \n",
              "19436                                 -501.711599   \n",
              "19437                                 -501.153409   \n",
              "19438                                 -500.492702   \n",
              "\n",
              "       secondary_cleaner.state.floatbank4_b_air  \\\n",
              "0                                     12.099931   \n",
              "1                                     11.950531   \n",
              "2                                     11.912783   \n",
              "3                                     11.999550   \n",
              "4                                     11.953070   \n",
              "...                                         ...   \n",
              "19434                                 20.007571   \n",
              "19435                                 20.035660   \n",
              "19436                                 19.951231   \n",
              "19437                                 20.054122   \n",
              "19438                                 20.020205   \n",
              "\n",
              "       secondary_cleaner.state.floatbank4_b_level  \\\n",
              "0                                     -504.715942   \n",
              "1                                     -501.331529   \n",
              "2                                     -501.133383   \n",
              "3                                     -501.193686   \n",
              "4                                     -501.053894   \n",
              "...                                           ...   \n",
              "19434                                 -499.740028   \n",
              "19435                                 -500.251357   \n",
              "19436                                 -499.857027   \n",
              "19437                                 -500.314711   \n",
              "19438                                 -500.220296   \n",
              "\n",
              "       secondary_cleaner.state.floatbank5_a_air  \\\n",
              "0                                      9.925633   \n",
              "1                                     10.039245   \n",
              "2                                     10.070913   \n",
              "3                                      9.970366   \n",
              "4                                      9.925709   \n",
              "...                                         ...   \n",
              "19434                                 18.006038   \n",
              "19435                                 17.998535   \n",
              "19436                                 18.019543   \n",
              "19437                                 17.979515   \n",
              "19438                                 17.963512   \n",
              "\n",
              "       secondary_cleaner.state.floatbank5_a_level  \\\n",
              "0                                     -498.310211   \n",
              "1                                     -500.169983   \n",
              "2                                     -500.129135   \n",
              "3                                     -499.201640   \n",
              "4                                     -501.686727   \n",
              "...                                           ...   \n",
              "19434                                 -499.834374   \n",
              "19435                                 -500.395178   \n",
              "19436                                 -500.451156   \n",
              "19437                                 -499.272871   \n",
              "19438                                 -499.939490   \n",
              "\n",
              "       secondary_cleaner.state.floatbank5_b_air  \\\n",
              "0                                      8.079666   \n",
              "1                                      7.984757   \n",
              "2                                      8.013877   \n",
              "3                                      7.977324   \n",
              "4                                      7.894242   \n",
              "...                                         ...   \n",
              "19434                                 13.001114   \n",
              "19435                                 12.954048   \n",
              "19436                                 13.023431   \n",
              "19437                                 12.992404   \n",
              "19438                                 12.990306   \n",
              "\n",
              "       secondary_cleaner.state.floatbank5_b_level  \\\n",
              "0                                     -500.470978   \n",
              "1                                     -500.582168   \n",
              "2                                     -500.517572   \n",
              "3                                     -500.255908   \n",
              "4                                     -500.356035   \n",
              "...                                           ...   \n",
              "19434                                 -500.155694   \n",
              "19435                                 -499.895163   \n",
              "19436                                 -499.914391   \n",
              "19437                                 -499.976268   \n",
              "19438                                 -500.080993   \n",
              "\n",
              "       secondary_cleaner.state.floatbank6_a_air  \\\n",
              "0                                     14.151341   \n",
              "1                                     13.998353   \n",
              "2                                     14.028663   \n",
              "3                                     14.005551   \n",
              "4                                     13.996647   \n",
              "...                                         ...   \n",
              "19434                                 20.007840   \n",
              "19435                                 19.968498   \n",
              "19436                                 19.990885   \n",
              "19437                                 20.013986   \n",
              "19438                                 19.990336   \n",
              "\n",
              "       secondary_cleaner.state.floatbank6_a_level  \n",
              "0                                     -605.841980  \n",
              "1                                     -599.787184  \n",
              "2                                     -601.427363  \n",
              "3                                     -599.996129  \n",
              "4                                     -601.496691  \n",
              "...                                           ...  \n",
              "19434                                 -501.296428  \n",
              "19435                                 -501.041608  \n",
              "19436                                 -501.518452  \n",
              "19437                                 -500.625471  \n",
              "19438                                 -499.191575  \n",
              "\n",
              "[19439 rows x 87 columns]"
            ]
          },
          "execution_count": 7,
          "metadata": {},
          "output_type": "execute_result"
        }
      ],
      "source": [
        "df_full"
      ]
    },
    {
      "cell_type": "code",
      "execution_count": null,
      "metadata": {
        "scrolled": true,
        "id": "cghjd6gHiM57",
        "outputId": "43fd9496-b9ba-4ec2-8e7d-7fc3ced41814"
      },
      "outputs": [
        {
          "name": "stdout",
          "output_type": "stream",
          "text": [
            "<class 'pandas.core.frame.DataFrame'>\n",
            "RangeIndex: 19439 entries, 0 to 19438\n",
            "Data columns (total 87 columns):\n",
            " #   Column                                              Non-Null Count  Dtype  \n",
            "---  ------                                              --------------  -----  \n",
            " 0   date                                                19439 non-null  object \n",
            " 1   final.output.concentrate_ag                         19438 non-null  float64\n",
            " 2   final.output.concentrate_pb                         19438 non-null  float64\n",
            " 3   final.output.concentrate_sol                        19228 non-null  float64\n",
            " 4   final.output.concentrate_au                         19439 non-null  float64\n",
            " 5   final.output.recovery                               19439 non-null  float64\n",
            " 6   final.output.tail_ag                                19438 non-null  float64\n",
            " 7   final.output.tail_pb                                19338 non-null  float64\n",
            " 8   final.output.tail_sol                               19433 non-null  float64\n",
            " 9   final.output.tail_au                                19439 non-null  float64\n",
            " 10  primary_cleaner.input.sulfate                       19415 non-null  float64\n",
            " 11  primary_cleaner.input.depressant                    19402 non-null  float64\n",
            " 12  primary_cleaner.input.feed_size                     19439 non-null  float64\n",
            " 13  primary_cleaner.input.xanthate                      19335 non-null  float64\n",
            " 14  primary_cleaner.output.concentrate_ag               19439 non-null  float64\n",
            " 15  primary_cleaner.output.concentrate_pb               19323 non-null  float64\n",
            " 16  primary_cleaner.output.concentrate_sol              19069 non-null  float64\n",
            " 17  primary_cleaner.output.concentrate_au               19439 non-null  float64\n",
            " 18  primary_cleaner.output.tail_ag                      19435 non-null  float64\n",
            " 19  primary_cleaner.output.tail_pb                      19418 non-null  float64\n",
            " 20  primary_cleaner.output.tail_sol                     19377 non-null  float64\n",
            " 21  primary_cleaner.output.tail_au                      19439 non-null  float64\n",
            " 22  primary_cleaner.state.floatbank8_a_air              19435 non-null  float64\n",
            " 23  primary_cleaner.state.floatbank8_a_level            19438 non-null  float64\n",
            " 24  primary_cleaner.state.floatbank8_b_air              19435 non-null  float64\n",
            " 25  primary_cleaner.state.floatbank8_b_level            19438 non-null  float64\n",
            " 26  primary_cleaner.state.floatbank8_c_air              19437 non-null  float64\n",
            " 27  primary_cleaner.state.floatbank8_c_level            19438 non-null  float64\n",
            " 28  primary_cleaner.state.floatbank8_d_air              19436 non-null  float64\n",
            " 29  primary_cleaner.state.floatbank8_d_level            19438 non-null  float64\n",
            " 30  rougher.calculation.sulfate_to_au_concentrate       19437 non-null  float64\n",
            " 31  rougher.calculation.floatbank10_sulfate_to_au_feed  19437 non-null  float64\n",
            " 32  rougher.calculation.floatbank11_sulfate_to_au_feed  19437 non-null  float64\n",
            " 33  rougher.calculation.au_pb_ratio                     19439 non-null  float64\n",
            " 34  rougher.input.feed_ag                               19439 non-null  float64\n",
            " 35  rougher.input.feed_pb                               19339 non-null  float64\n",
            " 36  rougher.input.feed_rate                             19428 non-null  float64\n",
            " 37  rougher.input.feed_size                             19294 non-null  float64\n",
            " 38  rougher.input.feed_sol                              19340 non-null  float64\n",
            " 39  rougher.input.feed_au                               19439 non-null  float64\n",
            " 40  rougher.input.floatbank10_sulfate                   19405 non-null  float64\n",
            " 41  rougher.input.floatbank10_xanthate                  19431 non-null  float64\n",
            " 42  rougher.input.floatbank11_sulfate                   19395 non-null  float64\n",
            " 43  rougher.input.floatbank11_xanthate                  18986 non-null  float64\n",
            " 44  rougher.output.concentrate_ag                       19439 non-null  float64\n",
            " 45  rougher.output.concentrate_pb                       19439 non-null  float64\n",
            " 46  rougher.output.concentrate_sol                      19416 non-null  float64\n",
            " 47  rougher.output.concentrate_au                       19439 non-null  float64\n",
            " 48  rougher.output.recovery                             19439 non-null  float64\n",
            " 49  rougher.output.tail_ag                              19438 non-null  float64\n",
            " 50  rougher.output.tail_pb                              19439 non-null  float64\n",
            " 51  rougher.output.tail_sol                             19439 non-null  float64\n",
            " 52  rougher.output.tail_au                              19439 non-null  float64\n",
            " 53  rougher.state.floatbank10_a_air                     19438 non-null  float64\n",
            " 54  rougher.state.floatbank10_a_level                   19438 non-null  float64\n",
            " 55  rougher.state.floatbank10_b_air                     19438 non-null  float64\n",
            " 56  rougher.state.floatbank10_b_level                   19438 non-null  float64\n",
            " 57  rougher.state.floatbank10_c_air                     19438 non-null  float64\n",
            " 58  rougher.state.floatbank10_c_level                   19438 non-null  float64\n",
            " 59  rougher.state.floatbank10_d_air                     19439 non-null  float64\n",
            " 60  rougher.state.floatbank10_d_level                   19439 non-null  float64\n",
            " 61  rougher.state.floatbank10_e_air                     19003 non-null  float64\n",
            " 62  rougher.state.floatbank10_e_level                   19439 non-null  float64\n",
            " 63  rougher.state.floatbank10_f_air                     19439 non-null  float64\n",
            " 64  rougher.state.floatbank10_f_level                   19439 non-null  float64\n",
            " 65  secondary_cleaner.output.tail_ag                    19437 non-null  float64\n",
            " 66  secondary_cleaner.output.tail_pb                    19427 non-null  float64\n",
            " 67  secondary_cleaner.output.tail_sol                   17691 non-null  float64\n",
            " 68  secondary_cleaner.output.tail_au                    19439 non-null  float64\n",
            " 69  secondary_cleaner.state.floatbank2_a_air            19219 non-null  float64\n",
            " 70  secondary_cleaner.state.floatbank2_a_level          19438 non-null  float64\n",
            " 71  secondary_cleaner.state.floatbank2_b_air            19416 non-null  float64\n",
            " 72  secondary_cleaner.state.floatbank2_b_level          19438 non-null  float64\n",
            " 73  secondary_cleaner.state.floatbank3_a_air            19426 non-null  float64\n",
            " 74  secondary_cleaner.state.floatbank3_a_level          19438 non-null  float64\n",
            " 75  secondary_cleaner.state.floatbank3_b_air            19438 non-null  float64\n",
            " 76  secondary_cleaner.state.floatbank3_b_level          19438 non-null  float64\n",
            " 77  secondary_cleaner.state.floatbank4_a_air            19433 non-null  float64\n",
            " 78  secondary_cleaner.state.floatbank4_a_level          19438 non-null  float64\n",
            " 79  secondary_cleaner.state.floatbank4_b_air            19438 non-null  float64\n",
            " 80  secondary_cleaner.state.floatbank4_b_level          19438 non-null  float64\n",
            " 81  secondary_cleaner.state.floatbank5_a_air            19438 non-null  float64\n",
            " 82  secondary_cleaner.state.floatbank5_a_level          19438 non-null  float64\n",
            " 83  secondary_cleaner.state.floatbank5_b_air            19438 non-null  float64\n",
            " 84  secondary_cleaner.state.floatbank5_b_level          19438 non-null  float64\n",
            " 85  secondary_cleaner.state.floatbank6_a_air            19437 non-null  float64\n",
            " 86  secondary_cleaner.state.floatbank6_a_level          19438 non-null  float64\n",
            "dtypes: float64(86), object(1)\n",
            "memory usage: 12.9+ MB\n"
          ]
        }
      ],
      "source": [
        "df_full.info()"
      ]
    },
    {
      "cell_type": "code",
      "execution_count": null,
      "metadata": {
        "id": "Z4MNxFvoiM58"
      },
      "outputs": [],
      "source": [
        "def show_rows(data_frame):\n",
        "    rows_count, columns_count = data_frame.shape\n",
        "    print('Количество стобцов:', columns_count)\n",
        "    print('Количество строк:', rows_count)\n",
        "    for column in data_frame.columns:\n",
        "        print('Уникальные значения столбца', column)\n",
        "        print(data_frame[column].value_counts(sort=False))\n",
        "    print('Количество пропусков в каждом столбце')    \n",
        "    print(data_frame.isna().sum())"
      ]
    },
    {
      "cell_type": "code",
      "execution_count": null,
      "metadata": {
        "id": "HP4r_l7CiM58",
        "outputId": "1badcd45-64a5-414a-cdd3-a76c565d1b05"
      },
      "outputs": [
        {
          "name": "stdout",
          "output_type": "stream",
          "text": [
            "Количество стобцов: 87\n",
            "Количество строк: 14149\n",
            "Уникальные значения столбца date\n",
            "2017-02-09 03:59:59    1\n",
            "2017-06-18 07:59:59    1\n",
            "2018-01-01 18:59:59    1\n",
            "2018-08-10 18:59:59    1\n",
            "2017-01-21 07:59:59    1\n",
            "                      ..\n",
            "2018-03-24 04:59:59    1\n",
            "2016-05-23 08:59:59    1\n",
            "2016-07-29 23:59:59    1\n",
            "2016-04-10 02:00:00    1\n",
            "2017-08-27 20:59:59    1\n",
            "Name: date, Length: 14149, dtype: int64\n",
            "Уникальные значения столбца final.output.concentrate_ag\n",
            "0.000000    58\n",
            "4.719990     1\n",
            "3.666412     1\n",
            "7.638199     1\n",
            "4.088407     1\n",
            "            ..\n",
            "4.195470     1\n",
            "3.480709     1\n",
            "5.231190     1\n",
            "3.908685     1\n",
            "6.808452     1\n",
            "Name: final.output.concentrate_ag, Length: 14064, dtype: int64\n",
            "Уникальные значения столбца final.output.concentrate_pb\n",
            "0.000000     58\n",
            "10.188608     1\n",
            "8.298796      1\n",
            "11.545038     1\n",
            "8.250501      1\n",
            "             ..\n",
            "9.797805      1\n",
            "11.730163     1\n",
            "11.397350     1\n",
            "10.648009     1\n",
            "9.521703      1\n",
            "Name: final.output.concentrate_pb, Length: 14050, dtype: int64\n",
            "Уникальные значения столбца final.output.concentrate_sol\n",
            "0.000000     58\n",
            "9.441354      1\n",
            "9.160606      1\n",
            "6.227071      1\n",
            "6.758550      1\n",
            "             ..\n",
            "6.670220      1\n",
            "10.673044     1\n",
            "9.269281      1\n",
            "6.966553      1\n",
            "13.319109     1\n",
            "Name: final.output.concentrate_sol, Length: 13853, dtype: int64\n",
            "Уникальные значения столбца final.output.concentrate_au\n",
            "0.000000     58\n",
            "50.256024     1\n",
            "43.785803     1\n",
            "45.786141     1\n",
            "43.305173     1\n",
            "             ..\n",
            "44.302707     1\n",
            "41.741209     1\n",
            "47.251933     1\n",
            "40.222978     1\n",
            "46.752079     1\n",
            "Name: final.output.concentrate_au, Length: 14065, dtype: int64\n",
            "Уникальные значения столбца final.output.recovery\n",
            "0.000000     58\n",
            "67.629735     1\n",
            "59.671215     1\n",
            "66.517284     1\n",
            "58.059812     1\n",
            "             ..\n",
            "68.405095     1\n",
            "64.941000     1\n",
            "64.322747     1\n",
            "65.786629     1\n",
            "66.207889     1\n",
            "Name: final.output.recovery, Length: 14008, dtype: int64\n",
            "Уникальные значения столбца final.output.tail_ag\n",
            "0.000000     75\n",
            "12.365594     1\n",
            "7.788876      1\n",
            "11.468498     1\n",
            "7.633138      1\n",
            "             ..\n",
            "7.691393      1\n",
            "8.107412      1\n",
            "9.456910      1\n",
            "11.242286     1\n",
            "11.414261     1\n",
            "Name: final.output.tail_ag, Length: 14062, dtype: int64\n",
            "Уникальные значения столбца final.output.tail_pb\n",
            "0.000000    75\n",
            "1.846142     1\n",
            "3.551955     1\n",
            "3.190225     1\n",
            "2.429219     1\n",
            "            ..\n",
            "2.149701     1\n",
            "2.362164     1\n",
            "2.881219     1\n",
            "0.915097     1\n",
            "3.351161     1\n",
            "Name: final.output.tail_pb, Length: 13962, dtype: int64\n",
            "Уникальные значения столбца final.output.tail_sol\n",
            "0.000000     75\n",
            "10.782839     1\n",
            "11.033053     1\n",
            "16.121142     1\n",
            "8.839706      1\n",
            "             ..\n",
            "10.990655     1\n",
            "13.551975     1\n",
            "12.691041     1\n",
            "10.295974     1\n",
            "7.760493      1\n",
            "Name: final.output.tail_sol, Length: 14057, dtype: int64\n",
            "Уникальные значения столбца final.output.tail_au\n",
            "0.000000    75\n",
            "3.402338     1\n",
            "2.516532     1\n",
            "3.478837     1\n",
            "4.183715     1\n",
            "            ..\n",
            "2.944993     1\n",
            "2.458738     1\n",
            "1.622001     1\n",
            "3.602147     1\n",
            "3.594554     1\n",
            "Name: final.output.tail_au, Length: 14062, dtype: int64\n",
            "Уникальные значения столбца primary_cleaner.input.sulfate\n",
            "185.095295    1\n",
            "122.532295    1\n",
            "117.746211    1\n",
            "5.302022      1\n",
            "109.941687    1\n",
            "             ..\n",
            "103.140936    1\n",
            "120.744238    1\n",
            "109.428340    1\n",
            "125.855440    1\n",
            "202.325015    1\n",
            "Name: primary_cleaner.input.sulfate, Length: 14129, dtype: int64\n",
            "Уникальные значения столбца primary_cleaner.input.depressant\n",
            "0.000000     10\n",
            "4.947907      1\n",
            "2.464242      1\n",
            "13.994074     1\n",
            "14.989684     1\n",
            "             ..\n",
            "12.977873     1\n",
            "15.996939     1\n",
            "10.076148     1\n",
            "7.106057      1\n",
            "8.000791      1\n",
            "Name: primary_cleaner.input.depressant, Length: 14108, dtype: int64\n",
            "Уникальные значения столбца primary_cleaner.input.feed_size\n",
            "6.540000    1\n",
            "8.162500    1\n",
            "7.179999    1\n",
            "6.910000    1\n",
            "8.515000    1\n",
            "           ..\n",
            "6.460000    1\n",
            "6.850000    1\n",
            "6.900000    1\n",
            "6.296667    1\n",
            "6.876666    1\n",
            "Name: primary_cleaner.input.feed_size, Length: 3732, dtype: int64\n",
            "Уникальные значения столбца primary_cleaner.input.xanthate\n",
            "0.992753    1\n",
            "1.090876    1\n",
            "0.988759    1\n",
            "0.702397    1\n",
            "0.868578    1\n",
            "           ..\n",
            "0.802444    1\n",
            "1.004020    1\n",
            "0.839793    1\n",
            "1.418858    1\n",
            "0.561610    1\n",
            "Name: primary_cleaner.input.xanthate, Length: 14049, dtype: int64\n",
            "Уникальные значения столбца primary_cleaner.output.concentrate_ag\n",
            "0.000000    74\n",
            "5.215641     1\n",
            "9.656177     1\n",
            "7.705063     1\n",
            "8.071317     1\n",
            "            ..\n",
            "8.888207     1\n",
            "7.908256     1\n",
            "9.450672     1\n",
            "6.583287     1\n",
            "9.105286     1\n",
            "Name: primary_cleaner.output.concentrate_ag, Length: 13950, dtype: int64\n",
            "Уникальные значения столбца primary_cleaner.output.concentrate_pb\n",
            "0.000000     74\n",
            "9.240342      1\n",
            "13.410090     1\n",
            "10.789457     1\n",
            "14.754357     1\n",
            "             ..\n",
            "12.335814     1\n",
            "12.369014     1\n",
            "9.037617      1\n",
            "12.207338     1\n",
            "9.759185      1\n",
            "Name: primary_cleaner.output.concentrate_pb, Length: 13856, dtype: int64\n",
            "Уникальные значения столбца primary_cleaner.output.concentrate_sol\n",
            "0.000000     74\n",
            "9.081582      1\n",
            "8.432863      1\n",
            "7.994710      1\n",
            "13.133209     1\n",
            "             ..\n",
            "13.899667     1\n",
            "5.001750      1\n",
            "6.862994      1\n",
            "8.832730      1\n",
            "14.815263     1\n",
            "Name: primary_cleaner.output.concentrate_sol, Length: 13662, dtype: int64\n",
            "Уникальные значения столбца primary_cleaner.output.concentrate_au\n",
            "0.000000     74\n",
            "31.789472     1\n",
            "12.834953     1\n",
            "39.894711     1\n",
            "26.500821     1\n",
            "             ..\n",
            "29.825731     1\n",
            "32.344163     1\n",
            "29.089685     1\n",
            "30.480697     1\n",
            "33.611983     1\n",
            "Name: primary_cleaner.output.concentrate_au, Length: 13950, dtype: int64\n",
            "Уникальные значения столбца primary_cleaner.output.tail_ag\n",
            "0.000000     68\n",
            "18.063782     1\n",
            "21.460002     1\n",
            "20.534940     1\n",
            "18.977863     1\n",
            "             ..\n",
            "17.037573     1\n",
            "14.623517     1\n",
            "11.731727     1\n",
            "18.634326     1\n",
            "15.271858     1\n",
            "Name: primary_cleaner.output.tail_ag, Length: 14063, dtype: int64\n",
            "Уникальные значения столбца primary_cleaner.output.tail_pb\n",
            "0.000000    68\n",
            "1.452742     1\n",
            "2.201098     1\n",
            "2.382208     1\n",
            "3.986288     1\n",
            "            ..\n",
            "4.161540     1\n",
            "2.567303     1\n",
            "3.399980     1\n",
            "2.478187     1\n",
            "7.137916     1\n",
            "Name: primary_cleaner.output.tail_pb, Length: 14049, dtype: int64\n",
            "Уникальные значения столбца primary_cleaner.output.tail_sol\n",
            "0.000000    68\n",
            "2.228452     1\n",
            "6.702322     1\n",
            "4.434098     1\n",
            "7.626126     1\n",
            "            ..\n",
            "7.725988     1\n",
            "7.263926     1\n",
            "1.057492     1\n",
            "8.597012     1\n",
            "7.316166     1\n",
            "Name: primary_cleaner.output.tail_sol, Length: 14018, dtype: int64\n",
            "Уникальные значения столбца primary_cleaner.output.tail_au\n",
            "0.000000    68\n",
            "4.832088     1\n",
            "3.398455     1\n",
            "2.453288     1\n",
            "2.269492     1\n",
            "            ..\n",
            "2.896023     1\n",
            "5.468207     1\n",
            "3.907525     1\n",
            "3.340133     1\n",
            "4.459269     1\n",
            "Name: primary_cleaner.output.tail_au, Length: 14064, dtype: int64\n",
            "Уникальные значения столбца primary_cleaner.state.floatbank8_a_air\n",
            "1700.673288    1\n",
            "1198.685138    1\n",
            "1399.962244    1\n",
            "1598.971218    1\n",
            "1599.434549    1\n",
            "              ..\n",
            "1751.429459    1\n",
            "1702.427945    1\n",
            "1452.450663    1\n",
            "1545.193452    1\n",
            "1710.353525    1\n",
            "Name: primary_cleaner.state.floatbank8_a_air, Length: 14145, dtype: int64\n",
            "Уникальные значения столбца primary_cleaner.state.floatbank8_a_level\n",
            "-500.219698    1\n",
            "-500.248889    1\n",
            "-500.156015    1\n",
            "-498.142947    1\n",
            "-499.590731    1\n",
            "              ..\n",
            "-450.494272    1\n",
            "-499.882493    1\n",
            "-500.259798    1\n",
            "-499.893573    1\n",
            "-500.088749    1\n",
            "Name: primary_cleaner.state.floatbank8_a_level, Length: 14148, dtype: int64\n",
            "Уникальные значения столбца primary_cleaner.state.floatbank8_b_air\n",
            "1202.078238    1\n",
            "1699.948733    1\n",
            "1596.354805    1\n",
            "1597.460685    1\n",
            "1397.551471    1\n",
            "              ..\n",
            "1698.537099    1\n",
            "1599.647340    1\n",
            "1602.238855    1\n",
            "1603.606953    1\n",
            "1701.571945    1\n",
            "Name: primary_cleaner.state.floatbank8_b_air, Length: 14145, dtype: int64\n",
            "Уникальные значения столбца primary_cleaner.state.floatbank8_b_level\n",
            "-499.716994    1\n",
            "-450.518682    1\n",
            "-499.717242    1\n",
            "-501.233313    1\n",
            "-500.681761    1\n",
            "              ..\n",
            "-499.874160    1\n",
            "-499.607084    1\n",
            "-500.714620    1\n",
            "-499.360473    1\n",
            "-500.874339    1\n",
            "Name: primary_cleaner.state.floatbank8_b_level, Length: 14148, dtype: int64\n",
            "Уникальные значения столбца primary_cleaner.state.floatbank8_c_air\n",
            "1648.609070    1\n",
            "1747.076186    1\n",
            "1600.706532    1\n",
            "1700.010414    1\n",
            "1496.618105    1\n",
            "              ..\n",
            "1700.690077    1\n",
            "1500.019342    1\n",
            "1603.915412    1\n",
            "1498.816155    1\n",
            "1598.013222    1\n",
            "Name: primary_cleaner.state.floatbank8_c_air, Length: 14147, dtype: int64\n",
            "Уникальные значения столбца primary_cleaner.state.floatbank8_c_level\n",
            "-507.136714    1\n",
            "-500.494658    1\n",
            "-499.387575    1\n",
            "-500.671194    1\n",
            "-498.804987    1\n",
            "              ..\n",
            "-497.331717    1\n",
            "-499.790089    1\n",
            "-501.260002    1\n",
            "-497.112913    1\n",
            "-500.684830    1\n",
            "Name: primary_cleaner.state.floatbank8_c_level, Length: 14148, dtype: int64\n",
            "Уникальные значения столбца primary_cleaner.state.floatbank8_d_air\n",
            "1701.088387    1\n",
            "1199.979062    1\n",
            "1599.807862    1\n",
            "1799.951049    1\n",
            "1589.757663    1\n",
            "              ..\n",
            "1356.426782    1\n",
            "1599.685383    1\n",
            "1492.602842    1\n",
            "1450.683692    1\n",
            "1699.160141    1\n",
            "Name: primary_cleaner.state.floatbank8_d_air, Length: 14146, dtype: int64\n",
            "Уникальные значения столбца primary_cleaner.state.floatbank8_d_level\n",
            "-799.760012    1\n",
            "-499.610964    1\n",
            "-500.814109    1\n",
            "-500.320741    1\n",
            "-400.204582    1\n",
            "              ..\n",
            "-500.699861    1\n",
            "-498.327845    1\n",
            "-496.697624    1\n",
            "-511.982864    1\n",
            "-500.518972    1\n",
            "Name: primary_cleaner.state.floatbank8_d_level, Length: 14148, dtype: int64\n",
            "Уникальные значения столбца rougher.calculation.sulfate_to_au_concentrate\n",
            "56934.810594    1\n",
            "40191.038270    1\n",
            "43714.859345    1\n",
            "42076.700439    1\n",
            "63057.243651    1\n",
            "               ..\n",
            "46883.085759    1\n",
            "43013.063011    1\n",
            "48086.801051    1\n",
            "37804.796858    1\n",
            "29025.179564    1\n",
            "Name: rougher.calculation.sulfate_to_au_concentrate, Length: 14148, dtype: int64\n",
            "Уникальные значения столбца rougher.calculation.floatbank10_sulfate_to_au_feed\n",
            "2507.603728    1\n",
            "2507.371340    1\n",
            "3521.101437    1\n",
            "2774.658976    1\n",
            "2097.945268    1\n",
            "              ..\n",
            "7023.325426    1\n",
            "2794.725803    1\n",
            "3203.037424    1\n",
            "2495.993312    1\n",
            "3014.526787    1\n",
            "Name: rougher.calculation.floatbank10_sulfate_to_au_feed, Length: 14148, dtype: int64\n",
            "Уникальные значения столбца rougher.calculation.floatbank11_sulfate_to_au_feed\n",
            "2503.763240    1\n",
            "2602.700127    1\n",
            "2516.839738    1\n",
            "3037.555624    1\n",
            "5667.522921    1\n",
            "              ..\n",
            "4395.685458    1\n",
            "2531.770123    1\n",
            "3311.406681    1\n",
            "3616.377974    1\n",
            "2805.667858    1\n",
            "Name: rougher.calculation.floatbank11_sulfate_to_au_feed, Length: 14148, dtype: int64\n",
            "Уникальные значения столбца rougher.calculation.au_pb_ratio\n",
            "2.186834    1\n",
            "2.078102    1\n",
            "2.448822    1\n",
            "2.461057    1\n",
            "2.196847    1\n",
            "           ..\n",
            "2.405744    1\n",
            "2.984339    1\n",
            "2.187495    1\n",
            "3.312617    1\n",
            "1.470313    1\n",
            "Name: rougher.calculation.au_pb_ratio, Length: 14126, dtype: int64\n",
            "Уникальные значения столбца rougher.input.feed_ag\n",
            "7.985594    1\n",
            "6.958674    1\n",
            "9.514518    1\n",
            "8.374751    1\n",
            "7.614871    1\n",
            "           ..\n",
            "7.212455    1\n",
            "6.989295    1\n",
            "5.406941    1\n",
            "7.335359    1\n",
            "6.434770    1\n",
            "Name: rougher.input.feed_ag, Length: 14126, dtype: int64\n",
            "Уникальные значения столбца rougher.input.feed_pb\n",
            "4.332430    1\n",
            "2.135018    1\n",
            "4.785481    1\n",
            "3.752866    1\n",
            "3.442601    1\n",
            "           ..\n",
            "2.226253    1\n",
            "2.865809    1\n",
            "3.640303    1\n",
            "4.466042    1\n",
            "2.488740    1\n",
            "Name: rougher.input.feed_pb, Length: 14020, dtype: int64\n",
            "Уникальные значения столбца rougher.input.feed_rate\n",
            "449.268007    1\n",
            "399.437296    1\n",
            "535.527533    1\n",
            "504.297550    1\n",
            "390.491282    1\n",
            "             ..\n",
            "539.946264    1\n",
            "575.658767    1\n",
            "563.015993    1\n",
            "629.580650    1\n",
            "511.136970    1\n",
            "Name: rougher.input.feed_rate, Length: 14141, dtype: int64\n",
            "Уникальные значения столбца rougher.input.feed_size\n",
            "58.104492    1\n",
            "62.704325    1\n",
            "50.698753    1\n",
            "63.981101    1\n",
            "79.098286    1\n",
            "            ..\n",
            "65.229292    1\n",
            "72.037866    1\n",
            "9.659576     1\n",
            "66.423562    1\n",
            "59.111380    1\n",
            "Name: rougher.input.feed_size, Length: 13997, dtype: int64\n",
            "Уникальные значения столбца rougher.input.feed_sol\n",
            "36.292269    1\n",
            "39.222654    1\n",
            "38.800283    1\n",
            "35.715673    1\n",
            "38.326135    1\n",
            "            ..\n",
            "41.362442    1\n",
            "30.861546    1\n",
            "34.218740    1\n",
            "37.235122    1\n",
            "39.794201    1\n",
            "Name: rougher.input.feed_sol, Length: 14043, dtype: int64\n",
            "Уникальные значения столбца rougher.input.feed_au\n",
            "7.275729     1\n",
            "9.698813     1\n",
            "8.106840     1\n",
            "8.243376     1\n",
            "6.702243     1\n",
            "            ..\n",
            "1.788167     1\n",
            "10.355408    1\n",
            "6.818858     1\n",
            "10.576822    1\n",
            "2.159555     1\n",
            "Name: rougher.input.feed_au, Length: 14126, dtype: int64\n",
            "Уникальные значения столбца rougher.input.floatbank10_sulfate\n",
            "13.990893    1\n",
            "14.499897    1\n",
            "11.998008    1\n",
            "5.017819     1\n",
            "9.962920     1\n",
            "            ..\n",
            "12.500516    1\n",
            "13.811574    1\n",
            "11.324394    1\n",
            "16.000827    1\n",
            "14.999541    1\n",
            "Name: rougher.input.floatbank10_sulfate, Length: 14120, dtype: int64\n",
            "Уникальные значения столбца rougher.input.floatbank10_xanthate\n",
            "6.000051    1\n",
            "8.284405    1\n",
            "7.000209    1\n",
            "7.400097    1\n",
            "4.699238    1\n",
            "           ..\n",
            "5.994830    1\n",
            "4.003900    1\n",
            "5.401091    1\n",
            "7.795527    1\n",
            "7.998735    1\n",
            "Name: rougher.input.floatbank10_xanthate, Length: 14141, dtype: int64\n",
            "Уникальные значения столбца rougher.input.floatbank11_sulfate\n",
            "5.251763     1\n",
            "10.995695    1\n",
            "20.000072    1\n",
            "12.063353    1\n",
            "14.999376    1\n",
            "            ..\n",
            "9.853875     1\n",
            "18.000617    1\n",
            "14.001084    1\n",
            "0.029763     1\n",
            "15.006297    1\n",
            "Name: rougher.input.floatbank11_sulfate, Length: 14113, dtype: int64\n",
            "Уникальные значения столбца rougher.input.floatbank11_xanthate\n",
            "6.198548    1\n",
            "5.396880    1\n",
            "6.593928    1\n",
            "5.500626    1\n",
            "4.799091    1\n",
            "           ..\n",
            "7.697668    1\n",
            "6.200398    1\n",
            "5.702416    1\n",
            "5.600442    1\n",
            "5.798292    1\n",
            "Name: rougher.input.floatbank11_xanthate, Length: 13706, dtype: int64\n",
            "Уникальные значения столбца rougher.output.concentrate_ag\n",
            "0.000000     297\n",
            "12.758167      1\n",
            "15.177387      1\n",
            "18.544690      1\n",
            "9.545155       1\n",
            "            ... \n",
            "12.247663      1\n",
            "11.663615      1\n",
            "10.563497      1\n",
            "12.961832      1\n",
            "10.304030      1\n",
            "Name: rougher.output.concentrate_ag, Length: 13829, dtype: int64\n",
            "Уникальные значения столбца rougher.output.concentrate_pb\n",
            "0.000000     297\n",
            "5.980334       1\n",
            "7.146640       1\n",
            "7.656586       1\n",
            "9.269339       1\n",
            "            ... \n",
            "10.768607      1\n",
            "7.558481       1\n",
            "7.703409       1\n",
            "9.152264       1\n",
            "9.609241       1\n",
            "Name: rougher.output.concentrate_pb, Length: 13803, dtype: int64\n",
            "Уникальные значения столбца rougher.output.concentrate_sol\n",
            "0.000000     297\n",
            "27.694324      1\n",
            "23.979051      1\n",
            "24.957354      1\n",
            "29.509558      1\n",
            "            ... \n",
            "35.105087      1\n",
            "30.522085      1\n",
            "35.117869      1\n",
            "27.981172      1\n",
            "26.562425      1\n",
            "Name: rougher.output.concentrate_sol, Length: 13615, dtype: int64\n",
            "Уникальные значения столбца rougher.output.concentrate_au\n",
            "0.000000     297\n",
            "20.857081      1\n",
            "16.809703      1\n",
            "20.459243      1\n",
            "20.048270      1\n",
            "            ... \n",
            "19.486021      1\n",
            "20.814428      1\n",
            "21.019248      1\n",
            "20.265732      1\n",
            "20.557015      1\n",
            "Name: rougher.output.concentrate_au, Length: 13829, dtype: int64\n",
            "Уникальные значения столбца rougher.output.recovery\n",
            "0.000000     297\n",
            "86.235000      1\n",
            "90.419131      1\n",
            "86.086024      1\n",
            "89.027950      1\n",
            "            ... \n",
            "90.688659      1\n",
            "85.515519      1\n",
            "90.734114      1\n",
            "78.711512      1\n",
            "82.366128      1\n",
            "Name: rougher.output.recovery, Length: 13831, dtype: int64\n",
            "Уникальные значения столбца rougher.output.tail_ag\n",
            "6.257300    1\n",
            "5.424222    1\n",
            "5.866426    1\n",
            "7.892160    1\n",
            "5.945453    1\n",
            "           ..\n",
            "6.879390    1\n",
            "5.146955    1\n",
            "3.131258    1\n",
            "4.405668    1\n",
            "4.218219    1\n",
            "Name: rougher.output.tail_ag, Length: 14114, dtype: int64\n",
            "Уникальные значения столбца rougher.output.tail_pb\n",
            "1.080979    1\n",
            "0.548848    1\n",
            "0.893483    1\n",
            "0.520305    1\n",
            "0.575684    1\n",
            "           ..\n",
            "0.402090    1\n",
            "0.345561    1\n",
            "0.340652    1\n",
            "0.532486    1\n",
            "0.508798    1\n",
            "Name: rougher.output.tail_pb, Length: 14126, dtype: int64\n",
            "Уникальные значения столбца rougher.output.tail_sol\n",
            "20.211137    1\n",
            "18.237561    1\n",
            "15.691572    1\n",
            "23.113569    1\n",
            "19.397909    1\n",
            "            ..\n",
            "14.664075    1\n",
            "22.897978    1\n",
            "14.550083    1\n",
            "17.232422    1\n",
            "17.331557    1\n",
            "Name: rougher.output.tail_sol, Length: 14041, dtype: int64\n",
            "Уникальные значения столбца rougher.output.tail_au\n",
            "1.169828    1\n",
            "0.860998    1\n",
            "2.020443    1\n",
            "1.688585    1\n",
            "2.257334    1\n",
            "           ..\n",
            "1.323460    1\n",
            "1.999846    1\n",
            "2.237553    1\n",
            "1.469317    1\n",
            "0.897448    1\n",
            "Name: rougher.output.tail_au, Length: 14116, dtype: int64\n",
            "Уникальные значения столбца rougher.state.floatbank10_a_air\n",
            "1299.855412    1\n",
            "996.750721     1\n",
            "999.660096     1\n",
            "1401.122736    1\n",
            "1397.498851    1\n",
            "              ..\n",
            "1000.174150    1\n",
            "999.961027     1\n",
            "1201.746940    1\n",
            "999.726849     1\n",
            "1299.683137    1\n",
            "Name: rougher.state.floatbank10_a_air, Length: 14148, dtype: int64\n",
            "Уникальные значения столбца rougher.state.floatbank10_a_level\n",
            "-499.714445    1\n",
            "-499.923875    1\n",
            "-301.046051    1\n",
            "-300.077406    1\n",
            "-500.755637    1\n",
            "              ..\n",
            "-500.445327    1\n",
            "-300.276269    1\n",
            "-500.824889    1\n",
            "-300.088313    1\n",
            "-299.449900    1\n",
            "Name: rougher.state.floatbank10_a_level, Length: 14148, dtype: int64\n",
            "Уникальные значения столбца rougher.state.floatbank10_b_air\n",
            "1346.715728    1\n",
            "1298.924364    1\n",
            "1503.933029    1\n",
            "1195.599367    1\n",
            "1399.629952    1\n",
            "              ..\n",
            "1348.789517    1\n",
            "1098.317523    1\n",
            "1398.477874    1\n",
            "1305.584897    1\n",
            "1573.432556    1\n",
            "Name: rougher.state.floatbank10_b_air, Length: 14148, dtype: int64\n",
            "Уникальные значения столбца rougher.state.floatbank10_b_level\n",
            "-499.709122    1\n",
            "-499.727362    1\n",
            "-401.778038    1\n",
            "-399.789020    1\n",
            "-399.719535    1\n",
            "              ..\n",
            "-499.665768    1\n",
            "-399.193469    1\n",
            "-400.314014    1\n",
            "-499.877019    1\n",
            "-499.916905    1\n",
            "Name: rougher.state.floatbank10_b_level, Length: 14148, dtype: int64\n",
            "Уникальные значения столбца rougher.state.floatbank10_c_air\n",
            "1500.820892    1\n",
            "1648.182885    1\n",
            "1296.365467    1\n",
            "1301.951375    1\n",
            "1599.777519    1\n",
            "              ..\n",
            "1200.826374    1\n",
            "946.604801     1\n",
            "1101.493514    1\n",
            "1100.753755    1\n",
            "1398.764728    1\n",
            "Name: rougher.state.floatbank10_c_air, Length: 14148, dtype: int64\n",
            "Уникальные значения столбца rougher.state.floatbank10_c_level\n",
            "-399.543005    1\n",
            "-500.375616    1\n",
            "-350.330216    1\n",
            "-499.970710    1\n",
            "-500.150635    1\n",
            "              ..\n",
            "-403.162894    1\n",
            "-502.213842    1\n",
            "-350.264728    1\n",
            "-499.987023    1\n",
            "-501.029114    1\n",
            "Name: rougher.state.floatbank10_c_level, Length: 14148, dtype: int64\n",
            "Уникальные значения столбца rougher.state.floatbank10_d_air\n",
            "1510.259847    1\n",
            "1258.125305    1\n",
            "1306.332319    1\n",
            "899.962890     1\n",
            "1297.184095    1\n",
            "              ..\n",
            "1199.374461    1\n",
            "1300.410335    1\n",
            "1400.771872    1\n",
            "1000.786184    1\n",
            "1303.789951    1\n",
            "Name: rougher.state.floatbank10_d_air, Length: 14149, dtype: int64\n",
            "Уникальные значения столбца rougher.state.floatbank10_d_level\n",
            "-501.324028    1\n",
            "-400.131110    1\n",
            "-399.010436    1\n",
            "-550.055096    1\n",
            "-500.434130    1\n",
            "              ..\n",
            "-500.158950    1\n",
            "-300.603002    1\n",
            "-389.736062    1\n",
            "-500.848122    1\n",
            "-399.174984    1\n",
            "Name: rougher.state.floatbank10_d_level, Length: 14149, dtype: int64\n",
            "Уникальные значения столбца rougher.state.floatbank10_e_air\n",
            "900.346916     1\n",
            "997.196216     1\n",
            "850.710160     1\n",
            "1402.795641    1\n",
            "1198.742230    1\n",
            "              ..\n",
            "1099.455488    1\n",
            "1046.078080    1\n",
            "1050.935013    1\n",
            "1099.711403    1\n",
            "1099.607129    1\n",
            "Name: rougher.state.floatbank10_e_air, Length: 13713, dtype: int64\n",
            "Уникальные значения столбца rougher.state.floatbank10_e_level\n",
            "-499.697571    1\n",
            "-399.431878    1\n",
            "-499.674655    1\n",
            "-500.383735    1\n",
            "-350.025008    1\n",
            "              ..\n",
            "-500.143541    1\n",
            "-499.564448    1\n",
            "-499.447654    1\n",
            "-499.989221    1\n",
            "-399.490737    1\n",
            "Name: rougher.state.floatbank10_e_level, Length: 14149, dtype: int64\n",
            "Уникальные значения столбца rougher.state.floatbank10_f_air\n",
            "1200.466050    1\n",
            "952.532049     1\n",
            "1250.365201    1\n",
            "950.309733     1\n",
            "1400.428053    1\n",
            "              ..\n",
            "800.578459     1\n",
            "999.602799     1\n",
            "898.886245     1\n",
            "993.980099     1\n",
            "900.531803     1\n",
            "Name: rougher.state.floatbank10_f_air, Length: 14149, dtype: int64\n",
            "Уникальные значения столбца rougher.state.floatbank10_f_level\n",
            "-500.625279    1\n",
            "-500.632206    1\n",
            "-448.580933    1\n",
            "-501.801512    1\n",
            "-501.039946    1\n",
            "              ..\n",
            "-499.603932    1\n",
            "-501.819232    1\n",
            "-350.055386    1\n",
            "-498.055152    1\n",
            "-501.308269    1\n",
            "Name: rougher.state.floatbank10_f_level, Length: 14149, dtype: int64\n",
            "Уникальные значения столбца secondary_cleaner.output.tail_ag\n",
            "0.000000     739\n",
            "11.030463      1\n",
            "4.468673       1\n",
            "19.383891      1\n",
            "18.680805      1\n",
            "            ... \n",
            "1.733444       1\n",
            "16.073007      1\n",
            "13.712967      1\n",
            "16.359145      1\n",
            "14.455974      1\n",
            "Name: secondary_cleaner.output.tail_ag, Length: 13403, dtype: int64\n",
            "Уникальные значения столбца secondary_cleaner.output.tail_pb\n",
            "0.000000     739\n",
            "11.922826      1\n",
            "5.436300       1\n",
            "4.771055       1\n",
            "2.904430       1\n",
            "            ... \n",
            "10.243464      1\n",
            "7.794877       1\n",
            "1.835204       1\n",
            "4.650645       1\n",
            "3.428272       1\n",
            "Name: secondary_cleaner.output.tail_pb, Length: 13393, dtype: int64\n",
            "Уникальные значения столбца secondary_cleaner.output.tail_sol\n",
            "0.000000     739\n",
            "14.590523      1\n",
            "1.674890       1\n",
            "3.295750       1\n",
            "3.838011       1\n",
            "            ... \n",
            "4.967153       1\n",
            "12.544656      1\n",
            "9.473592       1\n",
            "13.145921      1\n",
            "6.137281       1\n",
            "Name: secondary_cleaner.output.tail_sol, Length: 11802, dtype: int64\n",
            "Уникальные значения столбца secondary_cleaner.output.tail_au\n",
            "0.000000    739\n",
            "5.509377      1\n",
            "6.692401      1\n",
            "2.616606      1\n",
            "4.216121      1\n",
            "           ... \n",
            "4.578227      1\n",
            "4.863777      1\n",
            "0.350333      1\n",
            "2.761323      1\n",
            "2.168937      1\n",
            "Name: secondary_cleaner.output.tail_au, Length: 13405, dtype: int64\n",
            "Уникальные значения столбца secondary_cleaner.state.floatbank2_a_air\n",
            "35.022900    1\n",
            "15.050672    1\n",
            "25.011340    1\n",
            "24.938283    1\n",
            "29.995109    1\n",
            "            ..\n",
            "29.921971    1\n",
            "27.099640    1\n",
            "27.898428    1\n",
            "24.922188    1\n",
            "34.920999    1\n",
            "Name: secondary_cleaner.state.floatbank2_a_air, Length: 13931, dtype: int64\n",
            "Уникальные значения столбца secondary_cleaner.state.floatbank2_a_level\n",
            "-499.952359    1\n",
            "-402.251404    1\n",
            "-499.604942    1\n",
            "-500.107183    1\n",
            "-399.964756    1\n",
            "              ..\n",
            "-499.998399    1\n",
            "-500.809838    1\n",
            "-400.378481    1\n",
            "-499.861024    1\n",
            "-400.592727    1\n",
            "Name: secondary_cleaner.state.floatbank2_a_level, Length: 14148, dtype: int64\n",
            "Уникальные значения столбца secondary_cleaner.state.floatbank2_b_air\n",
            "0.000000     8\n",
            "24.953220    1\n",
            "27.945051    1\n",
            "29.052640    1\n",
            "19.998641    1\n",
            "            ..\n",
            "28.050499    1\n",
            "32.093340    1\n",
            "28.060510    1\n",
            "27.999334    1\n",
            "19.047520    1\n",
            "Name: secondary_cleaner.state.floatbank2_b_air, Length: 13993, dtype: int64\n",
            "Уникальные значения столбца secondary_cleaner.state.floatbank2_b_level\n",
            "-499.861818    1\n",
            "-499.928406    1\n",
            "-500.239260    1\n",
            "-499.961997    1\n",
            "-500.005324    1\n",
            "              ..\n",
            "-450.117974    1\n",
            "-500.189154    1\n",
            "-500.336457    1\n",
            "-500.260372    1\n",
            "-499.842150    1\n",
            "Name: secondary_cleaner.state.floatbank2_b_level, Length: 14148, dtype: int64\n",
            "Уникальные значения столбца secondary_cleaner.state.floatbank3_a_air\n",
            "19.971690    1\n",
            "35.982485    1\n",
            "27.958137    1\n",
            "24.974751    1\n",
            "28.896181    1\n",
            "            ..\n",
            "24.958975    1\n",
            "23.003386    1\n",
            "25.012800    1\n",
            "28.004662    1\n",
            "36.032771    1\n",
            "Name: secondary_cleaner.state.floatbank3_a_air, Length: 14142, dtype: int64\n",
            "Уникальные значения столбца secondary_cleaner.state.floatbank3_a_level\n",
            "-399.693820    1\n",
            "-500.656401    1\n",
            "-399.713299    1\n",
            "-499.643414    1\n",
            "-499.998517    1\n",
            "              ..\n",
            "-499.902618    1\n",
            "-502.340821    1\n",
            "-499.458284    1\n",
            "-500.314301    1\n",
            "-398.806371    1\n",
            "Name: secondary_cleaner.state.floatbank3_a_level, Length: 14148, dtype: int64\n",
            "Уникальные значения столбца secondary_cleaner.state.floatbank3_b_air\n",
            "0.000000     1\n",
            "25.946094    1\n",
            "25.016378    1\n",
            "20.009794    1\n",
            "22.997192    1\n",
            "            ..\n",
            "29.062336    1\n",
            "27.989470    1\n",
            "20.000469    1\n",
            "22.938338    1\n",
            "20.087976    1\n",
            "Name: secondary_cleaner.state.floatbank3_b_air, Length: 14145, dtype: int64\n",
            "Уникальные значения столбца secondary_cleaner.state.floatbank3_b_level\n",
            "-499.985436    1\n",
            "-499.909123    1\n",
            "-348.881938    1\n",
            "-300.268100    1\n",
            "-499.480131    1\n",
            "              ..\n",
            "-498.731139    1\n",
            "-500.071260    1\n",
            "-521.710375    1\n",
            "-500.049973    1\n",
            "-500.062296    1\n",
            "Name: secondary_cleaner.state.floatbank3_b_level, Length: 14148, dtype: int64\n",
            "Уникальные значения столбца secondary_cleaner.state.floatbank4_a_air\n",
            "0.000000     1\n",
            "24.954848    1\n",
            "18.019495    1\n",
            "14.982098    1\n",
            "22.992313    1\n",
            "            ..\n",
            "26.954071    1\n",
            "30.047261    1\n",
            "24.998682    1\n",
            "9.989834     1\n",
            "17.946714    1\n",
            "Name: secondary_cleaner.state.floatbank4_a_air, Length: 14143, dtype: int64\n",
            "Уникальные значения столбца secondary_cleaner.state.floatbank4_a_level\n",
            "-497.402345    1\n",
            "-499.034028    1\n",
            "-400.674587    1\n",
            "-399.204592    1\n",
            "-501.300367    1\n",
            "              ..\n",
            "-499.743259    1\n",
            "-500.794125    1\n",
            "-500.469485    1\n",
            "-499.604520    1\n",
            "-500.882572    1\n",
            "Name: secondary_cleaner.state.floatbank4_a_level, Length: 14148, dtype: int64\n",
            "Уникальные значения столбца secondary_cleaner.state.floatbank4_b_air\n",
            "8.050824     1\n",
            "23.029887    1\n",
            "14.028885    1\n",
            "22.030256    1\n",
            "20.011991    1\n",
            "            ..\n",
            "12.978128    1\n",
            "9.898254     1\n",
            "12.931836    1\n",
            "14.001708    1\n",
            "12.087298    1\n",
            "Name: secondary_cleaner.state.floatbank4_b_air, Length: 14144, dtype: int64\n",
            "Уникальные значения столбца secondary_cleaner.state.floatbank4_b_level\n",
            "-500.094935    1\n",
            "-500.439591    1\n",
            "-500.024981    1\n",
            "-400.948844    1\n",
            "-400.191396    1\n",
            "              ..\n",
            "-499.776361    1\n",
            "-499.427066    1\n",
            "-379.670808    1\n",
            "-379.320938    1\n",
            "-381.153035    1\n",
            "Name: secondary_cleaner.state.floatbank4_b_level, Length: 14146, dtype: int64\n",
            "Уникальные значения столбца secondary_cleaner.state.floatbank5_a_air\n",
            "17.980445    1\n",
            "25.001312    1\n",
            "25.986573    1\n",
            "22.983884    1\n",
            "17.996529    1\n",
            "            ..\n",
            "17.982820    1\n",
            "23.002496    1\n",
            "19.961064    1\n",
            "13.976844    1\n",
            "9.980330     1\n",
            "Name: secondary_cleaner.state.floatbank5_a_air, Length: 14148, dtype: int64\n",
            "Уникальные значения столбца secondary_cleaner.state.floatbank5_a_level\n",
            "-449.790315    1\n",
            "-497.669062    1\n",
            "-499.550296    1\n",
            "-500.589190    1\n",
            "-500.512344    1\n",
            "              ..\n",
            "-499.877268    1\n",
            "-500.223578    1\n",
            "-499.849644    1\n",
            "-500.477318    1\n",
            "-500.299324    1\n",
            "Name: secondary_cleaner.state.floatbank5_a_level, Length: 14148, dtype: int64\n",
            "Уникальные значения столбца secondary_cleaner.state.floatbank5_b_air\n",
            "12.996119    1\n",
            "15.005814    1\n",
            "23.997708    1\n",
            "12.988303    1\n",
            "4.999234     1\n",
            "            ..\n",
            "23.983218    1\n",
            "22.999598    1\n",
            "17.935680    1\n",
            "19.990146    1\n",
            "7.996119     1\n",
            "Name: secondary_cleaner.state.floatbank5_b_air, Length: 14148, dtype: int64\n",
            "Уникальные значения столбца secondary_cleaner.state.floatbank5_b_level\n",
            "-500.235121    1\n",
            "-400.309623    1\n",
            "-450.111776    1\n",
            "-381.149671    1\n",
            "-400.909885    1\n",
            "              ..\n",
            "-399.753339    1\n",
            "-499.155867    1\n",
            "-502.563959    1\n",
            "-499.763837    1\n",
            "-449.813639    1\n",
            "Name: secondary_cleaner.state.floatbank5_b_level, Length: 14148, dtype: int64\n",
            "Уникальные значения столбца secondary_cleaner.state.floatbank6_a_air\n",
            "25.030858    1\n",
            "25.024390    1\n",
            "17.961472    1\n",
            "23.013342    1\n",
            "24.986219    1\n",
            "            ..\n",
            "24.958419    1\n",
            "15.023667    1\n",
            "19.982535    1\n",
            "30.012263    1\n",
            "12.974228    1\n",
            "Name: secondary_cleaner.state.floatbank6_a_air, Length: 14147, dtype: int64\n",
            "Уникальные значения столбца secondary_cleaner.state.floatbank6_a_level\n",
            "-499.950634    1\n",
            "-500.868490    1\n",
            "-598.038961    1\n",
            "-500.413983    1\n",
            "-500.482431    1\n",
            "              ..\n",
            "-500.117120    1\n",
            "-499.222724    1\n",
            "-449.571097    1\n",
            "-499.117233    1\n",
            "-500.025642    1\n",
            "Name: secondary_cleaner.state.floatbank6_a_level, Length: 14148, dtype: int64\n",
            "Количество пропусков в каждом столбце\n",
            "date                                            0\n",
            "final.output.concentrate_ag                     1\n",
            "final.output.concentrate_pb                     1\n",
            "final.output.concentrate_sol                  211\n",
            "final.output.concentrate_au                     0\n",
            "                                             ... \n",
            "secondary_cleaner.state.floatbank5_a_level      1\n",
            "secondary_cleaner.state.floatbank5_b_air        1\n",
            "secondary_cleaner.state.floatbank5_b_level      1\n",
            "secondary_cleaner.state.floatbank6_a_air        2\n",
            "secondary_cleaner.state.floatbank6_a_level      1\n",
            "Length: 87, dtype: int64\n"
          ]
        }
      ],
      "source": [
        "show_rows(df_train)"
      ]
    },
    {
      "cell_type": "code",
      "execution_count": null,
      "metadata": {
        "id": "WXS9ihQBiM59",
        "outputId": "42c30e61-ae28-4e2a-82e8-1c303fbc8641"
      },
      "outputs": [
        {
          "name": "stdout",
          "output_type": "stream",
          "text": [
            "Количество стобцов: 53\n",
            "Количество строк: 5290\n",
            "Уникальные значения столбца date\n",
            "2016-12-01 13:59:59    1\n",
            "2016-10-17 17:59:59    1\n",
            "2016-12-15 00:59:59    1\n",
            "2016-10-07 12:59:59    1\n",
            "2016-11-17 00:59:59    1\n",
            "                      ..\n",
            "2017-12-02 08:59:59    1\n",
            "2017-12-03 12:59:59    1\n",
            "2016-12-23 11:59:59    1\n",
            "2016-10-03 22:59:59    1\n",
            "2016-10-18 03:59:59    1\n",
            "Name: date, Length: 5290, dtype: int64\n",
            "Уникальные значения столбца primary_cleaner.input.sulfate\n",
            "193.813199    1\n",
            "181.531902    1\n",
            "166.568879    1\n",
            "194.029979    1\n",
            "128.839908    1\n",
            "             ..\n",
            "214.196920    1\n",
            "229.828402    1\n",
            "104.842825    1\n",
            "181.568784    1\n",
            "185.407802    1\n",
            "Name: primary_cleaner.input.sulfate, Length: 5286, dtype: int64\n",
            "Уникальные значения столбца primary_cleaner.input.depressant\n",
            "7.477953     1\n",
            "10.027764    1\n",
            "11.972179    1\n",
            "9.973052     1\n",
            "8.031681     1\n",
            "            ..\n",
            "5.974155     1\n",
            "3.979725     1\n",
            "11.000983    1\n",
            "11.964658    1\n",
            "7.056575     1\n",
            "Name: primary_cleaner.input.depressant, Length: 5285, dtype: int64\n",
            "Уникальные значения столбца primary_cleaner.input.feed_size\n",
            "6.521166     1\n",
            "7.650001     1\n",
            "7.183833     1\n",
            "6.650000     1\n",
            "7.410000    15\n",
            "            ..\n",
            "6.993333     1\n",
            "8.056667     1\n",
            "5.650000     6\n",
            "7.580000     1\n",
            "6.860000     1\n",
            "Name: primary_cleaner.input.feed_size, Length: 1537, dtype: int64\n",
            "Уникальные значения столбца primary_cleaner.input.xanthate\n",
            "0.026293    1\n",
            "1.095660    1\n",
            "2.289561    1\n",
            "1.174252    1\n",
            "1.104061    1\n",
            "           ..\n",
            "1.971023    1\n",
            "0.905151    1\n",
            "1.306182    1\n",
            "2.596019    1\n",
            "1.344383    1\n",
            "Name: primary_cleaner.input.xanthate, Length: 5286, dtype: int64\n",
            "Уникальные значения столбца primary_cleaner.state.floatbank8_a_air\n",
            "1596.682112    1\n",
            "1613.147320    1\n",
            "1654.912510    1\n",
            "1637.413426    1\n",
            "1600.586553    1\n",
            "              ..\n",
            "1601.832619    1\n",
            "1597.594250    1\n",
            "1599.987504    1\n",
            "1600.089046    1\n",
            "1598.720078    1\n",
            "Name: primary_cleaner.state.floatbank8_a_air, Length: 5290, dtype: int64\n",
            "Уникальные значения столбца primary_cleaner.state.floatbank8_a_level\n",
            "-499.775677    1\n",
            "-499.334669    1\n",
            "-500.903038    1\n",
            "-500.307638    1\n",
            "-500.567864    1\n",
            "              ..\n",
            "-499.904437    1\n",
            "-499.975366    1\n",
            "-399.899358    1\n",
            "-501.178393    1\n",
            "-500.098131    1\n",
            "Name: primary_cleaner.state.floatbank8_a_level, Length: 5290, dtype: int64\n",
            "Уникальные значения столбца primary_cleaner.state.floatbank8_b_air\n",
            "1701.516147    1\n",
            "1396.227467    1\n",
            "1600.944897    1\n",
            "1400.983978    1\n",
            "1547.549693    1\n",
            "              ..\n",
            "1302.316920    1\n",
            "1552.069711    1\n",
            "1614.137371    1\n",
            "1598.715131    1\n",
            "1551.291783    1\n",
            "Name: primary_cleaner.state.floatbank8_b_air, Length: 5290, dtype: int64\n",
            "Уникальные значения столбца primary_cleaner.state.floatbank8_b_level\n",
            "-499.781279    1\n",
            "-500.505536    1\n",
            "-500.343312    1\n",
            "-499.569455    1\n",
            "-500.522815    1\n",
            "              ..\n",
            "-500.493414    1\n",
            "-500.168007    1\n",
            "-500.543765    1\n",
            "-513.433783    1\n",
            "-473.692161    1\n",
            "Name: primary_cleaner.state.floatbank8_b_level, Length: 5290, dtype: int64\n",
            "Уникальные значения столбца primary_cleaner.state.floatbank8_c_air\n",
            "1303.695449    1\n",
            "1401.300714    1\n",
            "1597.093465    1\n",
            "1199.476630    1\n",
            "1603.344481    1\n",
            "              ..\n",
            "1600.050979    1\n",
            "1647.716250    1\n",
            "1485.543413    1\n",
            "1602.992334    1\n",
            "1552.757611    1\n",
            "Name: primary_cleaner.state.floatbank8_c_air, Length: 5290, dtype: int64\n",
            "Уникальные значения столбца primary_cleaner.state.floatbank8_c_level\n",
            "-500.366395    1\n",
            "-503.313836    1\n",
            "-499.740982    1\n",
            "-497.195092    1\n",
            "-503.170805    1\n",
            "              ..\n",
            "-500.699286    1\n",
            "-499.308363    1\n",
            "-497.407013    1\n",
            "-501.232470    1\n",
            "-499.382925    1\n",
            "Name: primary_cleaner.state.floatbank8_c_level, Length: 5290, dtype: int64\n",
            "Уникальные значения столбца primary_cleaner.state.floatbank8_d_air\n",
            "1498.737434    1\n",
            "1296.061298    1\n",
            "1530.321107    1\n",
            "1396.815897    1\n",
            "1547.854503    1\n",
            "              ..\n",
            "1649.307725    1\n",
            "1550.169832    1\n",
            "1600.279053    1\n",
            "1300.482980    1\n",
            "1551.192632    1\n",
            "Name: primary_cleaner.state.floatbank8_d_air, Length: 5290, dtype: int64\n",
            "Уникальные значения столбца primary_cleaner.state.floatbank8_d_level\n",
            "-498.487464    1\n",
            "-500.075150    1\n",
            "-499.956386    1\n",
            "-499.491062    1\n",
            "-500.040816    1\n",
            "              ..\n",
            "-499.806672    1\n",
            "-500.137858    1\n",
            "-499.659701    1\n",
            "-501.234036    1\n",
            "-501.351995    1\n",
            "Name: primary_cleaner.state.floatbank8_d_level, Length: 5290, dtype: int64\n",
            "Уникальные значения столбца rougher.input.feed_ag\n",
            "5.682322     1\n",
            "9.862689     1\n",
            "6.704373     1\n",
            "8.161076     1\n",
            "7.757470     1\n",
            "            ..\n",
            "8.946814     1\n",
            "10.492929    1\n",
            "9.460928     1\n",
            "8.992327     1\n",
            "10.051542    1\n",
            "Name: rougher.input.feed_ag, Length: 5283, dtype: int64\n",
            "Уникальные значения столбца rougher.input.feed_pb\n",
            "5.205874    1\n",
            "4.452998    1\n",
            "2.018050    1\n",
            "5.634616    1\n",
            "3.722567    1\n",
            "           ..\n",
            "3.343766    1\n",
            "3.375567    1\n",
            "5.225639    1\n",
            "4.496466    1\n",
            "3.411260    1\n",
            "Name: rougher.input.feed_pb, Length: 5282, dtype: int64\n",
            "Уникальные значения столбца rougher.input.feed_rate\n",
            "539.403747    1\n",
            "704.528847    1\n",
            "380.546997    1\n",
            "547.878251    1\n",
            "590.127054    1\n",
            "             ..\n",
            "596.428221    1\n",
            "380.149199    1\n",
            "505.088618    1\n",
            "446.388821    1\n",
            "576.342346    1\n",
            "Name: rougher.input.feed_rate, Length: 5287, dtype: int64\n",
            "Уникальные значения столбца rougher.input.feed_size\n",
            "44.605219    1\n",
            "41.966699    1\n",
            "42.891729    1\n",
            "49.895856    1\n",
            "39.373252    1\n",
            "            ..\n",
            "47.801576    1\n",
            "43.974064    1\n",
            "41.907323    1\n",
            "44.203439    1\n",
            "59.562779    1\n",
            "Name: rougher.input.feed_size, Length: 5289, dtype: int64\n",
            "Уникальные значения столбца rougher.input.feed_sol\n",
            "38.783216    1\n",
            "40.018138    1\n",
            "34.573862    1\n",
            "35.095193    1\n",
            "37.251515    1\n",
            "            ..\n",
            "40.792121    1\n",
            "22.298349    1\n",
            "42.478083    1\n",
            "36.635604    1\n",
            "35.555893    1\n",
            "Name: rougher.input.feed_sol, Length: 5260, dtype: int64\n",
            "Уникальные значения столбца rougher.input.feed_au\n",
            "10.055518    1\n",
            "10.909076    1\n",
            "12.476812    1\n",
            "12.005682    1\n",
            "9.160269     1\n",
            "            ..\n",
            "4.137863     1\n",
            "11.962195    1\n",
            "8.109713     1\n",
            "9.117528     1\n",
            "11.869855    1\n",
            "Name: rougher.input.feed_au, Length: 5283, dtype: int64\n",
            "Уникальные значения столбца rougher.input.floatbank10_sulfate\n",
            "14.502650    1\n",
            "10.591019    1\n",
            "17.996992    1\n",
            "16.999044    1\n",
            "14.386244    1\n",
            "            ..\n",
            "12.999815    1\n",
            "7.416499     1\n",
            "19.551902    1\n",
            "15.003133    1\n",
            "17.008168    1\n",
            "Name: rougher.input.floatbank10_sulfate, Length: 5285, dtype: int64\n",
            "Уникальные значения столбца rougher.input.floatbank10_xanthate\n",
            "5.639561    1\n",
            "7.030844    1\n",
            "6.203455    1\n",
            "6.204067    1\n",
            "6.000486    1\n",
            "           ..\n",
            "4.499972    1\n",
            "5.846550    1\n",
            "6.525319    1\n",
            "6.800871    1\n",
            "8.198312    1\n",
            "Name: rougher.input.floatbank10_xanthate, Length: 5290, dtype: int64\n",
            "Уникальные значения столбца rougher.input.floatbank11_sulfate\n",
            "16.526325    1\n",
            "17.999478    1\n",
            "14.400525    1\n",
            "18.002558    1\n",
            "11.889403    1\n",
            "            ..\n",
            "16.998663    1\n",
            "18.327036    1\n",
            "17.005733    1\n",
            "13.998741    1\n",
            "15.997840    1\n",
            "Name: rougher.input.floatbank11_sulfate, Length: 5282, dtype: int64\n",
            "Уникальные значения столбца rougher.input.floatbank11_xanthate\n",
            "7.303849    1\n",
            "5.500346    1\n",
            "5.798778    1\n",
            "6.502262    1\n",
            "6.507136    1\n",
            "           ..\n",
            "6.633276    1\n",
            "5.999788    1\n",
            "6.101889    1\n",
            "6.500766    1\n",
            "8.200651    1\n",
            "Name: rougher.input.floatbank11_xanthate, Length: 5265, dtype: int64\n",
            "Уникальные значения столбца rougher.state.floatbank10_a_air\n",
            "1300.510846    1\n",
            "1300.266927    1\n",
            "1000.473721    1\n",
            "998.348696     1\n",
            "997.866584     1\n",
            "              ..\n",
            "999.590888     1\n",
            "999.269773     1\n",
            "999.671609     1\n",
            "1100.990122    1\n",
            "1004.205244    1\n",
            "Name: rougher.state.floatbank10_a_air, Length: 5290, dtype: int64\n",
            "Уникальные значения столбца rougher.state.floatbank10_a_level\n",
            "-500.047197    1\n",
            "-399.839973    1\n",
            "-299.788817    1\n",
            "-500.165681    1\n",
            "-300.397819    1\n",
            "              ..\n",
            "-300.145403    1\n",
            "-299.936975    1\n",
            "-500.059118    1\n",
            "-299.719493    1\n",
            "-399.584959    1\n",
            "Name: rougher.state.floatbank10_a_level, Length: 5290, dtype: int64\n",
            "Уникальные значения столбца rougher.state.floatbank10_b_air\n",
            "1199.702052    1\n",
            "1397.649755    1\n",
            "1100.459243    1\n",
            "1499.936879    1\n",
            "1500.883952    1\n",
            "              ..\n",
            "1366.421524    1\n",
            "1208.025246    1\n",
            "1307.259375    1\n",
            "1316.414696    1\n",
            "1197.262674    1\n",
            "Name: rougher.state.floatbank10_b_air, Length: 5290, dtype: int64\n",
            "Уникальные значения столбца rougher.state.floatbank10_b_level\n",
            "-299.640797    1\n",
            "-300.677241    1\n",
            "-300.533075    1\n",
            "-499.899705    1\n",
            "-501.979310    1\n",
            "              ..\n",
            "-399.779514    1\n",
            "-494.037615    1\n",
            "-496.038704    1\n",
            "-500.466127    1\n",
            "-449.693709    1\n",
            "Name: rougher.state.floatbank10_b_level, Length: 5290, dtype: int64\n",
            "Уникальные значения столбца rougher.state.floatbank10_c_air\n",
            "1500.901598    1\n",
            "1602.271403    1\n",
            "1398.775472    1\n",
            "1247.317926    1\n",
            "1199.944806    1\n",
            "              ..\n",
            "998.869246     1\n",
            "1249.520201    1\n",
            "1400.281884    1\n",
            "1102.862309    1\n",
            "1455.584801    1\n",
            "Name: rougher.state.floatbank10_c_air, Length: 5290, dtype: int64\n",
            "Уникальные значения столбца rougher.state.floatbank10_c_level\n",
            "-500.199646    1\n",
            "-496.871246    1\n",
            "-400.617557    1\n",
            "-498.316989    1\n",
            "-499.856360    1\n",
            "              ..\n",
            "-500.440267    1\n",
            "-499.860337    1\n",
            "-499.731273    1\n",
            "-400.257615    1\n",
            "-400.141315    1\n",
            "Name: rougher.state.floatbank10_c_level, Length: 5290, dtype: int64\n",
            "Уникальные значения столбца rougher.state.floatbank10_d_air\n",
            "1400.703428    1\n",
            "987.699644     1\n",
            "1399.637334    1\n",
            "1205.381018    1\n",
            "995.136416     1\n",
            "              ..\n",
            "1304.111434    1\n",
            "1204.287921    1\n",
            "1099.089092    1\n",
            "1199.989820    1\n",
            "1299.930065    1\n",
            "Name: rougher.state.floatbank10_d_air, Length: 5290, dtype: int64\n",
            "Уникальные значения столбца rougher.state.floatbank10_d_level\n",
            "-500.799289    1\n",
            "-299.931203    1\n",
            "-498.852337    1\n",
            "-500.283727    1\n",
            "-493.660160    1\n",
            "              ..\n",
            "-499.296827    1\n",
            "-499.898271    1\n",
            "-400.151378    1\n",
            "-397.874341    1\n",
            "-498.375838    1\n",
            "Name: rougher.state.floatbank10_d_level, Length: 5290, dtype: int64\n",
            "Уникальные значения столбца rougher.state.floatbank10_e_air\n",
            "949.209726     1\n",
            "1199.625289    1\n",
            "1002.625612    1\n",
            "1149.275990    1\n",
            "948.401180     1\n",
            "              ..\n",
            "1049.588790    1\n",
            "1200.007052    1\n",
            "1098.575593    1\n",
            "1213.407448    1\n",
            "998.950313     1\n",
            "Name: rougher.state.floatbank10_e_air, Length: 5290, dtype: int64\n",
            "Уникальные значения столбца rougher.state.floatbank10_e_level\n",
            "-499.804431    1\n",
            "-500.922455    1\n",
            "-501.110123    1\n",
            "-400.102846    1\n",
            "-498.932731    1\n",
            "              ..\n",
            "-499.903562    1\n",
            "-300.333332    1\n",
            "-400.819611    1\n",
            "-408.371296    1\n",
            "-500.481325    1\n",
            "Name: rougher.state.floatbank10_e_level, Length: 5290, dtype: int64\n",
            "Уникальные значения столбца rougher.state.floatbank10_f_air\n",
            "996.407127     1\n",
            "949.453775     1\n",
            "999.170754     1\n",
            "1000.161054    1\n",
            "948.182599     1\n",
            "              ..\n",
            "1000.091057    1\n",
            "899.349122     1\n",
            "999.930422     1\n",
            "950.442666     1\n",
            "950.589955     1\n",
            "Name: rougher.state.floatbank10_f_air, Length: 5290, dtype: int64\n",
            "Уникальные значения столбца rougher.state.floatbank10_f_level\n",
            "-500.137699    1\n",
            "-499.934561    1\n",
            "-400.750595    1\n",
            "-501.635187    1\n",
            "-399.926968    1\n",
            "              ..\n",
            "-400.051000    1\n",
            "-499.397695    1\n",
            "-299.754106    1\n",
            "-498.808286    1\n",
            "-299.424688    1\n",
            "Name: rougher.state.floatbank10_f_level, Length: 5290, dtype: int64\n",
            "Уникальные значения столбца secondary_cleaner.state.floatbank2_a_air\n",
            "28.049760    1\n",
            "24.896966    1\n",
            "27.135610    1\n",
            "27.082403    1\n",
            "29.015267    1\n",
            "            ..\n",
            "15.220105    1\n",
            "28.978932    1\n",
            "25.058501    1\n",
            "27.978750    1\n",
            "25.008727    1\n",
            "Name: secondary_cleaner.state.floatbank2_a_air, Length: 5287, dtype: int64\n",
            "Уникальные значения столбца secondary_cleaner.state.floatbank2_a_level\n",
            "-499.734537    1\n",
            "-499.630422    1\n",
            "-500.117751    1\n",
            "-499.837860    1\n",
            "-498.479969    1\n",
            "              ..\n",
            "-499.546620    1\n",
            "-499.825323    1\n",
            "-499.911376    1\n",
            "-500.025465    1\n",
            "-500.113173    1\n",
            "Name: secondary_cleaner.state.floatbank2_a_level, Length: 5290, dtype: int64\n",
            "Уникальные значения столбца secondary_cleaner.state.floatbank2_b_air\n",
            "20.015835    1\n",
            "21.130069    1\n",
            "27.911608    1\n",
            "24.000051    1\n",
            "12.017550    1\n",
            "            ..\n",
            "12.001857    1\n",
            "27.003671    1\n",
            "27.887678    1\n",
            "21.114678    1\n",
            "19.901887    1\n",
            "Name: secondary_cleaner.state.floatbank2_b_air, Length: 5288, dtype: int64\n",
            "Уникальные значения столбца secondary_cleaner.state.floatbank2_b_level\n",
            "-501.275296    1\n",
            "-499.676940    1\n",
            "-499.864584    1\n",
            "-500.348956    1\n",
            "-500.270066    1\n",
            "              ..\n",
            "-499.547788    1\n",
            "-500.104376    1\n",
            "-503.379909    1\n",
            "-501.275559    1\n",
            "-500.011969    1\n",
            "Name: secondary_cleaner.state.floatbank2_b_level, Length: 5290, dtype: int64\n",
            "Уникальные значения столбца secondary_cleaner.state.floatbank3_a_air\n",
            "0.000000     1\n",
            "25.042907    1\n",
            "25.022543    1\n",
            "17.930498    1\n",
            "22.995821    1\n",
            "            ..\n",
            "25.021958    1\n",
            "24.996484    1\n",
            "24.933193    1\n",
            "23.007540    1\n",
            "24.666614    1\n",
            "Name: secondary_cleaner.state.floatbank3_a_air, Length: 5212, dtype: int64\n",
            "Уникальные значения столбца secondary_cleaner.state.floatbank3_a_level\n",
            "-500.143693    1\n",
            "-499.988187    1\n",
            "-499.815925    1\n",
            "-499.687993    1\n",
            "-500.343928    1\n",
            "              ..\n",
            "-499.433758    1\n",
            "-499.686454    1\n",
            "-500.210415    1\n",
            "-499.906949    1\n",
            "-500.194107    1\n",
            "Name: secondary_cleaner.state.floatbank3_a_level, Length: 5290, dtype: int64\n",
            "Уникальные значения столбца secondary_cleaner.state.floatbank3_b_air\n",
            "24.991802    1\n",
            "22.986704    1\n",
            "23.010827    1\n",
            "8.000613     1\n",
            "30.978312    1\n",
            "            ..\n",
            "15.031329    1\n",
            "27.011884    1\n",
            "13.996482    1\n",
            "26.986977    1\n",
            "21.998201    1\n",
            "Name: secondary_cleaner.state.floatbank3_b_air, Length: 5173, dtype: int64\n",
            "Уникальные значения столбца secondary_cleaner.state.floatbank3_b_level\n",
            "-499.254190    1\n",
            "-499.885763    1\n",
            "-499.764296    1\n",
            "-500.000685    1\n",
            "-500.029924    1\n",
            "              ..\n",
            "-500.181645    1\n",
            "-499.820018    1\n",
            "-499.754139    1\n",
            "-499.858652    1\n",
            "-499.946841    1\n",
            "Name: secondary_cleaner.state.floatbank3_b_level, Length: 5290, dtype: int64\n",
            "Уникальные значения столбца secondary_cleaner.state.floatbank4_a_air\n",
            "20.022827    1\n",
            "14.948817    1\n",
            "16.994178    1\n",
            "19.968723    1\n",
            "14.012440    1\n",
            "            ..\n",
            "15.994622    1\n",
            "17.021734    1\n",
            "18.003823    1\n",
            "12.009537    1\n",
            "17.002361    1\n",
            "Name: secondary_cleaner.state.floatbank4_a_air, Length: 5280, dtype: int64\n",
            "Уникальные значения столбца secondary_cleaner.state.floatbank4_a_level\n",
            "-501.178610    1\n",
            "-497.774783    1\n",
            "-498.764958    1\n",
            "-500.739408    1\n",
            "-500.466313    1\n",
            "              ..\n",
            "-503.446498    1\n",
            "-500.820590    1\n",
            "-503.094800    1\n",
            "-499.397078    1\n",
            "-799.651643    1\n",
            "Name: secondary_cleaner.state.floatbank4_a_level, Length: 5290, dtype: int64\n",
            "Уникальные значения столбца secondary_cleaner.state.floatbank4_b_air\n",
            "16.989955    1\n",
            "15.973310    1\n",
            "18.937928    1\n",
            "16.062910    1\n",
            "15.988840    1\n",
            "            ..\n",
            "11.980682    1\n",
            "15.020043    1\n",
            "10.014184    1\n",
            "14.938133    1\n",
            "14.989985    1\n",
            "Name: secondary_cleaner.state.floatbank4_b_air, Length: 5270, dtype: int64\n",
            "Уникальные значения столбца secondary_cleaner.state.floatbank4_b_level\n",
            "-147.497564    1\n",
            "-399.967015    1\n",
            "-400.406692    1\n",
            "-500.161687    1\n",
            "-499.461545    1\n",
            "              ..\n",
            "-500.251854    1\n",
            "-399.896546    1\n",
            "-398.052952    1\n",
            "-499.891843    1\n",
            "-399.684092    1\n",
            "Name: secondary_cleaner.state.floatbank4_b_level, Length: 5290, dtype: int64\n",
            "Уникальные значения столбца secondary_cleaner.state.floatbank5_a_air\n",
            "12.463368    1\n",
            "9.322091     1\n",
            "12.511062    1\n",
            "12.945553    1\n",
            "11.365142    1\n",
            "            ..\n",
            "10.943868    1\n",
            "10.884637    1\n",
            "12.053142    1\n",
            "14.373797    1\n",
            "15.855372    1\n",
            "Name: secondary_cleaner.state.floatbank5_a_air, Length: 5290, dtype: int64\n",
            "Уникальные значения столбца secondary_cleaner.state.floatbank5_a_level\n",
            "-499.804306    1\n",
            "-456.048963    1\n",
            "-501.409286    1\n",
            "-500.251933    1\n",
            "-501.540450    1\n",
            "              ..\n",
            "-499.531499    1\n",
            "-500.196713    1\n",
            "-499.363278    1\n",
            "-500.176187    1\n",
            "-500.046961    1\n",
            "Name: secondary_cleaner.state.floatbank5_a_level, Length: 5290, dtype: int64\n",
            "Уникальные значения столбца secondary_cleaner.state.floatbank5_b_air\n",
            "7.057658     1\n",
            "12.009711    1\n",
            "14.026080    1\n",
            "13.981635    1\n",
            "11.970248    1\n",
            "            ..\n",
            "14.001879    1\n",
            "8.014865     1\n",
            "10.980321    1\n",
            "7.082184     1\n",
            "9.023950     1\n",
            "Name: secondary_cleaner.state.floatbank5_b_air, Length: 5290, dtype: int64\n",
            "Уникальные значения столбца secondary_cleaner.state.floatbank5_b_level\n",
            "-500.111161    1\n",
            "-499.895860    1\n",
            "-499.246632    1\n",
            "-449.942944    1\n",
            "-498.970872    1\n",
            "              ..\n",
            "-499.987373    1\n",
            "-499.775022    1\n",
            "-500.739761    1\n",
            "-500.179340    1\n",
            "-500.122150    1\n",
            "Name: secondary_cleaner.state.floatbank5_b_level, Length: 5290, dtype: int64\n",
            "Уникальные значения столбца secondary_cleaner.state.floatbank6_a_air\n",
            "9.929099     1\n",
            "21.982244    1\n",
            "12.003657    1\n",
            "21.002008    1\n",
            "22.003755    1\n",
            "            ..\n",
            "15.987165    1\n",
            "21.002842    1\n",
            "14.018436    1\n",
            "18.016516    1\n",
            "13.996009    1\n",
            "Name: secondary_cleaner.state.floatbank6_a_air, Length: 5290, dtype: int64\n",
            "Уникальные значения столбца secondary_cleaner.state.floatbank6_a_level\n",
            "-499.929724    1\n",
            "-500.680760    1\n",
            "-500.358694    1\n",
            "-424.854969    1\n",
            "-499.546455    1\n",
            "              ..\n",
            "-500.004375    1\n",
            "-500.341230    1\n",
            "-500.970809    1\n",
            "-499.232904    1\n",
            "-499.870030    1\n",
            "Name: secondary_cleaner.state.floatbank6_a_level, Length: 5290, dtype: int64\n",
            "Количество пропусков в каждом столбце\n",
            "date                                           0\n",
            "primary_cleaner.input.sulfate                  4\n",
            "primary_cleaner.input.depressant               5\n",
            "primary_cleaner.input.feed_size                0\n",
            "primary_cleaner.input.xanthate                 4\n",
            "primary_cleaner.state.floatbank8_a_air         0\n",
            "primary_cleaner.state.floatbank8_a_level       0\n",
            "primary_cleaner.state.floatbank8_b_air         0\n",
            "primary_cleaner.state.floatbank8_b_level       0\n",
            "primary_cleaner.state.floatbank8_c_air         0\n",
            "primary_cleaner.state.floatbank8_c_level       0\n",
            "primary_cleaner.state.floatbank8_d_air         0\n",
            "primary_cleaner.state.floatbank8_d_level       0\n",
            "rougher.input.feed_ag                          0\n",
            "rougher.input.feed_pb                          0\n",
            "rougher.input.feed_rate                        3\n",
            "rougher.input.feed_size                        1\n",
            "rougher.input.feed_sol                        21\n",
            "rougher.input.feed_au                          0\n",
            "rougher.input.floatbank10_sulfate              5\n",
            "rougher.input.floatbank10_xanthate             0\n",
            "rougher.input.floatbank11_sulfate              8\n",
            "rougher.input.floatbank11_xanthate            25\n",
            "rougher.state.floatbank10_a_air                0\n",
            "rougher.state.floatbank10_a_level              0\n",
            "rougher.state.floatbank10_b_air                0\n",
            "rougher.state.floatbank10_b_level              0\n",
            "rougher.state.floatbank10_c_air                0\n",
            "rougher.state.floatbank10_c_level              0\n",
            "rougher.state.floatbank10_d_air                0\n",
            "rougher.state.floatbank10_d_level              0\n",
            "rougher.state.floatbank10_e_air                0\n",
            "rougher.state.floatbank10_e_level              0\n",
            "rougher.state.floatbank10_f_air                0\n",
            "rougher.state.floatbank10_f_level              0\n",
            "secondary_cleaner.state.floatbank2_a_air       3\n",
            "secondary_cleaner.state.floatbank2_a_level     0\n",
            "secondary_cleaner.state.floatbank2_b_air       2\n",
            "secondary_cleaner.state.floatbank2_b_level     0\n",
            "secondary_cleaner.state.floatbank3_a_air       9\n",
            "secondary_cleaner.state.floatbank3_a_level     0\n",
            "secondary_cleaner.state.floatbank3_b_air       0\n",
            "secondary_cleaner.state.floatbank3_b_level     0\n",
            "secondary_cleaner.state.floatbank4_a_air       0\n",
            "secondary_cleaner.state.floatbank4_a_level     0\n",
            "secondary_cleaner.state.floatbank4_b_air       0\n",
            "secondary_cleaner.state.floatbank4_b_level     0\n",
            "secondary_cleaner.state.floatbank5_a_air       0\n",
            "secondary_cleaner.state.floatbank5_a_level     0\n",
            "secondary_cleaner.state.floatbank5_b_air       0\n",
            "secondary_cleaner.state.floatbank5_b_level     0\n",
            "secondary_cleaner.state.floatbank6_a_air       0\n",
            "secondary_cleaner.state.floatbank6_a_level     0\n",
            "dtype: int64\n"
          ]
        }
      ],
      "source": [
        "show_rows(df_test)"
      ]
    },
    {
      "cell_type": "code",
      "execution_count": null,
      "metadata": {
        "id": "8CQp2cRpiM59",
        "outputId": "f077fee6-7bf4-4d06-cfc6-4571f67e598b"
      },
      "outputs": [
        {
          "name": "stdout",
          "output_type": "stream",
          "text": [
            "Количество стобцов: 87\n",
            "Количество строк: 19439\n",
            "Уникальные значения столбца date\n",
            "2017-02-09 03:59:59    1\n",
            "2016-12-15 00:59:59    1\n",
            "2017-06-18 07:59:59    1\n",
            "2017-10-16 06:59:59    1\n",
            "2018-01-01 18:59:59    1\n",
            "                      ..\n",
            "2016-05-23 08:59:59    1\n",
            "2016-12-23 11:59:59    1\n",
            "2016-07-29 23:59:59    1\n",
            "2016-10-03 22:59:59    1\n",
            "2017-08-27 20:59:59    1\n",
            "Name: date, Length: 19439, dtype: int64\n",
            "Уникальные значения столбца final.output.concentrate_ag\n",
            "0.000000    98\n",
            "5.512268     1\n",
            "4.630376     1\n",
            "3.666412     1\n",
            "4.084050     1\n",
            "            ..\n",
            "5.231190     1\n",
            "4.303549     1\n",
            "4.796946     1\n",
            "6.808452     1\n",
            "4.334761     1\n",
            "Name: final.output.concentrate_ag, Length: 19307, dtype: int64\n",
            "Уникальные значения столбца final.output.concentrate_pb\n",
            "0.000000     98\n",
            "8.440547      1\n",
            "10.188608     1\n",
            "11.060670     1\n",
            "11.545038     1\n",
            "             ..\n",
            "9.898792      1\n",
            "11.730163     1\n",
            "11.397350     1\n",
            "10.648009     1\n",
            "9.521703      1\n",
            "Name: final.output.concentrate_pb, Length: 19276, dtype: int64\n",
            "Уникальные значения столбца final.output.concentrate_sol\n",
            "0.000000     98\n",
            "9.441354      1\n",
            "9.160606      1\n",
            "8.787746      1\n",
            "6.227071      1\n",
            "             ..\n",
            "8.690434      1\n",
            "7.387696      1\n",
            "14.698575     1\n",
            "7.748791      1\n",
            "10.691827     1\n",
            "Name: final.output.concentrate_sol, Length: 19093, dtype: int64\n",
            "Уникальные значения столбца final.output.concentrate_au\n",
            "0.000000     98\n",
            "50.256024     1\n",
            "43.785803     1\n",
            "45.786141     1\n",
            "46.098550     1\n",
            "             ..\n",
            "47.758992     1\n",
            "47.251933     1\n",
            "45.011605     1\n",
            "40.222978     1\n",
            "47.956172     1\n",
            "Name: final.output.concentrate_au, Length: 19308, dtype: int64\n",
            "Уникальные значения столбца final.output.recovery\n",
            "0.000000     98\n",
            "67.629735     1\n",
            "59.671215     1\n",
            "66.517284     1\n",
            "58.059812     1\n",
            "             ..\n",
            "68.884142     1\n",
            "64.322747     1\n",
            "65.786629     1\n",
            "66.207889     1\n",
            "76.788212     1\n",
            "Name: final.output.recovery, Length: 19235, dtype: int64\n",
            "Уникальные значения столбца final.output.tail_ag\n",
            "0.000000     91\n",
            "12.365594     1\n",
            "9.446271      1\n",
            "7.788876      1\n",
            "11.468498     1\n",
            "             ..\n",
            "9.456910      1\n",
            "11.845188     1\n",
            "11.242286     1\n",
            "8.488347      1\n",
            "11.414261     1\n",
            "Name: final.output.tail_ag, Length: 19328, dtype: int64\n",
            "Уникальные значения столбца final.output.tail_pb\n",
            "0.000000    91\n",
            "3.054590     1\n",
            "3.551955     1\n",
            "3.190225     1\n",
            "3.325715     1\n",
            "            ..\n",
            "0.915097     1\n",
            "3.351161     1\n",
            "3.156550     1\n",
            "2.336043     1\n",
            "1.757971     1\n",
            "Name: final.output.tail_pb, Length: 19228, dtype: int64\n",
            "Уникальные значения столбца final.output.tail_sol\n",
            "0.000000     91\n",
            "10.782839     1\n",
            "11.033053     1\n",
            "16.121142     1\n",
            "15.127352     1\n",
            "             ..\n",
            "9.868609      1\n",
            "12.693657     1\n",
            "9.844888      1\n",
            "11.448797     1\n",
            "9.668731      1\n",
            "Name: final.output.tail_sol, Length: 19322, dtype: int64\n",
            "Уникальные значения столбца final.output.tail_au\n",
            "0.000000    91\n",
            "3.402338     1\n",
            "2.516532     1\n",
            "2.561931     1\n",
            "3.806778     1\n",
            "            ..\n",
            "1.622001     1\n",
            "3.602147     1\n",
            "2.759120     1\n",
            "3.594554     1\n",
            "2.315921     1\n",
            "Name: final.output.tail_au, Length: 19329, dtype: int64\n",
            "Уникальные значения столбца primary_cleaner.input.sulfate\n",
            "185.095295    1\n",
            "107.659281    1\n",
            "120.878233    1\n",
            "117.746211    1\n",
            "193.314208    1\n",
            "             ..\n",
            "221.728600    1\n",
            "214.196920    1\n",
            "210.979307    1\n",
            "39.981171     1\n",
            "181.568784    1\n",
            "Name: primary_cleaner.input.sulfate, Length: 19415, dtype: int64\n",
            "Уникальные значения столбца primary_cleaner.input.depressant\n",
            "0.000000     10\n",
            "6.002093      1\n",
            "4.947907      1\n",
            "13.994074     1\n",
            "14.989684     1\n",
            "             ..\n",
            "7.106057      1\n",
            "8.499443      1\n",
            "13.997237     1\n",
            "8.027071      1\n",
            "6.970808      1\n",
            "Name: primary_cleaner.input.depressant, Length: 19393, dtype: int64\n",
            "Уникальные значения столбца primary_cleaner.input.feed_size\n",
            "8.162500    1\n",
            "7.320000    1\n",
            "6.493334    1\n",
            "7.260000    1\n",
            "7.083333    1\n",
            "           ..\n",
            "7.110002    1\n",
            "6.850000    1\n",
            "6.840001    1\n",
            "6.900000    1\n",
            "6.860000    1\n",
            "Name: primary_cleaner.input.feed_size, Length: 5022, dtype: int64\n",
            "Уникальные значения столбца primary_cleaner.input.xanthate\n",
            "0.983900    1\n",
            "1.400960    1\n",
            "0.992753    1\n",
            "1.090876    1\n",
            "0.988759    1\n",
            "           ..\n",
            "0.839793    1\n",
            "1.418858    1\n",
            "1.196730    1\n",
            "1.306182    1\n",
            "1.344383    1\n",
            "Name: primary_cleaner.input.xanthate, Length: 19335, dtype: int64\n",
            "Уникальные значения столбца primary_cleaner.output.concentrate_ag\n",
            "0.000000    108\n",
            "5.215641      1\n",
            "7.613756      1\n",
            "6.876322      1\n",
            "7.964138      1\n",
            "           ... \n",
            "7.348037      1\n",
            "8.422326      1\n",
            "4.457685      1\n",
            "9.105286      1\n",
            "9.844056      1\n",
            "Name: primary_cleaner.output.concentrate_ag, Length: 19199, dtype: int64\n",
            "Уникальные значения столбца primary_cleaner.output.concentrate_pb\n",
            "0.000000     108\n",
            "9.240342       1\n",
            "13.410090      1\n",
            "10.105723      1\n",
            "10.789457      1\n",
            "            ... \n",
            "9.037617       1\n",
            "12.207338      1\n",
            "9.210710       1\n",
            "11.609683      1\n",
            "9.759185       1\n",
            "Name: primary_cleaner.output.concentrate_pb, Length: 19055, dtype: int64\n",
            "Уникальные значения столбца primary_cleaner.output.concentrate_sol\n",
            "0.000000     108\n",
            "4.454441       1\n",
            "9.081582       1\n",
            "8.432863       1\n",
            "5.075037       1\n",
            "            ... \n",
            "11.765014      1\n",
            "6.862994       1\n",
            "8.832730       1\n",
            "13.369410      1\n",
            "14.815263      1\n",
            "Name: primary_cleaner.output.concentrate_sol, Length: 18826, dtype: int64\n",
            "Уникальные значения столбца primary_cleaner.output.concentrate_au\n",
            "0.000000     108\n",
            "31.789472      1\n",
            "12.834953      1\n",
            "39.894711      1\n",
            "36.026426      1\n",
            "            ... \n",
            "31.323179      1\n",
            "30.973096      1\n",
            "31.798449      1\n",
            "30.480697      1\n",
            "33.611983      1\n",
            "Name: primary_cleaner.output.concentrate_au, Length: 19199, dtype: int64\n",
            "Уникальные значения столбца primary_cleaner.output.tail_ag\n",
            "0.000000     124\n",
            "13.927780      1\n",
            "12.696408      1\n",
            "17.380361      1\n",
            "20.534940      1\n",
            "            ... \n",
            "14.623517      1\n",
            "11.731727      1\n",
            "18.488599      1\n",
            "21.048544      1\n",
            "15.271858      1\n",
            "Name: primary_cleaner.output.tail_ag, Length: 19287, dtype: int64\n",
            "Уникальные значения столбца primary_cleaner.output.tail_pb\n",
            "0.000000    124\n",
            "1.452742      1\n",
            "2.201098      1\n",
            "2.844017      1\n",
            "2.382208      1\n",
            "           ... \n",
            "2.567303      1\n",
            "3.399980      1\n",
            "2.084518      1\n",
            "1.901459      1\n",
            "7.137916      1\n",
            "Name: primary_cleaner.output.tail_pb, Length: 19270, dtype: int64\n",
            "Уникальные значения столбца primary_cleaner.output.tail_sol\n",
            "0.000000     124\n",
            "2.228452       1\n",
            "10.018651      1\n",
            "4.434098       1\n",
            "7.626126       1\n",
            "            ... \n",
            "7.795678       1\n",
            "7.263926       1\n",
            "1.057492       1\n",
            "1.599994       1\n",
            "7.316166       1\n",
            "Name: primary_cleaner.output.tail_sol, Length: 19229, dtype: int64\n",
            "Уникальные значения столбца primary_cleaner.output.tail_au\n",
            "0.000000    124\n",
            "4.655092      1\n",
            "4.832088      1\n",
            "4.192876      1\n",
            "2.638856      1\n",
            "           ... \n",
            "5.680014      1\n",
            "3.106749      1\n",
            "3.441451      1\n",
            "4.340325      1\n",
            "4.459269      1\n",
            "Name: primary_cleaner.output.tail_au, Length: 19291, dtype: int64\n",
            "Уникальные значения столбца primary_cleaner.state.floatbank8_a_air\n",
            "1596.682112    1\n",
            "1613.147320    1\n",
            "1700.673288    1\n",
            "1198.685138    1\n",
            "1399.962244    1\n",
            "              ..\n",
            "1702.427945    1\n",
            "1452.450663    1\n",
            "1545.193452    1\n",
            "1717.621390    1\n",
            "1710.353525    1\n",
            "Name: primary_cleaner.state.floatbank8_a_air, Length: 19435, dtype: int64\n",
            "Уникальные значения столбца primary_cleaner.state.floatbank8_a_level\n",
            "-500.219698    1\n",
            "-499.334669    1\n",
            "-500.903038    1\n",
            "-501.226799    1\n",
            "-500.567864    1\n",
            "              ..\n",
            "-499.882493    1\n",
            "-500.259798    1\n",
            "-499.511402    1\n",
            "-499.893573    1\n",
            "-500.088749    1\n",
            "Name: primary_cleaner.state.floatbank8_a_level, Length: 19438, dtype: int64\n",
            "Уникальные значения столбца primary_cleaner.state.floatbank8_b_air\n",
            "1202.078238    1\n",
            "1703.781603    1\n",
            "1699.948733    1\n",
            "1649.346835    1\n",
            "1596.354805    1\n",
            "              ..\n",
            "1599.647340    1\n",
            "1599.928584    1\n",
            "1602.238855    1\n",
            "1603.606953    1\n",
            "1701.571945    1\n",
            "Name: primary_cleaner.state.floatbank8_b_air, Length: 19435, dtype: int64\n",
            "Уникальные значения столбца primary_cleaner.state.floatbank8_b_level\n",
            "-499.716994    1\n",
            "-500.343312    1\n",
            "-450.518682    1\n",
            "-499.717242    1\n",
            "-501.233313    1\n",
            "              ..\n",
            "-499.607084    1\n",
            "-500.102853    1\n",
            "-500.714620    1\n",
            "-499.360473    1\n",
            "-500.874339    1\n",
            "Name: primary_cleaner.state.floatbank8_b_level, Length: 19438, dtype: int64\n",
            "Уникальные значения столбца primary_cleaner.state.floatbank8_c_air\n",
            "1401.300714    1\n",
            "1648.609070    1\n",
            "1500.860049    1\n",
            "1600.706532    1\n",
            "1199.476630    1\n",
            "              ..\n",
            "1647.716250    1\n",
            "1746.413571    1\n",
            "1603.915412    1\n",
            "1498.816155    1\n",
            "1602.430562    1\n",
            "Name: primary_cleaner.state.floatbank8_c_air, Length: 19437, dtype: int64\n",
            "Уникальные значения столбца primary_cleaner.state.floatbank8_c_level\n",
            "-500.494658    1\n",
            "-499.387575    1\n",
            "-500.671194    1\n",
            "-498.804987    1\n",
            "-449.652585    1\n",
            "              ..\n",
            "-500.893737    1\n",
            "-499.790089    1\n",
            "-497.407013    1\n",
            "-500.684830    1\n",
            "-501.232470    1\n",
            "Name: primary_cleaner.state.floatbank8_c_level, Length: 19438, dtype: int64\n",
            "Уникальные значения столбца primary_cleaner.state.floatbank8_d_air\n",
            "1701.088387    1\n",
            "1199.979062    1\n",
            "1599.807862    1\n",
            "1396.815897    1\n",
            "1547.854503    1\n",
            "              ..\n",
            "1356.426782    1\n",
            "1600.279053    1\n",
            "1399.571403    1\n",
            "1450.683692    1\n",
            "1218.311629    1\n",
            "Name: primary_cleaner.state.floatbank8_d_air, Length: 19436, dtype: int64\n",
            "Уникальные значения столбца primary_cleaner.state.floatbank8_d_level\n",
            "-500.281821    1\n",
            "-799.760012    1\n",
            "-499.610964    1\n",
            "-500.814109    1\n",
            "-500.320741    1\n",
            "              ..\n",
            "-496.697624    1\n",
            "-499.806672    1\n",
            "-500.518972    1\n",
            "-499.659701    1\n",
            "-500.587694    1\n",
            "Name: primary_cleaner.state.floatbank8_d_level, Length: 19438, dtype: int64\n",
            "Уникальные значения столбца rougher.calculation.sulfate_to_au_concentrate\n",
            "74291.247093    1\n",
            "34965.054728    1\n",
            "56934.810594    1\n",
            "40191.038270    1\n",
            "54287.018536    1\n",
            "               ..\n",
            "44336.172124    1\n",
            "38031.066755    1\n",
            "51986.387605    1\n",
            "36027.916878    1\n",
            "46039.124881    1\n",
            "Name: rougher.calculation.sulfate_to_au_concentrate, Length: 19437, dtype: int64\n",
            "Уникальные значения столбца rougher.calculation.floatbank10_sulfate_to_au_feed\n",
            "4556.021802    1\n",
            "2507.603728    1\n",
            "2507.371340    1\n",
            "3521.101437    1\n",
            "2510.481943    1\n",
            "              ..\n",
            "2487.795978    1\n",
            "2794.725803    1\n",
            "3203.037424    1\n",
            "2495.993312    1\n",
            "2514.938063    1\n",
            "Name: rougher.calculation.floatbank10_sulfate_to_au_feed, Length: 19437, dtype: int64\n",
            "Уникальные значения столбца rougher.calculation.floatbank11_sulfate_to_au_feed\n",
            "2535.792136    1\n",
            "4123.600516    1\n",
            "3980.937607    1\n",
            "3005.559630    1\n",
            "3066.209529    1\n",
            "              ..\n",
            "4395.685458    1\n",
            "3466.638151    1\n",
            "3311.406681    1\n",
            "3616.377974    1\n",
            "2805.667858    1\n",
            "Name: rougher.calculation.floatbank11_sulfate_to_au_feed, Length: 19437, dtype: int64\n",
            "Уникальные значения столбца rougher.calculation.au_pb_ratio\n",
            "1.512081    1\n",
            "2.186834    1\n",
            "2.166962    1\n",
            "1.933478    1\n",
            "2.863503    1\n",
            "           ..\n",
            "1.154835    1\n",
            "2.341386    1\n",
            "2.187495    1\n",
            "3.312617    1\n",
            "2.027392    1\n",
            "Name: rougher.calculation.au_pb_ratio, Length: 19409, dtype: int64\n",
            "Уникальные значения столбца rougher.input.feed_ag\n",
            "8.348953    1\n",
            "7.985594    1\n",
            "8.161076    1\n",
            "6.958674    1\n",
            "7.757470    1\n",
            "           ..\n",
            "7.254066    1\n",
            "8.829084    1\n",
            "5.406941    1\n",
            "7.335359    1\n",
            "6.434770    1\n",
            "Name: rougher.input.feed_ag, Length: 19409, dtype: int64\n",
            "Уникальные значения столбца rougher.input.feed_pb\n",
            "2.772921    1\n",
            "3.485588    1\n",
            "4.332430    1\n",
            "2.135018    1\n",
            "5.634616    1\n",
            "           ..\n",
            "3.408876    1\n",
            "3.640303    1\n",
            "3.257219    1\n",
            "4.466042    1\n",
            "3.196386    1\n",
            "Name: rougher.input.feed_pb, Length: 19300, dtype: int64\n",
            "Уникальные значения столбца rougher.input.feed_rate\n",
            "449.268007    1\n",
            "582.681662    1\n",
            "547.878251    1\n",
            "535.527533    1\n",
            "504.297550    1\n",
            "             ..\n",
            "539.946264    1\n",
            "575.658767    1\n",
            "563.015993    1\n",
            "629.580650    1\n",
            "511.136970    1\n",
            "Name: rougher.input.feed_rate, Length: 19428, dtype: int64\n",
            "Уникальные значения столбца rougher.input.feed_size\n",
            "58.104492     1\n",
            "41.966699     1\n",
            "62.704325     1\n",
            "339.232012    1\n",
            "39.373252     1\n",
            "             ..\n",
            "65.229292     1\n",
            "72.037866     1\n",
            "9.659576      1\n",
            "66.423562     1\n",
            "59.111380     1\n",
            "Name: rougher.input.feed_size, Length: 19286, dtype: int64\n",
            "Уникальные значения столбца rougher.input.feed_sol\n",
            "36.292269    1\n",
            "39.222654    1\n",
            "41.772837    1\n",
            "35.095193    1\n",
            "35.715673    1\n",
            "            ..\n",
            "30.861546    1\n",
            "38.899191    1\n",
            "37.235122    1\n",
            "33.197192    1\n",
            "39.794201    1\n",
            "Name: rougher.input.feed_sol, Length: 19292, dtype: int64\n",
            "Уникальные значения столбца rougher.input.feed_au\n",
            "7.275729     1\n",
            "9.698813     1\n",
            "12.476812    1\n",
            "8.243376     1\n",
            "9.160269     1\n",
            "            ..\n",
            "10.355408    1\n",
            "6.818858     1\n",
            "10.576822    1\n",
            "2.159555     1\n",
            "11.869855    1\n",
            "Name: rougher.input.feed_au, Length: 19409, dtype: int64\n",
            "Уникальные значения столбца rougher.input.floatbank10_sulfate\n",
            "13.990893    1\n",
            "14.499897    1\n",
            "17.996992    1\n",
            "11.998008    1\n",
            "11.360075    1\n",
            "            ..\n",
            "13.496693    1\n",
            "12.999224    1\n",
            "13.566771    1\n",
            "15.003133    1\n",
            "17.008168    1\n",
            "Name: rougher.input.floatbank10_sulfate, Length: 19405, dtype: int64\n",
            "Уникальные значения столбца rougher.input.floatbank10_xanthate\n",
            "6.099338    1\n",
            "8.284405    1\n",
            "7.000209    1\n",
            "6.167649    1\n",
            "3.594134    1\n",
            "           ..\n",
            "5.401091    1\n",
            "6.494108    1\n",
            "7.795527    1\n",
            "7.697351    1\n",
            "7.998735    1\n",
            "Name: rougher.input.floatbank10_xanthate, Length: 19431, dtype: int64\n",
            "Уникальные значения столбца rougher.input.floatbank11_sulfate\n",
            "17.999478    1\n",
            "12.263060    1\n",
            "5.251763     1\n",
            "14.997319    1\n",
            "13.436561    1\n",
            "            ..\n",
            "9.853875     1\n",
            "18.000617    1\n",
            "10.262985    1\n",
            "11.063255    1\n",
            "15.006297    1\n",
            "Name: rougher.input.floatbank11_sulfate, Length: 19395, dtype: int64\n",
            "Уникальные значения столбца rougher.input.floatbank11_xanthate\n",
            "4.699343    1\n",
            "5.500346    1\n",
            "6.198548    1\n",
            "5.396880    1\n",
            "6.593928    1\n",
            "           ..\n",
            "6.500766    1\n",
            "6.200398    1\n",
            "5.773176    1\n",
            "5.600442    1\n",
            "5.798292    1\n",
            "Name: rougher.input.floatbank11_xanthate, Length: 18971, dtype: int64\n",
            "Уникальные значения столбца rougher.output.concentrate_ag\n",
            "0.000000     394\n",
            "15.686964      1\n",
            "12.902647      1\n",
            "9.545413       1\n",
            "10.238305      1\n",
            "            ... \n",
            "12.239214      1\n",
            "8.678000       1\n",
            "11.618270      1\n",
            "13.825445      1\n",
            "10.304030      1\n",
            "Name: rougher.output.concentrate_ag, Length: 19015, dtype: int64\n",
            "Уникальные значения столбца rougher.output.concentrate_pb\n",
            "0.000000    394\n",
            "5.980334      1\n",
            "9.298586      1\n",
            "7.656586      1\n",
            "9.269339      1\n",
            "           ... \n",
            "7.665260      1\n",
            "9.152264      1\n",
            "7.965996      1\n",
            "9.609241      1\n",
            "8.700049      1\n",
            "Name: rougher.output.concentrate_pb, Length: 18956, dtype: int64\n",
            "Уникальные значения столбца rougher.output.concentrate_sol\n",
            "0.000000     394\n",
            "27.694324      1\n",
            "23.979051      1\n",
            "34.236372      1\n",
            "28.835161      1\n",
            "            ... \n",
            "30.522085      1\n",
            "35.117869      1\n",
            "27.981172      1\n",
            "27.779851      1\n",
            "26.562425      1\n",
            "Name: rougher.output.concentrate_sol, Length: 18664, dtype: int64\n",
            "Уникальные значения столбца rougher.output.concentrate_au\n",
            "0.000000     394\n",
            "19.200927      1\n",
            "23.136226      1\n",
            "17.827200      1\n",
            "19.270941      1\n",
            "            ... \n",
            "21.338735      1\n",
            "21.323875      1\n",
            "20.265732      1\n",
            "21.677580      1\n",
            "20.557015      1\n",
            "Name: rougher.output.concentrate_au, Length: 19015, dtype: int64\n",
            "Уникальные значения столбца rougher.output.recovery\n",
            "0.000000     394\n",
            "86.235000      1\n",
            "88.433088      1\n",
            "90.572417      1\n",
            "92.111844      1\n",
            "            ... \n",
            "85.515519      1\n",
            "90.734114      1\n",
            "78.711512      1\n",
            "94.178336      1\n",
            "82.366128      1\n",
            "Name: rougher.output.recovery, Length: 19017, dtype: int64\n",
            "Уникальные значения столбца rougher.output.tail_ag\n",
            "6.257300    1\n",
            "4.004080    1\n",
            "4.880790    1\n",
            "5.424222    1\n",
            "5.806505    1\n",
            "           ..\n",
            "3.131258    1\n",
            "7.260406    1\n",
            "4.022915    1\n",
            "3.652108    1\n",
            "5.212568    1\n",
            "Name: rougher.output.tail_ag, Length: 19397, dtype: int64\n",
            "Уникальные значения столбца rougher.output.tail_pb\n",
            "1.080979    1\n",
            "0.689044    1\n",
            "0.548848    1\n",
            "0.893483    1\n",
            "0.520305    1\n",
            "           ..\n",
            "0.532486    1\n",
            "0.375425    1\n",
            "0.508798    1\n",
            "0.932957    1\n",
            "0.841930    1\n",
            "Name: rougher.output.tail_pb, Length: 19409, dtype: int64\n",
            "Уникальные значения столбца rougher.output.tail_sol\n",
            "20.211137    1\n",
            "18.237561    1\n",
            "24.510340    1\n",
            "15.691572    1\n",
            "23.113569    1\n",
            "            ..\n",
            "14.550083    1\n",
            "14.528351    1\n",
            "17.232422    1\n",
            "17.331557    1\n",
            "16.855477    1\n",
            "Name: rougher.output.tail_sol, Length: 19272, dtype: int64\n",
            "Уникальные значения столбца rougher.output.tail_au\n",
            "1.559800    1\n",
            "2.245663    1\n",
            "2.020443    1\n",
            "1.828425    1\n",
            "1.688585    1\n",
            "           ..\n",
            "2.238844    1\n",
            "1.689865    1\n",
            "2.124458    1\n",
            "1.469317    1\n",
            "0.897448    1\n",
            "Name: rougher.output.tail_au, Length: 19399, dtype: int64\n",
            "Уникальные значения столбца rougher.state.floatbank10_a_air\n",
            "1299.855412    1\n",
            "996.750721     1\n",
            "1400.308366    1\n",
            "999.660096     1\n",
            "1000.341139    1\n",
            "              ..\n",
            "999.961027     1\n",
            "1095.361746    1\n",
            "999.614380     1\n",
            "1196.205101    1\n",
            "1299.683137    1\n",
            "Name: rougher.state.floatbank10_a_air, Length: 19438, dtype: int64\n",
            "Уникальные значения столбца rougher.state.floatbank10_a_level\n",
            "-499.714445    1\n",
            "-299.788817    1\n",
            "-499.923875    1\n",
            "-301.046051    1\n",
            "-300.077406    1\n",
            "              ..\n",
            "-299.945698    1\n",
            "-500.824889    1\n",
            "-300.088313    1\n",
            "-500.059118    1\n",
            "-299.449900    1\n",
            "Name: rougher.state.floatbank10_a_level, Length: 19438, dtype: int64\n",
            "Уникальные значения столбца rougher.state.floatbank10_b_air\n",
            "998.940632     1\n",
            "1503.933029    1\n",
            "1499.936879    1\n",
            "1500.883952    1\n",
            "1195.599367    1\n",
            "              ..\n",
            "1331.372394    1\n",
            "1305.584897    1\n",
            "1573.432556    1\n",
            "1150.359633    1\n",
            "1098.778665    1\n",
            "Name: rougher.state.floatbank10_b_air, Length: 19438, dtype: int64\n",
            "Уникальные значения столбца rougher.state.floatbank10_b_level\n",
            "-499.709122    1\n",
            "-499.727362    1\n",
            "-300.533075    1\n",
            "-399.789020    1\n",
            "-399.719535    1\n",
            "              ..\n",
            "-400.314014    1\n",
            "-499.727916    1\n",
            "-496.038704    1\n",
            "-499.916905    1\n",
            "-449.693709    1\n",
            "Name: rougher.state.floatbank10_b_level, Length: 19438, dtype: int64\n",
            "Уникальные значения столбца rougher.state.floatbank10_c_air\n",
            "1500.820892    1\n",
            "1398.775472    1\n",
            "1648.182885    1\n",
            "1296.365467    1\n",
            "1247.570690    1\n",
            "              ..\n",
            "946.604801     1\n",
            "1101.493514    1\n",
            "1249.520201    1\n",
            "1549.526467    1\n",
            "1398.764728    1\n",
            "Name: rougher.state.floatbank10_c_air, Length: 19438, dtype: int64\n",
            "Уникальные значения столбца rougher.state.floatbank10_c_level\n",
            "-399.543005    1\n",
            "-500.375616    1\n",
            "-350.330216    1\n",
            "-400.415706    1\n",
            "-498.316989    1\n",
            "              ..\n",
            "-500.628410    1\n",
            "-502.213842    1\n",
            "-499.700083    1\n",
            "-499.987023    1\n",
            "-501.029114    1\n",
            "Name: rougher.state.floatbank10_c_level, Length: 19438, dtype: int64\n",
            "Уникальные значения столбца rougher.state.floatbank10_d_air\n",
            "1510.259847    1\n",
            "1258.125305    1\n",
            "1306.332319    1\n",
            "1297.184095    1\n",
            "1400.690699    1\n",
            "              ..\n",
            "1400.771872    1\n",
            "1298.658935    1\n",
            "1352.061818    1\n",
            "1000.786184    1\n",
            "1196.310836    1\n",
            "Name: rougher.state.floatbank10_d_air, Length: 19439, dtype: int64\n",
            "Уникальные значения столбца rougher.state.floatbank10_d_level\n",
            "-400.131110    1\n",
            "-399.782562    1\n",
            "-399.010436    1\n",
            "-493.660160    1\n",
            "-550.055096    1\n",
            "              ..\n",
            "-300.603002    1\n",
            "-498.767243    1\n",
            "-497.644193    1\n",
            "-499.585630    1\n",
            "-399.174984    1\n",
            "Name: rougher.state.floatbank10_d_level, Length: 19439, dtype: int64\n",
            "Уникальные значения столбца rougher.state.floatbank10_e_air\n",
            "900.346916     1\n",
            "1202.609030    1\n",
            "1199.748925    1\n",
            "900.874082     1\n",
            "997.196216     1\n",
            "              ..\n",
            "1050.935013    1\n",
            "1099.711403    1\n",
            "999.615024     1\n",
            "1099.833658    1\n",
            "1099.607129    1\n",
            "Name: rougher.state.floatbank10_e_air, Length: 19003, dtype: int64\n",
            "Уникальные значения столбца rougher.state.floatbank10_e_level\n",
            "-402.110384    1\n",
            "-499.697571    1\n",
            "-399.431878    1\n",
            "-499.874718    1\n",
            "-500.373037    1\n",
            "              ..\n",
            "-499.767423    1\n",
            "-300.333332    1\n",
            "-400.819611    1\n",
            "-408.371296    1\n",
            "-500.481325    1\n",
            "Name: rougher.state.floatbank10_e_level, Length: 19439, dtype: int64\n",
            "Уникальные значения столбца rougher.state.floatbank10_f_air\n",
            "1200.466050    1\n",
            "952.532049     1\n",
            "1250.365201    1\n",
            "1035.189676    1\n",
            "999.170754     1\n",
            "              ..\n",
            "851.064399     1\n",
            "899.349122     1\n",
            "898.886245     1\n",
            "993.980099     1\n",
            "950.589955     1\n",
            "Name: rougher.state.floatbank10_f_air, Length: 19439, dtype: int64\n",
            "Уникальные значения столбца rougher.state.floatbank10_f_level\n",
            "-499.934561    1\n",
            "-500.625279    1\n",
            "-400.750595    1\n",
            "-501.635187    1\n",
            "-500.632206    1\n",
            "              ..\n",
            "-499.603932    1\n",
            "-501.819232    1\n",
            "-350.055386    1\n",
            "-498.055152    1\n",
            "-501.308269    1\n",
            "Name: rougher.state.floatbank10_f_level, Length: 19438, dtype: int64\n",
            "Уникальные значения столбца secondary_cleaner.output.tail_ag\n",
            "0.000000     849\n",
            "11.030463      1\n",
            "4.468673       1\n",
            "19.383891      1\n",
            "18.680805      1\n",
            "            ... \n",
            "1.733444       1\n",
            "15.486764      1\n",
            "13.712967      1\n",
            "16.359145      1\n",
            "14.455974      1\n",
            "Name: secondary_cleaner.output.tail_ag, Length: 18576, dtype: int64\n",
            "Уникальные значения столбца secondary_cleaner.output.tail_pb\n",
            "0.000000     849\n",
            "4.577787       1\n",
            "9.663781       1\n",
            "10.032238      1\n",
            "7.531888       1\n",
            "            ... \n",
            "10.243464      1\n",
            "7.794877       1\n",
            "1.835204       1\n",
            "3.428272       1\n",
            "2.581537       1\n",
            "Name: secondary_cleaner.output.tail_pb, Length: 18562, dtype: int64\n",
            "Уникальные значения столбца secondary_cleaner.output.tail_sol\n",
            "0.000000     849\n",
            "14.590523      1\n",
            "1.674890       1\n",
            "3.295750       1\n",
            "2.964387       1\n",
            "            ... \n",
            "10.584397      1\n",
            "8.863444       1\n",
            "12.544656      1\n",
            "9.473592       1\n",
            "13.145921      1\n",
            "Name: secondary_cleaner.output.tail_sol, Length: 16831, dtype: int64\n",
            "Уникальные значения столбца secondary_cleaner.output.tail_au\n",
            "0.000000     849\n",
            "4.374686       1\n",
            "5.479486       1\n",
            "5.509377       1\n",
            "6.692401       1\n",
            "            ... \n",
            "10.994288      1\n",
            "2.687644       1\n",
            "2.761323       1\n",
            "4.656681       1\n",
            "1.886929       1\n",
            "Name: secondary_cleaner.output.tail_au, Length: 18578, dtype: int64\n",
            "Уникальные значения столбца secondary_cleaner.state.floatbank2_a_air\n",
            "35.022900    1\n",
            "15.050672    1\n",
            "25.011340    1\n",
            "24.979807    1\n",
            "24.947806    1\n",
            "            ..\n",
            "29.921971    1\n",
            "27.099640    1\n",
            "27.898428    1\n",
            "24.922188    1\n",
            "34.920999    1\n",
            "Name: secondary_cleaner.state.floatbank2_a_air, Length: 19218, dtype: int64\n",
            "Уникальные значения столбца secondary_cleaner.state.floatbank2_a_level\n",
            "-499.952359    1\n",
            "-402.251404    1\n",
            "-499.604942    1\n",
            "-499.837860    1\n",
            "-399.964756    1\n",
            "              ..\n",
            "-504.624112    1\n",
            "-500.809838    1\n",
            "-400.378481    1\n",
            "-501.005008    1\n",
            "-400.592727    1\n",
            "Name: secondary_cleaner.state.floatbank2_a_level, Length: 19438, dtype: int64\n",
            "Уникальные значения столбца secondary_cleaner.state.floatbank2_b_air\n",
            "0.000000     8\n",
            "30.039746    1\n",
            "34.986781    1\n",
            "25.914083    1\n",
            "27.945051    1\n",
            "            ..\n",
            "32.093340    1\n",
            "28.060510    1\n",
            "29.918964    1\n",
            "19.963077    1\n",
            "19.047520    1\n",
            "Name: secondary_cleaner.state.floatbank2_b_air, Length: 19281, dtype: int64\n",
            "Уникальные значения столбца secondary_cleaner.state.floatbank2_b_level\n",
            "-500.098065    1\n",
            "-499.734826    1\n",
            "-500.119192    1\n",
            "-499.928406    1\n",
            "-500.239260    1\n",
            "              ..\n",
            "-450.117974    1\n",
            "-500.189154    1\n",
            "-499.495086    1\n",
            "-500.192337    1\n",
            "-500.241130    1\n",
            "Name: secondary_cleaner.state.floatbank2_b_level, Length: 19438, dtype: int64\n",
            "Уникальные значения столбца secondary_cleaner.state.floatbank3_a_air\n",
            "19.971690    1\n",
            "35.982485    1\n",
            "41.999735    1\n",
            "29.997781    1\n",
            "24.974751    1\n",
            "            ..\n",
            "24.982989    1\n",
            "25.012800    1\n",
            "38.009562    1\n",
            "36.961722    1\n",
            "36.032771    1\n",
            "Name: secondary_cleaner.state.floatbank3_a_air, Length: 19353, dtype: int64\n",
            "Уникальные значения столбца secondary_cleaner.state.floatbank3_a_level\n",
            "-500.143693    1\n",
            "-499.815925    1\n",
            "-499.882357    1\n",
            "-499.765124    1\n",
            "-500.101549    1\n",
            "              ..\n",
            "-499.799347    1\n",
            "-499.686454    1\n",
            "-500.314301    1\n",
            "-398.806371    1\n",
            "-498.950191    1\n",
            "Name: secondary_cleaner.state.floatbank3_a_level, Length: 19438, dtype: int64\n",
            "Уникальные значения столбца secondary_cleaner.state.floatbank3_b_air\n",
            "0.000000     1\n",
            "25.946094    1\n",
            "25.016378    1\n",
            "20.009794    1\n",
            "24.987571    1\n",
            "            ..\n",
            "29.062336    1\n",
            "18.012813    1\n",
            "27.011884    1\n",
            "9.948536     1\n",
            "26.044820    1\n",
            "Name: secondary_cleaner.state.floatbank3_b_air, Length: 19318, dtype: int64\n",
            "Уникальные значения столбца secondary_cleaner.state.floatbank3_b_level\n",
            "-499.985436    1\n",
            "-499.909123    1\n",
            "-348.881938    1\n",
            "-300.268100    1\n",
            "-499.480131    1\n",
            "              ..\n",
            "-500.071260    1\n",
            "-499.820018    1\n",
            "-521.710375    1\n",
            "-500.049973    1\n",
            "-500.097320    1\n",
            "Name: secondary_cleaner.state.floatbank3_b_level, Length: 19438, dtype: int64\n",
            "Уникальные значения столбца secondary_cleaner.state.floatbank4_a_air\n",
            "0.000000     1\n",
            "17.037818    1\n",
            "24.954848    1\n",
            "18.019495    1\n",
            "14.982098    1\n",
            "            ..\n",
            "20.034076    1\n",
            "24.998682    1\n",
            "9.989834     1\n",
            "17.946714    1\n",
            "29.970556    1\n",
            "Name: secondary_cleaner.state.floatbank4_a_air, Length: 19423, dtype: int64\n",
            "Уникальные значения столбца secondary_cleaner.state.floatbank4_a_level\n",
            "-501.178610    1\n",
            "-499.034028    1\n",
            "-400.674587    1\n",
            "-399.204592    1\n",
            "-498.638489    1\n",
            "              ..\n",
            "-500.794125    1\n",
            "-500.469485    1\n",
            "-500.820590    1\n",
            "-500.882572    1\n",
            "-501.476258    1\n",
            "Name: secondary_cleaner.state.floatbank4_a_level, Length: 19438, dtype: int64\n",
            "Уникальные значения столбца secondary_cleaner.state.floatbank4_b_air\n",
            "8.050824     1\n",
            "23.029887    1\n",
            "14.028885    1\n",
            "9.050916     1\n",
            "22.030256    1\n",
            "            ..\n",
            "10.023618    1\n",
            "23.039840    1\n",
            "14.989985    1\n",
            "14.001708    1\n",
            "12.087298    1\n",
            "Name: secondary_cleaner.state.floatbank4_b_air, Length: 19414, dtype: int64\n",
            "Уникальные значения столбца secondary_cleaner.state.floatbank4_b_level\n",
            "-500.094935    1\n",
            "-500.439591    1\n",
            "-500.024981    1\n",
            "-400.948844    1\n",
            "-400.191396    1\n",
            "              ..\n",
            "-499.427066    1\n",
            "-379.320938    1\n",
            "-381.153035    1\n",
            "-398.052952    1\n",
            "-500.032382    1\n",
            "Name: secondary_cleaner.state.floatbank4_b_level, Length: 19436, dtype: int64\n",
            "Уникальные значения столбца secondary_cleaner.state.floatbank5_a_air\n",
            "30.019875    1\n",
            "10.924933    1\n",
            "17.984947    1\n",
            "22.871865    1\n",
            "25.986573    1\n",
            "            ..\n",
            "23.002496    1\n",
            "19.961064    1\n",
            "14.373797    1\n",
            "13.976844    1\n",
            "9.980330     1\n",
            "Name: secondary_cleaner.state.floatbank5_a_air, Length: 19438, dtype: int64\n",
            "Уникальные значения столбца secondary_cleaner.state.floatbank5_a_level\n",
            "-456.048963    1\n",
            "-449.790315    1\n",
            "-449.904842    1\n",
            "-497.669062    1\n",
            "-500.013830    1\n",
            "              ..\n",
            "-500.242487    1\n",
            "-500.223578    1\n",
            "-500.733641    1\n",
            "-499.849644    1\n",
            "-500.046961    1\n",
            "Name: secondary_cleaner.state.floatbank5_a_level, Length: 19438, dtype: int64\n",
            "Уникальные значения столбца secondary_cleaner.state.floatbank5_b_air\n",
            "12.996119    1\n",
            "14.026080    1\n",
            "10.008888    1\n",
            "13.900877    1\n",
            "23.997708    1\n",
            "            ..\n",
            "23.983218    1\n",
            "13.006227    1\n",
            "11.006673    1\n",
            "19.990146    1\n",
            "7.996119     1\n",
            "Name: secondary_cleaner.state.floatbank5_b_air, Length: 19438, dtype: int64\n",
            "Уникальные значения столбца secondary_cleaner.state.floatbank5_b_level\n",
            "-500.053006    1\n",
            "-500.235121    1\n",
            "-449.903810    1\n",
            "-400.309623    1\n",
            "-450.111776    1\n",
            "              ..\n",
            "-502.563959    1\n",
            "-499.775022    1\n",
            "-499.763837    1\n",
            "-499.776560    1\n",
            "-500.179340    1\n",
            "Name: secondary_cleaner.state.floatbank5_b_level, Length: 19438, dtype: int64\n",
            "Уникальные значения столбца secondary_cleaner.state.floatbank6_a_air\n",
            "9.929099     1\n",
            "25.012063    1\n",
            "21.982244    1\n",
            "15.002594    1\n",
            "15.998200    1\n",
            "            ..\n",
            "12.985487    1\n",
            "24.958419    1\n",
            "30.001465    1\n",
            "20.016970    1\n",
            "12.974228    1\n",
            "Name: secondary_cleaner.state.floatbank6_a_air, Length: 19437, dtype: int64\n",
            "Уникальные значения столбца secondary_cleaner.state.floatbank6_a_level\n",
            "-499.950634    1\n",
            "-500.680760    1\n",
            "-499.946243    1\n",
            "-424.854969    1\n",
            "-500.868490    1\n",
            "              ..\n",
            "-499.399868    1\n",
            "-500.235285    1\n",
            "-449.571097    1\n",
            "-500.149794    1\n",
            "-500.025642    1\n",
            "Name: secondary_cleaner.state.floatbank6_a_level, Length: 19438, dtype: int64\n",
            "Количество пропусков в каждом столбце\n",
            "date                                            0\n",
            "final.output.concentrate_ag                     1\n",
            "final.output.concentrate_pb                     1\n",
            "final.output.concentrate_sol                  211\n",
            "final.output.concentrate_au                     0\n",
            "                                             ... \n",
            "secondary_cleaner.state.floatbank5_a_level      1\n",
            "secondary_cleaner.state.floatbank5_b_air        1\n",
            "secondary_cleaner.state.floatbank5_b_level      1\n",
            "secondary_cleaner.state.floatbank6_a_air        2\n",
            "secondary_cleaner.state.floatbank6_a_level      1\n",
            "Length: 87, dtype: int64\n"
          ]
        }
      ],
      "source": [
        "show_rows(df_full)"
      ]
    },
    {
      "cell_type": "markdown",
      "metadata": {
        "id": "IVfitljHiM5-"
      },
      "source": [
        "<div class=\"alert alert-info\">\n",
        "<h2> 👆 О таблицах :<a class=\"tocSkip\"> </h2>\n",
        "<br> * В данных есть пропуски\n",
        "<br> * В тестовой выборке отсутствуют некоторые признаки, которые есть в обучающей выборке.\n",
        "\n",
        "    \n",
        "</div>"
      ]
    },
    {
      "cell_type": "markdown",
      "metadata": {
        "id": "ywEjneojiM5_"
      },
      "source": [
        "# Проверка правильности вычисленной эффективности обогащения"
      ]
    },
    {
      "cell_type": "markdown",
      "metadata": {
        "id": "jUN4nuTqiM5_"
      },
      "source": [
        "Напишем функцию для расчета Recovery по формуле"
      ]
    },
    {
      "cell_type": "code",
      "execution_count": null,
      "metadata": {
        "id": "4itMy3qDiM6A"
      },
      "outputs": [],
      "source": [
        "def calculate_recovery(rougher_output, rougher_input, rougher_tail):\n",
        "    recovery = (rougher_output * (rougher_input - rougher_tail)) / (rougher_input * (rougher_output - rougher_tail)) * 100\n",
        "    \n",
        "   \n",
        "    return recovery"
      ]
    },
    {
      "cell_type": "code",
      "execution_count": null,
      "metadata": {
        "id": "gHkMGFsyiM6B",
        "outputId": "fef1a90d-f2d8-4b3e-d025-6f3ba074dccd"
      },
      "outputs": [
        {
          "name": "stdout",
          "output_type": "stream",
          "text": [
            "count    14149.000000\n",
            "mean        82.704502\n",
            "std         14.479156\n",
            "min         -0.000000\n",
            "25%         79.993067\n",
            "50%         85.299462\n",
            "75%         90.165021\n",
            "max        100.000000\n",
            "dtype: float64\n"
          ]
        }
      ],
      "source": [
        "recovery = calculate_recovery(\n",
        "    df_train['rougher.output.concentrate_au'], \n",
        "    df_train['rougher.input.feed_au'], \n",
        "    df_train['rougher.output.tail_au'],\n",
        ")\n",
        "print(recovery.describe())"
      ]
    },
    {
      "cell_type": "code",
      "execution_count": null,
      "metadata": {
        "id": "Vr6AJj8fiM6B",
        "outputId": "a62ca4d9-e9f3-4e21-bb05-f6622214336a"
      },
      "outputs": [
        {
          "name": "stdout",
          "output_type": "stream",
          "text": [
            "MAE = 9.73512347450521e-15\n"
          ]
        }
      ],
      "source": [
        "mae_recovery = mean_absolute_error(df_train['rougher.output.recovery'].dropna(), recovery.dropna())\n",
        "print('MAE =', mae_recovery)"
      ]
    },
    {
      "cell_type": "markdown",
      "metadata": {
        "id": "gP45T3hmiM6C"
      },
      "source": [
        "<div class=\"alert alert-info\">\n",
        "<h2> Вывод :<a class=\"tocSkip\"> </h2>\n",
        "<br> * MAE (средняя абсолютная ошибка) между рассчитаной по формуле эффективностью обогащения и признаком из датасета очень мала, а значит значение эффективности в датасете верное.\n",
        "    \n",
        "</div>"
      ]
    },
    {
      "cell_type": "markdown",
      "metadata": {
        "id": "ZsETziimiM6C"
      },
      "source": [
        "# Анализ признаков, недоступных в тестовой выборке"
      ]
    },
    {
      "cell_type": "code",
      "execution_count": null,
      "metadata": {
        "id": "dafRXSgeiM6D",
        "outputId": "80bff85e-a339-4443-aba8-60e8f9fa2673"
      },
      "outputs": [
        {
          "data": {
            "text/plain": [
              "['rougher.output.concentrate_sol',\n",
              " 'secondary_cleaner.output.tail_pb',\n",
              " 'primary_cleaner.output.tail_ag',\n",
              " 'primary_cleaner.output.concentrate_pb',\n",
              " 'rougher.output.concentrate_au',\n",
              " 'final.output.concentrate_ag',\n",
              " 'final.output.tail_sol',\n",
              " 'final.output.concentrate_au',\n",
              " 'rougher.output.tail_au',\n",
              " 'final.output.tail_ag',\n",
              " 'final.output.concentrate_sol',\n",
              " 'final.output.tail_au',\n",
              " 'rougher.calculation.sulfate_to_au_concentrate',\n",
              " 'secondary_cleaner.output.tail_ag',\n",
              " 'rougher.output.concentrate_pb',\n",
              " 'primary_cleaner.output.tail_au',\n",
              " 'primary_cleaner.output.tail_sol',\n",
              " 'primary_cleaner.output.concentrate_sol',\n",
              " 'rougher.output.concentrate_ag',\n",
              " 'rougher.output.recovery',\n",
              " 'final.output.concentrate_pb',\n",
              " 'rougher.calculation.floatbank11_sulfate_to_au_feed',\n",
              " 'rougher.calculation.au_pb_ratio',\n",
              " 'secondary_cleaner.output.tail_sol',\n",
              " 'rougher.calculation.floatbank10_sulfate_to_au_feed',\n",
              " 'rougher.output.tail_sol',\n",
              " 'rougher.output.tail_ag',\n",
              " 'primary_cleaner.output.concentrate_ag',\n",
              " 'final.output.tail_pb',\n",
              " 'secondary_cleaner.output.tail_au',\n",
              " 'primary_cleaner.output.concentrate_au',\n",
              " 'final.output.recovery',\n",
              " 'primary_cleaner.output.tail_pb',\n",
              " 'rougher.output.tail_pb']"
            ]
          },
          "execution_count": 16,
          "metadata": {},
          "output_type": "execute_result"
        }
      ],
      "source": [
        "\n",
        "\n",
        "list(set(df_train).difference(df_test.columns))\n"
      ]
    },
    {
      "cell_type": "markdown",
      "metadata": {
        "id": "8Nud5u31iM6D"
      },
      "source": [
        "<div class=\"alert alert-info\">\n",
        "<h2> Вывод :<a class=\"tocSkip\"> </h2>\n",
        "    \n",
        "<br> * Все признаки имеют тип `float`\n",
        "    <br> * Признаки `output` - целевые признаки и поэтому отсутствуют в тестовой выборке\n",
        "    <br> * Признаки `rougher.calculation` - это расчетные характеристики и отсутвуют они скорее всего из-за того, что они расчитываются после завершения процесса.\n",
        "\n",
        "    \n",
        "</div>"
      ]
    },
    {
      "cell_type": "markdown",
      "metadata": {
        "id": "uAuLLUNciM6E"
      },
      "source": [
        "# Предобработка данных"
      ]
    },
    {
      "cell_type": "markdown",
      "metadata": {
        "id": "GE281vO4iM6F"
      },
      "source": [
        "Проведем чистку от пропущенных значений в обучающей и тестовой выборке.В условии написано, что соседние по времени параметры часто похожи, поэтому заполним пропуски, используя сосдение значения"
      ]
    },
    {
      "cell_type": "code",
      "execution_count": null,
      "metadata": {
        "id": "2E6sDqwSiM6F",
        "outputId": "0e84a050-d97d-4313-eb46-044b45531303"
      },
      "outputs": [
        {
          "data": {
            "text/plain": [
              "date                                          0.0\n",
              "final.output.concentrate_ag                   0.0\n",
              "final.output.concentrate_pb                   0.0\n",
              "final.output.concentrate_sol                  0.0\n",
              "final.output.concentrate_au                   0.0\n",
              "                                             ... \n",
              "secondary_cleaner.state.floatbank5_a_level    0.0\n",
              "secondary_cleaner.state.floatbank5_b_air      0.0\n",
              "secondary_cleaner.state.floatbank5_b_level    0.0\n",
              "secondary_cleaner.state.floatbank6_a_air      0.0\n",
              "secondary_cleaner.state.floatbank6_a_level    0.0\n",
              "Length: 87, dtype: float64"
            ]
          },
          "execution_count": 17,
          "metadata": {},
          "output_type": "execute_result"
        }
      ],
      "source": [
        "good_df_train = df_train.fillna(method='ffill')\n",
        "good_df_train.isna().mean()"
      ]
    },
    {
      "cell_type": "code",
      "execution_count": null,
      "metadata": {
        "id": "u5jWeoQgiM6F",
        "outputId": "7548102d-f80e-45f7-8648-2b68a08d256a"
      },
      "outputs": [
        {
          "data": {
            "text/plain": [
              "date                                          0.0\n",
              "primary_cleaner.input.sulfate                 0.0\n",
              "primary_cleaner.input.depressant              0.0\n",
              "primary_cleaner.input.feed_size               0.0\n",
              "primary_cleaner.input.xanthate                0.0\n",
              "primary_cleaner.state.floatbank8_a_air        0.0\n",
              "primary_cleaner.state.floatbank8_a_level      0.0\n",
              "primary_cleaner.state.floatbank8_b_air        0.0\n",
              "primary_cleaner.state.floatbank8_b_level      0.0\n",
              "primary_cleaner.state.floatbank8_c_air        0.0\n",
              "primary_cleaner.state.floatbank8_c_level      0.0\n",
              "primary_cleaner.state.floatbank8_d_air        0.0\n",
              "primary_cleaner.state.floatbank8_d_level      0.0\n",
              "rougher.input.feed_ag                         0.0\n",
              "rougher.input.feed_pb                         0.0\n",
              "rougher.input.feed_rate                       0.0\n",
              "rougher.input.feed_size                       0.0\n",
              "rougher.input.feed_sol                        0.0\n",
              "rougher.input.feed_au                         0.0\n",
              "rougher.input.floatbank10_sulfate             0.0\n",
              "rougher.input.floatbank10_xanthate            0.0\n",
              "rougher.input.floatbank11_sulfate             0.0\n",
              "rougher.input.floatbank11_xanthate            0.0\n",
              "rougher.state.floatbank10_a_air               0.0\n",
              "rougher.state.floatbank10_a_level             0.0\n",
              "rougher.state.floatbank10_b_air               0.0\n",
              "rougher.state.floatbank10_b_level             0.0\n",
              "rougher.state.floatbank10_c_air               0.0\n",
              "rougher.state.floatbank10_c_level             0.0\n",
              "rougher.state.floatbank10_d_air               0.0\n",
              "rougher.state.floatbank10_d_level             0.0\n",
              "rougher.state.floatbank10_e_air               0.0\n",
              "rougher.state.floatbank10_e_level             0.0\n",
              "rougher.state.floatbank10_f_air               0.0\n",
              "rougher.state.floatbank10_f_level             0.0\n",
              "secondary_cleaner.state.floatbank2_a_air      0.0\n",
              "secondary_cleaner.state.floatbank2_a_level    0.0\n",
              "secondary_cleaner.state.floatbank2_b_air      0.0\n",
              "secondary_cleaner.state.floatbank2_b_level    0.0\n",
              "secondary_cleaner.state.floatbank3_a_air      0.0\n",
              "secondary_cleaner.state.floatbank3_a_level    0.0\n",
              "secondary_cleaner.state.floatbank3_b_air      0.0\n",
              "secondary_cleaner.state.floatbank3_b_level    0.0\n",
              "secondary_cleaner.state.floatbank4_a_air      0.0\n",
              "secondary_cleaner.state.floatbank4_a_level    0.0\n",
              "secondary_cleaner.state.floatbank4_b_air      0.0\n",
              "secondary_cleaner.state.floatbank4_b_level    0.0\n",
              "secondary_cleaner.state.floatbank5_a_air      0.0\n",
              "secondary_cleaner.state.floatbank5_a_level    0.0\n",
              "secondary_cleaner.state.floatbank5_b_air      0.0\n",
              "secondary_cleaner.state.floatbank5_b_level    0.0\n",
              "secondary_cleaner.state.floatbank6_a_air      0.0\n",
              "secondary_cleaner.state.floatbank6_a_level    0.0\n",
              "dtype: float64"
            ]
          },
          "execution_count": 18,
          "metadata": {},
          "output_type": "execute_result"
        }
      ],
      "source": [
        "good_df_test = df_test.fillna(method='ffill')\n",
        "good_df_test.isna().mean()"
      ]
    },
    {
      "cell_type": "code",
      "execution_count": null,
      "metadata": {
        "id": "gGyfoldtiM6G",
        "outputId": "cc09ac0b-5212-4181-8e2e-43dce0a90e59"
      },
      "outputs": [
        {
          "data": {
            "text/plain": [
              "date                                          0.0\n",
              "final.output.concentrate_ag                   0.0\n",
              "final.output.concentrate_pb                   0.0\n",
              "final.output.concentrate_sol                  0.0\n",
              "final.output.concentrate_au                   0.0\n",
              "                                             ... \n",
              "secondary_cleaner.state.floatbank5_a_level    0.0\n",
              "secondary_cleaner.state.floatbank5_b_air      0.0\n",
              "secondary_cleaner.state.floatbank5_b_level    0.0\n",
              "secondary_cleaner.state.floatbank6_a_air      0.0\n",
              "secondary_cleaner.state.floatbank6_a_level    0.0\n",
              "Length: 87, dtype: float64"
            ]
          },
          "execution_count": 19,
          "metadata": {},
          "output_type": "execute_result"
        }
      ],
      "source": [
        "good_df_full = df_full.fillna(method='ffill')\n",
        "good_df_full.isna().mean()"
      ]
    },
    {
      "cell_type": "code",
      "execution_count": null,
      "metadata": {
        "id": "TjadjwUuiM6H",
        "outputId": "392dff2f-8628-4067-a191-7f39ba0b7092"
      },
      "outputs": [
        {
          "name": "stdout",
          "output_type": "stream",
          "text": [
            "<class 'pandas.core.frame.DataFrame'>\n",
            "RangeIndex: 14149 entries, 0 to 14148\n",
            "Data columns (total 87 columns):\n",
            " #   Column                                              Non-Null Count  Dtype  \n",
            "---  ------                                              --------------  -----  \n",
            " 0   date                                                14149 non-null  object \n",
            " 1   final.output.concentrate_ag                         14149 non-null  float64\n",
            " 2   final.output.concentrate_pb                         14149 non-null  float64\n",
            " 3   final.output.concentrate_sol                        14149 non-null  float64\n",
            " 4   final.output.concentrate_au                         14149 non-null  float64\n",
            " 5   final.output.recovery                               14149 non-null  float64\n",
            " 6   final.output.tail_ag                                14149 non-null  float64\n",
            " 7   final.output.tail_pb                                14149 non-null  float64\n",
            " 8   final.output.tail_sol                               14149 non-null  float64\n",
            " 9   final.output.tail_au                                14149 non-null  float64\n",
            " 10  primary_cleaner.input.sulfate                       14149 non-null  float64\n",
            " 11  primary_cleaner.input.depressant                    14149 non-null  float64\n",
            " 12  primary_cleaner.input.feed_size                     14149 non-null  float64\n",
            " 13  primary_cleaner.input.xanthate                      14149 non-null  float64\n",
            " 14  primary_cleaner.output.concentrate_ag               14149 non-null  float64\n",
            " 15  primary_cleaner.output.concentrate_pb               14149 non-null  float64\n",
            " 16  primary_cleaner.output.concentrate_sol              14149 non-null  float64\n",
            " 17  primary_cleaner.output.concentrate_au               14149 non-null  float64\n",
            " 18  primary_cleaner.output.tail_ag                      14149 non-null  float64\n",
            " 19  primary_cleaner.output.tail_pb                      14149 non-null  float64\n",
            " 20  primary_cleaner.output.tail_sol                     14149 non-null  float64\n",
            " 21  primary_cleaner.output.tail_au                      14149 non-null  float64\n",
            " 22  primary_cleaner.state.floatbank8_a_air              14149 non-null  float64\n",
            " 23  primary_cleaner.state.floatbank8_a_level            14149 non-null  float64\n",
            " 24  primary_cleaner.state.floatbank8_b_air              14149 non-null  float64\n",
            " 25  primary_cleaner.state.floatbank8_b_level            14149 non-null  float64\n",
            " 26  primary_cleaner.state.floatbank8_c_air              14149 non-null  float64\n",
            " 27  primary_cleaner.state.floatbank8_c_level            14149 non-null  float64\n",
            " 28  primary_cleaner.state.floatbank8_d_air              14149 non-null  float64\n",
            " 29  primary_cleaner.state.floatbank8_d_level            14149 non-null  float64\n",
            " 30  rougher.calculation.sulfate_to_au_concentrate       14149 non-null  float64\n",
            " 31  rougher.calculation.floatbank10_sulfate_to_au_feed  14149 non-null  float64\n",
            " 32  rougher.calculation.floatbank11_sulfate_to_au_feed  14149 non-null  float64\n",
            " 33  rougher.calculation.au_pb_ratio                     14149 non-null  float64\n",
            " 34  rougher.input.feed_ag                               14149 non-null  float64\n",
            " 35  rougher.input.feed_pb                               14149 non-null  float64\n",
            " 36  rougher.input.feed_rate                             14149 non-null  float64\n",
            " 37  rougher.input.feed_size                             14149 non-null  float64\n",
            " 38  rougher.input.feed_sol                              14149 non-null  float64\n",
            " 39  rougher.input.feed_au                               14149 non-null  float64\n",
            " 40  rougher.input.floatbank10_sulfate                   14149 non-null  float64\n",
            " 41  rougher.input.floatbank10_xanthate                  14149 non-null  float64\n",
            " 42  rougher.input.floatbank11_sulfate                   14149 non-null  float64\n",
            " 43  rougher.input.floatbank11_xanthate                  14149 non-null  float64\n",
            " 44  rougher.output.concentrate_ag                       14149 non-null  float64\n",
            " 45  rougher.output.concentrate_pb                       14149 non-null  float64\n",
            " 46  rougher.output.concentrate_sol                      14149 non-null  float64\n",
            " 47  rougher.output.concentrate_au                       14149 non-null  float64\n",
            " 48  rougher.output.recovery                             14149 non-null  float64\n",
            " 49  rougher.output.tail_ag                              14149 non-null  float64\n",
            " 50  rougher.output.tail_pb                              14149 non-null  float64\n",
            " 51  rougher.output.tail_sol                             14149 non-null  float64\n",
            " 52  rougher.output.tail_au                              14149 non-null  float64\n",
            " 53  rougher.state.floatbank10_a_air                     14149 non-null  float64\n",
            " 54  rougher.state.floatbank10_a_level                   14149 non-null  float64\n",
            " 55  rougher.state.floatbank10_b_air                     14149 non-null  float64\n",
            " 56  rougher.state.floatbank10_b_level                   14149 non-null  float64\n",
            " 57  rougher.state.floatbank10_c_air                     14149 non-null  float64\n",
            " 58  rougher.state.floatbank10_c_level                   14149 non-null  float64\n",
            " 59  rougher.state.floatbank10_d_air                     14149 non-null  float64\n",
            " 60  rougher.state.floatbank10_d_level                   14149 non-null  float64\n",
            " 61  rougher.state.floatbank10_e_air                     14149 non-null  float64\n",
            " 62  rougher.state.floatbank10_e_level                   14149 non-null  float64\n",
            " 63  rougher.state.floatbank10_f_air                     14149 non-null  float64\n",
            " 64  rougher.state.floatbank10_f_level                   14149 non-null  float64\n",
            " 65  secondary_cleaner.output.tail_ag                    14149 non-null  float64\n",
            " 66  secondary_cleaner.output.tail_pb                    14149 non-null  float64\n",
            " 67  secondary_cleaner.output.tail_sol                   14149 non-null  float64\n",
            " 68  secondary_cleaner.output.tail_au                    14149 non-null  float64\n",
            " 69  secondary_cleaner.state.floatbank2_a_air            14149 non-null  float64\n",
            " 70  secondary_cleaner.state.floatbank2_a_level          14149 non-null  float64\n",
            " 71  secondary_cleaner.state.floatbank2_b_air            14149 non-null  float64\n",
            " 72  secondary_cleaner.state.floatbank2_b_level          14149 non-null  float64\n",
            " 73  secondary_cleaner.state.floatbank3_a_air            14149 non-null  float64\n",
            " 74  secondary_cleaner.state.floatbank3_a_level          14149 non-null  float64\n",
            " 75  secondary_cleaner.state.floatbank3_b_air            14149 non-null  float64\n",
            " 76  secondary_cleaner.state.floatbank3_b_level          14149 non-null  float64\n",
            " 77  secondary_cleaner.state.floatbank4_a_air            14149 non-null  float64\n",
            " 78  secondary_cleaner.state.floatbank4_a_level          14149 non-null  float64\n",
            " 79  secondary_cleaner.state.floatbank4_b_air            14149 non-null  float64\n",
            " 80  secondary_cleaner.state.floatbank4_b_level          14149 non-null  float64\n",
            " 81  secondary_cleaner.state.floatbank5_a_air            14149 non-null  float64\n",
            " 82  secondary_cleaner.state.floatbank5_a_level          14149 non-null  float64\n",
            " 83  secondary_cleaner.state.floatbank5_b_air            14149 non-null  float64\n",
            " 84  secondary_cleaner.state.floatbank5_b_level          14149 non-null  float64\n",
            " 85  secondary_cleaner.state.floatbank6_a_air            14149 non-null  float64\n",
            " 86  secondary_cleaner.state.floatbank6_a_level          14149 non-null  float64\n",
            "dtypes: float64(86), object(1)\n",
            "memory usage: 9.4+ MB\n"
          ]
        }
      ],
      "source": [
        "good_df_train.info()"
      ]
    },
    {
      "cell_type": "code",
      "execution_count": null,
      "metadata": {
        "id": "4rfGznOmiM6H",
        "outputId": "16725cde-b5ef-4093-b20f-5b714f0ef08a"
      },
      "outputs": [
        {
          "name": "stdout",
          "output_type": "stream",
          "text": [
            "<class 'pandas.core.frame.DataFrame'>\n",
            "RangeIndex: 5290 entries, 0 to 5289\n",
            "Data columns (total 53 columns):\n",
            " #   Column                                      Non-Null Count  Dtype  \n",
            "---  ------                                      --------------  -----  \n",
            " 0   date                                        5290 non-null   object \n",
            " 1   primary_cleaner.input.sulfate               5290 non-null   float64\n",
            " 2   primary_cleaner.input.depressant            5290 non-null   float64\n",
            " 3   primary_cleaner.input.feed_size             5290 non-null   float64\n",
            " 4   primary_cleaner.input.xanthate              5290 non-null   float64\n",
            " 5   primary_cleaner.state.floatbank8_a_air      5290 non-null   float64\n",
            " 6   primary_cleaner.state.floatbank8_a_level    5290 non-null   float64\n",
            " 7   primary_cleaner.state.floatbank8_b_air      5290 non-null   float64\n",
            " 8   primary_cleaner.state.floatbank8_b_level    5290 non-null   float64\n",
            " 9   primary_cleaner.state.floatbank8_c_air      5290 non-null   float64\n",
            " 10  primary_cleaner.state.floatbank8_c_level    5290 non-null   float64\n",
            " 11  primary_cleaner.state.floatbank8_d_air      5290 non-null   float64\n",
            " 12  primary_cleaner.state.floatbank8_d_level    5290 non-null   float64\n",
            " 13  rougher.input.feed_ag                       5290 non-null   float64\n",
            " 14  rougher.input.feed_pb                       5290 non-null   float64\n",
            " 15  rougher.input.feed_rate                     5290 non-null   float64\n",
            " 16  rougher.input.feed_size                     5290 non-null   float64\n",
            " 17  rougher.input.feed_sol                      5290 non-null   float64\n",
            " 18  rougher.input.feed_au                       5290 non-null   float64\n",
            " 19  rougher.input.floatbank10_sulfate           5290 non-null   float64\n",
            " 20  rougher.input.floatbank10_xanthate          5290 non-null   float64\n",
            " 21  rougher.input.floatbank11_sulfate           5290 non-null   float64\n",
            " 22  rougher.input.floatbank11_xanthate          5290 non-null   float64\n",
            " 23  rougher.state.floatbank10_a_air             5290 non-null   float64\n",
            " 24  rougher.state.floatbank10_a_level           5290 non-null   float64\n",
            " 25  rougher.state.floatbank10_b_air             5290 non-null   float64\n",
            " 26  rougher.state.floatbank10_b_level           5290 non-null   float64\n",
            " 27  rougher.state.floatbank10_c_air             5290 non-null   float64\n",
            " 28  rougher.state.floatbank10_c_level           5290 non-null   float64\n",
            " 29  rougher.state.floatbank10_d_air             5290 non-null   float64\n",
            " 30  rougher.state.floatbank10_d_level           5290 non-null   float64\n",
            " 31  rougher.state.floatbank10_e_air             5290 non-null   float64\n",
            " 32  rougher.state.floatbank10_e_level           5290 non-null   float64\n",
            " 33  rougher.state.floatbank10_f_air             5290 non-null   float64\n",
            " 34  rougher.state.floatbank10_f_level           5290 non-null   float64\n",
            " 35  secondary_cleaner.state.floatbank2_a_air    5290 non-null   float64\n",
            " 36  secondary_cleaner.state.floatbank2_a_level  5290 non-null   float64\n",
            " 37  secondary_cleaner.state.floatbank2_b_air    5290 non-null   float64\n",
            " 38  secondary_cleaner.state.floatbank2_b_level  5290 non-null   float64\n",
            " 39  secondary_cleaner.state.floatbank3_a_air    5290 non-null   float64\n",
            " 40  secondary_cleaner.state.floatbank3_a_level  5290 non-null   float64\n",
            " 41  secondary_cleaner.state.floatbank3_b_air    5290 non-null   float64\n",
            " 42  secondary_cleaner.state.floatbank3_b_level  5290 non-null   float64\n",
            " 43  secondary_cleaner.state.floatbank4_a_air    5290 non-null   float64\n",
            " 44  secondary_cleaner.state.floatbank4_a_level  5290 non-null   float64\n",
            " 45  secondary_cleaner.state.floatbank4_b_air    5290 non-null   float64\n",
            " 46  secondary_cleaner.state.floatbank4_b_level  5290 non-null   float64\n",
            " 47  secondary_cleaner.state.floatbank5_a_air    5290 non-null   float64\n",
            " 48  secondary_cleaner.state.floatbank5_a_level  5290 non-null   float64\n",
            " 49  secondary_cleaner.state.floatbank5_b_air    5290 non-null   float64\n",
            " 50  secondary_cleaner.state.floatbank5_b_level  5290 non-null   float64\n",
            " 51  secondary_cleaner.state.floatbank6_a_air    5290 non-null   float64\n",
            " 52  secondary_cleaner.state.floatbank6_a_level  5290 non-null   float64\n",
            "dtypes: float64(52), object(1)\n",
            "memory usage: 2.1+ MB\n"
          ]
        }
      ],
      "source": [
        "good_df_test.info()"
      ]
    },
    {
      "cell_type": "code",
      "execution_count": null,
      "metadata": {
        "id": "3gKiGXZOiM6H",
        "outputId": "d31e6d1e-21e3-4161-bbb6-5f64d9e22bd2"
      },
      "outputs": [
        {
          "name": "stdout",
          "output_type": "stream",
          "text": [
            "<class 'pandas.core.frame.DataFrame'>\n",
            "RangeIndex: 19439 entries, 0 to 19438\n",
            "Data columns (total 87 columns):\n",
            " #   Column                                              Non-Null Count  Dtype  \n",
            "---  ------                                              --------------  -----  \n",
            " 0   date                                                19439 non-null  object \n",
            " 1   final.output.concentrate_ag                         19439 non-null  float64\n",
            " 2   final.output.concentrate_pb                         19439 non-null  float64\n",
            " 3   final.output.concentrate_sol                        19439 non-null  float64\n",
            " 4   final.output.concentrate_au                         19439 non-null  float64\n",
            " 5   final.output.recovery                               19439 non-null  float64\n",
            " 6   final.output.tail_ag                                19439 non-null  float64\n",
            " 7   final.output.tail_pb                                19439 non-null  float64\n",
            " 8   final.output.tail_sol                               19439 non-null  float64\n",
            " 9   final.output.tail_au                                19439 non-null  float64\n",
            " 10  primary_cleaner.input.sulfate                       19439 non-null  float64\n",
            " 11  primary_cleaner.input.depressant                    19439 non-null  float64\n",
            " 12  primary_cleaner.input.feed_size                     19439 non-null  float64\n",
            " 13  primary_cleaner.input.xanthate                      19439 non-null  float64\n",
            " 14  primary_cleaner.output.concentrate_ag               19439 non-null  float64\n",
            " 15  primary_cleaner.output.concentrate_pb               19439 non-null  float64\n",
            " 16  primary_cleaner.output.concentrate_sol              19439 non-null  float64\n",
            " 17  primary_cleaner.output.concentrate_au               19439 non-null  float64\n",
            " 18  primary_cleaner.output.tail_ag                      19439 non-null  float64\n",
            " 19  primary_cleaner.output.tail_pb                      19439 non-null  float64\n",
            " 20  primary_cleaner.output.tail_sol                     19439 non-null  float64\n",
            " 21  primary_cleaner.output.tail_au                      19439 non-null  float64\n",
            " 22  primary_cleaner.state.floatbank8_a_air              19439 non-null  float64\n",
            " 23  primary_cleaner.state.floatbank8_a_level            19439 non-null  float64\n",
            " 24  primary_cleaner.state.floatbank8_b_air              19439 non-null  float64\n",
            " 25  primary_cleaner.state.floatbank8_b_level            19439 non-null  float64\n",
            " 26  primary_cleaner.state.floatbank8_c_air              19439 non-null  float64\n",
            " 27  primary_cleaner.state.floatbank8_c_level            19439 non-null  float64\n",
            " 28  primary_cleaner.state.floatbank8_d_air              19439 non-null  float64\n",
            " 29  primary_cleaner.state.floatbank8_d_level            19439 non-null  float64\n",
            " 30  rougher.calculation.sulfate_to_au_concentrate       19439 non-null  float64\n",
            " 31  rougher.calculation.floatbank10_sulfate_to_au_feed  19439 non-null  float64\n",
            " 32  rougher.calculation.floatbank11_sulfate_to_au_feed  19439 non-null  float64\n",
            " 33  rougher.calculation.au_pb_ratio                     19439 non-null  float64\n",
            " 34  rougher.input.feed_ag                               19439 non-null  float64\n",
            " 35  rougher.input.feed_pb                               19439 non-null  float64\n",
            " 36  rougher.input.feed_rate                             19439 non-null  float64\n",
            " 37  rougher.input.feed_size                             19439 non-null  float64\n",
            " 38  rougher.input.feed_sol                              19439 non-null  float64\n",
            " 39  rougher.input.feed_au                               19439 non-null  float64\n",
            " 40  rougher.input.floatbank10_sulfate                   19439 non-null  float64\n",
            " 41  rougher.input.floatbank10_xanthate                  19439 non-null  float64\n",
            " 42  rougher.input.floatbank11_sulfate                   19439 non-null  float64\n",
            " 43  rougher.input.floatbank11_xanthate                  19439 non-null  float64\n",
            " 44  rougher.output.concentrate_ag                       19439 non-null  float64\n",
            " 45  rougher.output.concentrate_pb                       19439 non-null  float64\n",
            " 46  rougher.output.concentrate_sol                      19439 non-null  float64\n",
            " 47  rougher.output.concentrate_au                       19439 non-null  float64\n",
            " 48  rougher.output.recovery                             19439 non-null  float64\n",
            " 49  rougher.output.tail_ag                              19439 non-null  float64\n",
            " 50  rougher.output.tail_pb                              19439 non-null  float64\n",
            " 51  rougher.output.tail_sol                             19439 non-null  float64\n",
            " 52  rougher.output.tail_au                              19439 non-null  float64\n",
            " 53  rougher.state.floatbank10_a_air                     19439 non-null  float64\n",
            " 54  rougher.state.floatbank10_a_level                   19439 non-null  float64\n",
            " 55  rougher.state.floatbank10_b_air                     19439 non-null  float64\n",
            " 56  rougher.state.floatbank10_b_level                   19439 non-null  float64\n",
            " 57  rougher.state.floatbank10_c_air                     19439 non-null  float64\n",
            " 58  rougher.state.floatbank10_c_level                   19439 non-null  float64\n",
            " 59  rougher.state.floatbank10_d_air                     19439 non-null  float64\n",
            " 60  rougher.state.floatbank10_d_level                   19439 non-null  float64\n",
            " 61  rougher.state.floatbank10_e_air                     19439 non-null  float64\n",
            " 62  rougher.state.floatbank10_e_level                   19439 non-null  float64\n",
            " 63  rougher.state.floatbank10_f_air                     19439 non-null  float64\n",
            " 64  rougher.state.floatbank10_f_level                   19439 non-null  float64\n",
            " 65  secondary_cleaner.output.tail_ag                    19439 non-null  float64\n",
            " 66  secondary_cleaner.output.tail_pb                    19439 non-null  float64\n",
            " 67  secondary_cleaner.output.tail_sol                   19439 non-null  float64\n",
            " 68  secondary_cleaner.output.tail_au                    19439 non-null  float64\n",
            " 69  secondary_cleaner.state.floatbank2_a_air            19439 non-null  float64\n",
            " 70  secondary_cleaner.state.floatbank2_a_level          19439 non-null  float64\n",
            " 71  secondary_cleaner.state.floatbank2_b_air            19439 non-null  float64\n",
            " 72  secondary_cleaner.state.floatbank2_b_level          19439 non-null  float64\n",
            " 73  secondary_cleaner.state.floatbank3_a_air            19439 non-null  float64\n",
            " 74  secondary_cleaner.state.floatbank3_a_level          19439 non-null  float64\n",
            " 75  secondary_cleaner.state.floatbank3_b_air            19439 non-null  float64\n",
            " 76  secondary_cleaner.state.floatbank3_b_level          19439 non-null  float64\n",
            " 77  secondary_cleaner.state.floatbank4_a_air            19439 non-null  float64\n",
            " 78  secondary_cleaner.state.floatbank4_a_level          19439 non-null  float64\n",
            " 79  secondary_cleaner.state.floatbank4_b_air            19439 non-null  float64\n",
            " 80  secondary_cleaner.state.floatbank4_b_level          19439 non-null  float64\n",
            " 81  secondary_cleaner.state.floatbank5_a_air            19439 non-null  float64\n",
            " 82  secondary_cleaner.state.floatbank5_a_level          19439 non-null  float64\n",
            " 83  secondary_cleaner.state.floatbank5_b_air            19439 non-null  float64\n",
            " 84  secondary_cleaner.state.floatbank5_b_level          19439 non-null  float64\n",
            " 85  secondary_cleaner.state.floatbank6_a_air            19439 non-null  float64\n",
            " 86  secondary_cleaner.state.floatbank6_a_level          19439 non-null  float64\n",
            "dtypes: float64(86), object(1)\n",
            "memory usage: 12.9+ MB\n"
          ]
        }
      ],
      "source": [
        "good_df_full.info()"
      ]
    },
    {
      "cell_type": "markdown",
      "metadata": {
        "id": "kRsSCIUviM6I"
      },
      "source": [
        "<div class=\"alert alert-info\">\n",
        "<h2> Комментарий :<a class=\"tocSkip\"> </h2>\n",
        "    \n",
        "<br> В данных присутвовали аномалии:\n",
        "\n",
        "<br>Пропущенные значение\n",
        "\n",
        "<br>Данные пропущенные значения были заменены на соседние,так как соседние по времени параметры часто похожи.\n",
        "\n",
        "    \n",
        "</div>\n",
        "\n",
        "\n"
      ]
    },
    {
      "cell_type": "markdown",
      "metadata": {
        "id": "G5qZFCU4iM6I"
      },
      "source": [
        "В качестве подготовки данных необходимо добавить целевые признаки в тестовую выборку из полного датасета (rougher.output.recovery и final.output.recovery), а так же удалить лишние столбцы из обучающей выборки."
      ]
    },
    {
      "cell_type": "code",
      "execution_count": null,
      "metadata": {
        "id": "TQK_SML-iM6J"
      },
      "outputs": [],
      "source": [
        "good_df_test = good_df_test.merge(good_df_full[['date','rougher.output.recovery','final.output.recovery']], on = 'date', how = 'left')"
      ]
    },
    {
      "cell_type": "code",
      "execution_count": null,
      "metadata": {
        "id": "GHty7BskiM6J",
        "outputId": "2543b42d-1322-4718-cfc6-1ae9525c60c1"
      },
      "outputs": [
        {
          "data": {
            "text/html": [
              "<div>\n",
              "<style scoped>\n",
              "    .dataframe tbody tr th:only-of-type {\n",
              "        vertical-align: middle;\n",
              "    }\n",
              "\n",
              "    .dataframe tbody tr th {\n",
              "        vertical-align: top;\n",
              "    }\n",
              "\n",
              "    .dataframe thead th {\n",
              "        text-align: right;\n",
              "    }\n",
              "</style>\n",
              "<table border=\"1\" class=\"dataframe\">\n",
              "  <thead>\n",
              "    <tr style=\"text-align: right;\">\n",
              "      <th></th>\n",
              "      <th>date</th>\n",
              "      <th>primary_cleaner.input.sulfate</th>\n",
              "      <th>primary_cleaner.input.depressant</th>\n",
              "      <th>primary_cleaner.input.feed_size</th>\n",
              "      <th>primary_cleaner.input.xanthate</th>\n",
              "      <th>primary_cleaner.state.floatbank8_a_air</th>\n",
              "      <th>primary_cleaner.state.floatbank8_a_level</th>\n",
              "      <th>primary_cleaner.state.floatbank8_b_air</th>\n",
              "      <th>primary_cleaner.state.floatbank8_b_level</th>\n",
              "      <th>primary_cleaner.state.floatbank8_c_air</th>\n",
              "      <th>...</th>\n",
              "      <th>secondary_cleaner.state.floatbank4_b_air</th>\n",
              "      <th>secondary_cleaner.state.floatbank4_b_level</th>\n",
              "      <th>secondary_cleaner.state.floatbank5_a_air</th>\n",
              "      <th>secondary_cleaner.state.floatbank5_a_level</th>\n",
              "      <th>secondary_cleaner.state.floatbank5_b_air</th>\n",
              "      <th>secondary_cleaner.state.floatbank5_b_level</th>\n",
              "      <th>secondary_cleaner.state.floatbank6_a_air</th>\n",
              "      <th>secondary_cleaner.state.floatbank6_a_level</th>\n",
              "      <th>rougher.output.recovery</th>\n",
              "      <th>final.output.recovery</th>\n",
              "    </tr>\n",
              "  </thead>\n",
              "  <tbody>\n",
              "    <tr>\n",
              "      <th>0</th>\n",
              "      <td>2016-09-01 00:59:59</td>\n",
              "      <td>210.800909</td>\n",
              "      <td>14.993118</td>\n",
              "      <td>8.080000</td>\n",
              "      <td>1.005021</td>\n",
              "      <td>1398.981301</td>\n",
              "      <td>-500.225577</td>\n",
              "      <td>1399.144926</td>\n",
              "      <td>-499.919735</td>\n",
              "      <td>1400.102998</td>\n",
              "      <td>...</td>\n",
              "      <td>8.016656</td>\n",
              "      <td>-501.289139</td>\n",
              "      <td>7.946562</td>\n",
              "      <td>-432.317850</td>\n",
              "      <td>4.872511</td>\n",
              "      <td>-500.037437</td>\n",
              "      <td>26.705889</td>\n",
              "      <td>-499.709414</td>\n",
              "      <td>89.993421</td>\n",
              "      <td>70.273583</td>\n",
              "    </tr>\n",
              "    <tr>\n",
              "      <th>1</th>\n",
              "      <td>2016-09-01 01:59:59</td>\n",
              "      <td>215.392455</td>\n",
              "      <td>14.987471</td>\n",
              "      <td>8.080000</td>\n",
              "      <td>0.990469</td>\n",
              "      <td>1398.777912</td>\n",
              "      <td>-500.057435</td>\n",
              "      <td>1398.055362</td>\n",
              "      <td>-499.778182</td>\n",
              "      <td>1396.151033</td>\n",
              "      <td>...</td>\n",
              "      <td>8.130979</td>\n",
              "      <td>-499.634209</td>\n",
              "      <td>7.958270</td>\n",
              "      <td>-525.839648</td>\n",
              "      <td>4.878850</td>\n",
              "      <td>-500.162375</td>\n",
              "      <td>25.019940</td>\n",
              "      <td>-499.819438</td>\n",
              "      <td>88.089657</td>\n",
              "      <td>68.910432</td>\n",
              "    </tr>\n",
              "    <tr>\n",
              "      <th>2</th>\n",
              "      <td>2016-09-01 02:59:59</td>\n",
              "      <td>215.259946</td>\n",
              "      <td>12.884934</td>\n",
              "      <td>7.786667</td>\n",
              "      <td>0.996043</td>\n",
              "      <td>1398.493666</td>\n",
              "      <td>-500.868360</td>\n",
              "      <td>1398.860436</td>\n",
              "      <td>-499.764529</td>\n",
              "      <td>1398.075709</td>\n",
              "      <td>...</td>\n",
              "      <td>8.096893</td>\n",
              "      <td>-500.827423</td>\n",
              "      <td>8.071056</td>\n",
              "      <td>-500.801673</td>\n",
              "      <td>4.905125</td>\n",
              "      <td>-499.828510</td>\n",
              "      <td>24.994862</td>\n",
              "      <td>-500.622559</td>\n",
              "      <td>88.412756</td>\n",
              "      <td>68.143213</td>\n",
              "    </tr>\n",
              "    <tr>\n",
              "      <th>3</th>\n",
              "      <td>2016-09-01 03:59:59</td>\n",
              "      <td>215.336236</td>\n",
              "      <td>12.006805</td>\n",
              "      <td>7.640000</td>\n",
              "      <td>0.863514</td>\n",
              "      <td>1399.618111</td>\n",
              "      <td>-498.863574</td>\n",
              "      <td>1397.440120</td>\n",
              "      <td>-499.211024</td>\n",
              "      <td>1400.129303</td>\n",
              "      <td>...</td>\n",
              "      <td>8.074946</td>\n",
              "      <td>-499.474407</td>\n",
              "      <td>7.897085</td>\n",
              "      <td>-500.868509</td>\n",
              "      <td>4.931400</td>\n",
              "      <td>-499.963623</td>\n",
              "      <td>24.948919</td>\n",
              "      <td>-498.709987</td>\n",
              "      <td>87.360133</td>\n",
              "      <td>67.776393</td>\n",
              "    </tr>\n",
              "    <tr>\n",
              "      <th>4</th>\n",
              "      <td>2016-09-01 04:59:59</td>\n",
              "      <td>199.099327</td>\n",
              "      <td>10.682530</td>\n",
              "      <td>7.530000</td>\n",
              "      <td>0.805575</td>\n",
              "      <td>1401.268123</td>\n",
              "      <td>-500.808305</td>\n",
              "      <td>1398.128818</td>\n",
              "      <td>-499.504543</td>\n",
              "      <td>1402.172226</td>\n",
              "      <td>...</td>\n",
              "      <td>8.054678</td>\n",
              "      <td>-500.397500</td>\n",
              "      <td>8.107890</td>\n",
              "      <td>-509.526725</td>\n",
              "      <td>4.957674</td>\n",
              "      <td>-500.360026</td>\n",
              "      <td>25.003331</td>\n",
              "      <td>-500.856333</td>\n",
              "      <td>83.236367</td>\n",
              "      <td>61.467078</td>\n",
              "    </tr>\n",
              "  </tbody>\n",
              "</table>\n",
              "<p>5 rows × 55 columns</p>\n",
              "</div>"
            ],
            "text/plain": [
              "                  date  primary_cleaner.input.sulfate  \\\n",
              "0  2016-09-01 00:59:59                     210.800909   \n",
              "1  2016-09-01 01:59:59                     215.392455   \n",
              "2  2016-09-01 02:59:59                     215.259946   \n",
              "3  2016-09-01 03:59:59                     215.336236   \n",
              "4  2016-09-01 04:59:59                     199.099327   \n",
              "\n",
              "   primary_cleaner.input.depressant  primary_cleaner.input.feed_size  \\\n",
              "0                         14.993118                         8.080000   \n",
              "1                         14.987471                         8.080000   \n",
              "2                         12.884934                         7.786667   \n",
              "3                         12.006805                         7.640000   \n",
              "4                         10.682530                         7.530000   \n",
              "\n",
              "   primary_cleaner.input.xanthate  primary_cleaner.state.floatbank8_a_air  \\\n",
              "0                        1.005021                             1398.981301   \n",
              "1                        0.990469                             1398.777912   \n",
              "2                        0.996043                             1398.493666   \n",
              "3                        0.863514                             1399.618111   \n",
              "4                        0.805575                             1401.268123   \n",
              "\n",
              "   primary_cleaner.state.floatbank8_a_level  \\\n",
              "0                               -500.225577   \n",
              "1                               -500.057435   \n",
              "2                               -500.868360   \n",
              "3                               -498.863574   \n",
              "4                               -500.808305   \n",
              "\n",
              "   primary_cleaner.state.floatbank8_b_air  \\\n",
              "0                             1399.144926   \n",
              "1                             1398.055362   \n",
              "2                             1398.860436   \n",
              "3                             1397.440120   \n",
              "4                             1398.128818   \n",
              "\n",
              "   primary_cleaner.state.floatbank8_b_level  \\\n",
              "0                               -499.919735   \n",
              "1                               -499.778182   \n",
              "2                               -499.764529   \n",
              "3                               -499.211024   \n",
              "4                               -499.504543   \n",
              "\n",
              "   primary_cleaner.state.floatbank8_c_air  ...  \\\n",
              "0                             1400.102998  ...   \n",
              "1                             1396.151033  ...   \n",
              "2                             1398.075709  ...   \n",
              "3                             1400.129303  ...   \n",
              "4                             1402.172226  ...   \n",
              "\n",
              "   secondary_cleaner.state.floatbank4_b_air  \\\n",
              "0                                  8.016656   \n",
              "1                                  8.130979   \n",
              "2                                  8.096893   \n",
              "3                                  8.074946   \n",
              "4                                  8.054678   \n",
              "\n",
              "   secondary_cleaner.state.floatbank4_b_level  \\\n",
              "0                                 -501.289139   \n",
              "1                                 -499.634209   \n",
              "2                                 -500.827423   \n",
              "3                                 -499.474407   \n",
              "4                                 -500.397500   \n",
              "\n",
              "   secondary_cleaner.state.floatbank5_a_air  \\\n",
              "0                                  7.946562   \n",
              "1                                  7.958270   \n",
              "2                                  8.071056   \n",
              "3                                  7.897085   \n",
              "4                                  8.107890   \n",
              "\n",
              "   secondary_cleaner.state.floatbank5_a_level  \\\n",
              "0                                 -432.317850   \n",
              "1                                 -525.839648   \n",
              "2                                 -500.801673   \n",
              "3                                 -500.868509   \n",
              "4                                 -509.526725   \n",
              "\n",
              "   secondary_cleaner.state.floatbank5_b_air  \\\n",
              "0                                  4.872511   \n",
              "1                                  4.878850   \n",
              "2                                  4.905125   \n",
              "3                                  4.931400   \n",
              "4                                  4.957674   \n",
              "\n",
              "   secondary_cleaner.state.floatbank5_b_level  \\\n",
              "0                                 -500.037437   \n",
              "1                                 -500.162375   \n",
              "2                                 -499.828510   \n",
              "3                                 -499.963623   \n",
              "4                                 -500.360026   \n",
              "\n",
              "   secondary_cleaner.state.floatbank6_a_air  \\\n",
              "0                                 26.705889   \n",
              "1                                 25.019940   \n",
              "2                                 24.994862   \n",
              "3                                 24.948919   \n",
              "4                                 25.003331   \n",
              "\n",
              "   secondary_cleaner.state.floatbank6_a_level  rougher.output.recovery  \\\n",
              "0                                 -499.709414                89.993421   \n",
              "1                                 -499.819438                88.089657   \n",
              "2                                 -500.622559                88.412756   \n",
              "3                                 -498.709987                87.360133   \n",
              "4                                 -500.856333                83.236367   \n",
              "\n",
              "   final.output.recovery  \n",
              "0              70.273583  \n",
              "1              68.910432  \n",
              "2              68.143213  \n",
              "3              67.776393  \n",
              "4              61.467078  \n",
              "\n",
              "[5 rows x 55 columns]"
            ]
          },
          "execution_count": 24,
          "metadata": {},
          "output_type": "execute_result"
        }
      ],
      "source": [
        "good_df_test.head()"
      ]
    },
    {
      "cell_type": "code",
      "execution_count": null,
      "metadata": {
        "id": "isB4oUzqiM6J",
        "outputId": "6a2c3ede-cfc7-4606-a694-eb4e1368d736"
      },
      "outputs": [
        {
          "data": {
            "text/html": [
              "<div>\n",
              "<style scoped>\n",
              "    .dataframe tbody tr th:only-of-type {\n",
              "        vertical-align: middle;\n",
              "    }\n",
              "\n",
              "    .dataframe tbody tr th {\n",
              "        vertical-align: top;\n",
              "    }\n",
              "\n",
              "    .dataframe thead th {\n",
              "        text-align: right;\n",
              "    }\n",
              "</style>\n",
              "<table border=\"1\" class=\"dataframe\">\n",
              "  <thead>\n",
              "    <tr style=\"text-align: right;\">\n",
              "      <th></th>\n",
              "      <th>date</th>\n",
              "      <th>primary_cleaner.input.sulfate</th>\n",
              "      <th>primary_cleaner.input.depressant</th>\n",
              "      <th>primary_cleaner.input.feed_size</th>\n",
              "      <th>primary_cleaner.input.xanthate</th>\n",
              "      <th>primary_cleaner.state.floatbank8_a_air</th>\n",
              "      <th>primary_cleaner.state.floatbank8_a_level</th>\n",
              "      <th>primary_cleaner.state.floatbank8_b_air</th>\n",
              "      <th>primary_cleaner.state.floatbank8_b_level</th>\n",
              "      <th>primary_cleaner.state.floatbank8_c_air</th>\n",
              "      <th>...</th>\n",
              "      <th>secondary_cleaner.state.floatbank4_b_air</th>\n",
              "      <th>secondary_cleaner.state.floatbank4_b_level</th>\n",
              "      <th>secondary_cleaner.state.floatbank5_a_air</th>\n",
              "      <th>secondary_cleaner.state.floatbank5_a_level</th>\n",
              "      <th>secondary_cleaner.state.floatbank5_b_air</th>\n",
              "      <th>secondary_cleaner.state.floatbank5_b_level</th>\n",
              "      <th>secondary_cleaner.state.floatbank6_a_air</th>\n",
              "      <th>secondary_cleaner.state.floatbank6_a_level</th>\n",
              "      <th>rougher.output.recovery</th>\n",
              "      <th>final.output.recovery</th>\n",
              "    </tr>\n",
              "  </thead>\n",
              "  <tbody>\n",
              "    <tr>\n",
              "      <th>0</th>\n",
              "      <td>2016-01-15 00:00:00</td>\n",
              "      <td>127.092003</td>\n",
              "      <td>10.128295</td>\n",
              "      <td>7.25</td>\n",
              "      <td>0.988759</td>\n",
              "      <td>1549.775757</td>\n",
              "      <td>-498.912140</td>\n",
              "      <td>1551.434204</td>\n",
              "      <td>-516.403442</td>\n",
              "      <td>1549.873901</td>\n",
              "      <td>...</td>\n",
              "      <td>12.099931</td>\n",
              "      <td>-504.715942</td>\n",
              "      <td>9.925633</td>\n",
              "      <td>-498.310211</td>\n",
              "      <td>8.079666</td>\n",
              "      <td>-500.470978</td>\n",
              "      <td>14.151341</td>\n",
              "      <td>-605.841980</td>\n",
              "      <td>87.107763</td>\n",
              "      <td>70.541216</td>\n",
              "    </tr>\n",
              "    <tr>\n",
              "      <th>1</th>\n",
              "      <td>2016-01-15 01:00:00</td>\n",
              "      <td>125.629232</td>\n",
              "      <td>10.296251</td>\n",
              "      <td>7.25</td>\n",
              "      <td>1.002663</td>\n",
              "      <td>1576.166671</td>\n",
              "      <td>-500.904965</td>\n",
              "      <td>1575.950626</td>\n",
              "      <td>-499.865889</td>\n",
              "      <td>1575.994189</td>\n",
              "      <td>...</td>\n",
              "      <td>11.950531</td>\n",
              "      <td>-501.331529</td>\n",
              "      <td>10.039245</td>\n",
              "      <td>-500.169983</td>\n",
              "      <td>7.984757</td>\n",
              "      <td>-500.582168</td>\n",
              "      <td>13.998353</td>\n",
              "      <td>-599.787184</td>\n",
              "      <td>86.843261</td>\n",
              "      <td>69.266198</td>\n",
              "    </tr>\n",
              "    <tr>\n",
              "      <th>2</th>\n",
              "      <td>2016-01-15 02:00:00</td>\n",
              "      <td>123.819808</td>\n",
              "      <td>11.316280</td>\n",
              "      <td>7.25</td>\n",
              "      <td>0.991265</td>\n",
              "      <td>1601.556163</td>\n",
              "      <td>-499.997791</td>\n",
              "      <td>1600.386685</td>\n",
              "      <td>-500.607762</td>\n",
              "      <td>1602.003542</td>\n",
              "      <td>...</td>\n",
              "      <td>11.912783</td>\n",
              "      <td>-501.133383</td>\n",
              "      <td>10.070913</td>\n",
              "      <td>-500.129135</td>\n",
              "      <td>8.013877</td>\n",
              "      <td>-500.517572</td>\n",
              "      <td>14.028663</td>\n",
              "      <td>-601.427363</td>\n",
              "      <td>86.842308</td>\n",
              "      <td>68.116445</td>\n",
              "    </tr>\n",
              "    <tr>\n",
              "      <th>3</th>\n",
              "      <td>2016-01-15 03:00:00</td>\n",
              "      <td>122.270188</td>\n",
              "      <td>11.322140</td>\n",
              "      <td>7.25</td>\n",
              "      <td>0.996739</td>\n",
              "      <td>1599.968720</td>\n",
              "      <td>-500.951778</td>\n",
              "      <td>1600.659236</td>\n",
              "      <td>-499.677094</td>\n",
              "      <td>1600.304144</td>\n",
              "      <td>...</td>\n",
              "      <td>11.999550</td>\n",
              "      <td>-501.193686</td>\n",
              "      <td>9.970366</td>\n",
              "      <td>-499.201640</td>\n",
              "      <td>7.977324</td>\n",
              "      <td>-500.255908</td>\n",
              "      <td>14.005551</td>\n",
              "      <td>-599.996129</td>\n",
              "      <td>87.226430</td>\n",
              "      <td>68.347543</td>\n",
              "    </tr>\n",
              "    <tr>\n",
              "      <th>4</th>\n",
              "      <td>2016-01-15 04:00:00</td>\n",
              "      <td>117.988169</td>\n",
              "      <td>11.913613</td>\n",
              "      <td>7.25</td>\n",
              "      <td>1.009869</td>\n",
              "      <td>1601.339707</td>\n",
              "      <td>-498.975456</td>\n",
              "      <td>1601.437854</td>\n",
              "      <td>-500.323246</td>\n",
              "      <td>1599.581894</td>\n",
              "      <td>...</td>\n",
              "      <td>11.953070</td>\n",
              "      <td>-501.053894</td>\n",
              "      <td>9.925709</td>\n",
              "      <td>-501.686727</td>\n",
              "      <td>7.894242</td>\n",
              "      <td>-500.356035</td>\n",
              "      <td>13.996647</td>\n",
              "      <td>-601.496691</td>\n",
              "      <td>86.688794</td>\n",
              "      <td>66.927016</td>\n",
              "    </tr>\n",
              "  </tbody>\n",
              "</table>\n",
              "<p>5 rows × 55 columns</p>\n",
              "</div>"
            ],
            "text/plain": [
              "                  date  primary_cleaner.input.sulfate  \\\n",
              "0  2016-01-15 00:00:00                     127.092003   \n",
              "1  2016-01-15 01:00:00                     125.629232   \n",
              "2  2016-01-15 02:00:00                     123.819808   \n",
              "3  2016-01-15 03:00:00                     122.270188   \n",
              "4  2016-01-15 04:00:00                     117.988169   \n",
              "\n",
              "   primary_cleaner.input.depressant  primary_cleaner.input.feed_size  \\\n",
              "0                         10.128295                             7.25   \n",
              "1                         10.296251                             7.25   \n",
              "2                         11.316280                             7.25   \n",
              "3                         11.322140                             7.25   \n",
              "4                         11.913613                             7.25   \n",
              "\n",
              "   primary_cleaner.input.xanthate  primary_cleaner.state.floatbank8_a_air  \\\n",
              "0                        0.988759                             1549.775757   \n",
              "1                        1.002663                             1576.166671   \n",
              "2                        0.991265                             1601.556163   \n",
              "3                        0.996739                             1599.968720   \n",
              "4                        1.009869                             1601.339707   \n",
              "\n",
              "   primary_cleaner.state.floatbank8_a_level  \\\n",
              "0                               -498.912140   \n",
              "1                               -500.904965   \n",
              "2                               -499.997791   \n",
              "3                               -500.951778   \n",
              "4                               -498.975456   \n",
              "\n",
              "   primary_cleaner.state.floatbank8_b_air  \\\n",
              "0                             1551.434204   \n",
              "1                             1575.950626   \n",
              "2                             1600.386685   \n",
              "3                             1600.659236   \n",
              "4                             1601.437854   \n",
              "\n",
              "   primary_cleaner.state.floatbank8_b_level  \\\n",
              "0                               -516.403442   \n",
              "1                               -499.865889   \n",
              "2                               -500.607762   \n",
              "3                               -499.677094   \n",
              "4                               -500.323246   \n",
              "\n",
              "   primary_cleaner.state.floatbank8_c_air  ...  \\\n",
              "0                             1549.873901  ...   \n",
              "1                             1575.994189  ...   \n",
              "2                             1602.003542  ...   \n",
              "3                             1600.304144  ...   \n",
              "4                             1599.581894  ...   \n",
              "\n",
              "   secondary_cleaner.state.floatbank4_b_air  \\\n",
              "0                                 12.099931   \n",
              "1                                 11.950531   \n",
              "2                                 11.912783   \n",
              "3                                 11.999550   \n",
              "4                                 11.953070   \n",
              "\n",
              "   secondary_cleaner.state.floatbank4_b_level  \\\n",
              "0                                 -504.715942   \n",
              "1                                 -501.331529   \n",
              "2                                 -501.133383   \n",
              "3                                 -501.193686   \n",
              "4                                 -501.053894   \n",
              "\n",
              "   secondary_cleaner.state.floatbank5_a_air  \\\n",
              "0                                  9.925633   \n",
              "1                                 10.039245   \n",
              "2                                 10.070913   \n",
              "3                                  9.970366   \n",
              "4                                  9.925709   \n",
              "\n",
              "   secondary_cleaner.state.floatbank5_a_level  \\\n",
              "0                                 -498.310211   \n",
              "1                                 -500.169983   \n",
              "2                                 -500.129135   \n",
              "3                                 -499.201640   \n",
              "4                                 -501.686727   \n",
              "\n",
              "   secondary_cleaner.state.floatbank5_b_air  \\\n",
              "0                                  8.079666   \n",
              "1                                  7.984757   \n",
              "2                                  8.013877   \n",
              "3                                  7.977324   \n",
              "4                                  7.894242   \n",
              "\n",
              "   secondary_cleaner.state.floatbank5_b_level  \\\n",
              "0                                 -500.470978   \n",
              "1                                 -500.582168   \n",
              "2                                 -500.517572   \n",
              "3                                 -500.255908   \n",
              "4                                 -500.356035   \n",
              "\n",
              "   secondary_cleaner.state.floatbank6_a_air  \\\n",
              "0                                 14.151341   \n",
              "1                                 13.998353   \n",
              "2                                 14.028663   \n",
              "3                                 14.005551   \n",
              "4                                 13.996647   \n",
              "\n",
              "   secondary_cleaner.state.floatbank6_a_level  rougher.output.recovery  \\\n",
              "0                                 -605.841980                87.107763   \n",
              "1                                 -599.787184                86.843261   \n",
              "2                                 -601.427363                86.842308   \n",
              "3                                 -599.996129                87.226430   \n",
              "4                                 -601.496691                86.688794   \n",
              "\n",
              "   final.output.recovery  \n",
              "0              70.541216  \n",
              "1              69.266198  \n",
              "2              68.116445  \n",
              "3              68.347543  \n",
              "4              66.927016  \n",
              "\n",
              "[5 rows x 55 columns]"
            ]
          },
          "execution_count": 25,
          "metadata": {},
          "output_type": "execute_result"
        }
      ],
      "source": [
        "good_df_train = good_df_train[good_df_test.columns]\n",
        "good_df_train.head()"
      ]
    },
    {
      "cell_type": "markdown",
      "metadata": {
        "id": "Xz_LlzW5iM6L"
      },
      "source": [
        "**Комментарий**\n",
        "\n",
        "В результате работы по первому разделу работы, мы получили готовую к машинному обучению тестовую и обучающую выборки."
      ]
    },
    {
      "cell_type": "markdown",
      "metadata": {
        "id": "pr8L9BZ1iM6M"
      },
      "source": [
        "## Анализ данных"
      ]
    },
    {
      "cell_type": "markdown",
      "metadata": {
        "id": "Xou3e0qfiM6M"
      },
      "source": [
        "# Анализ изменения концентрация металлов (Au, Ag, Pb) на различных этапах очистки"
      ]
    },
    {
      "cell_type": "code",
      "execution_count": null,
      "metadata": {
        "id": "Qjx1gEULiM6M",
        "outputId": "b95c9336-291b-4dbb-b463-950dc1a7a56d"
      },
      "outputs": [
        {
          "data": {
            "text/html": [
              "<div>\n",
              "<style scoped>\n",
              "    .dataframe tbody tr th:only-of-type {\n",
              "        vertical-align: middle;\n",
              "    }\n",
              "\n",
              "    .dataframe tbody tr th {\n",
              "        vertical-align: top;\n",
              "    }\n",
              "\n",
              "    .dataframe thead th {\n",
              "        text-align: right;\n",
              "    }\n",
              "</style>\n",
              "<table border=\"1\" class=\"dataframe\">\n",
              "  <thead>\n",
              "    <tr style=\"text-align: right;\">\n",
              "      <th></th>\n",
              "      <th>Au</th>\n",
              "      <th>Ag</th>\n",
              "      <th>Pb</th>\n",
              "    </tr>\n",
              "  </thead>\n",
              "  <tbody>\n",
              "    <tr>\n",
              "      <th>rougher</th>\n",
              "      <td>19.772000</td>\n",
              "      <td>11.994759</td>\n",
              "      <td>7.606272</td>\n",
              "    </tr>\n",
              "    <tr>\n",
              "      <th>primary_cleaner</th>\n",
              "      <td>32.119400</td>\n",
              "      <td>8.442408</td>\n",
              "      <td>9.810317</td>\n",
              "    </tr>\n",
              "    <tr>\n",
              "      <th>final</th>\n",
              "      <td>44.076513</td>\n",
              "      <td>5.168387</td>\n",
              "      <td>9.978821</td>\n",
              "    </tr>\n",
              "  </tbody>\n",
              "</table>\n",
              "</div>"
            ],
            "text/plain": [
              "                        Au         Ag        Pb\n",
              "rougher          19.772000  11.994759  7.606272\n",
              "primary_cleaner  32.119400   8.442408  9.810317\n",
              "final            44.076513   5.168387  9.978821"
            ]
          },
          "execution_count": 26,
          "metadata": {},
          "output_type": "execute_result"
        }
      ],
      "source": [
        "concentration = pd.DataFrame([\n",
        "    [\n",
        "        good_df_full['rougher.output.concentrate_au'].mean(),\n",
        "        good_df_full['rougher.output.concentrate_ag'].mean(),\n",
        "        good_df_full['rougher.output.concentrate_pb'].mean(),\n",
        "    ],                             \n",
        "    [\n",
        "        good_df_full['primary_cleaner.output.concentrate_au'].mean(),\n",
        "        good_df_full['primary_cleaner.output.concentrate_ag'].mean(),\n",
        "        good_df_full['primary_cleaner.output.concentrate_pb'].mean(),\n",
        "        \n",
        "    ],                             \n",
        "    [\n",
        "        good_df_full['final.output.concentrate_au'].mean(),\n",
        "        good_df_full['final.output.concentrate_ag'].mean(),\n",
        "        good_df_full['final.output.concentrate_pb'].mean(),\n",
        "    ]\n",
        "],\n",
        "    columns=['Au','Ag','Pb'], \n",
        "    index = ['rougher','primary_cleaner','final'])\n",
        "\n",
        "concentration"
      ]
    },
    {
      "cell_type": "markdown",
      "metadata": {
        "id": "hEqFpMChiM6N"
      },
      "source": [
        "**Выводы:**\n",
        "\n",
        " - Концентрация Au (золота) растет на протяжеии всех этапов и в конце становится больше, чем в начале\n",
        " - Концентрация Ag (серебра) падает начиная с этапа флотации\n",
        " - Концентрация Pb (свинца) медленно растет на протяжении всех этапов очистки\n",
        " \n",
        " Проиллюстрируем это на графике "
      ]
    },
    {
      "cell_type": "code",
      "execution_count": null,
      "metadata": {
        "id": "1kzyMYzuiM6N",
        "outputId": "127c97bd-b0fb-4824-859e-f38c1637843c"
      },
      "outputs": [
        {
          "data": {
            "image/png": "[encoded data removed]",
            "text/plain": [
              "<Figure size 1800x648 with 1 Axes>"
            ]
          },
          "metadata": {
            "needs_background": "light"
          },
          "output_type": "display_data"
        },
        {
          "data": {
            "image/png": "[encoded data removed]",
            "text/plain": [
              "<Figure size 1800x648 with 1 Axes>"
            ]
          },
          "metadata": {
            "needs_background": "light"
          },
          "output_type": "display_data"
        },
        {
          "data": {
            "image/png": "[encoded data removed]",
            "text/plain": [
              "<Figure size 1800x648 with 1 Axes>"
            ]
          },
          "metadata": {
            "needs_background": "light"
          },
          "output_type": "display_data"
        }
      ],
      "source": [
        "for i in METALS:\n",
        "    metrics = ['{}_{}'.format(x, i) for x in CONCENTRATE_METRICS]\n",
        "    \n",
        "    good_df_full[metrics].plot(\n",
        "        title = 'Изменение концентрации на разных этапах очистки для {}'.format(i.upper()),\n",
        "        kind='hist', \n",
        "        bins=150, \n",
        "        grid=True, \n",
        "        legend=True,\n",
        "        figsize=(25, 9),\n",
        "        alpha=1,\n",
        "    ).set(xlabel='concentrate') \n",
        "    \n",
        "    plt.show()\n",
        "    "
      ]
    },
    {
      "cell_type": "markdown",
      "metadata": {
        "id": "Gmf-_d5EiM6O"
      },
      "source": [
        "# Сравнение распределения размеров гранул сырья на обучающей и тестовой выборках"
      ]
    },
    {
      "cell_type": "code",
      "execution_count": null,
      "metadata": {
        "id": "GJO4HB4ZiM6O",
        "outputId": "3419837d-019d-4393-b2a8-187498309f0b"
      },
      "outputs": [
        {
          "data": {
            "image/png": "[encoded data removed]",
            "text/plain": [
              "<Figure size 432x288 with 1 Axes>"
            ]
          },
          "metadata": {
            "needs_background": "light"
          },
          "output_type": "display_data"
        }
      ],
      "source": [
        "\n",
        "y1 = good_df_train['rougher.input.feed_size']\n",
        "  \n",
        "\n",
        "y2 = good_df_test['rougher.input.feed_size']\n",
        "  \n",
        "  \n",
        "plt.hist(y1,50)\n",
        "plt.hist(y2,50)\n",
        "  \n",
        " \n",
        "plt.legend([\"train\", \"test\"], loc =\"lower right\")\n",
        "plt.title ('rougher.input.feed_size')\n",
        "plt.xlabel('concentrate')\n",
        "\n",
        "plt.show()"
      ]
    },
    {
      "cell_type": "markdown",
      "metadata": {
        "id": "8QwlW44uiM6P"
      },
      "source": [
        "**Выводы:**\n",
        "\n",
        " У обучающей и тестовой выборки разные средние значения, но вид распределения размеров гранул сырья совпадают,а значит оценка модели будет правильной."
      ]
    },
    {
      "cell_type": "markdown",
      "metadata": {
        "id": "cQ-eoFAeiM6Q"
      },
      "source": [
        "# Исследование суммарной концентрации всех веществ на разных стадиях: в сырье, в черновом и финальном концентратах"
      ]
    },
    {
      "cell_type": "code",
      "execution_count": null,
      "metadata": {
        "id": "DNeKkZQ8iM6Q",
        "outputId": "ee8ad6de-9a03-49ae-de81-0dcabc21b6db"
      },
      "outputs": [
        {
          "name": "stderr",
          "output_type": "stream",
          "text": [
            "No handles with labels found to put in legend.\n"
          ]
        },
        {
          "data": {
            "image/png": "[encoded data removed]",
            "text/plain": [
              "<Figure size 1224x288 with 4 Axes>"
            ]
          },
          "metadata": {
            "needs_background": "light"
          },
          "output_type": "display_data"
        }
      ],
      "source": [
        "process = ['rougher.input.feed',\n",
        "           'rougher.output.concentrate',\n",
        "           'primary_cleaner.output.concentrate',\n",
        "           'final.output.concentrate']\n",
        "fig, axs = plt.subplots(1, len(process), figsize=(17, 4), constrained_layout=True)\n",
        "fig.suptitle('Суммарные концентрации металлов по процессам', fontsize=40)\n",
        "for stage, ax in zip(process, axs):\n",
        "    ax.set_title(stage)\n",
        "    sum_good_df_full = good_df_full[stage+ '_ag'] + good_df_full[stage+ '_au'] + good_df_full[stage+ '_pb']+good_df_full[stage+ '_sol']\n",
        "    sns.distplot(sum_good_df_full, ax=ax) \n",
        "\n",
        "   \n",
        "    \n",
        "\n",
        "plt.legend()\n",
        "plt.show()"
      ]
    },
    {
      "cell_type": "markdown",
      "metadata": {
        "id": "vWMWpacNiM6R"
      },
      "source": [
        "**Выводы**\n",
        " - Очевидно, что с каждым следующим этапом очистки суммарная концентрация веществ растет. Однако, видны аномалии на отметке 0. Эти значения стоит удалить, т.к. вещество не может весить 0 граммов, и это, вероятнее всего, ошибка измерений."
      ]
    },
    {
      "cell_type": "code",
      "execution_count": null,
      "metadata": {
        "id": "rDLAqKMriM6U"
      },
      "outputs": [],
      "source": [
        "good_df_full = good_df_full[\n",
        "    (\n",
        "        (good_df_full['rougher.output.concentrate_ag'] + \n",
        "         good_df_full['rougher.output.concentrate_pb'] + \n",
        "         good_df_full['rougher.output.concentrate_sol'] + \n",
        "         good_df_full['rougher.output.concentrate_au'])>0\n",
        "    ) & (\n",
        "        (good_df_full['final.output.concentrate_ag'] + \n",
        "         good_df_full['final.output.concentrate_pb'] + \n",
        "         good_df_full['final.output.concentrate_sol'] + \n",
        "         good_df_full['final.output.concentrate_au'])>0\n",
        "    ) & (\n",
        "        (good_df_full['rougher.input.feed_ag'] + \n",
        "         good_df_full['rougher.input.feed_pb'] + \n",
        "         good_df_full['rougher.input.feed_sol'] + \n",
        "         good_df_full['rougher.input.feed_au'])>0\n",
        "    ) & (\n",
        "        (good_df_full['primary_cleaner.output.concentrate_ag'] + \n",
        "         good_df_full['primary_cleaner.output.concentrate_pb'] + \n",
        "         good_df_full['primary_cleaner.output.concentrate_sol'] + \n",
        "         good_df_full['primary_cleaner.output.concentrate_au'])>0\n",
        "    ) \n",
        "]"
      ]
    },
    {
      "cell_type": "code",
      "execution_count": null,
      "metadata": {
        "id": "GcPC6AEFiM6V",
        "outputId": "a506cf42-d94b-4432-e807-b1218b3ba591"
      },
      "outputs": [
        {
          "name": "stdout",
          "output_type": "stream",
          "text": [
            "(14149, 55)\n",
            "(13725, 55)\n",
            "(5123, 55)\n"
          ]
        }
      ],
      "source": [
        "print(good_df_train.shape)\n",
        "good_df_train = good_df_train[good_df_train['date'].isin(good_df_full['date'])]\n",
        "good_df_test = good_df_test[good_df_test['date'].isin(good_df_full['date'])]\n",
        "#good_df_train[good_df_train['primary_cleaner.output.concentrate_au'] == 0].head()\n",
        "print(good_df_train.shape)\n",
        "print(good_df_test.shape)"
      ]
    },
    {
      "cell_type": "markdown",
      "metadata": {
        "id": "A9cKMyX0iM6W"
      },
      "source": [
        "## Модель"
      ]
    },
    {
      "cell_type": "markdown",
      "metadata": {
        "id": "EemxuoAniM6X"
      },
      "source": [
        "# Функция для вычисления итоговой sMAPE"
      ]
    },
    {
      "cell_type": "markdown",
      "metadata": {
        "id": "UAeQZiTfiM6X"
      },
      "source": [
        "Напишем функции для вычисления sMAPE и итоговой sMAPE"
      ]
    },
    {
      "cell_type": "code",
      "execution_count": null,
      "metadata": {
        "id": "OCXzkLlZiM6Y"
      },
      "outputs": [],
      "source": [
        "def  smape(target,prediction):\n",
        "    n  = len(target)\n",
        "    return (((np.abs((target-prediction))/((np.abs(target)+np.abs(prediction))/2)).sum()) * 100 / n)\n",
        "        \n",
        "  \n",
        "        \n",
        "  \n",
        "            \n",
        "    "
      ]
    },
    {
      "cell_type": "code",
      "execution_count": null,
      "metadata": {
        "id": "IJBkSnDhiM6Y"
      },
      "outputs": [],
      "source": [
        "def end_smape(rougher_smape, final_smape):\n",
        "    return 0.25 * rougher_smape + 0.75 * final_smape"
      ]
    },
    {
      "cell_type": "code",
      "execution_count": null,
      "metadata": {
        "id": "SfyKhCepiM6a"
      },
      "outputs": [],
      "source": [
        "smape_scorer = make_scorer(smape, greater_is_better=False) "
      ]
    },
    {
      "cell_type": "code",
      "execution_count": null,
      "metadata": {
        "id": "SujJHzuDiM6a"
      },
      "outputs": [],
      "source": [
        "features_train = good_df_train.drop(['rougher.output.recovery','final.output.recovery','date'], axis=1)\n",
        "target_train_1 = good_df_train['rougher.output.recovery']\n",
        "target_train_2 = good_df_train['final.output.recovery']\n",
        "\n",
        "\n",
        "features_test = good_df_test.drop(['rougher.output.recovery','final.output.recovery','date'], axis=1)\n",
        "target_test_1 = good_df_test['rougher.output.recovery']\n",
        "target_test_2 = good_df_test['final.output.recovery']"
      ]
    },
    {
      "cell_type": "markdown",
      "metadata": {
        "id": "7AnZ9w__iM6b"
      },
      "source": [
        "Так как нужно предсказать численное значение, следовательно перед нами задача регрессии. Поэтому применяем модели связанные с регрессией\n",
        "\n",
        " - Линейная регрессия\n",
        "- DecisionTreeRegressor\n",
        " - RandomForestRegressor"
      ]
    },
    {
      "cell_type": "code",
      "execution_count": null,
      "metadata": {
        "id": "k-8AZtgwiM6b",
        "outputId": "55aae7b0-23a0-45c5-9c0c-6deeba698e42"
      },
      "outputs": [
        {
          "name": "stdout",
          "output_type": "stream",
          "text": [
            "Лучшее значение sMAPE для дерева решений: 7.313442159829718 при значениях гиперпараметров: {'max_depth': 4}\n"
          ]
        }
      ],
      "source": [
        "param_grid = {'max_depth': range(2, 11)}\n",
        "             \n",
        "\n",
        "model = DecisionTreeRegressor(random_state=RANDOM_STATE)\n",
        "search = GridSearchCV(model, param_grid, cv=5, scoring=smape_scorer)\n",
        "search.fit(features_train, target_train_1)\n",
        "print('Лучшее значение sMAPE для дерева решений: {} при значениях гиперпараметров: {}'.format(-search.best_score_, search.best_params_))"
      ]
    },
    {
      "cell_type": "code",
      "execution_count": null,
      "metadata": {
        "id": "OEk2MqlciM6c",
        "outputId": "d825105c-1339-49c9-8174-484ea49b2195"
      },
      "outputs": [
        {
          "name": "stdout",
          "output_type": "stream",
          "text": [
            "Лучшее значение sMAPE для дерева решений: 9.440354196471514 при значениях гиперпараметров: {'max_depth': 3}\n"
          ]
        }
      ],
      "source": [
        "param_grid = {'max_depth': range(2, 11)}\n",
        "\n",
        "model = DecisionTreeRegressor(random_state=RANDOM_STATE)\n",
        "search = GridSearchCV(model, param_grid, cv=5, scoring=smape_scorer)\n",
        "search.fit(features_train, target_train_2)\n",
        "print('Лучшее значение sMAPE для дерева решений: {} при значениях гиперпараметров: {}'.format(-search.best_score_, search.best_params_))"
      ]
    },
    {
      "cell_type": "code",
      "execution_count": null,
      "metadata": {
        "id": "Wh_9SVqbiM6c",
        "outputId": "a3a508f9-f99d-41b7-b385-f010d8a879c3"
      },
      "outputs": [
        {
          "name": "stdout",
          "output_type": "stream",
          "text": [
            "Лучшее значение sMAPE для линейной регрессии: 7.2656960475660055\n"
          ]
        }
      ],
      "source": [
        "model = LinearRegression()\n",
        "model.fit(features_train, target_train_1)\n",
        "smapes = cross_val_score(model, features_train, target_train_1, cv=5, scoring=smape_scorer).mean()\n",
        "print('Лучшее значение sMAPE для линейной регрессии:', -smapes)"
      ]
    },
    {
      "cell_type": "code",
      "execution_count": null,
      "metadata": {
        "id": "N5xr9mg-iM6c",
        "outputId": "ef2d25f5-ccb5-4f01-bce2-d91b9c3619c8"
      },
      "outputs": [
        {
          "name": "stdout",
          "output_type": "stream",
          "text": [
            "Лучшее значение sMAPE для линейной регрессии: 10.950532500993102\n"
          ]
        }
      ],
      "source": [
        "model = LinearRegression()\n",
        "model.fit(features_train, target_train_2)\n",
        "smapes = cross_val_score(model, features_train, target_train_2, cv=5, scoring=smape_scorer).mean()\n",
        "print('Лучшее значение sMAPE для линейной регрессии:', -smapes)"
      ]
    },
    {
      "cell_type": "code",
      "execution_count": null,
      "metadata": {
        "id": "RfEAZlnciM6d",
        "outputId": "b89bb8fe-d85a-4774-b9e7-f6fc741a6990"
      },
      "outputs": [
        {
          "name": "stdout",
          "output_type": "stream",
          "text": [
            "Лучшее значение sMAPE для случайного леса: 6.688645193822163 при значениях гиперпараметров: {'max_depth': 3, 'n_estimators': 10}\n"
          ]
        }
      ],
      "source": [
        "param_grid = {'n_estimators': range(10, 31, 10),'max_depth': range(2, 11)}\n",
        "\n",
        "model = RandomForestRegressor(random_state=RANDOM_STATE)\n",
        "search = GridSearchCV(model, param_grid, cv=5, scoring=smape_scorer)\n",
        "search.fit(features_train, target_train_1)\n",
        "print('Лучшее значение sMAPE для случайного леса: {} при значениях гиперпараметров: {}'.format(-search.best_score_, search.best_params_))"
      ]
    },
    {
      "cell_type": "code",
      "execution_count": null,
      "metadata": {
        "id": "rXsXlCcuiM6f",
        "outputId": "5fd2abad-c0b4-47c0-f56f-6b28da1afcf8"
      },
      "outputs": [
        {
          "name": "stdout",
          "output_type": "stream",
          "text": [
            "Лучшее значение sMAPE для случайного леса: 9.029458341035504 при значениях гиперпараметров: {'max_depth': 4, 'n_estimators': 30}\n"
          ]
        }
      ],
      "source": [
        "param_grid = {'n_estimators': range(10, 31, 10),'max_depth': range(2, 11)}\n",
        "\n",
        "model = RandomForestRegressor(random_state=RANDOM_STATE)\n",
        "search = GridSearchCV(model, param_grid, cv=5, scoring=smape_scorer)\n",
        "search.fit(features_train, target_train_2)\n",
        "print('Лучшее значение sMAPE для случайного леса: {} при значениях гиперпараметров: {}'.format(-search.best_score_, search.best_params_))"
      ]
    },
    {
      "cell_type": "code",
      "execution_count": null,
      "metadata": {
        "id": "oW4p0tKbiM6f"
      },
      "outputs": [],
      "source": [
        "model = RandomForestRegressor(max_depth=3, n_estimators=10, random_state=RANDOM_STATE)\n",
        "model_rougher=model.fit(features_train, target_train_1)\n",
        "predictions_rougher =model_rougher.predict(features_test)"
      ]
    },
    {
      "cell_type": "code",
      "execution_count": null,
      "metadata": {
        "id": "v-NIGh6UiM6f",
        "outputId": "7a058a09-709f-460f-a90a-4653d38f6b76"
      },
      "outputs": [
        {
          "name": "stdout",
          "output_type": "stream",
          "text": [
            "7.15887454454165\n"
          ]
        }
      ],
      "source": [
        "model = RandomForestRegressor(max_depth=3, n_estimators=10, random_state=RANDOM_STATE)\n",
        "model_final = model.fit(features_train, target_train_2)\n",
        "\n",
        "predictions_final = model_final.predict(features_test)\n",
        "\n",
        "result = end_smape(smape(target_test_1,predictions_rougher),smape(target_test_2,predictions_final))\n",
        "print(result)\n"
      ]
    },
    {
      "cell_type": "markdown",
      "metadata": {
        "id": "U-PtnVQRiM6g"
      },
      "source": [
        "# Инициализируем и обучим константную модель"
      ]
    },
    {
      "cell_type": "code",
      "execution_count": null,
      "metadata": {
        "id": "MDkeVCuViM6g",
        "outputId": "14352363-a80f-441d-c452-f5965665f26c"
      },
      "outputs": [
        {
          "name": "stdout",
          "output_type": "stream",
          "text": [
            "12.43952350124749\n"
          ]
        }
      ],
      "source": [
        "model_dr = DummyRegressor(strategy=\"median\")\n",
        "model_rougher_dr=model_dr.fit(features_train, target_train_1)\n",
        "model_final_dr = model_dr.fit(features_train, target_train_2)\n",
        "\n",
        "predictions_rougher_dr =model_rougher_dr.predict(features_test)\n",
        "predictions_final_dr = model_final_dr.predict(features_test)\n",
        "\n",
        "results = end_smape(smape(target_test_1,predictions_rougher_dr),smape(target_test_2,predictions_final_dr))\n",
        "\n",
        "print(results)"
      ]
    },
    {
      "cell_type": "markdown",
      "metadata": {
        "id": "Do5pEpjQiM6h"
      },
      "source": [
        "В ходе работы над проектом были выполнены все поставленные задачи. А именно:\n",
        "\n",
        "мы обработали данные, убрали из обучающей выборки лишние колонки, добавили в тестовую выборку таргеты, заполнили пропуски в датасетах;\n",
        "отчистили данные от вбросов;\n",
        "анализ графиков наглядно показал концентрацию полезных веществ на разных этапах очистки;\n",
        "было принято решение избавиться от нулевых значений суммарных концентраций веществ;\n",
        "\n",
        "\n",
        "**Вывод после сравнения результатов**\n",
        "случайный лес дал лучшее значение итогового sMAPE среди других моделей- 7.15887454454165\n",
        "Ошибка на тесте приемлемая, так как она меньше чем на константном алгоритме\n",
        "\n",
        "\n",
        "\n"
      ]
    },
    {
      "cell_type": "markdown",
      "metadata": {
        "id": "Hq6kicm-iM6j"
      },
      "source": [
        "## Чек-лист готовности проекта"
      ]
    },
    {
      "cell_type": "markdown",
      "metadata": {
        "id": "fEZu3k-XiM6j"
      },
      "source": [
        "- [x]  Jupyter Notebook открыт\n",
        "- [ ]  Весь код выполняется без ошибок\n",
        "- [ ]  Ячейки с кодом расположены в порядке выполнения\n",
        "- [ ]  Выполнен шаг 1: данные подготовлены\n",
        "    - [ ]  Проверена формула вычисления эффективности обогащения\n",
        "    - [ ]  Проанализированы признаки, недоступные в тестовой выборке\n",
        "    - [ ]  Проведена предобработка данных\n",
        "- [ ]  Выполнен шаг 2: данные проанализированы\n",
        "    - [ ]  Исследовано изменение концентрации элементов на каждом этапе\n",
        "    - [ ]  Проанализированы распределения размеров гранул на обучающей и тестовой выборках\n",
        "    - [ ]  Исследованы суммарные концентрации\n",
        "- [ ]  Выполнен шаг 3: построена модель прогнозирования\n",
        "    - [ ]  Написана функция для вычисления итогового *sMAPE*\n",
        "    - [ ]  Обучено и проверено несколько моделей\n",
        "    - [ ]  Выбрана лучшая модель, её качество проверено на тестовой выборке"
      ]
    },
    {
      "cell_type": "code",
      "execution_count": null,
      "metadata": {
        "id": "2UgwsF8tiM6l"
      },
      "outputs": [],
      "source": []
    }
  ],
  "metadata": {
    "ExecuteTimeLog": [
      {
        "duration": 1463,
        "start_time": "2022-08-30T08:04:53.041Z"
      },
      {
        "duration": 143,
        "start_time": "2022-08-30T08:07:59.070Z"
      },
      {
        "duration": 3315,
        "start_time": "2022-08-30T08:08:25.732Z"
      },
      {
        "duration": 4,
        "start_time": "2022-08-30T08:13:15.880Z"
      },
      {
        "duration": 3104,
        "start_time": "2022-08-30T08:14:18.966Z"
      },
      {
        "duration": 4,
        "start_time": "2022-08-30T08:14:49.221Z"
      },
      {
        "duration": 3088,
        "start_time": "2022-08-30T08:14:50.032Z"
      },
      {
        "duration": 3,
        "start_time": "2022-08-30T08:15:20.761Z"
      },
      {
        "duration": 3280,
        "start_time": "2022-08-30T08:15:21.449Z"
      },
      {
        "duration": 27,
        "start_time": "2022-08-30T09:13:53.912Z"
      },
      {
        "duration": 29,
        "start_time": "2022-08-30T09:14:48.323Z"
      },
      {
        "duration": 16,
        "start_time": "2022-08-30T09:15:16.511Z"
      },
      {
        "duration": 651,
        "start_time": "2022-08-30T09:16:53.306Z"
      },
      {
        "duration": 1468,
        "start_time": "2022-08-30T09:17:26.093Z"
      },
      {
        "duration": 704,
        "start_time": "2022-08-30T09:17:27.564Z"
      },
      {
        "duration": 32,
        "start_time": "2022-08-30T09:17:28.270Z"
      },
      {
        "duration": 15,
        "start_time": "2022-08-30T09:17:28.304Z"
      },
      {
        "duration": 24,
        "start_time": "2022-08-30T09:17:28.321Z"
      },
      {
        "duration": 12,
        "start_time": "2022-08-30T09:17:28.347Z"
      },
      {
        "duration": 28,
        "start_time": "2022-08-30T09:17:28.387Z"
      },
      {
        "duration": 15,
        "start_time": "2022-08-30T09:17:28.416Z"
      },
      {
        "duration": 3,
        "start_time": "2022-08-30T09:19:21.448Z"
      },
      {
        "duration": 149,
        "start_time": "2022-08-30T09:20:10.338Z"
      },
      {
        "duration": 48,
        "start_time": "2022-08-30T09:20:53.035Z"
      },
      {
        "duration": 4,
        "start_time": "2022-08-30T09:20:58.163Z"
      },
      {
        "duration": 214,
        "start_time": "2022-08-30T09:20:58.879Z"
      },
      {
        "duration": 80,
        "start_time": "2022-08-30T09:24:00.630Z"
      },
      {
        "duration": 190,
        "start_time": "2022-08-30T09:24:09.565Z"
      },
      {
        "duration": 4,
        "start_time": "2022-08-30T09:27:35.925Z"
      },
      {
        "duration": 110,
        "start_time": "2022-08-30T09:27:37.438Z"
      },
      {
        "duration": 3,
        "start_time": "2022-08-30T09:28:03.615Z"
      },
      {
        "duration": 204,
        "start_time": "2022-08-30T09:28:04.714Z"
      },
      {
        "duration": 1268,
        "start_time": "2022-08-30T09:28:22.132Z"
      },
      {
        "duration": 667,
        "start_time": "2022-08-30T09:28:23.402Z"
      },
      {
        "duration": 31,
        "start_time": "2022-08-30T09:28:24.070Z"
      },
      {
        "duration": 16,
        "start_time": "2022-08-30T09:28:24.103Z"
      },
      {
        "duration": 26,
        "start_time": "2022-08-30T09:28:24.120Z"
      },
      {
        "duration": 11,
        "start_time": "2022-08-30T09:28:24.147Z"
      },
      {
        "duration": 51,
        "start_time": "2022-08-30T09:28:24.159Z"
      },
      {
        "duration": 14,
        "start_time": "2022-08-30T09:28:24.212Z"
      },
      {
        "duration": 3,
        "start_time": "2022-08-30T09:28:24.228Z"
      },
      {
        "duration": 254,
        "start_time": "2022-08-30T09:28:24.233Z"
      },
      {
        "duration": 115,
        "start_time": "2022-08-30T09:28:24.489Z"
      },
      {
        "duration": 219,
        "start_time": "2022-08-30T09:28:24.606Z"
      },
      {
        "duration": 320,
        "start_time": "2022-08-30T09:31:44.794Z"
      },
      {
        "duration": 4,
        "start_time": "2022-08-30T13:04:50.368Z"
      },
      {
        "duration": 11,
        "start_time": "2022-08-30T13:06:12.909Z"
      },
      {
        "duration": 5,
        "start_time": "2022-08-30T13:07:08.142Z"
      },
      {
        "duration": 114,
        "start_time": "2022-08-30T13:09:49.253Z"
      },
      {
        "duration": 1522,
        "start_time": "2022-08-30T13:10:38.833Z"
      },
      {
        "duration": 0,
        "start_time": "2022-08-30T13:10:40.357Z"
      },
      {
        "duration": 0,
        "start_time": "2022-08-30T13:10:40.359Z"
      },
      {
        "duration": 0,
        "start_time": "2022-08-30T13:10:40.360Z"
      },
      {
        "duration": 0,
        "start_time": "2022-08-30T13:10:40.361Z"
      },
      {
        "duration": 0,
        "start_time": "2022-08-30T13:10:40.362Z"
      },
      {
        "duration": 0,
        "start_time": "2022-08-30T13:10:40.363Z"
      },
      {
        "duration": 0,
        "start_time": "2022-08-30T13:10:40.364Z"
      },
      {
        "duration": 0,
        "start_time": "2022-08-30T13:10:40.366Z"
      },
      {
        "duration": 0,
        "start_time": "2022-08-30T13:10:40.368Z"
      },
      {
        "duration": 1,
        "start_time": "2022-08-30T13:10:40.370Z"
      },
      {
        "duration": 0,
        "start_time": "2022-08-30T13:10:40.371Z"
      },
      {
        "duration": 0,
        "start_time": "2022-08-30T13:10:40.373Z"
      },
      {
        "duration": 0,
        "start_time": "2022-08-30T13:10:40.386Z"
      },
      {
        "duration": 0,
        "start_time": "2022-08-30T13:10:40.394Z"
      },
      {
        "duration": 1551,
        "start_time": "2022-08-30T13:11:23.765Z"
      },
      {
        "duration": 0,
        "start_time": "2022-08-30T13:11:25.320Z"
      },
      {
        "duration": 0,
        "start_time": "2022-08-30T13:11:25.321Z"
      },
      {
        "duration": 0,
        "start_time": "2022-08-30T13:11:25.322Z"
      },
      {
        "duration": 0,
        "start_time": "2022-08-30T13:11:25.324Z"
      },
      {
        "duration": 0,
        "start_time": "2022-08-30T13:11:25.325Z"
      },
      {
        "duration": 0,
        "start_time": "2022-08-30T13:11:25.326Z"
      },
      {
        "duration": 0,
        "start_time": "2022-08-30T13:11:25.327Z"
      },
      {
        "duration": 0,
        "start_time": "2022-08-30T13:11:25.328Z"
      },
      {
        "duration": 0,
        "start_time": "2022-08-30T13:11:25.330Z"
      },
      {
        "duration": 0,
        "start_time": "2022-08-30T13:11:25.331Z"
      },
      {
        "duration": 0,
        "start_time": "2022-08-30T13:11:25.332Z"
      },
      {
        "duration": 0,
        "start_time": "2022-08-30T13:11:25.333Z"
      },
      {
        "duration": 0,
        "start_time": "2022-08-30T13:11:25.334Z"
      },
      {
        "duration": 0,
        "start_time": "2022-08-30T13:11:25.335Z"
      },
      {
        "duration": 1390,
        "start_time": "2022-08-30T13:12:38.199Z"
      },
      {
        "duration": 0,
        "start_time": "2022-08-30T13:12:39.594Z"
      },
      {
        "duration": 0,
        "start_time": "2022-08-30T13:12:39.595Z"
      },
      {
        "duration": 0,
        "start_time": "2022-08-30T13:12:39.595Z"
      },
      {
        "duration": 0,
        "start_time": "2022-08-30T13:12:39.596Z"
      },
      {
        "duration": 0,
        "start_time": "2022-08-30T13:12:39.597Z"
      },
      {
        "duration": 0,
        "start_time": "2022-08-30T13:12:39.598Z"
      },
      {
        "duration": 0,
        "start_time": "2022-08-30T13:12:39.603Z"
      },
      {
        "duration": 0,
        "start_time": "2022-08-30T13:12:39.605Z"
      },
      {
        "duration": 0,
        "start_time": "2022-08-30T13:12:39.606Z"
      },
      {
        "duration": 0,
        "start_time": "2022-08-30T13:12:39.608Z"
      },
      {
        "duration": 0,
        "start_time": "2022-08-30T13:12:39.610Z"
      },
      {
        "duration": 0,
        "start_time": "2022-08-30T13:12:39.611Z"
      },
      {
        "duration": 0,
        "start_time": "2022-08-30T13:12:39.613Z"
      },
      {
        "duration": 0,
        "start_time": "2022-08-30T13:12:39.614Z"
      },
      {
        "duration": 233,
        "start_time": "2022-08-30T13:13:29.764Z"
      },
      {
        "duration": 1276,
        "start_time": "2022-08-30T13:13:37.076Z"
      },
      {
        "duration": 635,
        "start_time": "2022-08-30T13:13:38.354Z"
      },
      {
        "duration": 35,
        "start_time": "2022-08-30T13:13:38.991Z"
      },
      {
        "duration": 16,
        "start_time": "2022-08-30T13:13:39.027Z"
      },
      {
        "duration": 44,
        "start_time": "2022-08-30T13:13:39.044Z"
      },
      {
        "duration": 12,
        "start_time": "2022-08-30T13:13:39.089Z"
      },
      {
        "duration": 31,
        "start_time": "2022-08-30T13:13:39.103Z"
      },
      {
        "duration": 16,
        "start_time": "2022-08-30T13:13:39.135Z"
      },
      {
        "duration": 3,
        "start_time": "2022-08-30T13:13:39.153Z"
      },
      {
        "duration": 248,
        "start_time": "2022-08-30T13:13:39.158Z"
      },
      {
        "duration": 105,
        "start_time": "2022-08-30T13:13:39.408Z"
      },
      {
        "duration": 212,
        "start_time": "2022-08-30T13:13:39.514Z"
      },
      {
        "duration": 3,
        "start_time": "2022-08-30T13:13:39.728Z"
      },
      {
        "duration": 16,
        "start_time": "2022-08-30T13:13:39.733Z"
      },
      {
        "duration": 4,
        "start_time": "2022-08-30T13:13:39.750Z"
      },
      {
        "duration": 100,
        "start_time": "2022-08-30T13:16:19.665Z"
      },
      {
        "duration": 8,
        "start_time": "2022-08-30T13:16:36.692Z"
      },
      {
        "duration": 11,
        "start_time": "2022-08-30T13:17:06.037Z"
      },
      {
        "duration": 5,
        "start_time": "2022-08-30T13:17:09.357Z"
      },
      {
        "duration": 7,
        "start_time": "2022-08-30T13:17:10.464Z"
      },
      {
        "duration": 1364,
        "start_time": "2022-08-30T13:17:43.758Z"
      },
      {
        "duration": 668,
        "start_time": "2022-08-30T13:17:45.124Z"
      },
      {
        "duration": 42,
        "start_time": "2022-08-30T13:17:45.794Z"
      },
      {
        "duration": 19,
        "start_time": "2022-08-30T13:17:45.838Z"
      },
      {
        "duration": 44,
        "start_time": "2022-08-30T13:17:45.858Z"
      },
      {
        "duration": 12,
        "start_time": "2022-08-30T13:17:45.903Z"
      },
      {
        "duration": 26,
        "start_time": "2022-08-30T13:17:45.917Z"
      },
      {
        "duration": 16,
        "start_time": "2022-08-30T13:17:45.945Z"
      },
      {
        "duration": 4,
        "start_time": "2022-08-30T13:17:45.987Z"
      },
      {
        "duration": 239,
        "start_time": "2022-08-30T13:17:45.993Z"
      },
      {
        "duration": 151,
        "start_time": "2022-08-30T13:17:46.236Z"
      },
      {
        "duration": 252,
        "start_time": "2022-08-30T13:17:46.389Z"
      },
      {
        "duration": 3,
        "start_time": "2022-08-30T13:17:46.643Z"
      },
      {
        "duration": 16,
        "start_time": "2022-08-30T13:17:46.648Z"
      },
      {
        "duration": 23,
        "start_time": "2022-08-30T13:17:46.666Z"
      },
      {
        "duration": 4,
        "start_time": "2022-08-30T14:08:51.908Z"
      },
      {
        "duration": 4,
        "start_time": "2022-08-30T14:09:13.870Z"
      },
      {
        "duration": 106,
        "start_time": "2022-08-30T14:09:36.047Z"
      },
      {
        "duration": 4,
        "start_time": "2022-08-30T14:09:41.721Z"
      },
      {
        "duration": 9,
        "start_time": "2022-08-30T14:12:34.286Z"
      },
      {
        "duration": 10,
        "start_time": "2022-08-30T14:12:49.052Z"
      },
      {
        "duration": 45,
        "start_time": "2022-08-30T14:13:22.513Z"
      },
      {
        "duration": 9,
        "start_time": "2022-08-30T14:13:28.795Z"
      },
      {
        "duration": 12,
        "start_time": "2022-08-30T14:13:54.488Z"
      },
      {
        "duration": 5,
        "start_time": "2022-08-30T14:14:23.842Z"
      },
      {
        "duration": 5,
        "start_time": "2022-08-30T14:16:49.690Z"
      },
      {
        "duration": 4,
        "start_time": "2022-08-30T14:17:17.680Z"
      },
      {
        "duration": 9,
        "start_time": "2022-08-30T14:18:24.537Z"
      },
      {
        "duration": 9,
        "start_time": "2022-08-30T14:19:12.458Z"
      },
      {
        "duration": 5,
        "start_time": "2022-08-30T14:19:55.327Z"
      },
      {
        "duration": 2,
        "start_time": "2022-08-30T14:21:18.824Z"
      },
      {
        "duration": 10,
        "start_time": "2022-08-30T14:21:19.427Z"
      },
      {
        "duration": 7,
        "start_time": "2022-08-30T14:21:30.741Z"
      },
      {
        "duration": 59,
        "start_time": "2022-08-30T14:30:28.633Z"
      },
      {
        "duration": 1436,
        "start_time": "2022-08-30T18:35:15.841Z"
      },
      {
        "duration": 3616,
        "start_time": "2022-08-30T18:35:17.279Z"
      },
      {
        "duration": 34,
        "start_time": "2022-08-30T18:35:20.897Z"
      },
      {
        "duration": 16,
        "start_time": "2022-08-30T18:35:20.933Z"
      },
      {
        "duration": 23,
        "start_time": "2022-08-30T18:35:20.950Z"
      },
      {
        "duration": 10,
        "start_time": "2022-08-30T18:35:20.975Z"
      },
      {
        "duration": 28,
        "start_time": "2022-08-30T18:35:21.010Z"
      },
      {
        "duration": 15,
        "start_time": "2022-08-30T18:35:21.040Z"
      },
      {
        "duration": 3,
        "start_time": "2022-08-30T18:35:21.056Z"
      },
      {
        "duration": 236,
        "start_time": "2022-08-30T18:35:21.061Z"
      },
      {
        "duration": 82,
        "start_time": "2022-08-30T18:35:21.310Z"
      },
      {
        "duration": 236,
        "start_time": "2022-08-30T18:35:21.393Z"
      },
      {
        "duration": 2,
        "start_time": "2022-08-30T18:35:21.631Z"
      },
      {
        "duration": 9,
        "start_time": "2022-08-30T18:35:21.635Z"
      },
      {
        "duration": 5,
        "start_time": "2022-08-30T18:35:21.645Z"
      },
      {
        "duration": 5,
        "start_time": "2022-08-30T18:35:21.651Z"
      },
      {
        "duration": 3,
        "start_time": "2022-08-30T18:35:21.658Z"
      },
      {
        "duration": 12,
        "start_time": "2022-08-30T18:35:21.662Z"
      },
      {
        "duration": 52,
        "start_time": "2022-08-30T18:35:21.676Z"
      },
      {
        "duration": 17,
        "start_time": "2022-08-30T18:37:38.747Z"
      },
      {
        "duration": 17,
        "start_time": "2022-08-30T18:37:50.666Z"
      },
      {
        "duration": 14,
        "start_time": "2022-08-30T18:37:51.405Z"
      },
      {
        "duration": 15,
        "start_time": "2022-08-30T18:41:43.295Z"
      },
      {
        "duration": 12,
        "start_time": "2022-08-30T18:42:29.587Z"
      },
      {
        "duration": 23,
        "start_time": "2022-08-30T18:51:12.946Z"
      },
      {
        "duration": 1288,
        "start_time": "2022-08-30T18:51:47.381Z"
      },
      {
        "duration": 669,
        "start_time": "2022-08-30T18:51:48.671Z"
      },
      {
        "duration": 28,
        "start_time": "2022-08-30T18:51:49.341Z"
      },
      {
        "duration": 17,
        "start_time": "2022-08-30T18:51:49.370Z"
      },
      {
        "duration": 45,
        "start_time": "2022-08-30T18:51:49.388Z"
      },
      {
        "duration": 15,
        "start_time": "2022-08-30T18:51:49.435Z"
      },
      {
        "duration": 40,
        "start_time": "2022-08-30T18:51:49.452Z"
      },
      {
        "duration": 23,
        "start_time": "2022-08-30T18:51:49.511Z"
      },
      {
        "duration": 4,
        "start_time": "2022-08-30T18:51:49.535Z"
      },
      {
        "duration": 238,
        "start_time": "2022-08-30T18:51:49.541Z"
      },
      {
        "duration": 105,
        "start_time": "2022-08-30T18:51:49.780Z"
      },
      {
        "duration": 233,
        "start_time": "2022-08-30T18:51:49.887Z"
      },
      {
        "duration": 2,
        "start_time": "2022-08-30T18:51:50.122Z"
      },
      {
        "duration": 10,
        "start_time": "2022-08-30T18:51:50.126Z"
      },
      {
        "duration": 5,
        "start_time": "2022-08-30T18:51:50.137Z"
      },
      {
        "duration": 11,
        "start_time": "2022-08-30T18:51:50.143Z"
      },
      {
        "duration": 13,
        "start_time": "2022-08-30T18:51:50.156Z"
      },
      {
        "duration": 8,
        "start_time": "2022-08-30T18:51:50.171Z"
      },
      {
        "duration": 43,
        "start_time": "2022-08-30T18:51:50.180Z"
      },
      {
        "duration": 13,
        "start_time": "2022-08-30T18:51:50.225Z"
      },
      {
        "duration": 21,
        "start_time": "2022-08-30T18:51:50.240Z"
      },
      {
        "duration": 10,
        "start_time": "2022-08-30T18:51:50.263Z"
      },
      {
        "duration": 53,
        "start_time": "2022-08-31T07:55:21.494Z"
      },
      {
        "duration": 1444,
        "start_time": "2022-08-31T07:55:27.890Z"
      },
      {
        "duration": 1856,
        "start_time": "2022-08-31T07:55:29.336Z"
      },
      {
        "duration": 32,
        "start_time": "2022-08-31T07:55:31.194Z"
      },
      {
        "duration": 17,
        "start_time": "2022-08-31T07:55:31.228Z"
      },
      {
        "duration": 30,
        "start_time": "2022-08-31T07:55:31.246Z"
      },
      {
        "duration": 12,
        "start_time": "2022-08-31T07:55:31.278Z"
      },
      {
        "duration": 29,
        "start_time": "2022-08-31T07:55:31.292Z"
      },
      {
        "duration": 16,
        "start_time": "2022-08-31T07:55:31.322Z"
      },
      {
        "duration": 27,
        "start_time": "2022-08-31T07:55:31.340Z"
      },
      {
        "duration": 239,
        "start_time": "2022-08-31T07:55:31.370Z"
      },
      {
        "duration": 114,
        "start_time": "2022-08-31T07:55:31.610Z"
      },
      {
        "duration": 220,
        "start_time": "2022-08-31T07:55:31.726Z"
      },
      {
        "duration": 3,
        "start_time": "2022-08-31T07:55:31.967Z"
      },
      {
        "duration": 18,
        "start_time": "2022-08-31T07:55:31.972Z"
      },
      {
        "duration": 12,
        "start_time": "2022-08-31T07:55:31.992Z"
      },
      {
        "duration": 7,
        "start_time": "2022-08-31T07:55:32.006Z"
      },
      {
        "duration": 12,
        "start_time": "2022-08-31T07:55:32.015Z"
      },
      {
        "duration": 12,
        "start_time": "2022-08-31T07:55:32.028Z"
      },
      {
        "duration": 20,
        "start_time": "2022-08-31T07:55:32.041Z"
      },
      {
        "duration": 12,
        "start_time": "2022-08-31T07:55:32.063Z"
      },
      {
        "duration": 21,
        "start_time": "2022-08-31T07:55:32.076Z"
      },
      {
        "duration": 14,
        "start_time": "2022-08-31T07:55:32.098Z"
      },
      {
        "duration": 11,
        "start_time": "2022-08-31T07:55:32.114Z"
      },
      {
        "duration": 101,
        "start_time": "2022-08-31T07:58:44.323Z"
      },
      {
        "duration": 1304,
        "start_time": "2022-08-31T07:59:03.072Z"
      },
      {
        "duration": 692,
        "start_time": "2022-08-31T07:59:04.378Z"
      },
      {
        "duration": 31,
        "start_time": "2022-08-31T07:59:05.071Z"
      },
      {
        "duration": 16,
        "start_time": "2022-08-31T07:59:05.103Z"
      },
      {
        "duration": 46,
        "start_time": "2022-08-31T07:59:05.121Z"
      },
      {
        "duration": 12,
        "start_time": "2022-08-31T07:59:05.169Z"
      },
      {
        "duration": 28,
        "start_time": "2022-08-31T07:59:05.183Z"
      },
      {
        "duration": 17,
        "start_time": "2022-08-31T07:59:05.213Z"
      },
      {
        "duration": 4,
        "start_time": "2022-08-31T07:59:05.231Z"
      },
      {
        "duration": 255,
        "start_time": "2022-08-31T07:59:05.238Z"
      },
      {
        "duration": 114,
        "start_time": "2022-08-31T07:59:05.495Z"
      },
      {
        "duration": 218,
        "start_time": "2022-08-31T07:59:05.611Z"
      },
      {
        "duration": 3,
        "start_time": "2022-08-31T07:59:05.831Z"
      },
      {
        "duration": 39,
        "start_time": "2022-08-31T07:59:05.835Z"
      },
      {
        "duration": 14,
        "start_time": "2022-08-31T07:59:05.876Z"
      },
      {
        "duration": 6,
        "start_time": "2022-08-31T07:59:05.891Z"
      },
      {
        "duration": 10,
        "start_time": "2022-08-31T07:59:05.899Z"
      },
      {
        "duration": 15,
        "start_time": "2022-08-31T07:59:05.910Z"
      },
      {
        "duration": 20,
        "start_time": "2022-08-31T07:59:05.927Z"
      },
      {
        "duration": 27,
        "start_time": "2022-08-31T07:59:05.948Z"
      },
      {
        "duration": 22,
        "start_time": "2022-08-31T07:59:05.977Z"
      },
      {
        "duration": 18,
        "start_time": "2022-08-31T07:59:06.001Z"
      },
      {
        "duration": 12,
        "start_time": "2022-08-31T07:59:06.021Z"
      },
      {
        "duration": 137,
        "start_time": "2022-08-31T07:59:06.035Z"
      },
      {
        "duration": 108,
        "start_time": "2022-08-31T07:59:59.606Z"
      },
      {
        "duration": 19,
        "start_time": "2022-08-31T08:00:04.372Z"
      },
      {
        "duration": 12,
        "start_time": "2022-08-31T08:01:54.151Z"
      },
      {
        "duration": 22,
        "start_time": "2022-08-31T08:02:31.357Z"
      },
      {
        "duration": 27,
        "start_time": "2022-08-31T08:15:50.637Z"
      },
      {
        "duration": 1500,
        "start_time": "2022-08-31T15:20:33.183Z"
      },
      {
        "duration": 2085,
        "start_time": "2022-08-31T15:20:34.686Z"
      },
      {
        "duration": 51,
        "start_time": "2022-08-31T15:20:36.772Z"
      },
      {
        "duration": 20,
        "start_time": "2022-08-31T15:20:36.825Z"
      },
      {
        "duration": 51,
        "start_time": "2022-08-31T15:20:36.848Z"
      },
      {
        "duration": 25,
        "start_time": "2022-08-31T15:20:36.901Z"
      },
      {
        "duration": 57,
        "start_time": "2022-08-31T15:20:36.929Z"
      },
      {
        "duration": 32,
        "start_time": "2022-08-31T15:20:36.988Z"
      },
      {
        "duration": 4,
        "start_time": "2022-08-31T15:20:37.021Z"
      },
      {
        "duration": 259,
        "start_time": "2022-08-31T15:20:37.027Z"
      },
      {
        "duration": 116,
        "start_time": "2022-08-31T15:20:37.290Z"
      },
      {
        "duration": 275,
        "start_time": "2022-08-31T15:20:37.408Z"
      },
      {
        "duration": 8,
        "start_time": "2022-08-31T15:20:37.684Z"
      },
      {
        "duration": 12,
        "start_time": "2022-08-31T15:20:37.695Z"
      },
      {
        "duration": 6,
        "start_time": "2022-08-31T15:20:37.709Z"
      },
      {
        "duration": 7,
        "start_time": "2022-08-31T15:20:37.717Z"
      },
      {
        "duration": 6,
        "start_time": "2022-08-31T15:20:37.726Z"
      },
      {
        "duration": 49,
        "start_time": "2022-08-31T15:20:37.734Z"
      },
      {
        "duration": 29,
        "start_time": "2022-08-31T15:20:37.789Z"
      },
      {
        "duration": 11,
        "start_time": "2022-08-31T15:20:37.820Z"
      },
      {
        "duration": 24,
        "start_time": "2022-08-31T15:20:37.833Z"
      },
      {
        "duration": 30,
        "start_time": "2022-08-31T15:20:37.858Z"
      },
      {
        "duration": 14,
        "start_time": "2022-08-31T15:20:37.891Z"
      },
      {
        "duration": 19,
        "start_time": "2022-08-31T15:20:37.907Z"
      },
      {
        "duration": 48,
        "start_time": "2022-08-31T15:20:37.928Z"
      },
      {
        "duration": 25,
        "start_time": "2022-08-31T15:20:37.986Z"
      },
      {
        "duration": 28,
        "start_time": "2022-08-31T15:20:38.016Z"
      },
      {
        "duration": 103,
        "start_time": "2022-08-31T15:28:18.295Z"
      },
      {
        "duration": 12,
        "start_time": "2022-08-31T15:29:19.200Z"
      },
      {
        "duration": 1347,
        "start_time": "2022-08-31T15:29:26.579Z"
      },
      {
        "duration": 690,
        "start_time": "2022-08-31T15:29:27.929Z"
      },
      {
        "duration": 30,
        "start_time": "2022-08-31T15:29:28.621Z"
      },
      {
        "duration": 27,
        "start_time": "2022-08-31T15:29:28.653Z"
      },
      {
        "duration": 24,
        "start_time": "2022-08-31T15:29:28.682Z"
      },
      {
        "duration": 11,
        "start_time": "2022-08-31T15:29:28.708Z"
      },
      {
        "duration": 48,
        "start_time": "2022-08-31T15:29:28.720Z"
      },
      {
        "duration": 15,
        "start_time": "2022-08-31T15:29:28.770Z"
      },
      {
        "duration": 3,
        "start_time": "2022-08-31T15:29:28.787Z"
      },
      {
        "duration": 232,
        "start_time": "2022-08-31T15:29:28.792Z"
      },
      {
        "duration": 111,
        "start_time": "2022-08-31T15:29:29.026Z"
      },
      {
        "duration": 230,
        "start_time": "2022-08-31T15:29:29.140Z"
      },
      {
        "duration": 2,
        "start_time": "2022-08-31T15:29:29.372Z"
      },
      {
        "duration": 14,
        "start_time": "2022-08-31T15:29:29.376Z"
      },
      {
        "duration": 5,
        "start_time": "2022-08-31T15:29:29.391Z"
      },
      {
        "duration": 8,
        "start_time": "2022-08-31T15:29:29.397Z"
      },
      {
        "duration": 4,
        "start_time": "2022-08-31T15:29:29.406Z"
      },
      {
        "duration": 9,
        "start_time": "2022-08-31T15:29:29.411Z"
      },
      {
        "duration": 21,
        "start_time": "2022-08-31T15:29:29.421Z"
      },
      {
        "duration": 29,
        "start_time": "2022-08-31T15:29:29.443Z"
      },
      {
        "duration": 23,
        "start_time": "2022-08-31T15:29:29.473Z"
      },
      {
        "duration": 16,
        "start_time": "2022-08-31T15:29:29.497Z"
      },
      {
        "duration": 16,
        "start_time": "2022-08-31T15:29:29.514Z"
      },
      {
        "duration": 49,
        "start_time": "2022-08-31T15:29:29.532Z"
      },
      {
        "duration": 13,
        "start_time": "2022-08-31T15:29:29.582Z"
      },
      {
        "duration": 20,
        "start_time": "2022-08-31T15:29:29.597Z"
      },
      {
        "duration": 24,
        "start_time": "2022-08-31T15:29:29.618Z"
      },
      {
        "duration": 108,
        "start_time": "2022-08-31T15:29:29.667Z"
      },
      {
        "duration": 14,
        "start_time": "2022-08-31T15:29:47.500Z"
      },
      {
        "duration": 13,
        "start_time": "2022-08-31T15:34:14.687Z"
      },
      {
        "duration": 13,
        "start_time": "2022-08-31T15:34:58.088Z"
      },
      {
        "duration": 1420,
        "start_time": "2022-08-31T15:37:10.755Z"
      },
      {
        "duration": 703,
        "start_time": "2022-08-31T15:37:12.177Z"
      },
      {
        "duration": 34,
        "start_time": "2022-08-31T15:37:12.882Z"
      },
      {
        "duration": 18,
        "start_time": "2022-08-31T15:37:12.919Z"
      },
      {
        "duration": 51,
        "start_time": "2022-08-31T15:37:12.938Z"
      },
      {
        "duration": 13,
        "start_time": "2022-08-31T15:37:12.991Z"
      },
      {
        "duration": 29,
        "start_time": "2022-08-31T15:37:13.006Z"
      },
      {
        "duration": 46,
        "start_time": "2022-08-31T15:37:13.037Z"
      },
      {
        "duration": 4,
        "start_time": "2022-08-31T15:37:13.085Z"
      },
      {
        "duration": 299,
        "start_time": "2022-08-31T15:37:13.092Z"
      },
      {
        "duration": 104,
        "start_time": "2022-08-31T15:37:13.392Z"
      },
      {
        "duration": 212,
        "start_time": "2022-08-31T15:37:13.498Z"
      },
      {
        "duration": 3,
        "start_time": "2022-08-31T15:37:13.711Z"
      },
      {
        "duration": 15,
        "start_time": "2022-08-31T15:37:13.716Z"
      },
      {
        "duration": 36,
        "start_time": "2022-08-31T15:37:13.732Z"
      },
      {
        "duration": 4,
        "start_time": "2022-08-31T15:37:13.770Z"
      },
      {
        "duration": 6,
        "start_time": "2022-08-31T15:37:13.776Z"
      },
      {
        "duration": 8,
        "start_time": "2022-08-31T15:37:13.783Z"
      },
      {
        "duration": 27,
        "start_time": "2022-08-31T15:37:13.793Z"
      },
      {
        "duration": 60,
        "start_time": "2022-08-31T15:37:13.822Z"
      },
      {
        "duration": 25,
        "start_time": "2022-08-31T15:37:13.884Z"
      },
      {
        "duration": 65,
        "start_time": "2022-08-31T15:37:13.910Z"
      },
      {
        "duration": 19,
        "start_time": "2022-08-31T15:37:13.978Z"
      },
      {
        "duration": 31,
        "start_time": "2022-08-31T15:37:13.999Z"
      },
      {
        "duration": 39,
        "start_time": "2022-08-31T15:37:14.032Z"
      },
      {
        "duration": 29,
        "start_time": "2022-08-31T15:37:14.073Z"
      },
      {
        "duration": 28,
        "start_time": "2022-08-31T15:37:14.104Z"
      },
      {
        "duration": 43,
        "start_time": "2022-08-31T15:37:14.136Z"
      },
      {
        "duration": 1386,
        "start_time": "2022-08-31T15:39:48.465Z"
      },
      {
        "duration": 702,
        "start_time": "2022-08-31T15:39:49.853Z"
      },
      {
        "duration": 37,
        "start_time": "2022-08-31T15:39:50.557Z"
      },
      {
        "duration": 17,
        "start_time": "2022-08-31T15:39:50.596Z"
      },
      {
        "duration": 26,
        "start_time": "2022-08-31T15:39:50.615Z"
      },
      {
        "duration": 33,
        "start_time": "2022-08-31T15:39:50.643Z"
      },
      {
        "duration": 41,
        "start_time": "2022-08-31T15:39:50.677Z"
      },
      {
        "duration": 21,
        "start_time": "2022-08-31T15:39:50.720Z"
      },
      {
        "duration": 4,
        "start_time": "2022-08-31T15:39:50.767Z"
      },
      {
        "duration": 248,
        "start_time": "2022-08-31T15:39:50.773Z"
      },
      {
        "duration": 106,
        "start_time": "2022-08-31T15:39:51.023Z"
      },
      {
        "duration": 250,
        "start_time": "2022-08-31T15:39:51.130Z"
      },
      {
        "duration": 3,
        "start_time": "2022-08-31T15:39:51.382Z"
      },
      {
        "duration": 13,
        "start_time": "2022-08-31T15:39:51.388Z"
      },
      {
        "duration": 8,
        "start_time": "2022-08-31T15:39:51.402Z"
      },
      {
        "duration": 7,
        "start_time": "2022-08-31T15:39:51.411Z"
      },
      {
        "duration": 10,
        "start_time": "2022-08-31T15:39:51.420Z"
      },
      {
        "duration": 11,
        "start_time": "2022-08-31T15:39:51.431Z"
      },
      {
        "duration": 22,
        "start_time": "2022-08-31T15:39:51.468Z"
      },
      {
        "duration": 15,
        "start_time": "2022-08-31T15:39:51.493Z"
      },
      {
        "duration": 27,
        "start_time": "2022-08-31T15:39:51.510Z"
      },
      {
        "duration": 44,
        "start_time": "2022-08-31T15:39:51.539Z"
      },
      {
        "duration": 20,
        "start_time": "2022-08-31T15:39:51.584Z"
      },
      {
        "duration": 18,
        "start_time": "2022-08-31T15:39:51.605Z"
      },
      {
        "duration": 12,
        "start_time": "2022-08-31T15:39:51.624Z"
      },
      {
        "duration": 47,
        "start_time": "2022-08-31T15:39:51.638Z"
      },
      {
        "duration": 28,
        "start_time": "2022-08-31T15:39:51.686Z"
      },
      {
        "duration": 13,
        "start_time": "2022-08-31T15:39:51.716Z"
      },
      {
        "duration": 118,
        "start_time": "2022-08-31T15:39:51.730Z"
      },
      {
        "duration": 1420,
        "start_time": "2022-08-31T18:56:41.099Z"
      },
      {
        "duration": 2916,
        "start_time": "2022-08-31T18:56:42.521Z"
      },
      {
        "duration": 40,
        "start_time": "2022-08-31T18:56:45.439Z"
      },
      {
        "duration": 18,
        "start_time": "2022-08-31T18:56:45.481Z"
      },
      {
        "duration": 40,
        "start_time": "2022-08-31T18:56:45.501Z"
      },
      {
        "duration": 22,
        "start_time": "2022-08-31T18:56:45.542Z"
      },
      {
        "duration": 29,
        "start_time": "2022-08-31T18:56:45.566Z"
      },
      {
        "duration": 20,
        "start_time": "2022-08-31T18:56:45.597Z"
      },
      {
        "duration": 3,
        "start_time": "2022-08-31T18:56:45.619Z"
      },
      {
        "duration": 272,
        "start_time": "2022-08-31T18:56:45.625Z"
      },
      {
        "duration": 107,
        "start_time": "2022-08-31T18:56:45.899Z"
      },
      {
        "duration": 212,
        "start_time": "2022-08-31T18:56:46.007Z"
      },
      {
        "duration": 4,
        "start_time": "2022-08-31T18:56:46.221Z"
      },
      {
        "duration": 32,
        "start_time": "2022-08-31T18:56:46.226Z"
      },
      {
        "duration": 5,
        "start_time": "2022-08-31T18:56:46.259Z"
      },
      {
        "duration": 5,
        "start_time": "2022-08-31T18:56:46.265Z"
      },
      {
        "duration": 9,
        "start_time": "2022-08-31T18:56:46.272Z"
      },
      {
        "duration": 10,
        "start_time": "2022-08-31T18:56:46.282Z"
      },
      {
        "duration": 18,
        "start_time": "2022-08-31T18:56:46.293Z"
      },
      {
        "duration": 10,
        "start_time": "2022-08-31T18:56:46.312Z"
      },
      {
        "duration": 43,
        "start_time": "2022-08-31T18:56:46.324Z"
      },
      {
        "duration": 15,
        "start_time": "2022-08-31T18:56:46.368Z"
      },
      {
        "duration": 11,
        "start_time": "2022-08-31T18:56:46.385Z"
      },
      {
        "duration": 16,
        "start_time": "2022-08-31T18:56:46.397Z"
      },
      {
        "duration": 13,
        "start_time": "2022-08-31T18:56:46.414Z"
      },
      {
        "duration": 47,
        "start_time": "2022-08-31T18:56:46.428Z"
      },
      {
        "duration": 22,
        "start_time": "2022-08-31T18:56:46.477Z"
      },
      {
        "duration": 11,
        "start_time": "2022-08-31T18:56:46.502Z"
      },
      {
        "duration": 122,
        "start_time": "2022-08-31T18:56:46.515Z"
      },
      {
        "duration": 4556,
        "start_time": "2022-08-31T19:09:29.646Z"
      },
      {
        "duration": 4783,
        "start_time": "2022-08-31T19:10:00.290Z"
      },
      {
        "duration": 16,
        "start_time": "2022-08-31T19:10:16.450Z"
      },
      {
        "duration": 4,
        "start_time": "2022-08-31T19:10:23.332Z"
      },
      {
        "duration": 4553,
        "start_time": "2022-08-31T19:10:30.861Z"
      },
      {
        "duration": 9490,
        "start_time": "2022-08-31T19:11:12.561Z"
      },
      {
        "duration": 4670,
        "start_time": "2022-08-31T19:11:22.437Z"
      },
      {
        "duration": 43638,
        "start_time": "2022-08-31T19:11:36.403Z"
      },
      {
        "duration": 16,
        "start_time": "2022-08-31T19:12:20.043Z"
      },
      {
        "duration": 4545,
        "start_time": "2022-08-31T19:12:28.739Z"
      },
      {
        "duration": 49,
        "start_time": "2022-08-31T19:15:40.857Z"
      },
      {
        "duration": 1586,
        "start_time": "2022-09-01T07:56:45.309Z"
      },
      {
        "duration": 1894,
        "start_time": "2022-09-01T07:56:46.898Z"
      },
      {
        "duration": 33,
        "start_time": "2022-09-01T07:56:48.796Z"
      },
      {
        "duration": 17,
        "start_time": "2022-09-01T07:56:48.831Z"
      },
      {
        "duration": 47,
        "start_time": "2022-09-01T07:56:48.850Z"
      },
      {
        "duration": 13,
        "start_time": "2022-09-01T07:56:48.898Z"
      },
      {
        "duration": 30,
        "start_time": "2022-09-01T07:56:48.912Z"
      },
      {
        "duration": 16,
        "start_time": "2022-09-01T07:56:48.944Z"
      },
      {
        "duration": 4,
        "start_time": "2022-09-01T07:56:48.991Z"
      },
      {
        "duration": 247,
        "start_time": "2022-09-01T07:56:48.997Z"
      },
      {
        "duration": 117,
        "start_time": "2022-09-01T07:56:49.246Z"
      },
      {
        "duration": 255,
        "start_time": "2022-09-01T07:56:49.365Z"
      },
      {
        "duration": 3,
        "start_time": "2022-09-01T07:56:49.622Z"
      },
      {
        "duration": 14,
        "start_time": "2022-09-01T07:56:49.626Z"
      },
      {
        "duration": 5,
        "start_time": "2022-09-01T07:56:49.641Z"
      },
      {
        "duration": 6,
        "start_time": "2022-09-01T07:56:49.648Z"
      },
      {
        "duration": 37,
        "start_time": "2022-09-01T07:56:49.655Z"
      },
      {
        "duration": 12,
        "start_time": "2022-09-01T07:56:49.694Z"
      },
      {
        "duration": 23,
        "start_time": "2022-09-01T07:56:49.708Z"
      },
      {
        "duration": 11,
        "start_time": "2022-09-01T07:56:49.732Z"
      },
      {
        "duration": 23,
        "start_time": "2022-09-01T07:56:49.745Z"
      },
      {
        "duration": 18,
        "start_time": "2022-09-01T07:56:49.793Z"
      },
      {
        "duration": 14,
        "start_time": "2022-09-01T07:56:49.813Z"
      },
      {
        "duration": 19,
        "start_time": "2022-09-01T07:56:49.829Z"
      },
      {
        "duration": 50,
        "start_time": "2022-09-01T07:56:49.850Z"
      },
      {
        "duration": 24,
        "start_time": "2022-09-01T07:56:49.902Z"
      },
      {
        "duration": 31,
        "start_time": "2022-09-01T07:56:49.930Z"
      },
      {
        "duration": 40,
        "start_time": "2022-09-01T07:56:49.963Z"
      },
      {
        "duration": 135,
        "start_time": "2022-09-01T07:56:50.005Z"
      },
      {
        "duration": 12,
        "start_time": "2022-09-01T07:57:14.434Z"
      },
      {
        "duration": 3946,
        "start_time": "2022-09-01T07:57:29.367Z"
      },
      {
        "duration": 48,
        "start_time": "2022-09-01T11:23:55.340Z"
      },
      {
        "duration": 1751,
        "start_time": "2022-09-01T11:24:35.830Z"
      },
      {
        "duration": 3428,
        "start_time": "2022-09-01T11:24:37.588Z"
      },
      {
        "duration": 34,
        "start_time": "2022-09-01T11:24:41.018Z"
      },
      {
        "duration": 19,
        "start_time": "2022-09-01T11:24:41.055Z"
      },
      {
        "duration": 42,
        "start_time": "2022-09-01T11:24:41.076Z"
      },
      {
        "duration": 28,
        "start_time": "2022-09-01T11:24:41.120Z"
      },
      {
        "duration": 57,
        "start_time": "2022-09-01T11:24:41.151Z"
      },
      {
        "duration": 20,
        "start_time": "2022-09-01T11:24:41.211Z"
      },
      {
        "duration": 10,
        "start_time": "2022-09-01T11:24:41.232Z"
      },
      {
        "duration": 281,
        "start_time": "2022-09-01T11:24:41.245Z"
      },
      {
        "duration": 123,
        "start_time": "2022-09-01T11:24:41.528Z"
      },
      {
        "duration": 253,
        "start_time": "2022-09-01T11:24:41.652Z"
      },
      {
        "duration": 3,
        "start_time": "2022-09-01T11:24:41.907Z"
      },
      {
        "duration": 15,
        "start_time": "2022-09-01T11:24:41.912Z"
      },
      {
        "duration": 18,
        "start_time": "2022-09-01T11:24:41.929Z"
      },
      {
        "duration": 14,
        "start_time": "2022-09-01T11:24:41.948Z"
      },
      {
        "duration": 4,
        "start_time": "2022-09-01T11:24:41.986Z"
      },
      {
        "duration": 19,
        "start_time": "2022-09-01T11:24:41.992Z"
      },
      {
        "duration": 22,
        "start_time": "2022-09-01T11:24:42.013Z"
      },
      {
        "duration": 10,
        "start_time": "2022-09-01T11:24:42.037Z"
      },
      {
        "duration": 54,
        "start_time": "2022-09-01T11:24:42.048Z"
      },
      {
        "duration": 22,
        "start_time": "2022-09-01T11:24:42.103Z"
      },
      {
        "duration": 15,
        "start_time": "2022-09-01T11:24:42.128Z"
      },
      {
        "duration": 60,
        "start_time": "2022-09-01T11:24:42.145Z"
      },
      {
        "duration": 15,
        "start_time": "2022-09-01T11:24:42.207Z"
      },
      {
        "duration": 28,
        "start_time": "2022-09-01T11:24:42.223Z"
      },
      {
        "duration": 52,
        "start_time": "2022-09-01T11:24:42.253Z"
      },
      {
        "duration": 12,
        "start_time": "2022-09-01T11:24:42.308Z"
      },
      {
        "duration": 4318,
        "start_time": "2022-09-01T11:24:42.323Z"
      },
      {
        "duration": 659,
        "start_time": "2022-09-01T11:24:46.645Z"
      },
      {
        "duration": 148,
        "start_time": "2022-09-01T11:34:58.389Z"
      },
      {
        "duration": 242,
        "start_time": "2022-09-01T11:40:40.658Z"
      },
      {
        "duration": 281,
        "start_time": "2022-09-01T11:42:55.606Z"
      },
      {
        "duration": 234,
        "start_time": "2022-09-01T11:43:13.828Z"
      },
      {
        "duration": 533,
        "start_time": "2022-09-01T11:43:24.460Z"
      },
      {
        "duration": 259,
        "start_time": "2022-09-01T11:43:41.037Z"
      },
      {
        "duration": 239,
        "start_time": "2022-09-01T11:44:07.107Z"
      },
      {
        "duration": 237,
        "start_time": "2022-09-01T11:44:57.059Z"
      },
      {
        "duration": 249,
        "start_time": "2022-09-01T11:46:53.760Z"
      },
      {
        "duration": 1499,
        "start_time": "2022-09-01T11:47:36.962Z"
      },
      {
        "duration": 645,
        "start_time": "2022-09-01T11:47:38.463Z"
      },
      {
        "duration": 35,
        "start_time": "2022-09-01T11:47:39.109Z"
      },
      {
        "duration": 42,
        "start_time": "2022-09-01T11:47:39.146Z"
      },
      {
        "duration": 27,
        "start_time": "2022-09-01T11:47:39.190Z"
      },
      {
        "duration": 13,
        "start_time": "2022-09-01T11:47:39.218Z"
      },
      {
        "duration": 68,
        "start_time": "2022-09-01T11:47:39.232Z"
      },
      {
        "duration": 18,
        "start_time": "2022-09-01T11:47:39.301Z"
      },
      {
        "duration": 4,
        "start_time": "2022-09-01T11:47:39.321Z"
      },
      {
        "duration": 278,
        "start_time": "2022-09-01T11:47:39.327Z"
      },
      {
        "duration": 120,
        "start_time": "2022-09-01T11:47:39.607Z"
      },
      {
        "duration": 266,
        "start_time": "2022-09-01T11:47:39.728Z"
      },
      {
        "duration": 3,
        "start_time": "2022-09-01T11:47:39.996Z"
      },
      {
        "duration": 26,
        "start_time": "2022-09-01T11:47:40.001Z"
      },
      {
        "duration": 8,
        "start_time": "2022-09-01T11:47:40.030Z"
      },
      {
        "duration": 11,
        "start_time": "2022-09-01T11:47:40.041Z"
      },
      {
        "duration": 39,
        "start_time": "2022-09-01T11:47:40.054Z"
      },
      {
        "duration": 13,
        "start_time": "2022-09-01T11:47:40.095Z"
      },
      {
        "duration": 35,
        "start_time": "2022-09-01T11:47:40.110Z"
      },
      {
        "duration": 12,
        "start_time": "2022-09-01T11:47:40.151Z"
      },
      {
        "duration": 32,
        "start_time": "2022-09-01T11:47:40.165Z"
      },
      {
        "duration": 18,
        "start_time": "2022-09-01T11:47:40.199Z"
      },
      {
        "duration": 14,
        "start_time": "2022-09-01T11:47:40.219Z"
      },
      {
        "duration": 66,
        "start_time": "2022-09-01T11:47:40.235Z"
      },
      {
        "duration": 17,
        "start_time": "2022-09-01T11:47:40.303Z"
      },
      {
        "duration": 27,
        "start_time": "2022-09-01T11:47:40.322Z"
      },
      {
        "duration": 60,
        "start_time": "2022-09-01T11:47:40.351Z"
      },
      {
        "duration": 26,
        "start_time": "2022-09-01T11:47:40.415Z"
      },
      {
        "duration": 4051,
        "start_time": "2022-09-01T11:47:40.444Z"
      },
      {
        "duration": 319,
        "start_time": "2022-09-01T11:47:44.497Z"
      },
      {
        "duration": 277,
        "start_time": "2022-09-01T11:50:05.923Z"
      },
      {
        "duration": 55,
        "start_time": "2022-09-01T11:51:45.567Z"
      },
      {
        "duration": 1712,
        "start_time": "2022-09-02T07:02:25.522Z"
      },
      {
        "duration": 1892,
        "start_time": "2022-09-02T07:02:27.236Z"
      },
      {
        "duration": 35,
        "start_time": "2022-09-02T07:02:29.130Z"
      },
      {
        "duration": 19,
        "start_time": "2022-09-02T07:02:29.167Z"
      },
      {
        "duration": 28,
        "start_time": "2022-09-02T07:02:29.188Z"
      },
      {
        "duration": 13,
        "start_time": "2022-09-02T07:02:29.218Z"
      },
      {
        "duration": 31,
        "start_time": "2022-09-02T07:02:29.233Z"
      },
      {
        "duration": 18,
        "start_time": "2022-09-02T07:02:29.294Z"
      },
      {
        "duration": 4,
        "start_time": "2022-09-02T07:02:29.314Z"
      },
      {
        "duration": 280,
        "start_time": "2022-09-02T07:02:29.321Z"
      },
      {
        "duration": 114,
        "start_time": "2022-09-02T07:02:29.603Z"
      },
      {
        "duration": 235,
        "start_time": "2022-09-02T07:02:29.719Z"
      },
      {
        "duration": 4,
        "start_time": "2022-09-02T07:02:29.955Z"
      },
      {
        "duration": 46,
        "start_time": "2022-09-02T07:02:29.960Z"
      },
      {
        "duration": 6,
        "start_time": "2022-09-02T07:02:30.008Z"
      },
      {
        "duration": 22,
        "start_time": "2022-09-02T07:02:30.015Z"
      },
      {
        "duration": 25,
        "start_time": "2022-09-02T07:02:30.039Z"
      },
      {
        "duration": 15,
        "start_time": "2022-09-02T07:02:30.066Z"
      },
      {
        "duration": 36,
        "start_time": "2022-09-02T07:02:30.083Z"
      },
      {
        "duration": 11,
        "start_time": "2022-09-02T07:02:30.121Z"
      },
      {
        "duration": 29,
        "start_time": "2022-09-02T07:02:30.133Z"
      },
      {
        "duration": 31,
        "start_time": "2022-09-02T07:02:30.164Z"
      },
      {
        "duration": 15,
        "start_time": "2022-09-02T07:02:30.197Z"
      },
      {
        "duration": 19,
        "start_time": "2022-09-02T07:02:30.214Z"
      },
      {
        "duration": 15,
        "start_time": "2022-09-02T07:02:30.235Z"
      },
      {
        "duration": 58,
        "start_time": "2022-09-02T07:02:30.251Z"
      },
      {
        "duration": 28,
        "start_time": "2022-09-02T07:02:30.311Z"
      },
      {
        "duration": 26,
        "start_time": "2022-09-02T07:02:30.343Z"
      },
      {
        "duration": 4065,
        "start_time": "2022-09-02T07:02:30.371Z"
      },
      {
        "duration": 280,
        "start_time": "2022-09-02T07:02:34.437Z"
      },
      {
        "duration": 76,
        "start_time": "2022-09-02T08:17:29.205Z"
      },
      {
        "duration": 94,
        "start_time": "2022-09-02T08:17:37.773Z"
      },
      {
        "duration": 804,
        "start_time": "2022-09-02T08:17:50.843Z"
      },
      {
        "duration": 944,
        "start_time": "2022-09-02T08:20:53.328Z"
      },
      {
        "duration": 764,
        "start_time": "2022-09-02T08:21:56.642Z"
      },
      {
        "duration": 1637,
        "start_time": "2022-09-02T08:24:19.642Z"
      },
      {
        "duration": 1024,
        "start_time": "2022-09-02T08:24:56.734Z"
      },
      {
        "duration": 699,
        "start_time": "2022-09-02T08:25:53.162Z"
      },
      {
        "duration": 2231,
        "start_time": "2022-09-02T08:26:09.243Z"
      },
      {
        "duration": 2373,
        "start_time": "2022-09-02T08:26:26.684Z"
      },
      {
        "duration": 2394,
        "start_time": "2022-09-02T08:26:48.183Z"
      },
      {
        "duration": 2316,
        "start_time": "2022-09-02T08:27:55.145Z"
      },
      {
        "duration": 2315,
        "start_time": "2022-09-02T08:28:16.668Z"
      },
      {
        "duration": 2242,
        "start_time": "2022-09-02T08:28:34.792Z"
      },
      {
        "duration": 2199,
        "start_time": "2022-09-02T08:28:49.408Z"
      },
      {
        "duration": 36,
        "start_time": "2022-09-02T08:45:15.469Z"
      },
      {
        "duration": 13,
        "start_time": "2022-09-02T08:48:08.248Z"
      },
      {
        "duration": 1645,
        "start_time": "2022-09-02T08:48:43.450Z"
      },
      {
        "duration": 29,
        "start_time": "2022-09-02T08:50:35.601Z"
      },
      {
        "duration": 14,
        "start_time": "2022-09-02T08:53:13.755Z"
      },
      {
        "duration": 1311,
        "start_time": "2022-09-02T08:53:17.274Z"
      },
      {
        "duration": 1608,
        "start_time": "2022-09-02T08:53:30.677Z"
      },
      {
        "duration": 744,
        "start_time": "2022-09-02T08:53:32.287Z"
      },
      {
        "duration": 37,
        "start_time": "2022-09-02T08:53:33.033Z"
      },
      {
        "duration": 35,
        "start_time": "2022-09-02T08:53:33.072Z"
      },
      {
        "duration": 33,
        "start_time": "2022-09-02T08:53:33.109Z"
      },
      {
        "duration": 15,
        "start_time": "2022-09-02T08:53:33.144Z"
      },
      {
        "duration": 32,
        "start_time": "2022-09-02T08:53:33.192Z"
      },
      {
        "duration": 18,
        "start_time": "2022-09-02T08:53:33.226Z"
      },
      {
        "duration": 4,
        "start_time": "2022-09-02T08:53:33.246Z"
      },
      {
        "duration": 289,
        "start_time": "2022-09-02T08:53:33.252Z"
      },
      {
        "duration": 149,
        "start_time": "2022-09-02T08:53:33.543Z"
      },
      {
        "duration": 237,
        "start_time": "2022-09-02T08:53:33.693Z"
      },
      {
        "duration": 4,
        "start_time": "2022-09-02T08:53:33.931Z"
      },
      {
        "duration": 22,
        "start_time": "2022-09-02T08:53:33.936Z"
      },
      {
        "duration": 34,
        "start_time": "2022-09-02T08:53:33.960Z"
      },
      {
        "duration": 4,
        "start_time": "2022-09-02T08:53:33.996Z"
      },
      {
        "duration": 18,
        "start_time": "2022-09-02T08:53:34.002Z"
      },
      {
        "duration": 16,
        "start_time": "2022-09-02T08:53:34.022Z"
      },
      {
        "duration": 25,
        "start_time": "2022-09-02T08:53:34.041Z"
      },
      {
        "duration": 28,
        "start_time": "2022-09-02T08:53:34.067Z"
      },
      {
        "duration": 23,
        "start_time": "2022-09-02T08:53:34.096Z"
      },
      {
        "duration": 17,
        "start_time": "2022-09-02T08:53:34.121Z"
      },
      {
        "duration": 59,
        "start_time": "2022-09-02T08:53:34.139Z"
      },
      {
        "duration": 19,
        "start_time": "2022-09-02T08:53:34.200Z"
      },
      {
        "duration": 14,
        "start_time": "2022-09-02T08:53:34.220Z"
      },
      {
        "duration": 61,
        "start_time": "2022-09-02T08:53:34.236Z"
      },
      {
        "duration": 27,
        "start_time": "2022-09-02T08:53:34.298Z"
      },
      {
        "duration": 13,
        "start_time": "2022-09-02T08:53:34.328Z"
      },
      {
        "duration": 4274,
        "start_time": "2022-09-02T08:53:34.343Z"
      },
      {
        "duration": 299,
        "start_time": "2022-09-02T08:53:38.619Z"
      },
      {
        "duration": 2251,
        "start_time": "2022-09-02T08:53:38.919Z"
      },
      {
        "duration": 26,
        "start_time": "2022-09-02T08:53:41.172Z"
      },
      {
        "duration": 1754,
        "start_time": "2022-09-02T08:53:41.200Z"
      },
      {
        "duration": 0,
        "start_time": "2022-09-02T08:53:42.955Z"
      },
      {
        "duration": 15,
        "start_time": "2022-09-02T08:54:52.579Z"
      },
      {
        "duration": 14,
        "start_time": "2022-09-02T08:55:44.901Z"
      },
      {
        "duration": 84,
        "start_time": "2022-09-02T09:00:11.813Z"
      },
      {
        "duration": 1472,
        "start_time": "2022-09-02T10:17:06.277Z"
      },
      {
        "duration": 2836,
        "start_time": "2022-09-02T10:17:07.751Z"
      },
      {
        "duration": 29,
        "start_time": "2022-09-02T10:17:10.588Z"
      },
      {
        "duration": 24,
        "start_time": "2022-09-02T10:17:10.618Z"
      },
      {
        "duration": 34,
        "start_time": "2022-09-02T10:17:10.643Z"
      },
      {
        "duration": 11,
        "start_time": "2022-09-02T10:17:10.679Z"
      },
      {
        "duration": 54,
        "start_time": "2022-09-02T10:17:10.691Z"
      },
      {
        "duration": 16,
        "start_time": "2022-09-02T10:17:10.747Z"
      },
      {
        "duration": 23,
        "start_time": "2022-09-02T10:17:10.765Z"
      },
      {
        "duration": 247,
        "start_time": "2022-09-02T10:17:10.791Z"
      },
      {
        "duration": 102,
        "start_time": "2022-09-02T10:17:11.040Z"
      },
      {
        "duration": 199,
        "start_time": "2022-09-02T10:17:11.144Z"
      },
      {
        "duration": 3,
        "start_time": "2022-09-02T10:17:11.344Z"
      },
      {
        "duration": 32,
        "start_time": "2022-09-02T10:17:11.348Z"
      },
      {
        "duration": 18,
        "start_time": "2022-09-02T10:17:11.381Z"
      },
      {
        "duration": 20,
        "start_time": "2022-09-02T10:17:11.401Z"
      },
      {
        "duration": 43,
        "start_time": "2022-09-02T10:17:11.422Z"
      },
      {
        "duration": 15,
        "start_time": "2022-09-02T10:17:11.467Z"
      },
      {
        "duration": 45,
        "start_time": "2022-09-02T10:17:11.483Z"
      },
      {
        "duration": 38,
        "start_time": "2022-09-02T10:17:11.530Z"
      },
      {
        "duration": 29,
        "start_time": "2022-09-02T10:17:11.570Z"
      },
      {
        "duration": 15,
        "start_time": "2022-09-02T10:17:11.600Z"
      },
      {
        "duration": 11,
        "start_time": "2022-09-02T10:17:11.616Z"
      },
      {
        "duration": 15,
        "start_time": "2022-09-02T10:17:11.628Z"
      },
      {
        "duration": 12,
        "start_time": "2022-09-02T10:17:11.645Z"
      },
      {
        "duration": 18,
        "start_time": "2022-09-02T10:17:11.658Z"
      },
      {
        "duration": 25,
        "start_time": "2022-09-02T10:17:11.678Z"
      },
      {
        "duration": 32,
        "start_time": "2022-09-02T10:17:11.706Z"
      },
      {
        "duration": 3381,
        "start_time": "2022-09-02T10:17:11.740Z"
      },
      {
        "duration": 221,
        "start_time": "2022-09-02T10:17:15.123Z"
      },
      {
        "duration": 2110,
        "start_time": "2022-09-02T10:17:15.345Z"
      },
      {
        "duration": 17,
        "start_time": "2022-09-02T10:17:17.457Z"
      },
      {
        "duration": 14,
        "start_time": "2022-09-02T10:17:17.476Z"
      },
      {
        "duration": 3,
        "start_time": "2022-09-02T10:24:46.278Z"
      },
      {
        "duration": 122,
        "start_time": "2022-09-02T10:25:25.673Z"
      },
      {
        "duration": 11,
        "start_time": "2022-09-02T10:31:00.729Z"
      },
      {
        "duration": 11,
        "start_time": "2022-09-02T10:32:14.807Z"
      },
      {
        "duration": 3,
        "start_time": "2022-09-02T10:38:48.027Z"
      },
      {
        "duration": 4,
        "start_time": "2022-09-02T10:38:56.813Z"
      },
      {
        "duration": 803,
        "start_time": "2022-09-02T10:48:52.402Z"
      },
      {
        "duration": 1545,
        "start_time": "2022-09-02T19:13:37.240Z"
      },
      {
        "duration": 3143,
        "start_time": "2022-09-02T19:13:38.787Z"
      },
      {
        "duration": 32,
        "start_time": "2022-09-02T19:13:41.931Z"
      },
      {
        "duration": 17,
        "start_time": "2022-09-02T19:13:41.965Z"
      },
      {
        "duration": 38,
        "start_time": "2022-09-02T19:13:41.984Z"
      },
      {
        "duration": 15,
        "start_time": "2022-09-02T19:13:42.024Z"
      },
      {
        "duration": 30,
        "start_time": "2022-09-02T19:13:42.040Z"
      },
      {
        "duration": 42,
        "start_time": "2022-09-02T19:13:42.072Z"
      },
      {
        "duration": 5,
        "start_time": "2022-09-02T19:13:42.116Z"
      },
      {
        "duration": 310,
        "start_time": "2022-09-02T19:13:42.124Z"
      },
      {
        "duration": 133,
        "start_time": "2022-09-02T19:13:42.437Z"
      },
      {
        "duration": 258,
        "start_time": "2022-09-02T19:13:42.572Z"
      },
      {
        "duration": 4,
        "start_time": "2022-09-02T19:13:42.832Z"
      },
      {
        "duration": 20,
        "start_time": "2022-09-02T19:13:42.838Z"
      },
      {
        "duration": 9,
        "start_time": "2022-09-02T19:13:42.860Z"
      },
      {
        "duration": 9,
        "start_time": "2022-09-02T19:13:42.870Z"
      },
      {
        "duration": 38,
        "start_time": "2022-09-02T19:13:42.881Z"
      },
      {
        "duration": 13,
        "start_time": "2022-09-02T19:13:42.921Z"
      },
      {
        "duration": 23,
        "start_time": "2022-09-02T19:13:42.936Z"
      },
      {
        "duration": 17,
        "start_time": "2022-09-02T19:13:42.960Z"
      },
      {
        "duration": 13,
        "start_time": "2022-09-02T19:13:43.009Z"
      },
      {
        "duration": 16,
        "start_time": "2022-09-02T19:13:43.024Z"
      },
      {
        "duration": 14,
        "start_time": "2022-09-02T19:13:43.041Z"
      },
      {
        "duration": 52,
        "start_time": "2022-09-02T19:13:43.057Z"
      },
      {
        "duration": 24,
        "start_time": "2022-09-02T19:13:43.111Z"
      },
      {
        "duration": 27,
        "start_time": "2022-09-02T19:13:43.138Z"
      },
      {
        "duration": 3780,
        "start_time": "2022-09-02T19:13:43.167Z"
      },
      {
        "duration": 244,
        "start_time": "2022-09-02T19:13:46.950Z"
      },
      {
        "duration": 2117,
        "start_time": "2022-09-02T19:13:47.196Z"
      },
      {
        "duration": 4,
        "start_time": "2022-09-02T19:13:49.314Z"
      },
      {
        "duration": 1503,
        "start_time": "2022-09-02T19:13:49.319Z"
      },
      {
        "duration": 0,
        "start_time": "2022-09-02T19:13:50.823Z"
      },
      {
        "duration": 0,
        "start_time": "2022-09-02T19:13:50.824Z"
      },
      {
        "duration": 0,
        "start_time": "2022-09-02T19:13:50.825Z"
      },
      {
        "duration": 1304,
        "start_time": "2022-09-02T19:19:38.633Z"
      },
      {
        "duration": 667,
        "start_time": "2022-09-02T19:19:39.939Z"
      },
      {
        "duration": 29,
        "start_time": "2022-09-02T19:19:40.609Z"
      },
      {
        "duration": 17,
        "start_time": "2022-09-02T19:19:40.640Z"
      },
      {
        "duration": 26,
        "start_time": "2022-09-02T19:19:40.658Z"
      },
      {
        "duration": 34,
        "start_time": "2022-09-02T19:19:40.685Z"
      },
      {
        "duration": 28,
        "start_time": "2022-09-02T19:19:40.721Z"
      },
      {
        "duration": 16,
        "start_time": "2022-09-02T19:19:40.751Z"
      },
      {
        "duration": 40,
        "start_time": "2022-09-02T19:19:40.769Z"
      },
      {
        "duration": 225,
        "start_time": "2022-09-02T19:19:40.812Z"
      },
      {
        "duration": 112,
        "start_time": "2022-09-02T19:19:41.039Z"
      },
      {
        "duration": 206,
        "start_time": "2022-09-02T19:19:41.153Z"
      },
      {
        "duration": 3,
        "start_time": "2022-09-02T19:19:41.361Z"
      },
      {
        "duration": 21,
        "start_time": "2022-09-02T19:19:41.365Z"
      },
      {
        "duration": 4,
        "start_time": "2022-09-02T19:19:41.388Z"
      },
      {
        "duration": 17,
        "start_time": "2022-09-02T19:19:41.393Z"
      },
      {
        "duration": 25,
        "start_time": "2022-09-02T19:19:41.412Z"
      },
      {
        "duration": 10,
        "start_time": "2022-09-02T19:19:41.439Z"
      },
      {
        "duration": 23,
        "start_time": "2022-09-02T19:19:41.451Z"
      },
      {
        "duration": 36,
        "start_time": "2022-09-02T19:19:41.475Z"
      },
      {
        "duration": 12,
        "start_time": "2022-09-02T19:19:41.513Z"
      },
      {
        "duration": 15,
        "start_time": "2022-09-02T19:19:41.527Z"
      },
      {
        "duration": 128,
        "start_time": "2022-09-02T19:19:41.544Z"
      },
      {
        "duration": 0,
        "start_time": "2022-09-02T19:19:41.674Z"
      },
      {
        "duration": 0,
        "start_time": "2022-09-02T19:19:41.675Z"
      },
      {
        "duration": 0,
        "start_time": "2022-09-02T19:19:41.677Z"
      },
      {
        "duration": 0,
        "start_time": "2022-09-02T19:19:41.678Z"
      },
      {
        "duration": 0,
        "start_time": "2022-09-02T19:19:41.680Z"
      },
      {
        "duration": 0,
        "start_time": "2022-09-02T19:19:41.681Z"
      },
      {
        "duration": 0,
        "start_time": "2022-09-02T19:19:41.683Z"
      },
      {
        "duration": 0,
        "start_time": "2022-09-02T19:19:41.685Z"
      },
      {
        "duration": 0,
        "start_time": "2022-09-02T19:19:41.686Z"
      },
      {
        "duration": 0,
        "start_time": "2022-09-02T19:19:41.709Z"
      },
      {
        "duration": 0,
        "start_time": "2022-09-02T19:19:41.710Z"
      },
      {
        "duration": 13,
        "start_time": "2022-09-02T19:20:18.433Z"
      },
      {
        "duration": 20,
        "start_time": "2022-09-02T19:20:31.182Z"
      },
      {
        "duration": 24,
        "start_time": "2022-09-02T19:20:35.082Z"
      },
      {
        "duration": 3,
        "start_time": "2022-09-02T19:21:00.633Z"
      },
      {
        "duration": 796,
        "start_time": "2022-09-02T19:21:02.508Z"
      },
      {
        "duration": 12,
        "start_time": "2022-09-02T19:24:03.645Z"
      },
      {
        "duration": 1293,
        "start_time": "2022-09-02T19:24:39.443Z"
      },
      {
        "duration": 650,
        "start_time": "2022-09-02T19:24:40.738Z"
      },
      {
        "duration": 39,
        "start_time": "2022-09-02T19:24:41.390Z"
      },
      {
        "duration": 18,
        "start_time": "2022-09-02T19:24:41.431Z"
      },
      {
        "duration": 25,
        "start_time": "2022-09-02T19:24:41.450Z"
      },
      {
        "duration": 33,
        "start_time": "2022-09-02T19:24:41.477Z"
      },
      {
        "duration": 29,
        "start_time": "2022-09-02T19:24:41.511Z"
      },
      {
        "duration": 16,
        "start_time": "2022-09-02T19:24:41.542Z"
      },
      {
        "duration": 3,
        "start_time": "2022-09-02T19:24:41.560Z"
      },
      {
        "duration": 258,
        "start_time": "2022-09-02T19:24:41.566Z"
      },
      {
        "duration": 102,
        "start_time": "2022-09-02T19:24:41.825Z"
      },
      {
        "duration": 210,
        "start_time": "2022-09-02T19:24:41.928Z"
      },
      {
        "duration": 3,
        "start_time": "2022-09-02T19:24:42.139Z"
      },
      {
        "duration": 14,
        "start_time": "2022-09-02T19:24:42.143Z"
      },
      {
        "duration": 5,
        "start_time": "2022-09-02T19:24:42.159Z"
      },
      {
        "duration": 6,
        "start_time": "2022-09-02T19:24:42.165Z"
      },
      {
        "duration": 47,
        "start_time": "2022-09-02T19:24:42.173Z"
      },
      {
        "duration": 10,
        "start_time": "2022-09-02T19:24:42.222Z"
      },
      {
        "duration": 30,
        "start_time": "2022-09-02T19:24:42.234Z"
      },
      {
        "duration": 15,
        "start_time": "2022-09-02T19:24:42.265Z"
      },
      {
        "duration": 29,
        "start_time": "2022-09-02T19:24:42.281Z"
      },
      {
        "duration": 16,
        "start_time": "2022-09-02T19:24:42.311Z"
      },
      {
        "duration": 12,
        "start_time": "2022-09-02T19:24:42.329Z"
      },
      {
        "duration": 19,
        "start_time": "2022-09-02T19:24:42.342Z"
      },
      {
        "duration": 47,
        "start_time": "2022-09-02T19:24:42.363Z"
      },
      {
        "duration": 12,
        "start_time": "2022-09-02T19:24:42.412Z"
      },
      {
        "duration": 3375,
        "start_time": "2022-09-02T19:24:42.425Z"
      },
      {
        "duration": 260,
        "start_time": "2022-09-02T19:24:45.808Z"
      },
      {
        "duration": 2062,
        "start_time": "2022-09-02T19:24:46.070Z"
      },
      {
        "duration": 4,
        "start_time": "2022-09-02T19:24:48.134Z"
      },
      {
        "duration": 1094,
        "start_time": "2022-09-02T19:24:48.139Z"
      },
      {
        "duration": 0,
        "start_time": "2022-09-02T19:24:49.235Z"
      },
      {
        "duration": 0,
        "start_time": "2022-09-02T19:24:49.236Z"
      },
      {
        "duration": 0,
        "start_time": "2022-09-02T19:24:49.237Z"
      },
      {
        "duration": 1349,
        "start_time": "2022-09-02T19:26:28.978Z"
      },
      {
        "duration": 656,
        "start_time": "2022-09-02T19:26:30.329Z"
      },
      {
        "duration": 42,
        "start_time": "2022-09-02T19:26:30.989Z"
      },
      {
        "duration": 18,
        "start_time": "2022-09-02T19:26:31.033Z"
      },
      {
        "duration": 25,
        "start_time": "2022-09-02T19:26:31.052Z"
      },
      {
        "duration": 37,
        "start_time": "2022-09-02T19:26:31.078Z"
      },
      {
        "duration": 27,
        "start_time": "2022-09-02T19:26:31.117Z"
      },
      {
        "duration": 16,
        "start_time": "2022-09-02T19:26:31.146Z"
      },
      {
        "duration": 4,
        "start_time": "2022-09-02T19:26:31.164Z"
      },
      {
        "duration": 243,
        "start_time": "2022-09-02T19:26:31.169Z"
      },
      {
        "duration": 98,
        "start_time": "2022-09-02T19:26:31.413Z"
      },
      {
        "duration": 223,
        "start_time": "2022-09-02T19:26:31.513Z"
      },
      {
        "duration": 3,
        "start_time": "2022-09-02T19:26:31.738Z"
      },
      {
        "duration": 21,
        "start_time": "2022-09-02T19:26:31.743Z"
      },
      {
        "duration": 8,
        "start_time": "2022-09-02T19:26:31.765Z"
      },
      {
        "duration": 8,
        "start_time": "2022-09-02T19:26:31.774Z"
      },
      {
        "duration": 30,
        "start_time": "2022-09-02T19:26:31.783Z"
      },
      {
        "duration": 12,
        "start_time": "2022-09-02T19:26:31.814Z"
      },
      {
        "duration": 38,
        "start_time": "2022-09-02T19:26:31.828Z"
      },
      {
        "duration": 15,
        "start_time": "2022-09-02T19:26:31.868Z"
      },
      {
        "duration": 24,
        "start_time": "2022-09-02T19:26:31.885Z"
      },
      {
        "duration": 17,
        "start_time": "2022-09-02T19:26:31.910Z"
      },
      {
        "duration": 14,
        "start_time": "2022-09-02T19:26:31.929Z"
      },
      {
        "duration": 23,
        "start_time": "2022-09-02T19:26:31.944Z"
      },
      {
        "duration": 50,
        "start_time": "2022-09-02T19:26:31.968Z"
      },
      {
        "duration": 14,
        "start_time": "2022-09-02T19:26:32.020Z"
      },
      {
        "duration": 3418,
        "start_time": "2022-09-02T19:26:32.037Z"
      },
      {
        "duration": 229,
        "start_time": "2022-09-02T19:26:35.456Z"
      },
      {
        "duration": 2164,
        "start_time": "2022-09-02T19:26:35.687Z"
      },
      {
        "duration": 17,
        "start_time": "2022-09-02T19:26:37.852Z"
      },
      {
        "duration": 15,
        "start_time": "2022-09-02T19:26:37.870Z"
      },
      {
        "duration": 50,
        "start_time": "2022-09-02T19:26:37.886Z"
      },
      {
        "duration": 95,
        "start_time": "2022-09-02T19:28:03.189Z"
      },
      {
        "duration": 3,
        "start_time": "2022-09-02T19:29:19.426Z"
      },
      {
        "duration": 5,
        "start_time": "2022-09-02T19:41:16.897Z"
      },
      {
        "duration": 5,
        "start_time": "2022-09-02T19:41:54.992Z"
      },
      {
        "duration": 5,
        "start_time": "2022-09-02T19:42:01.452Z"
      },
      {
        "duration": 4,
        "start_time": "2022-09-02T19:43:38.777Z"
      },
      {
        "duration": 4,
        "start_time": "2022-09-02T19:44:03.789Z"
      },
      {
        "duration": 51,
        "start_time": "2022-09-02T19:47:01.767Z"
      },
      {
        "duration": 80,
        "start_time": "2022-09-02T19:47:13.693Z"
      },
      {
        "duration": 49,
        "start_time": "2022-09-02T19:47:28.170Z"
      },
      {
        "duration": 63,
        "start_time": "2022-09-02T19:47:46.989Z"
      },
      {
        "duration": 65,
        "start_time": "2022-09-02T19:48:03.204Z"
      },
      {
        "duration": 89,
        "start_time": "2022-09-02T19:48:16.516Z"
      },
      {
        "duration": 57,
        "start_time": "2022-09-02T19:48:39.734Z"
      },
      {
        "duration": 49,
        "start_time": "2022-09-02T19:48:46.029Z"
      },
      {
        "duration": 64,
        "start_time": "2022-09-02T19:49:07.333Z"
      },
      {
        "duration": 4,
        "start_time": "2022-09-02T19:49:35.253Z"
      },
      {
        "duration": 4,
        "start_time": "2022-09-02T19:49:50.853Z"
      },
      {
        "duration": 4,
        "start_time": "2022-09-02T19:49:57.766Z"
      },
      {
        "duration": 5,
        "start_time": "2022-09-02T19:50:04.741Z"
      },
      {
        "duration": 140,
        "start_time": "2022-09-02T19:50:12.484Z"
      },
      {
        "duration": 61,
        "start_time": "2022-09-02T19:50:21.803Z"
      },
      {
        "duration": 74,
        "start_time": "2022-09-02T19:52:19.912Z"
      },
      {
        "duration": 48,
        "start_time": "2022-09-02T19:52:32.393Z"
      },
      {
        "duration": 56,
        "start_time": "2022-09-02T19:53:25.348Z"
      },
      {
        "duration": 68,
        "start_time": "2022-09-02T19:54:15.822Z"
      },
      {
        "duration": 4,
        "start_time": "2022-09-02T19:54:22.778Z"
      },
      {
        "duration": 47,
        "start_time": "2022-09-02T19:58:10.071Z"
      },
      {
        "duration": 51,
        "start_time": "2022-09-02T19:59:13.662Z"
      },
      {
        "duration": 56,
        "start_time": "2022-09-02T20:00:09.852Z"
      },
      {
        "duration": 48,
        "start_time": "2022-09-02T20:00:23.075Z"
      },
      {
        "duration": 46,
        "start_time": "2022-09-02T20:00:32.101Z"
      },
      {
        "duration": 48,
        "start_time": "2022-09-02T20:00:49.670Z"
      },
      {
        "duration": 49,
        "start_time": "2022-09-02T20:00:54.305Z"
      },
      {
        "duration": 45,
        "start_time": "2022-09-02T20:00:59.313Z"
      },
      {
        "duration": 56,
        "start_time": "2022-09-02T20:01:03.892Z"
      },
      {
        "duration": 50,
        "start_time": "2022-09-02T20:01:08.901Z"
      },
      {
        "duration": 52,
        "start_time": "2022-09-02T20:01:14.243Z"
      },
      {
        "duration": 84,
        "start_time": "2022-09-02T20:01:22.675Z"
      },
      {
        "duration": 40,
        "start_time": "2022-09-02T20:01:33.006Z"
      },
      {
        "duration": 63,
        "start_time": "2022-09-02T20:02:13.663Z"
      },
      {
        "duration": 73,
        "start_time": "2022-09-02T20:02:54.944Z"
      },
      {
        "duration": 1317,
        "start_time": "2022-09-02T20:06:12.718Z"
      },
      {
        "duration": 648,
        "start_time": "2022-09-02T20:06:14.037Z"
      },
      {
        "duration": 33,
        "start_time": "2022-09-02T20:06:14.687Z"
      },
      {
        "duration": 16,
        "start_time": "2022-09-02T20:06:14.722Z"
      },
      {
        "duration": 25,
        "start_time": "2022-09-02T20:06:14.740Z"
      },
      {
        "duration": 14,
        "start_time": "2022-09-02T20:06:14.766Z"
      },
      {
        "duration": 28,
        "start_time": "2022-09-02T20:06:14.809Z"
      },
      {
        "duration": 16,
        "start_time": "2022-09-02T20:06:14.839Z"
      },
      {
        "duration": 3,
        "start_time": "2022-09-02T20:06:14.857Z"
      },
      {
        "duration": 250,
        "start_time": "2022-09-02T20:06:14.863Z"
      },
      {
        "duration": 113,
        "start_time": "2022-09-02T20:06:15.115Z"
      },
      {
        "duration": 218,
        "start_time": "2022-09-02T20:06:15.229Z"
      },
      {
        "duration": 2,
        "start_time": "2022-09-02T20:06:15.449Z"
      },
      {
        "duration": 23,
        "start_time": "2022-09-02T20:06:15.453Z"
      },
      {
        "duration": 11,
        "start_time": "2022-09-02T20:06:15.478Z"
      },
      {
        "duration": 19,
        "start_time": "2022-09-02T20:06:15.491Z"
      },
      {
        "duration": 18,
        "start_time": "2022-09-02T20:06:15.511Z"
      },
      {
        "duration": 9,
        "start_time": "2022-09-02T20:06:15.531Z"
      },
      {
        "duration": 28,
        "start_time": "2022-09-02T20:06:15.541Z"
      },
      {
        "duration": 39,
        "start_time": "2022-09-02T20:06:15.571Z"
      },
      {
        "duration": 11,
        "start_time": "2022-09-02T20:06:15.612Z"
      },
      {
        "duration": 17,
        "start_time": "2022-09-02T20:06:15.625Z"
      },
      {
        "duration": 12,
        "start_time": "2022-09-02T20:06:15.644Z"
      },
      {
        "duration": 29,
        "start_time": "2022-09-02T20:06:15.658Z"
      },
      {
        "duration": 29,
        "start_time": "2022-09-02T20:06:15.709Z"
      },
      {
        "duration": 17,
        "start_time": "2022-09-02T20:06:15.740Z"
      },
      {
        "duration": 3645,
        "start_time": "2022-09-02T20:06:15.759Z"
      },
      {
        "duration": 237,
        "start_time": "2022-09-02T20:06:19.412Z"
      },
      {
        "duration": 2084,
        "start_time": "2022-09-02T20:06:19.651Z"
      },
      {
        "duration": 17,
        "start_time": "2022-09-02T20:06:21.738Z"
      },
      {
        "duration": 17,
        "start_time": "2022-09-02T20:06:21.756Z"
      },
      {
        "duration": 4,
        "start_time": "2022-09-02T20:06:21.775Z"
      },
      {
        "duration": 57,
        "start_time": "2022-09-02T20:06:21.780Z"
      },
      {
        "duration": 4,
        "start_time": "2022-09-02T20:06:33.957Z"
      },
      {
        "duration": 78,
        "start_time": "2022-09-02T20:12:31.186Z"
      },
      {
        "duration": 4,
        "start_time": "2022-09-02T20:12:42.082Z"
      },
      {
        "duration": 1670,
        "start_time": "2022-09-04T19:50:26.323Z"
      },
      {
        "duration": 3221,
        "start_time": "2022-09-04T19:50:27.995Z"
      },
      {
        "duration": 41,
        "start_time": "2022-09-04T19:50:31.218Z"
      },
      {
        "duration": 47,
        "start_time": "2022-09-04T19:50:31.262Z"
      },
      {
        "duration": 32,
        "start_time": "2022-09-04T19:50:31.311Z"
      },
      {
        "duration": 34,
        "start_time": "2022-09-04T19:50:31.345Z"
      },
      {
        "duration": 53,
        "start_time": "2022-09-04T19:50:31.381Z"
      },
      {
        "duration": 18,
        "start_time": "2022-09-04T19:50:31.436Z"
      },
      {
        "duration": 8,
        "start_time": "2022-09-04T19:50:31.456Z"
      },
      {
        "duration": 285,
        "start_time": "2022-09-04T19:50:31.467Z"
      },
      {
        "duration": 155,
        "start_time": "2022-09-04T19:50:31.754Z"
      },
      {
        "duration": 253,
        "start_time": "2022-09-04T19:50:31.911Z"
      },
      {
        "duration": 3,
        "start_time": "2022-09-04T19:50:32.166Z"
      },
      {
        "duration": 46,
        "start_time": "2022-09-04T19:50:32.170Z"
      },
      {
        "duration": 6,
        "start_time": "2022-09-04T19:50:32.217Z"
      },
      {
        "duration": 16,
        "start_time": "2022-09-04T19:50:32.224Z"
      },
      {
        "duration": 41,
        "start_time": "2022-09-04T19:50:32.241Z"
      },
      {
        "duration": 29,
        "start_time": "2022-09-04T19:50:32.284Z"
      },
      {
        "duration": 25,
        "start_time": "2022-09-04T19:50:32.315Z"
      },
      {
        "duration": 17,
        "start_time": "2022-09-04T19:50:32.342Z"
      },
      {
        "duration": 22,
        "start_time": "2022-09-04T19:50:32.402Z"
      },
      {
        "duration": 22,
        "start_time": "2022-09-04T19:50:32.427Z"
      },
      {
        "duration": 53,
        "start_time": "2022-09-04T19:50:32.450Z"
      },
      {
        "duration": 23,
        "start_time": "2022-09-04T19:50:32.505Z"
      },
      {
        "duration": 27,
        "start_time": "2022-09-04T19:50:32.529Z"
      },
      {
        "duration": 46,
        "start_time": "2022-09-04T19:50:32.558Z"
      },
      {
        "duration": 3991,
        "start_time": "2022-09-04T19:50:32.605Z"
      },
      {
        "duration": 288,
        "start_time": "2022-09-04T19:50:36.603Z"
      },
      {
        "duration": 2259,
        "start_time": "2022-09-04T19:50:36.893Z"
      },
      {
        "duration": 19,
        "start_time": "2022-09-04T19:50:39.154Z"
      },
      {
        "duration": 41,
        "start_time": "2022-09-04T19:50:39.175Z"
      },
      {
        "duration": 5,
        "start_time": "2022-09-04T19:50:39.219Z"
      },
      {
        "duration": 12,
        "start_time": "2022-09-04T19:50:39.226Z"
      },
      {
        "duration": 15,
        "start_time": "2022-09-04T19:50:39.240Z"
      },
      {
        "duration": 173,
        "start_time": "2022-09-04T19:50:39.256Z"
      },
      {
        "duration": 0,
        "start_time": "2022-09-04T19:50:39.431Z"
      },
      {
        "duration": 0,
        "start_time": "2022-09-04T19:50:39.433Z"
      },
      {
        "duration": 0,
        "start_time": "2022-09-04T19:50:39.435Z"
      },
      {
        "duration": 0,
        "start_time": "2022-09-04T19:50:39.436Z"
      },
      {
        "duration": 0,
        "start_time": "2022-09-04T19:50:39.438Z"
      },
      {
        "duration": 0,
        "start_time": "2022-09-04T19:50:39.440Z"
      },
      {
        "duration": 0,
        "start_time": "2022-09-04T19:50:39.441Z"
      },
      {
        "duration": 1426,
        "start_time": "2022-09-04T19:53:05.160Z"
      },
      {
        "duration": 0,
        "start_time": "2022-09-04T19:53:06.590Z"
      },
      {
        "duration": 0,
        "start_time": "2022-09-04T19:53:06.591Z"
      },
      {
        "duration": 0,
        "start_time": "2022-09-04T19:53:06.593Z"
      },
      {
        "duration": 0,
        "start_time": "2022-09-04T19:53:06.603Z"
      },
      {
        "duration": 0,
        "start_time": "2022-09-04T19:53:06.604Z"
      },
      {
        "duration": 0,
        "start_time": "2022-09-04T19:53:06.606Z"
      },
      {
        "duration": 0,
        "start_time": "2022-09-04T19:53:06.607Z"
      },
      {
        "duration": 0,
        "start_time": "2022-09-04T19:53:06.609Z"
      },
      {
        "duration": 0,
        "start_time": "2022-09-04T19:53:06.610Z"
      },
      {
        "duration": 0,
        "start_time": "2022-09-04T19:53:06.611Z"
      },
      {
        "duration": 0,
        "start_time": "2022-09-04T19:53:06.612Z"
      },
      {
        "duration": 0,
        "start_time": "2022-09-04T19:53:06.613Z"
      },
      {
        "duration": 0,
        "start_time": "2022-09-04T19:53:06.615Z"
      },
      {
        "duration": 0,
        "start_time": "2022-09-04T19:53:06.616Z"
      },
      {
        "duration": 0,
        "start_time": "2022-09-04T19:53:06.618Z"
      },
      {
        "duration": 0,
        "start_time": "2022-09-04T19:53:06.619Z"
      },
      {
        "duration": 0,
        "start_time": "2022-09-04T19:53:06.621Z"
      },
      {
        "duration": 0,
        "start_time": "2022-09-04T19:53:06.622Z"
      },
      {
        "duration": 0,
        "start_time": "2022-09-04T19:53:06.624Z"
      },
      {
        "duration": 0,
        "start_time": "2022-09-04T19:53:06.625Z"
      },
      {
        "duration": 0,
        "start_time": "2022-09-04T19:53:06.626Z"
      },
      {
        "duration": 0,
        "start_time": "2022-09-04T19:53:06.628Z"
      },
      {
        "duration": 0,
        "start_time": "2022-09-04T19:53:06.630Z"
      },
      {
        "duration": 0,
        "start_time": "2022-09-04T19:53:06.631Z"
      },
      {
        "duration": 0,
        "start_time": "2022-09-04T19:53:06.633Z"
      },
      {
        "duration": 0,
        "start_time": "2022-09-04T19:53:06.634Z"
      },
      {
        "duration": 0,
        "start_time": "2022-09-04T19:53:06.636Z"
      },
      {
        "duration": 0,
        "start_time": "2022-09-04T19:53:06.637Z"
      },
      {
        "duration": 0,
        "start_time": "2022-09-04T19:53:06.639Z"
      },
      {
        "duration": 0,
        "start_time": "2022-09-04T19:53:06.639Z"
      },
      {
        "duration": 0,
        "start_time": "2022-09-04T19:53:06.641Z"
      },
      {
        "duration": 0,
        "start_time": "2022-09-04T19:53:06.642Z"
      },
      {
        "duration": 0,
        "start_time": "2022-09-04T19:53:06.703Z"
      },
      {
        "duration": 0,
        "start_time": "2022-09-04T19:53:06.704Z"
      },
      {
        "duration": 0,
        "start_time": "2022-09-04T19:53:06.705Z"
      },
      {
        "duration": 0,
        "start_time": "2022-09-04T19:53:06.706Z"
      },
      {
        "duration": 0,
        "start_time": "2022-09-04T19:53:06.707Z"
      },
      {
        "duration": 0,
        "start_time": "2022-09-04T19:53:06.708Z"
      },
      {
        "duration": 0,
        "start_time": "2022-09-04T19:53:06.709Z"
      },
      {
        "duration": 0,
        "start_time": "2022-09-04T19:53:06.710Z"
      },
      {
        "duration": 0,
        "start_time": "2022-09-04T19:53:06.711Z"
      },
      {
        "duration": 1435,
        "start_time": "2022-09-04T19:53:51.931Z"
      },
      {
        "duration": 681,
        "start_time": "2022-09-04T19:53:53.368Z"
      },
      {
        "duration": 53,
        "start_time": "2022-09-04T19:53:54.054Z"
      },
      {
        "duration": 23,
        "start_time": "2022-09-04T19:53:54.109Z"
      },
      {
        "duration": 75,
        "start_time": "2022-09-04T19:53:54.134Z"
      },
      {
        "duration": 18,
        "start_time": "2022-09-04T19:53:54.211Z"
      },
      {
        "duration": 33,
        "start_time": "2022-09-04T19:53:54.230Z"
      },
      {
        "duration": 53,
        "start_time": "2022-09-04T19:53:54.264Z"
      },
      {
        "duration": 5,
        "start_time": "2022-09-04T19:53:54.319Z"
      },
      {
        "duration": 315,
        "start_time": "2022-09-04T19:53:54.325Z"
      },
      {
        "duration": 168,
        "start_time": "2022-09-04T19:53:54.643Z"
      },
      {
        "duration": 248,
        "start_time": "2022-09-04T19:53:54.813Z"
      },
      {
        "duration": 3,
        "start_time": "2022-09-04T19:53:55.063Z"
      },
      {
        "duration": 11,
        "start_time": "2022-09-04T19:53:55.102Z"
      },
      {
        "duration": 7,
        "start_time": "2022-09-04T19:53:55.115Z"
      },
      {
        "duration": 6,
        "start_time": "2022-09-04T19:53:55.124Z"
      },
      {
        "duration": 72,
        "start_time": "2022-09-04T19:53:55.132Z"
      },
      {
        "duration": 11,
        "start_time": "2022-09-04T19:53:55.206Z"
      },
      {
        "duration": 21,
        "start_time": "2022-09-04T19:53:55.219Z"
      },
      {
        "duration": 61,
        "start_time": "2022-09-04T19:53:55.242Z"
      },
      {
        "duration": 14,
        "start_time": "2022-09-04T19:53:55.305Z"
      },
      {
        "duration": 18,
        "start_time": "2022-09-04T19:53:55.320Z"
      },
      {
        "duration": 15,
        "start_time": "2022-09-04T19:53:55.340Z"
      },
      {
        "duration": 67,
        "start_time": "2022-09-04T19:53:55.357Z"
      },
      {
        "duration": 28,
        "start_time": "2022-09-04T19:53:55.426Z"
      },
      {
        "duration": 52,
        "start_time": "2022-09-04T19:53:55.456Z"
      },
      {
        "duration": 4078,
        "start_time": "2022-09-04T19:53:55.512Z"
      },
      {
        "duration": 285,
        "start_time": "2022-09-04T19:53:59.592Z"
      },
      {
        "duration": 2174,
        "start_time": "2022-09-04T19:53:59.879Z"
      },
      {
        "duration": 17,
        "start_time": "2022-09-04T19:54:02.055Z"
      },
      {
        "duration": 43,
        "start_time": "2022-09-04T19:54:02.074Z"
      },
      {
        "duration": 16,
        "start_time": "2022-09-04T19:54:02.118Z"
      },
      {
        "duration": 24,
        "start_time": "2022-09-04T19:54:02.136Z"
      },
      {
        "duration": 28,
        "start_time": "2022-09-04T19:54:02.162Z"
      },
      {
        "duration": 141,
        "start_time": "2022-09-04T19:54:02.192Z"
      },
      {
        "duration": 0,
        "start_time": "2022-09-04T19:54:02.334Z"
      },
      {
        "duration": 0,
        "start_time": "2022-09-04T19:54:02.336Z"
      },
      {
        "duration": 0,
        "start_time": "2022-09-04T19:54:02.337Z"
      },
      {
        "duration": 0,
        "start_time": "2022-09-04T19:54:02.338Z"
      },
      {
        "duration": 0,
        "start_time": "2022-09-04T19:54:02.339Z"
      },
      {
        "duration": 0,
        "start_time": "2022-09-04T19:54:02.340Z"
      },
      {
        "duration": 0,
        "start_time": "2022-09-04T19:54:02.341Z"
      },
      {
        "duration": 1570,
        "start_time": "2022-09-04T19:54:37.294Z"
      },
      {
        "duration": 784,
        "start_time": "2022-09-04T19:54:38.867Z"
      },
      {
        "duration": 33,
        "start_time": "2022-09-04T19:54:39.653Z"
      },
      {
        "duration": 141,
        "start_time": "2022-09-04T19:54:39.688Z"
      },
      {
        "duration": 33,
        "start_time": "2022-09-04T19:54:39.831Z"
      },
      {
        "duration": 37,
        "start_time": "2022-09-04T19:54:39.866Z"
      },
      {
        "duration": 39,
        "start_time": "2022-09-04T19:54:39.905Z"
      },
      {
        "duration": 21,
        "start_time": "2022-09-04T19:54:39.946Z"
      },
      {
        "duration": 6,
        "start_time": "2022-09-04T19:54:40.004Z"
      },
      {
        "duration": 272,
        "start_time": "2022-09-04T19:54:40.014Z"
      },
      {
        "duration": 140,
        "start_time": "2022-09-04T19:54:40.303Z"
      },
      {
        "duration": 264,
        "start_time": "2022-09-04T19:54:40.445Z"
      },
      {
        "duration": 3,
        "start_time": "2022-09-04T19:54:40.711Z"
      },
      {
        "duration": 17,
        "start_time": "2022-09-04T19:54:40.716Z"
      },
      {
        "duration": 5,
        "start_time": "2022-09-04T19:54:40.734Z"
      },
      {
        "duration": 7,
        "start_time": "2022-09-04T19:54:40.741Z"
      },
      {
        "duration": 66,
        "start_time": "2022-09-04T19:54:40.750Z"
      },
      {
        "duration": 11,
        "start_time": "2022-09-04T19:54:40.818Z"
      },
      {
        "duration": 22,
        "start_time": "2022-09-04T19:54:40.831Z"
      },
      {
        "duration": 56,
        "start_time": "2022-09-04T19:54:40.855Z"
      },
      {
        "duration": 13,
        "start_time": "2022-09-04T19:54:40.912Z"
      },
      {
        "duration": 20,
        "start_time": "2022-09-04T19:54:40.927Z"
      },
      {
        "duration": 57,
        "start_time": "2022-09-04T19:54:40.949Z"
      },
      {
        "duration": 23,
        "start_time": "2022-09-04T19:54:41.008Z"
      },
      {
        "duration": 28,
        "start_time": "2022-09-04T19:54:41.033Z"
      },
      {
        "duration": 44,
        "start_time": "2022-09-04T19:54:41.063Z"
      },
      {
        "duration": 4302,
        "start_time": "2022-09-04T19:54:41.109Z"
      },
      {
        "duration": 304,
        "start_time": "2022-09-04T19:54:45.416Z"
      },
      {
        "duration": 2148,
        "start_time": "2022-09-04T19:54:45.722Z"
      },
      {
        "duration": 32,
        "start_time": "2022-09-04T19:54:47.872Z"
      },
      {
        "duration": 16,
        "start_time": "2022-09-04T19:54:47.906Z"
      },
      {
        "duration": 29,
        "start_time": "2022-09-04T19:54:47.924Z"
      },
      {
        "duration": 16,
        "start_time": "2022-09-04T19:54:47.955Z"
      },
      {
        "duration": 23,
        "start_time": "2022-09-04T19:54:47.973Z"
      },
      {
        "duration": 33,
        "start_time": "2022-09-04T19:54:47.997Z"
      },
      {
        "duration": 1528,
        "start_time": "2022-09-04T19:54:48.032Z"
      },
      {
        "duration": 0,
        "start_time": "2022-09-04T19:54:49.562Z"
      },
      {
        "duration": 0,
        "start_time": "2022-09-04T19:54:49.563Z"
      },
      {
        "duration": 0,
        "start_time": "2022-09-04T19:54:49.566Z"
      },
      {
        "duration": 0,
        "start_time": "2022-09-04T19:54:49.567Z"
      },
      {
        "duration": 0,
        "start_time": "2022-09-04T19:54:49.568Z"
      },
      {
        "duration": 0,
        "start_time": "2022-09-04T19:54:49.570Z"
      },
      {
        "duration": 0,
        "start_time": "2022-09-04T19:54:49.571Z"
      },
      {
        "duration": 1514,
        "start_time": "2022-09-04T19:57:01.466Z"
      },
      {
        "duration": 0,
        "start_time": "2022-09-04T19:57:02.985Z"
      },
      {
        "duration": 0,
        "start_time": "2022-09-04T19:57:02.986Z"
      },
      {
        "duration": 0,
        "start_time": "2022-09-04T19:57:02.988Z"
      },
      {
        "duration": 0,
        "start_time": "2022-09-04T19:57:02.989Z"
      },
      {
        "duration": 0,
        "start_time": "2022-09-04T19:57:02.991Z"
      },
      {
        "duration": 0,
        "start_time": "2022-09-04T19:57:02.993Z"
      },
      {
        "duration": 0,
        "start_time": "2022-09-04T19:57:02.994Z"
      },
      {
        "duration": 0,
        "start_time": "2022-09-04T19:57:02.995Z"
      },
      {
        "duration": 0,
        "start_time": "2022-09-04T19:57:02.997Z"
      },
      {
        "duration": 0,
        "start_time": "2022-09-04T19:57:02.998Z"
      },
      {
        "duration": 0,
        "start_time": "2022-09-04T19:57:02.999Z"
      },
      {
        "duration": 0,
        "start_time": "2022-09-04T19:57:03.001Z"
      },
      {
        "duration": 0,
        "start_time": "2022-09-04T19:57:03.003Z"
      },
      {
        "duration": 0,
        "start_time": "2022-09-04T19:57:03.004Z"
      },
      {
        "duration": 0,
        "start_time": "2022-09-04T19:57:03.005Z"
      },
      {
        "duration": 0,
        "start_time": "2022-09-04T19:57:03.007Z"
      },
      {
        "duration": 0,
        "start_time": "2022-09-04T19:57:03.009Z"
      },
      {
        "duration": 0,
        "start_time": "2022-09-04T19:57:03.010Z"
      },
      {
        "duration": 0,
        "start_time": "2022-09-04T19:57:03.011Z"
      },
      {
        "duration": 0,
        "start_time": "2022-09-04T19:57:03.013Z"
      },
      {
        "duration": 0,
        "start_time": "2022-09-04T19:57:03.014Z"
      },
      {
        "duration": 0,
        "start_time": "2022-09-04T19:57:03.016Z"
      },
      {
        "duration": 0,
        "start_time": "2022-09-04T19:57:03.018Z"
      },
      {
        "duration": 0,
        "start_time": "2022-09-04T19:57:03.019Z"
      },
      {
        "duration": 0,
        "start_time": "2022-09-04T19:57:03.020Z"
      },
      {
        "duration": 0,
        "start_time": "2022-09-04T19:57:03.022Z"
      },
      {
        "duration": 0,
        "start_time": "2022-09-04T19:57:03.023Z"
      },
      {
        "duration": 0,
        "start_time": "2022-09-04T19:57:03.025Z"
      },
      {
        "duration": 0,
        "start_time": "2022-09-04T19:57:03.026Z"
      },
      {
        "duration": 0,
        "start_time": "2022-09-04T19:57:03.028Z"
      },
      {
        "duration": 0,
        "start_time": "2022-09-04T19:57:03.029Z"
      },
      {
        "duration": 0,
        "start_time": "2022-09-04T19:57:03.031Z"
      },
      {
        "duration": 0,
        "start_time": "2022-09-04T19:57:03.032Z"
      },
      {
        "duration": 0,
        "start_time": "2022-09-04T19:57:03.033Z"
      },
      {
        "duration": 0,
        "start_time": "2022-09-04T19:57:03.035Z"
      },
      {
        "duration": 0,
        "start_time": "2022-09-04T19:57:03.036Z"
      },
      {
        "duration": 0,
        "start_time": "2022-09-04T19:57:03.038Z"
      },
      {
        "duration": 0,
        "start_time": "2022-09-04T19:57:03.039Z"
      },
      {
        "duration": 0,
        "start_time": "2022-09-04T19:57:03.041Z"
      },
      {
        "duration": 0,
        "start_time": "2022-09-04T19:57:03.042Z"
      },
      {
        "duration": 0,
        "start_time": "2022-09-04T19:57:03.104Z"
      },
      {
        "duration": 0,
        "start_time": "2022-09-04T19:57:03.105Z"
      },
      {
        "duration": 1434,
        "start_time": "2022-09-04T19:57:59.561Z"
      },
      {
        "duration": 723,
        "start_time": "2022-09-04T19:58:00.997Z"
      },
      {
        "duration": 35,
        "start_time": "2022-09-04T19:58:01.722Z"
      },
      {
        "duration": 46,
        "start_time": "2022-09-04T19:58:01.759Z"
      },
      {
        "duration": 32,
        "start_time": "2022-09-04T19:58:01.807Z"
      },
      {
        "duration": 19,
        "start_time": "2022-09-04T19:58:01.841Z"
      },
      {
        "duration": 33,
        "start_time": "2022-09-04T19:58:01.904Z"
      },
      {
        "duration": 19,
        "start_time": "2022-09-04T19:58:01.939Z"
      },
      {
        "duration": 4,
        "start_time": "2022-09-04T19:58:01.959Z"
      },
      {
        "duration": 269,
        "start_time": "2022-09-04T19:58:02.004Z"
      },
      {
        "duration": 131,
        "start_time": "2022-09-04T19:58:02.303Z"
      },
      {
        "duration": 276,
        "start_time": "2022-09-04T19:58:02.435Z"
      },
      {
        "duration": 4,
        "start_time": "2022-09-04T19:58:02.712Z"
      },
      {
        "duration": 15,
        "start_time": "2022-09-04T19:58:02.717Z"
      },
      {
        "duration": 19,
        "start_time": "2022-09-04T19:58:02.733Z"
      },
      {
        "duration": 5,
        "start_time": "2022-09-04T19:58:02.754Z"
      },
      {
        "duration": 55,
        "start_time": "2022-09-04T19:58:02.761Z"
      },
      {
        "duration": 11,
        "start_time": "2022-09-04T19:58:02.817Z"
      },
      {
        "duration": 24,
        "start_time": "2022-09-04T19:58:02.829Z"
      },
      {
        "duration": 60,
        "start_time": "2022-09-04T19:58:02.855Z"
      },
      {
        "duration": 13,
        "start_time": "2022-09-04T19:58:02.917Z"
      },
      {
        "duration": 19,
        "start_time": "2022-09-04T19:58:02.932Z"
      },
      {
        "duration": 60,
        "start_time": "2022-09-04T19:58:02.953Z"
      },
      {
        "duration": 30,
        "start_time": "2022-09-04T19:58:03.015Z"
      },
      {
        "duration": 27,
        "start_time": "2022-09-04T19:58:03.047Z"
      },
      {
        "duration": 41,
        "start_time": "2022-09-04T19:58:03.076Z"
      },
      {
        "duration": 4442,
        "start_time": "2022-09-04T19:58:03.119Z"
      },
      {
        "duration": 273,
        "start_time": "2022-09-04T19:58:07.565Z"
      },
      {
        "duration": 2219,
        "start_time": "2022-09-04T19:58:07.840Z"
      },
      {
        "duration": 18,
        "start_time": "2022-09-04T19:58:10.060Z"
      },
      {
        "duration": 35,
        "start_time": "2022-09-04T19:58:10.080Z"
      },
      {
        "duration": 4,
        "start_time": "2022-09-04T19:58:10.117Z"
      },
      {
        "duration": 8,
        "start_time": "2022-09-04T19:58:10.123Z"
      },
      {
        "duration": 17,
        "start_time": "2022-09-04T19:58:10.133Z"
      },
      {
        "duration": 15,
        "start_time": "2022-09-04T19:58:10.151Z"
      },
      {
        "duration": 1495,
        "start_time": "2022-09-04T19:58:10.168Z"
      },
      {
        "duration": 0,
        "start_time": "2022-09-04T19:58:11.665Z"
      },
      {
        "duration": 0,
        "start_time": "2022-09-04T19:58:11.667Z"
      },
      {
        "duration": 0,
        "start_time": "2022-09-04T19:58:11.669Z"
      },
      {
        "duration": 0,
        "start_time": "2022-09-04T19:58:11.670Z"
      },
      {
        "duration": 0,
        "start_time": "2022-09-04T19:58:11.672Z"
      },
      {
        "duration": 0,
        "start_time": "2022-09-04T19:58:11.673Z"
      },
      {
        "duration": 0,
        "start_time": "2022-09-04T19:58:11.674Z"
      },
      {
        "duration": 1545,
        "start_time": "2022-09-04T20:05:26.962Z"
      },
      {
        "duration": 808,
        "start_time": "2022-09-04T20:05:28.509Z"
      },
      {
        "duration": 36,
        "start_time": "2022-09-04T20:05:29.319Z"
      },
      {
        "duration": 51,
        "start_time": "2022-09-04T20:05:29.357Z"
      },
      {
        "duration": 32,
        "start_time": "2022-09-04T20:05:29.410Z"
      },
      {
        "duration": 15,
        "start_time": "2022-09-04T20:05:29.444Z"
      },
      {
        "duration": 35,
        "start_time": "2022-09-04T20:05:29.503Z"
      },
      {
        "duration": 68,
        "start_time": "2022-09-04T20:05:29.540Z"
      },
      {
        "duration": 7,
        "start_time": "2022-09-04T20:05:29.610Z"
      },
      {
        "duration": 331,
        "start_time": "2022-09-04T20:05:29.620Z"
      },
      {
        "duration": 179,
        "start_time": "2022-09-04T20:05:29.953Z"
      },
      {
        "duration": 313,
        "start_time": "2022-09-04T20:05:30.137Z"
      },
      {
        "duration": 4,
        "start_time": "2022-09-04T20:05:30.453Z"
      },
      {
        "duration": 54,
        "start_time": "2022-09-04T20:05:30.460Z"
      },
      {
        "duration": 14,
        "start_time": "2022-09-04T20:05:30.516Z"
      },
      {
        "duration": 35,
        "start_time": "2022-09-04T20:05:30.533Z"
      },
      {
        "duration": 41,
        "start_time": "2022-09-04T20:05:30.570Z"
      },
      {
        "duration": 13,
        "start_time": "2022-09-04T20:05:30.613Z"
      },
      {
        "duration": 35,
        "start_time": "2022-09-04T20:05:30.628Z"
      },
      {
        "duration": 21,
        "start_time": "2022-09-04T20:05:30.704Z"
      },
      {
        "duration": 30,
        "start_time": "2022-09-04T20:05:30.727Z"
      },
      {
        "duration": 60,
        "start_time": "2022-09-04T20:05:30.759Z"
      },
      {
        "duration": 22,
        "start_time": "2022-09-04T20:05:30.821Z"
      },
      {
        "duration": 72,
        "start_time": "2022-09-04T20:05:30.845Z"
      },
      {
        "duration": 32,
        "start_time": "2022-09-04T20:05:30.920Z"
      },
      {
        "duration": 53,
        "start_time": "2022-09-04T20:05:30.954Z"
      },
      {
        "duration": 4284,
        "start_time": "2022-09-04T20:05:31.010Z"
      },
      {
        "duration": 287,
        "start_time": "2022-09-04T20:05:35.303Z"
      },
      {
        "duration": 2352,
        "start_time": "2022-09-04T20:05:35.603Z"
      },
      {
        "duration": 19,
        "start_time": "2022-09-04T20:05:37.957Z"
      },
      {
        "duration": 41,
        "start_time": "2022-09-04T20:05:37.978Z"
      },
      {
        "duration": 164,
        "start_time": "2022-09-04T20:05:38.022Z"
      },
      {
        "duration": 0,
        "start_time": "2022-09-04T20:05:38.188Z"
      },
      {
        "duration": 0,
        "start_time": "2022-09-04T20:05:38.190Z"
      },
      {
        "duration": 0,
        "start_time": "2022-09-04T20:05:38.203Z"
      },
      {
        "duration": 0,
        "start_time": "2022-09-04T20:05:38.205Z"
      },
      {
        "duration": 0,
        "start_time": "2022-09-04T20:05:38.207Z"
      },
      {
        "duration": 0,
        "start_time": "2022-09-04T20:05:38.209Z"
      },
      {
        "duration": 0,
        "start_time": "2022-09-04T20:05:38.211Z"
      },
      {
        "duration": 0,
        "start_time": "2022-09-04T20:05:38.213Z"
      },
      {
        "duration": 0,
        "start_time": "2022-09-04T20:05:38.215Z"
      },
      {
        "duration": 0,
        "start_time": "2022-09-04T20:05:38.217Z"
      },
      {
        "duration": 0,
        "start_time": "2022-09-04T20:05:38.219Z"
      },
      {
        "duration": 0,
        "start_time": "2022-09-04T20:05:38.221Z"
      },
      {
        "duration": 1513,
        "start_time": "2022-09-04T20:07:13.766Z"
      },
      {
        "duration": 729,
        "start_time": "2022-09-04T20:07:15.282Z"
      },
      {
        "duration": 37,
        "start_time": "2022-09-04T20:07:16.012Z"
      },
      {
        "duration": 51,
        "start_time": "2022-09-04T20:07:16.052Z"
      },
      {
        "duration": 30,
        "start_time": "2022-09-04T20:07:16.105Z"
      },
      {
        "duration": 16,
        "start_time": "2022-09-04T20:07:16.137Z"
      },
      {
        "duration": 76,
        "start_time": "2022-09-04T20:07:16.155Z"
      },
      {
        "duration": 20,
        "start_time": "2022-09-04T20:07:16.233Z"
      },
      {
        "duration": 4,
        "start_time": "2022-09-04T20:07:16.255Z"
      },
      {
        "duration": 362,
        "start_time": "2022-09-04T20:07:16.261Z"
      },
      {
        "duration": 137,
        "start_time": "2022-09-04T20:07:16.625Z"
      },
      {
        "duration": 291,
        "start_time": "2022-09-04T20:07:16.764Z"
      },
      {
        "duration": 4,
        "start_time": "2022-09-04T20:07:17.057Z"
      },
      {
        "duration": 43,
        "start_time": "2022-09-04T20:07:17.064Z"
      },
      {
        "duration": 20,
        "start_time": "2022-09-04T20:07:17.109Z"
      },
      {
        "duration": 15,
        "start_time": "2022-09-04T20:07:17.131Z"
      },
      {
        "duration": 29,
        "start_time": "2022-09-04T20:07:17.149Z"
      },
      {
        "duration": 34,
        "start_time": "2022-09-04T20:07:17.181Z"
      },
      {
        "duration": 25,
        "start_time": "2022-09-04T20:07:17.217Z"
      },
      {
        "duration": 73,
        "start_time": "2022-09-04T20:07:17.244Z"
      },
      {
        "duration": 23,
        "start_time": "2022-09-04T20:07:17.320Z"
      },
      {
        "duration": 18,
        "start_time": "2022-09-04T20:07:17.345Z"
      },
      {
        "duration": 49,
        "start_time": "2022-09-04T20:07:17.365Z"
      },
      {
        "duration": 33,
        "start_time": "2022-09-04T20:07:17.415Z"
      },
      {
        "duration": 54,
        "start_time": "2022-09-04T20:07:17.450Z"
      },
      {
        "duration": 14,
        "start_time": "2022-09-04T20:07:17.506Z"
      },
      {
        "duration": 4293,
        "start_time": "2022-09-04T20:07:17.523Z"
      },
      {
        "duration": 302,
        "start_time": "2022-09-04T20:07:21.818Z"
      },
      {
        "duration": 2180,
        "start_time": "2022-09-04T20:07:22.122Z"
      },
      {
        "duration": 18,
        "start_time": "2022-09-04T20:07:24.305Z"
      },
      {
        "duration": 16,
        "start_time": "2022-09-04T20:07:24.325Z"
      },
      {
        "duration": 4,
        "start_time": "2022-09-04T20:07:24.342Z"
      },
      {
        "duration": 55,
        "start_time": "2022-09-04T20:07:24.348Z"
      },
      {
        "duration": 10,
        "start_time": "2022-09-04T20:07:24.405Z"
      },
      {
        "duration": 21,
        "start_time": "2022-09-04T20:07:24.417Z"
      },
      {
        "duration": 14252,
        "start_time": "2022-09-04T20:07:24.440Z"
      },
      {
        "duration": 14657,
        "start_time": "2022-09-04T20:07:38.694Z"
      },
      {
        "duration": 129,
        "start_time": "2022-09-04T20:07:53.353Z"
      },
      {
        "duration": 0,
        "start_time": "2022-09-04T20:07:53.484Z"
      },
      {
        "duration": 0,
        "start_time": "2022-09-04T20:07:53.485Z"
      },
      {
        "duration": 0,
        "start_time": "2022-09-04T20:07:53.486Z"
      },
      {
        "duration": 0,
        "start_time": "2022-09-04T20:07:53.488Z"
      },
      {
        "duration": 0,
        "start_time": "2022-09-04T20:07:53.489Z"
      },
      {
        "duration": 3,
        "start_time": "2022-09-04T20:08:19.268Z"
      },
      {
        "duration": 3,
        "start_time": "2022-09-04T20:08:19.988Z"
      },
      {
        "duration": 8,
        "start_time": "2022-09-04T20:08:20.765Z"
      },
      {
        "duration": 14520,
        "start_time": "2022-09-04T20:08:47.361Z"
      },
      {
        "duration": 1532,
        "start_time": "2022-09-04T20:09:03.663Z"
      },
      {
        "duration": 706,
        "start_time": "2022-09-04T20:09:05.197Z"
      },
      {
        "duration": 36,
        "start_time": "2022-09-04T20:09:05.905Z"
      },
      {
        "duration": 19,
        "start_time": "2022-09-04T20:09:05.943Z"
      },
      {
        "duration": 68,
        "start_time": "2022-09-04T20:09:05.964Z"
      },
      {
        "duration": 14,
        "start_time": "2022-09-04T20:09:06.034Z"
      },
      {
        "duration": 73,
        "start_time": "2022-09-04T20:09:06.050Z"
      },
      {
        "duration": 20,
        "start_time": "2022-09-04T20:09:06.124Z"
      },
      {
        "duration": 4,
        "start_time": "2022-09-04T20:09:06.146Z"
      },
      {
        "duration": 304,
        "start_time": "2022-09-04T20:09:06.153Z"
      },
      {
        "duration": 149,
        "start_time": "2022-09-04T20:09:06.460Z"
      },
      {
        "duration": 259,
        "start_time": "2022-09-04T20:09:06.611Z"
      },
      {
        "duration": 30,
        "start_time": "2022-09-04T20:09:06.873Z"
      },
      {
        "duration": 15,
        "start_time": "2022-09-04T20:09:06.906Z"
      },
      {
        "duration": 6,
        "start_time": "2022-09-04T20:09:06.923Z"
      },
      {
        "duration": 4,
        "start_time": "2022-09-04T20:09:06.932Z"
      },
      {
        "duration": 72,
        "start_time": "2022-09-04T20:09:06.938Z"
      },
      {
        "duration": 11,
        "start_time": "2022-09-04T20:09:07.012Z"
      },
      {
        "duration": 23,
        "start_time": "2022-09-04T20:09:07.025Z"
      },
      {
        "duration": 60,
        "start_time": "2022-09-04T20:09:07.050Z"
      },
      {
        "duration": 14,
        "start_time": "2022-09-04T20:09:07.112Z"
      },
      {
        "duration": 20,
        "start_time": "2022-09-04T20:09:07.128Z"
      },
      {
        "duration": 64,
        "start_time": "2022-09-04T20:09:07.150Z"
      },
      {
        "duration": 27,
        "start_time": "2022-09-04T20:09:07.216Z"
      },
      {
        "duration": 68,
        "start_time": "2022-09-04T20:09:07.246Z"
      },
      {
        "duration": 17,
        "start_time": "2022-09-04T20:09:07.317Z"
      },
      {
        "duration": 4419,
        "start_time": "2022-09-04T20:09:07.337Z"
      },
      {
        "duration": 288,
        "start_time": "2022-09-04T20:09:11.760Z"
      },
      {
        "duration": 2221,
        "start_time": "2022-09-04T20:09:12.050Z"
      },
      {
        "duration": 32,
        "start_time": "2022-09-04T20:09:14.273Z"
      },
      {
        "duration": 16,
        "start_time": "2022-09-04T20:09:14.306Z"
      },
      {
        "duration": 4,
        "start_time": "2022-09-04T20:09:14.324Z"
      },
      {
        "duration": 10,
        "start_time": "2022-09-04T20:09:14.330Z"
      },
      {
        "duration": 7,
        "start_time": "2022-09-04T20:09:14.342Z"
      },
      {
        "duration": 63,
        "start_time": "2022-09-04T20:09:14.351Z"
      },
      {
        "duration": 14478,
        "start_time": "2022-09-04T20:09:14.416Z"
      },
      {
        "duration": 14533,
        "start_time": "2022-09-04T20:09:28.902Z"
      },
      {
        "duration": 131,
        "start_time": "2022-09-04T20:09:43.437Z"
      },
      {
        "duration": 0,
        "start_time": "2022-09-04T20:09:43.570Z"
      },
      {
        "duration": 0,
        "start_time": "2022-09-04T20:09:43.572Z"
      },
      {
        "duration": 0,
        "start_time": "2022-09-04T20:09:43.573Z"
      },
      {
        "duration": 0,
        "start_time": "2022-09-04T20:09:43.574Z"
      },
      {
        "duration": 0,
        "start_time": "2022-09-04T20:09:43.576Z"
      },
      {
        "duration": 13,
        "start_time": "2022-09-04T20:11:47.232Z"
      },
      {
        "duration": 1487,
        "start_time": "2022-09-04T20:18:36.004Z"
      },
      {
        "duration": 684,
        "start_time": "2022-09-04T20:18:37.493Z"
      },
      {
        "duration": 47,
        "start_time": "2022-09-04T20:18:38.180Z"
      },
      {
        "duration": 19,
        "start_time": "2022-09-04T20:18:38.228Z"
      },
      {
        "duration": 59,
        "start_time": "2022-09-04T20:18:38.250Z"
      },
      {
        "duration": 16,
        "start_time": "2022-09-04T20:18:38.310Z"
      },
      {
        "duration": 31,
        "start_time": "2022-09-04T20:18:38.328Z"
      },
      {
        "duration": 52,
        "start_time": "2022-09-04T20:18:38.361Z"
      },
      {
        "duration": 4,
        "start_time": "2022-09-04T20:18:38.416Z"
      },
      {
        "duration": 296,
        "start_time": "2022-09-04T20:18:38.421Z"
      },
      {
        "duration": 116,
        "start_time": "2022-09-04T20:18:38.719Z"
      },
      {
        "duration": 328,
        "start_time": "2022-09-04T20:18:38.837Z"
      },
      {
        "duration": 3,
        "start_time": "2022-09-04T20:18:39.168Z"
      },
      {
        "duration": 35,
        "start_time": "2022-09-04T20:18:39.174Z"
      },
      {
        "duration": 15,
        "start_time": "2022-09-04T20:18:39.211Z"
      },
      {
        "duration": 18,
        "start_time": "2022-09-04T20:18:39.228Z"
      },
      {
        "duration": 55,
        "start_time": "2022-09-04T20:18:39.248Z"
      },
      {
        "duration": 14,
        "start_time": "2022-09-04T20:18:39.305Z"
      },
      {
        "duration": 40,
        "start_time": "2022-09-04T20:18:39.321Z"
      },
      {
        "duration": 44,
        "start_time": "2022-09-04T20:18:39.363Z"
      },
      {
        "duration": 13,
        "start_time": "2022-09-04T20:18:39.409Z"
      },
      {
        "duration": 19,
        "start_time": "2022-09-04T20:18:39.424Z"
      },
      {
        "duration": 58,
        "start_time": "2022-09-04T20:18:39.445Z"
      },
      {
        "duration": 24,
        "start_time": "2022-09-04T20:18:39.505Z"
      },
      {
        "duration": 42,
        "start_time": "2022-09-04T20:18:39.531Z"
      },
      {
        "duration": 37,
        "start_time": "2022-09-04T20:18:39.574Z"
      },
      {
        "duration": 4066,
        "start_time": "2022-09-04T20:18:39.613Z"
      },
      {
        "duration": 271,
        "start_time": "2022-09-04T20:18:43.681Z"
      },
      {
        "duration": 2201,
        "start_time": "2022-09-04T20:18:43.953Z"
      },
      {
        "duration": 18,
        "start_time": "2022-09-04T20:18:46.156Z"
      },
      {
        "duration": 38,
        "start_time": "2022-09-04T20:18:46.176Z"
      },
      {
        "duration": 4,
        "start_time": "2022-09-04T20:18:46.216Z"
      },
      {
        "duration": 18,
        "start_time": "2022-09-04T20:18:46.222Z"
      },
      {
        "duration": 9,
        "start_time": "2022-09-04T20:18:46.241Z"
      },
      {
        "duration": 22,
        "start_time": "2022-09-04T20:18:46.252Z"
      },
      {
        "duration": 14109,
        "start_time": "2022-09-04T20:18:46.276Z"
      },
      {
        "duration": 14462,
        "start_time": "2022-09-04T20:19:00.387Z"
      },
      {
        "duration": 1358,
        "start_time": "2022-09-04T20:19:14.851Z"
      },
      {
        "duration": 1505,
        "start_time": "2022-09-04T20:19:16.302Z"
      },
      {
        "duration": 22664,
        "start_time": "2022-09-04T20:19:17.809Z"
      },
      {
        "duration": 22621,
        "start_time": "2022-09-04T20:19:40.477Z"
      },
      {
        "duration": 1915,
        "start_time": "2022-09-04T20:20:03.102Z"
      },
      {
        "duration": 0,
        "start_time": "2022-09-04T20:20:05.019Z"
      },
      {
        "duration": 4,
        "start_time": "2022-09-04T20:35:32.184Z"
      },
      {
        "duration": 1566,
        "start_time": "2022-09-04T20:49:18.430Z"
      },
      {
        "duration": 713,
        "start_time": "2022-09-04T20:49:19.998Z"
      },
      {
        "duration": 42,
        "start_time": "2022-09-04T20:49:20.713Z"
      },
      {
        "duration": 47,
        "start_time": "2022-09-04T20:49:20.757Z"
      },
      {
        "duration": 33,
        "start_time": "2022-09-04T20:49:20.808Z"
      },
      {
        "duration": 61,
        "start_time": "2022-09-04T20:49:20.844Z"
      },
      {
        "duration": 47,
        "start_time": "2022-09-04T20:49:20.907Z"
      },
      {
        "duration": 55,
        "start_time": "2022-09-04T20:49:20.956Z"
      },
      {
        "duration": 4,
        "start_time": "2022-09-04T20:49:21.013Z"
      },
      {
        "duration": 319,
        "start_time": "2022-09-04T20:49:21.020Z"
      },
      {
        "duration": 169,
        "start_time": "2022-09-04T20:49:21.341Z"
      },
      {
        "duration": 307,
        "start_time": "2022-09-04T20:49:21.512Z"
      },
      {
        "duration": 3,
        "start_time": "2022-09-04T20:49:21.821Z"
      },
      {
        "duration": 21,
        "start_time": "2022-09-04T20:49:21.827Z"
      },
      {
        "duration": 6,
        "start_time": "2022-09-04T20:49:21.850Z"
      },
      {
        "duration": 48,
        "start_time": "2022-09-04T20:49:21.858Z"
      },
      {
        "duration": 23,
        "start_time": "2022-09-04T20:49:21.908Z"
      },
      {
        "duration": 16,
        "start_time": "2022-09-04T20:49:21.933Z"
      },
      {
        "duration": 67,
        "start_time": "2022-09-04T20:49:21.950Z"
      },
      {
        "duration": 18,
        "start_time": "2022-09-04T20:49:22.019Z"
      },
      {
        "duration": 18,
        "start_time": "2022-09-04T20:49:22.039Z"
      },
      {
        "duration": 21,
        "start_time": "2022-09-04T20:49:22.104Z"
      },
      {
        "duration": 17,
        "start_time": "2022-09-04T20:49:22.127Z"
      },
      {
        "duration": 78,
        "start_time": "2022-09-04T20:49:22.146Z"
      },
      {
        "duration": 53,
        "start_time": "2022-09-04T20:49:22.227Z"
      },
      {
        "duration": 34,
        "start_time": "2022-09-04T20:49:22.282Z"
      },
      {
        "duration": 4371,
        "start_time": "2022-09-04T20:49:22.319Z"
      },
      {
        "duration": 289,
        "start_time": "2022-09-04T20:49:26.692Z"
      },
      {
        "duration": 2335,
        "start_time": "2022-09-04T20:49:26.983Z"
      },
      {
        "duration": 20,
        "start_time": "2022-09-04T20:49:29.321Z"
      },
      {
        "duration": 17,
        "start_time": "2022-09-04T20:49:29.342Z"
      },
      {
        "duration": 42,
        "start_time": "2022-09-04T20:49:29.361Z"
      },
      {
        "duration": 6,
        "start_time": "2022-09-04T20:49:29.405Z"
      },
      {
        "duration": 5,
        "start_time": "2022-09-04T20:49:29.413Z"
      },
      {
        "duration": 12,
        "start_time": "2022-09-04T20:49:29.421Z"
      },
      {
        "duration": 14463,
        "start_time": "2022-09-04T20:49:29.435Z"
      },
      {
        "duration": 14553,
        "start_time": "2022-09-04T20:49:43.902Z"
      },
      {
        "duration": 1554,
        "start_time": "2022-09-04T20:49:58.457Z"
      },
      {
        "duration": 1691,
        "start_time": "2022-09-04T20:50:00.013Z"
      },
      {
        "duration": 142898,
        "start_time": "2022-09-04T20:50:01.706Z"
      },
      {
        "duration": 1459,
        "start_time": "2022-09-04T20:53:19.742Z"
      },
      {
        "duration": 706,
        "start_time": "2022-09-04T20:53:21.204Z"
      },
      {
        "duration": 37,
        "start_time": "2022-09-04T20:53:21.912Z"
      },
      {
        "duration": 52,
        "start_time": "2022-09-04T20:53:21.952Z"
      },
      {
        "duration": 34,
        "start_time": "2022-09-04T20:53:22.006Z"
      },
      {
        "duration": 17,
        "start_time": "2022-09-04T20:53:22.042Z"
      },
      {
        "duration": 74,
        "start_time": "2022-09-04T20:53:22.061Z"
      },
      {
        "duration": 21,
        "start_time": "2022-09-04T20:53:22.137Z"
      },
      {
        "duration": 43,
        "start_time": "2022-09-04T20:53:22.160Z"
      },
      {
        "duration": 265,
        "start_time": "2022-09-04T20:53:22.208Z"
      },
      {
        "duration": 149,
        "start_time": "2022-09-04T20:53:22.475Z"
      },
      {
        "duration": 288,
        "start_time": "2022-09-04T20:53:22.626Z"
      },
      {
        "duration": 4,
        "start_time": "2022-09-04T20:53:22.917Z"
      },
      {
        "duration": 15,
        "start_time": "2022-09-04T20:53:22.923Z"
      },
      {
        "duration": 5,
        "start_time": "2022-09-04T20:53:22.940Z"
      },
      {
        "duration": 8,
        "start_time": "2022-09-04T20:53:22.947Z"
      },
      {
        "duration": 19,
        "start_time": "2022-09-04T20:53:23.003Z"
      },
      {
        "duration": 11,
        "start_time": "2022-09-04T20:53:23.023Z"
      },
      {
        "duration": 23,
        "start_time": "2022-09-04T20:53:23.036Z"
      },
      {
        "duration": 57,
        "start_time": "2022-09-04T20:53:23.061Z"
      },
      {
        "duration": 14,
        "start_time": "2022-09-04T20:53:23.120Z"
      },
      {
        "duration": 19,
        "start_time": "2022-09-04T20:53:23.136Z"
      },
      {
        "duration": 59,
        "start_time": "2022-09-04T20:53:23.156Z"
      },
      {
        "duration": 23,
        "start_time": "2022-09-04T20:53:23.216Z"
      },
      {
        "duration": 65,
        "start_time": "2022-09-04T20:53:23.241Z"
      },
      {
        "duration": 16,
        "start_time": "2022-09-04T20:53:23.309Z"
      },
      {
        "duration": 4045,
        "start_time": "2022-09-04T20:53:23.327Z"
      },
      {
        "duration": 288,
        "start_time": "2022-09-04T20:53:27.376Z"
      },
      {
        "duration": 2272,
        "start_time": "2022-09-04T20:53:27.666Z"
      },
      {
        "duration": 49,
        "start_time": "2022-09-04T20:53:29.940Z"
      },
      {
        "duration": 0,
        "start_time": "2022-09-04T20:53:29.991Z"
      },
      {
        "duration": 0,
        "start_time": "2022-09-04T20:53:29.993Z"
      },
      {
        "duration": 0,
        "start_time": "2022-09-04T20:53:29.994Z"
      },
      {
        "duration": 0,
        "start_time": "2022-09-04T20:53:29.996Z"
      },
      {
        "duration": 0,
        "start_time": "2022-09-04T20:53:29.997Z"
      },
      {
        "duration": 0,
        "start_time": "2022-09-04T20:53:29.999Z"
      },
      {
        "duration": 0,
        "start_time": "2022-09-04T20:53:30.000Z"
      },
      {
        "duration": 0,
        "start_time": "2022-09-04T20:53:30.002Z"
      },
      {
        "duration": 0,
        "start_time": "2022-09-04T20:53:30.004Z"
      },
      {
        "duration": 0,
        "start_time": "2022-09-04T20:53:30.005Z"
      },
      {
        "duration": 0,
        "start_time": "2022-09-04T20:53:30.006Z"
      },
      {
        "duration": 0,
        "start_time": "2022-09-04T20:53:30.008Z"
      },
      {
        "duration": 0,
        "start_time": "2022-09-04T20:53:30.010Z"
      },
      {
        "duration": 0,
        "start_time": "2022-09-04T20:53:30.011Z"
      },
      {
        "duration": 1377,
        "start_time": "2022-09-04T20:54:30.558Z"
      },
      {
        "duration": 697,
        "start_time": "2022-09-04T20:54:31.938Z"
      },
      {
        "duration": 34,
        "start_time": "2022-09-04T20:54:32.637Z"
      },
      {
        "duration": 38,
        "start_time": "2022-09-04T20:54:32.673Z"
      },
      {
        "duration": 29,
        "start_time": "2022-09-04T20:54:32.712Z"
      },
      {
        "duration": 14,
        "start_time": "2022-09-04T20:54:32.743Z"
      },
      {
        "duration": 70,
        "start_time": "2022-09-04T20:54:32.758Z"
      },
      {
        "duration": 18,
        "start_time": "2022-09-04T20:54:32.830Z"
      },
      {
        "duration": 4,
        "start_time": "2022-09-04T20:54:32.850Z"
      },
      {
        "duration": 291,
        "start_time": "2022-09-04T20:54:32.858Z"
      },
      {
        "duration": 152,
        "start_time": "2022-09-04T20:54:33.151Z"
      },
      {
        "duration": 249,
        "start_time": "2022-09-04T20:54:33.305Z"
      },
      {
        "duration": 3,
        "start_time": "2022-09-04T20:54:33.556Z"
      },
      {
        "duration": 45,
        "start_time": "2022-09-04T20:54:33.561Z"
      },
      {
        "duration": 6,
        "start_time": "2022-09-04T20:54:33.607Z"
      },
      {
        "duration": 5,
        "start_time": "2022-09-04T20:54:33.614Z"
      },
      {
        "duration": 19,
        "start_time": "2022-09-04T20:54:33.620Z"
      },
      {
        "duration": 10,
        "start_time": "2022-09-04T20:54:33.641Z"
      },
      {
        "duration": 69,
        "start_time": "2022-09-04T20:54:33.652Z"
      },
      {
        "duration": 15,
        "start_time": "2022-09-04T20:54:33.723Z"
      },
      {
        "duration": 12,
        "start_time": "2022-09-04T20:54:33.740Z"
      },
      {
        "duration": 58,
        "start_time": "2022-09-04T20:54:33.753Z"
      },
      {
        "duration": 13,
        "start_time": "2022-09-04T20:54:33.813Z"
      },
      {
        "duration": 29,
        "start_time": "2022-09-04T20:54:33.828Z"
      },
      {
        "duration": 61,
        "start_time": "2022-09-04T20:54:33.859Z"
      },
      {
        "duration": 13,
        "start_time": "2022-09-04T20:54:33.922Z"
      },
      {
        "duration": 4306,
        "start_time": "2022-09-04T20:54:33.937Z"
      },
      {
        "duration": 292,
        "start_time": "2022-09-04T20:54:38.247Z"
      },
      {
        "duration": 2149,
        "start_time": "2022-09-04T20:54:38.541Z"
      },
      {
        "duration": 88,
        "start_time": "2022-09-04T20:54:40.692Z"
      },
      {
        "duration": 0,
        "start_time": "2022-09-04T20:54:40.782Z"
      },
      {
        "duration": 0,
        "start_time": "2022-09-04T20:54:40.783Z"
      },
      {
        "duration": 0,
        "start_time": "2022-09-04T20:54:40.785Z"
      },
      {
        "duration": 0,
        "start_time": "2022-09-04T20:54:40.786Z"
      },
      {
        "duration": 0,
        "start_time": "2022-09-04T20:54:40.787Z"
      },
      {
        "duration": 0,
        "start_time": "2022-09-04T20:54:40.788Z"
      },
      {
        "duration": 0,
        "start_time": "2022-09-04T20:54:40.789Z"
      },
      {
        "duration": 0,
        "start_time": "2022-09-04T20:54:40.790Z"
      },
      {
        "duration": 0,
        "start_time": "2022-09-04T20:54:40.791Z"
      },
      {
        "duration": 0,
        "start_time": "2022-09-04T20:54:40.793Z"
      },
      {
        "duration": 0,
        "start_time": "2022-09-04T20:54:40.794Z"
      },
      {
        "duration": 0,
        "start_time": "2022-09-04T20:54:40.794Z"
      },
      {
        "duration": 0,
        "start_time": "2022-09-04T20:54:40.796Z"
      },
      {
        "duration": 0,
        "start_time": "2022-09-04T20:54:40.797Z"
      },
      {
        "duration": 1439,
        "start_time": "2022-09-04T20:55:04.942Z"
      },
      {
        "duration": 709,
        "start_time": "2022-09-04T20:55:06.383Z"
      },
      {
        "duration": 38,
        "start_time": "2022-09-04T20:55:07.094Z"
      },
      {
        "duration": 22,
        "start_time": "2022-09-04T20:55:07.135Z"
      },
      {
        "duration": 62,
        "start_time": "2022-09-04T20:55:07.159Z"
      },
      {
        "duration": 16,
        "start_time": "2022-09-04T20:55:07.224Z"
      },
      {
        "duration": 77,
        "start_time": "2022-09-04T20:55:07.243Z"
      },
      {
        "duration": 21,
        "start_time": "2022-09-04T20:55:07.322Z"
      },
      {
        "duration": 5,
        "start_time": "2022-09-04T20:55:07.345Z"
      },
      {
        "duration": 302,
        "start_time": "2022-09-04T20:55:07.354Z"
      },
      {
        "duration": 117,
        "start_time": "2022-09-04T20:55:07.657Z"
      },
      {
        "duration": 265,
        "start_time": "2022-09-04T20:55:07.776Z"
      },
      {
        "duration": 4,
        "start_time": "2022-09-04T20:55:08.043Z"
      },
      {
        "duration": 23,
        "start_time": "2022-09-04T20:55:08.049Z"
      },
      {
        "duration": 5,
        "start_time": "2022-09-04T20:55:08.074Z"
      },
      {
        "duration": 24,
        "start_time": "2022-09-04T20:55:08.080Z"
      },
      {
        "duration": 19,
        "start_time": "2022-09-04T20:55:08.106Z"
      },
      {
        "duration": 10,
        "start_time": "2022-09-04T20:55:08.126Z"
      },
      {
        "duration": 67,
        "start_time": "2022-09-04T20:55:08.138Z"
      },
      {
        "duration": 20,
        "start_time": "2022-09-04T20:55:08.207Z"
      },
      {
        "duration": 16,
        "start_time": "2022-09-04T20:55:08.229Z"
      },
      {
        "duration": 63,
        "start_time": "2022-09-04T20:55:08.247Z"
      },
      {
        "duration": 17,
        "start_time": "2022-09-04T20:55:08.313Z"
      },
      {
        "duration": 23,
        "start_time": "2022-09-04T20:55:08.332Z"
      },
      {
        "duration": 68,
        "start_time": "2022-09-04T20:55:08.357Z"
      },
      {
        "duration": 16,
        "start_time": "2022-09-04T20:55:08.427Z"
      },
      {
        "duration": 4232,
        "start_time": "2022-09-04T20:55:08.445Z"
      },
      {
        "duration": 268,
        "start_time": "2022-09-04T20:55:12.681Z"
      },
      {
        "duration": 2282,
        "start_time": "2022-09-04T20:55:12.951Z"
      },
      {
        "duration": 17,
        "start_time": "2022-09-04T20:55:15.236Z"
      },
      {
        "duration": 20,
        "start_time": "2022-09-04T20:55:15.255Z"
      },
      {
        "duration": 27,
        "start_time": "2022-09-04T20:55:15.278Z"
      },
      {
        "duration": 18,
        "start_time": "2022-09-04T20:55:15.307Z"
      },
      {
        "duration": 7,
        "start_time": "2022-09-04T20:55:15.328Z"
      },
      {
        "duration": 22,
        "start_time": "2022-09-04T20:55:15.337Z"
      },
      {
        "duration": 14307,
        "start_time": "2022-09-04T20:55:15.361Z"
      },
      {
        "duration": 14350,
        "start_time": "2022-09-04T20:55:29.670Z"
      },
      {
        "duration": 1282,
        "start_time": "2022-09-04T20:55:44.022Z"
      },
      {
        "duration": 1898,
        "start_time": "2022-09-04T20:55:45.306Z"
      },
      {
        "duration": 150960,
        "start_time": "2022-09-04T20:55:47.206Z"
      },
      {
        "duration": 179309,
        "start_time": "2022-09-04T20:58:18.168Z"
      },
      {
        "duration": 17443,
        "start_time": "2022-09-04T21:01:17.479Z"
      },
      {
        "duration": 0,
        "start_time": "2022-09-04T21:01:34.924Z"
      },
      {
        "duration": 1461,
        "start_time": "2022-09-04T21:11:26.915Z"
      },
      {
        "duration": 759,
        "start_time": "2022-09-04T21:11:28.378Z"
      },
      {
        "duration": 34,
        "start_time": "2022-09-04T21:11:29.139Z"
      },
      {
        "duration": 37,
        "start_time": "2022-09-04T21:11:29.175Z"
      },
      {
        "duration": 29,
        "start_time": "2022-09-04T21:11:29.215Z"
      },
      {
        "duration": 13,
        "start_time": "2022-09-04T21:11:29.246Z"
      },
      {
        "duration": 73,
        "start_time": "2022-09-04T21:11:29.261Z"
      },
      {
        "duration": 19,
        "start_time": "2022-09-04T21:11:29.336Z"
      },
      {
        "duration": 4,
        "start_time": "2022-09-04T21:11:29.356Z"
      },
      {
        "duration": 283,
        "start_time": "2022-09-04T21:11:29.362Z"
      },
      {
        "duration": 116,
        "start_time": "2022-09-04T21:11:29.647Z"
      },
      {
        "duration": 259,
        "start_time": "2022-09-04T21:11:29.764Z"
      },
      {
        "duration": 3,
        "start_time": "2022-09-04T21:11:30.025Z"
      },
      {
        "duration": 14,
        "start_time": "2022-09-04T21:11:30.033Z"
      },
      {
        "duration": 7,
        "start_time": "2022-09-04T21:11:30.049Z"
      },
      {
        "duration": 46,
        "start_time": "2022-09-04T21:11:30.058Z"
      },
      {
        "duration": 19,
        "start_time": "2022-09-04T21:11:30.105Z"
      },
      {
        "duration": 15,
        "start_time": "2022-09-04T21:11:30.126Z"
      },
      {
        "duration": 61,
        "start_time": "2022-09-04T21:11:30.143Z"
      },
      {
        "duration": 20,
        "start_time": "2022-09-04T21:11:30.206Z"
      },
      {
        "duration": 17,
        "start_time": "2022-09-04T21:11:30.228Z"
      },
      {
        "duration": 65,
        "start_time": "2022-09-04T21:11:30.247Z"
      },
      {
        "duration": 14,
        "start_time": "2022-09-04T21:11:30.313Z"
      },
      {
        "duration": 39,
        "start_time": "2022-09-04T21:11:30.329Z"
      },
      {
        "duration": 46,
        "start_time": "2022-09-04T21:11:30.369Z"
      },
      {
        "duration": 16,
        "start_time": "2022-09-04T21:11:30.417Z"
      },
      {
        "duration": 4132,
        "start_time": "2022-09-04T21:11:30.435Z"
      },
      {
        "duration": 278,
        "start_time": "2022-09-04T21:11:34.569Z"
      },
      {
        "duration": 2234,
        "start_time": "2022-09-04T21:11:34.849Z"
      },
      {
        "duration": 27,
        "start_time": "2022-09-04T21:11:37.085Z"
      },
      {
        "duration": 17,
        "start_time": "2022-09-04T21:11:37.114Z"
      },
      {
        "duration": 4,
        "start_time": "2022-09-04T21:11:37.132Z"
      },
      {
        "duration": 6,
        "start_time": "2022-09-04T21:11:37.138Z"
      },
      {
        "duration": 6,
        "start_time": "2022-09-04T21:11:37.145Z"
      },
      {
        "duration": 50,
        "start_time": "2022-09-04T21:11:37.153Z"
      },
      {
        "duration": 14401,
        "start_time": "2022-09-04T21:11:37.205Z"
      },
      {
        "duration": 14306,
        "start_time": "2022-09-04T21:11:51.608Z"
      },
      {
        "duration": 1592,
        "start_time": "2022-09-04T21:12:05.916Z"
      },
      {
        "duration": 1694,
        "start_time": "2022-09-04T21:12:07.510Z"
      },
      {
        "duration": 148653,
        "start_time": "2022-09-04T21:12:09.206Z"
      },
      {
        "duration": 177152,
        "start_time": "2022-09-04T21:14:37.863Z"
      },
      {
        "duration": 17341,
        "start_time": "2022-09-04T21:17:35.018Z"
      },
      {
        "duration": 1917,
        "start_time": "2022-09-04T21:17:52.361Z"
      },
      {
        "duration": 1794,
        "start_time": "2022-09-04T21:23:44.109Z"
      },
      {
        "duration": 17024,
        "start_time": "2022-09-04T21:28:47.846Z"
      },
      {
        "duration": 1825,
        "start_time": "2022-09-04T21:29:07.790Z"
      },
      {
        "duration": 1467,
        "start_time": "2022-09-04T21:34:47.176Z"
      },
      {
        "duration": 750,
        "start_time": "2022-09-04T21:34:48.645Z"
      },
      {
        "duration": 36,
        "start_time": "2022-09-04T21:34:49.396Z"
      },
      {
        "duration": 18,
        "start_time": "2022-09-04T21:34:49.434Z"
      },
      {
        "duration": 68,
        "start_time": "2022-09-04T21:34:49.454Z"
      },
      {
        "duration": 14,
        "start_time": "2022-09-04T21:34:49.524Z"
      },
      {
        "duration": 64,
        "start_time": "2022-09-04T21:34:49.539Z"
      },
      {
        "duration": 18,
        "start_time": "2022-09-04T21:34:49.605Z"
      },
      {
        "duration": 4,
        "start_time": "2022-09-04T21:34:49.625Z"
      },
      {
        "duration": 295,
        "start_time": "2022-09-04T21:34:49.632Z"
      },
      {
        "duration": 119,
        "start_time": "2022-09-04T21:34:49.929Z"
      },
      {
        "duration": 268,
        "start_time": "2022-09-04T21:34:50.050Z"
      },
      {
        "duration": 3,
        "start_time": "2022-09-04T21:34:50.320Z"
      },
      {
        "duration": 13,
        "start_time": "2022-09-04T21:34:50.324Z"
      },
      {
        "duration": 5,
        "start_time": "2022-09-04T21:34:50.339Z"
      },
      {
        "duration": 13,
        "start_time": "2022-09-04T21:34:50.346Z"
      },
      {
        "duration": 19,
        "start_time": "2022-09-04T21:34:50.402Z"
      },
      {
        "duration": 12,
        "start_time": "2022-09-04T21:34:50.423Z"
      },
      {
        "duration": 23,
        "start_time": "2022-09-04T21:34:50.437Z"
      },
      {
        "duration": 19,
        "start_time": "2022-09-04T21:34:50.503Z"
      },
      {
        "duration": 20,
        "start_time": "2022-09-04T21:34:50.524Z"
      },
      {
        "duration": 57,
        "start_time": "2022-09-04T21:34:50.546Z"
      },
      {
        "duration": 15,
        "start_time": "2022-09-04T21:34:50.605Z"
      },
      {
        "duration": 26,
        "start_time": "2022-09-04T21:34:50.622Z"
      },
      {
        "duration": 63,
        "start_time": "2022-09-04T21:34:50.649Z"
      },
      {
        "duration": 17,
        "start_time": "2022-09-04T21:34:50.714Z"
      },
      {
        "duration": 4083,
        "start_time": "2022-09-04T21:34:50.734Z"
      },
      {
        "duration": 285,
        "start_time": "2022-09-04T21:34:54.820Z"
      },
      {
        "duration": 2157,
        "start_time": "2022-09-04T21:34:55.107Z"
      },
      {
        "duration": 18,
        "start_time": "2022-09-04T21:34:57.266Z"
      },
      {
        "duration": 16,
        "start_time": "2022-09-04T21:34:57.304Z"
      },
      {
        "duration": 4,
        "start_time": "2022-09-04T21:34:57.322Z"
      },
      {
        "duration": 7,
        "start_time": "2022-09-04T21:34:57.327Z"
      },
      {
        "duration": 5,
        "start_time": "2022-09-04T21:34:57.336Z"
      },
      {
        "duration": 14,
        "start_time": "2022-09-04T21:34:57.343Z"
      },
      {
        "duration": 14137,
        "start_time": "2022-09-04T21:34:57.358Z"
      },
      {
        "duration": 14384,
        "start_time": "2022-09-04T21:35:11.503Z"
      },
      {
        "duration": 1615,
        "start_time": "2022-09-04T21:35:25.890Z"
      },
      {
        "duration": 1700,
        "start_time": "2022-09-04T21:35:27.507Z"
      },
      {
        "duration": 153477,
        "start_time": "2022-09-04T21:35:29.209Z"
      },
      {
        "duration": 1466,
        "start_time": "2022-09-04T21:40:13.534Z"
      },
      {
        "duration": 721,
        "start_time": "2022-09-04T21:40:15.003Z"
      },
      {
        "duration": 34,
        "start_time": "2022-09-04T21:40:15.725Z"
      },
      {
        "duration": 18,
        "start_time": "2022-09-04T21:40:15.761Z"
      },
      {
        "duration": 28,
        "start_time": "2022-09-04T21:40:15.803Z"
      },
      {
        "duration": 12,
        "start_time": "2022-09-04T21:40:15.833Z"
      },
      {
        "duration": 66,
        "start_time": "2022-09-04T21:40:15.846Z"
      },
      {
        "duration": 16,
        "start_time": "2022-09-04T21:40:15.914Z"
      },
      {
        "duration": 4,
        "start_time": "2022-09-04T21:40:15.932Z"
      },
      {
        "duration": 287,
        "start_time": "2022-09-04T21:40:15.939Z"
      },
      {
        "duration": 140,
        "start_time": "2022-09-04T21:40:16.227Z"
      },
      {
        "duration": 285,
        "start_time": "2022-09-04T21:40:16.369Z"
      },
      {
        "duration": 4,
        "start_time": "2022-09-04T21:40:16.655Z"
      },
      {
        "duration": 46,
        "start_time": "2022-09-04T21:40:16.661Z"
      },
      {
        "duration": 6,
        "start_time": "2022-09-04T21:40:16.709Z"
      },
      {
        "duration": 12,
        "start_time": "2022-09-04T21:40:16.717Z"
      },
      {
        "duration": 27,
        "start_time": "2022-09-04T21:40:16.731Z"
      },
      {
        "duration": 45,
        "start_time": "2022-09-04T21:40:16.759Z"
      },
      {
        "duration": 23,
        "start_time": "2022-09-04T21:40:16.806Z"
      },
      {
        "duration": 17,
        "start_time": "2022-09-04T21:40:16.831Z"
      },
      {
        "duration": 13,
        "start_time": "2022-09-04T21:40:16.849Z"
      },
      {
        "duration": 19,
        "start_time": "2022-09-04T21:40:16.903Z"
      },
      {
        "duration": 14,
        "start_time": "2022-09-04T21:40:16.924Z"
      },
      {
        "duration": 22,
        "start_time": "2022-09-04T21:40:16.940Z"
      },
      {
        "duration": 64,
        "start_time": "2022-09-04T21:40:16.964Z"
      },
      {
        "duration": 16,
        "start_time": "2022-09-04T21:40:17.029Z"
      },
      {
        "duration": 4551,
        "start_time": "2022-09-04T21:40:17.047Z"
      },
      {
        "duration": 274,
        "start_time": "2022-09-04T21:40:21.605Z"
      },
      {
        "duration": 2194,
        "start_time": "2022-09-04T21:40:21.881Z"
      },
      {
        "duration": 28,
        "start_time": "2022-09-04T21:40:24.077Z"
      },
      {
        "duration": 16,
        "start_time": "2022-09-04T21:40:24.107Z"
      },
      {
        "duration": 3,
        "start_time": "2022-09-04T21:40:24.125Z"
      },
      {
        "duration": 12,
        "start_time": "2022-09-04T21:40:24.130Z"
      },
      {
        "duration": 4,
        "start_time": "2022-09-04T21:40:24.143Z"
      },
      {
        "duration": 13,
        "start_time": "2022-09-04T21:40:24.149Z"
      },
      {
        "duration": 14287,
        "start_time": "2022-09-04T21:40:24.164Z"
      },
      {
        "duration": 14427,
        "start_time": "2022-09-04T21:40:38.453Z"
      },
      {
        "duration": 1522,
        "start_time": "2022-09-04T21:40:52.882Z"
      },
      {
        "duration": 1504,
        "start_time": "2022-09-04T21:40:54.406Z"
      },
      {
        "duration": 1461,
        "start_time": "2022-09-04T21:42:02.530Z"
      },
      {
        "duration": 714,
        "start_time": "2022-09-04T21:42:03.994Z"
      },
      {
        "duration": 36,
        "start_time": "2022-09-04T21:42:04.709Z"
      },
      {
        "duration": 19,
        "start_time": "2022-09-04T21:42:04.747Z"
      },
      {
        "duration": 61,
        "start_time": "2022-09-04T21:42:04.768Z"
      },
      {
        "duration": 13,
        "start_time": "2022-09-04T21:42:04.831Z"
      },
      {
        "duration": 68,
        "start_time": "2022-09-04T21:42:04.846Z"
      },
      {
        "duration": 21,
        "start_time": "2022-09-04T21:42:04.916Z"
      },
      {
        "duration": 4,
        "start_time": "2022-09-04T21:42:04.939Z"
      },
      {
        "duration": 296,
        "start_time": "2022-09-04T21:42:04.946Z"
      },
      {
        "duration": 125,
        "start_time": "2022-09-04T21:42:05.244Z"
      },
      {
        "duration": 260,
        "start_time": "2022-09-04T21:42:05.371Z"
      },
      {
        "duration": 4,
        "start_time": "2022-09-04T21:42:05.633Z"
      },
      {
        "duration": 17,
        "start_time": "2022-09-04T21:42:05.638Z"
      },
      {
        "duration": 6,
        "start_time": "2022-09-04T21:42:05.658Z"
      },
      {
        "duration": 7,
        "start_time": "2022-09-04T21:42:05.702Z"
      },
      {
        "duration": 24,
        "start_time": "2022-09-04T21:42:05.711Z"
      },
      {
        "duration": 13,
        "start_time": "2022-09-04T21:42:05.738Z"
      },
      {
        "duration": 65,
        "start_time": "2022-09-04T21:42:05.753Z"
      },
      {
        "duration": 22,
        "start_time": "2022-09-04T21:42:05.820Z"
      },
      {
        "duration": 17,
        "start_time": "2022-09-04T21:42:05.843Z"
      },
      {
        "duration": 58,
        "start_time": "2022-09-04T21:42:05.862Z"
      },
      {
        "duration": 14,
        "start_time": "2022-09-04T21:42:05.921Z"
      },
      {
        "duration": 22,
        "start_time": "2022-09-04T21:42:05.937Z"
      },
      {
        "duration": 65,
        "start_time": "2022-09-04T21:42:05.961Z"
      },
      {
        "duration": 13,
        "start_time": "2022-09-04T21:42:06.028Z"
      },
      {
        "duration": 4311,
        "start_time": "2022-09-04T21:42:06.043Z"
      },
      {
        "duration": 290,
        "start_time": "2022-09-04T21:42:10.358Z"
      },
      {
        "duration": 2116,
        "start_time": "2022-09-04T21:42:10.650Z"
      },
      {
        "duration": 17,
        "start_time": "2022-09-04T21:42:12.768Z"
      },
      {
        "duration": 30,
        "start_time": "2022-09-04T21:42:12.787Z"
      },
      {
        "duration": 3,
        "start_time": "2022-09-04T21:42:12.819Z"
      },
      {
        "duration": 6,
        "start_time": "2022-09-04T21:42:12.824Z"
      },
      {
        "duration": 5,
        "start_time": "2022-09-04T21:42:12.831Z"
      },
      {
        "duration": 12,
        "start_time": "2022-09-04T21:42:12.838Z"
      },
      {
        "duration": 14189,
        "start_time": "2022-09-04T21:42:12.852Z"
      },
      {
        "duration": 14372,
        "start_time": "2022-09-04T21:42:27.043Z"
      },
      {
        "duration": 1790,
        "start_time": "2022-09-04T21:42:41.417Z"
      },
      {
        "duration": 1293,
        "start_time": "2022-09-04T21:42:43.210Z"
      },
      {
        "duration": 148787,
        "start_time": "2022-09-04T21:42:44.506Z"
      },
      {
        "duration": 178165,
        "start_time": "2022-09-04T21:45:13.295Z"
      },
      {
        "duration": 11620,
        "start_time": "2022-09-04T21:48:11.463Z"
      },
      {
        "duration": 13795,
        "start_time": "2022-09-04T21:48:23.086Z"
      },
      {
        "duration": 150,
        "start_time": "2022-09-04T21:49:03.554Z"
      },
      {
        "duration": 148,
        "start_time": "2022-09-04T21:49:39.154Z"
      },
      {
        "duration": 1634,
        "start_time": "2022-09-05T20:37:12.796Z"
      },
      {
        "duration": 3472,
        "start_time": "2022-09-05T20:37:14.432Z"
      },
      {
        "duration": 32,
        "start_time": "2022-09-05T20:37:17.906Z"
      },
      {
        "duration": 18,
        "start_time": "2022-09-05T20:37:17.940Z"
      },
      {
        "duration": 30,
        "start_time": "2022-09-05T20:37:17.960Z"
      },
      {
        "duration": 15,
        "start_time": "2022-09-05T20:37:17.991Z"
      },
      {
        "duration": 37,
        "start_time": "2022-09-05T20:37:18.007Z"
      },
      {
        "duration": 46,
        "start_time": "2022-09-05T20:37:18.047Z"
      },
      {
        "duration": 6,
        "start_time": "2022-09-05T20:37:18.095Z"
      },
      {
        "duration": 232,
        "start_time": "2022-09-05T20:37:18.104Z"
      },
      {
        "duration": 118,
        "start_time": "2022-09-05T20:37:18.337Z"
      },
      {
        "duration": 220,
        "start_time": "2022-09-05T20:37:18.456Z"
      },
      {
        "duration": 11,
        "start_time": "2022-09-05T20:37:18.687Z"
      },
      {
        "duration": 17,
        "start_time": "2022-09-05T20:37:18.700Z"
      },
      {
        "duration": 5,
        "start_time": "2022-09-05T20:37:18.719Z"
      },
      {
        "duration": 13,
        "start_time": "2022-09-05T20:37:18.726Z"
      },
      {
        "duration": 22,
        "start_time": "2022-09-05T20:37:18.741Z"
      },
      {
        "duration": 9,
        "start_time": "2022-09-05T20:37:18.765Z"
      },
      {
        "duration": 35,
        "start_time": "2022-09-05T20:37:18.775Z"
      },
      {
        "duration": 15,
        "start_time": "2022-09-05T20:37:18.812Z"
      },
      {
        "duration": 12,
        "start_time": "2022-09-05T20:37:18.829Z"
      },
      {
        "duration": 15,
        "start_time": "2022-09-05T20:37:18.843Z"
      },
      {
        "duration": 45,
        "start_time": "2022-09-05T20:37:18.860Z"
      },
      {
        "duration": 21,
        "start_time": "2022-09-05T20:37:18.907Z"
      },
      {
        "duration": 24,
        "start_time": "2022-09-05T20:37:18.930Z"
      },
      {
        "duration": 13,
        "start_time": "2022-09-05T20:37:18.956Z"
      },
      {
        "duration": 3708,
        "start_time": "2022-09-05T20:37:18.995Z"
      },
      {
        "duration": 245,
        "start_time": "2022-09-05T20:37:22.706Z"
      },
      {
        "duration": 2149,
        "start_time": "2022-09-05T20:37:22.953Z"
      },
      {
        "duration": 16,
        "start_time": "2022-09-05T20:37:25.103Z"
      },
      {
        "duration": 21,
        "start_time": "2022-09-05T20:37:25.120Z"
      },
      {
        "duration": 13,
        "start_time": "2022-09-05T20:37:25.143Z"
      },
      {
        "duration": 1328,
        "start_time": "2022-09-05T20:58:56.813Z"
      },
      {
        "duration": 688,
        "start_time": "2022-09-05T20:58:58.143Z"
      },
      {
        "duration": 29,
        "start_time": "2022-09-05T20:58:58.832Z"
      },
      {
        "duration": 26,
        "start_time": "2022-09-05T20:58:58.862Z"
      },
      {
        "duration": 25,
        "start_time": "2022-09-05T20:58:58.890Z"
      },
      {
        "duration": 25,
        "start_time": "2022-09-05T20:58:58.916Z"
      },
      {
        "duration": 31,
        "start_time": "2022-09-05T20:58:58.942Z"
      },
      {
        "duration": 25,
        "start_time": "2022-09-05T20:58:58.974Z"
      },
      {
        "duration": 3,
        "start_time": "2022-09-05T20:58:59.001Z"
      },
      {
        "duration": 240,
        "start_time": "2022-09-05T20:58:59.006Z"
      },
      {
        "duration": 99,
        "start_time": "2022-09-05T20:58:59.247Z"
      },
      {
        "duration": 213,
        "start_time": "2022-09-05T20:58:59.348Z"
      },
      {
        "duration": 2,
        "start_time": "2022-09-05T20:58:59.563Z"
      },
      {
        "duration": 10,
        "start_time": "2022-09-05T20:58:59.588Z"
      },
      {
        "duration": 4,
        "start_time": "2022-09-05T20:58:59.600Z"
      },
      {
        "duration": 7,
        "start_time": "2022-09-05T20:58:59.606Z"
      },
      {
        "duration": 25,
        "start_time": "2022-09-05T20:58:59.614Z"
      },
      {
        "duration": 9,
        "start_time": "2022-09-05T20:58:59.641Z"
      },
      {
        "duration": 42,
        "start_time": "2022-09-05T20:58:59.651Z"
      },
      {
        "duration": 15,
        "start_time": "2022-09-05T20:58:59.695Z"
      },
      {
        "duration": 11,
        "start_time": "2022-09-05T20:58:59.712Z"
      },
      {
        "duration": 18,
        "start_time": "2022-09-05T20:58:59.724Z"
      },
      {
        "duration": 13,
        "start_time": "2022-09-05T20:58:59.744Z"
      },
      {
        "duration": 49,
        "start_time": "2022-09-05T20:58:59.759Z"
      },
      {
        "duration": 24,
        "start_time": "2022-09-05T20:58:59.810Z"
      },
      {
        "duration": 11,
        "start_time": "2022-09-05T20:58:59.836Z"
      },
      {
        "duration": 3677,
        "start_time": "2022-09-05T20:58:59.848Z"
      },
      {
        "duration": 255,
        "start_time": "2022-09-05T20:59:03.526Z"
      },
      {
        "duration": 2137,
        "start_time": "2022-09-05T20:59:03.782Z"
      },
      {
        "duration": 4,
        "start_time": "2022-09-05T20:59:05.921Z"
      },
      {
        "duration": 931,
        "start_time": "2022-09-05T20:59:05.927Z"
      },
      {
        "duration": 4,
        "start_time": "2022-09-05T21:14:07.708Z"
      },
      {
        "duration": 5,
        "start_time": "2022-09-05T21:14:09.638Z"
      },
      {
        "duration": 3,
        "start_time": "2022-09-05T21:15:44.381Z"
      },
      {
        "duration": 9,
        "start_time": "2022-09-05T21:29:52.538Z"
      },
      {
        "duration": 10,
        "start_time": "2022-09-05T21:29:52.753Z"
      },
      {
        "duration": 7,
        "start_time": "2022-09-06T11:01:12.429Z"
      },
      {
        "duration": 1534,
        "start_time": "2022-09-06T11:21:50.931Z"
      },
      {
        "duration": 2174,
        "start_time": "2022-09-06T11:21:52.467Z"
      },
      {
        "duration": 32,
        "start_time": "2022-09-06T11:21:54.643Z"
      },
      {
        "duration": 17,
        "start_time": "2022-09-06T11:21:54.677Z"
      },
      {
        "duration": 32,
        "start_time": "2022-09-06T11:21:54.695Z"
      },
      {
        "duration": 14,
        "start_time": "2022-09-06T11:21:54.729Z"
      },
      {
        "duration": 28,
        "start_time": "2022-09-06T11:21:54.745Z"
      },
      {
        "duration": 32,
        "start_time": "2022-09-06T11:21:54.775Z"
      },
      {
        "duration": 6,
        "start_time": "2022-09-06T11:21:54.808Z"
      },
      {
        "duration": 231,
        "start_time": "2022-09-06T11:21:54.817Z"
      },
      {
        "duration": 105,
        "start_time": "2022-09-06T11:21:55.050Z"
      },
      {
        "duration": 215,
        "start_time": "2022-09-06T11:21:55.156Z"
      },
      {
        "duration": 3,
        "start_time": "2022-09-06T11:21:55.373Z"
      },
      {
        "duration": 35,
        "start_time": "2022-09-06T11:21:55.377Z"
      },
      {
        "duration": 12,
        "start_time": "2022-09-06T11:21:55.421Z"
      },
      {
        "duration": 10,
        "start_time": "2022-09-06T11:21:55.434Z"
      },
      {
        "duration": 36,
        "start_time": "2022-09-06T11:21:55.445Z"
      },
      {
        "duration": 8,
        "start_time": "2022-09-06T11:21:55.483Z"
      },
      {
        "duration": 36,
        "start_time": "2022-09-06T11:21:55.492Z"
      },
      {
        "duration": 16,
        "start_time": "2022-09-06T11:21:55.529Z"
      },
      {
        "duration": 12,
        "start_time": "2022-09-06T11:21:55.547Z"
      },
      {
        "duration": 16,
        "start_time": "2022-09-06T11:21:55.560Z"
      },
      {
        "duration": 12,
        "start_time": "2022-09-06T11:21:55.578Z"
      },
      {
        "duration": 38,
        "start_time": "2022-09-06T11:21:55.592Z"
      },
      {
        "duration": 35,
        "start_time": "2022-09-06T11:21:55.632Z"
      },
      {
        "duration": 12,
        "start_time": "2022-09-06T11:21:55.669Z"
      },
      {
        "duration": 3831,
        "start_time": "2022-09-06T11:21:55.683Z"
      },
      {
        "duration": 235,
        "start_time": "2022-09-06T11:21:59.518Z"
      },
      {
        "duration": 2073,
        "start_time": "2022-09-06T11:21:59.754Z"
      },
      {
        "duration": 15,
        "start_time": "2022-09-06T11:22:01.830Z"
      },
      {
        "duration": 39,
        "start_time": "2022-09-06T11:22:01.847Z"
      },
      {
        "duration": 5,
        "start_time": "2022-09-06T11:22:01.887Z"
      },
      {
        "duration": 8,
        "start_time": "2022-09-06T11:22:01.893Z"
      },
      {
        "duration": 47,
        "start_time": "2022-09-06T11:22:01.902Z"
      },
      {
        "duration": 22,
        "start_time": "2022-09-06T11:22:01.950Z"
      },
      {
        "duration": 13097,
        "start_time": "2022-09-06T11:22:01.973Z"
      },
      {
        "duration": 13099,
        "start_time": "2022-09-06T11:22:15.071Z"
      },
      {
        "duration": 2650,
        "start_time": "2022-09-06T11:22:28.171Z"
      },
      {
        "duration": 2489,
        "start_time": "2022-09-06T11:22:30.826Z"
      },
      {
        "duration": 115,
        "start_time": "2022-09-06T11:22:33.333Z"
      },
      {
        "duration": 0,
        "start_time": "2022-09-06T11:22:33.449Z"
      },
      {
        "duration": 0,
        "start_time": "2022-09-06T11:22:33.451Z"
      },
      {
        "duration": 0,
        "start_time": "2022-09-06T11:22:33.452Z"
      },
      {
        "duration": 107,
        "start_time": "2022-09-06T11:23:04.949Z"
      },
      {
        "duration": 57,
        "start_time": "2022-09-06T11:29:44.986Z"
      },
      {
        "duration": 1600,
        "start_time": "2022-09-06T11:29:55.858Z"
      },
      {
        "duration": 655,
        "start_time": "2022-09-06T11:29:57.460Z"
      },
      {
        "duration": 35,
        "start_time": "2022-09-06T11:29:58.117Z"
      },
      {
        "duration": 18,
        "start_time": "2022-09-06T11:29:58.154Z"
      },
      {
        "duration": 53,
        "start_time": "2022-09-06T11:29:58.174Z"
      },
      {
        "duration": 11,
        "start_time": "2022-09-06T11:29:58.229Z"
      },
      {
        "duration": 30,
        "start_time": "2022-09-06T11:29:58.242Z"
      },
      {
        "duration": 15,
        "start_time": "2022-09-06T11:29:58.273Z"
      },
      {
        "duration": 31,
        "start_time": "2022-09-06T11:29:58.290Z"
      },
      {
        "duration": 236,
        "start_time": "2022-09-06T11:29:58.322Z"
      },
      {
        "duration": 99,
        "start_time": "2022-09-06T11:29:58.560Z"
      },
      {
        "duration": 219,
        "start_time": "2022-09-06T11:29:58.661Z"
      },
      {
        "duration": 3,
        "start_time": "2022-09-06T11:29:58.881Z"
      },
      {
        "duration": 43,
        "start_time": "2022-09-06T11:29:58.886Z"
      },
      {
        "duration": 8,
        "start_time": "2022-09-06T11:29:58.937Z"
      },
      {
        "duration": 8,
        "start_time": "2022-09-06T11:29:58.947Z"
      },
      {
        "duration": 19,
        "start_time": "2022-09-06T11:29:58.956Z"
      },
      {
        "duration": 8,
        "start_time": "2022-09-06T11:29:58.976Z"
      },
      {
        "duration": 32,
        "start_time": "2022-09-06T11:29:58.986Z"
      },
      {
        "duration": 18,
        "start_time": "2022-09-06T11:29:59.023Z"
      },
      {
        "duration": 12,
        "start_time": "2022-09-06T11:29:59.043Z"
      },
      {
        "duration": 16,
        "start_time": "2022-09-06T11:29:59.057Z"
      },
      {
        "duration": 13,
        "start_time": "2022-09-06T11:29:59.074Z"
      },
      {
        "duration": 27,
        "start_time": "2022-09-06T11:29:59.108Z"
      },
      {
        "duration": 22,
        "start_time": "2022-09-06T11:29:59.137Z"
      },
      {
        "duration": 12,
        "start_time": "2022-09-06T11:29:59.160Z"
      },
      {
        "duration": 3756,
        "start_time": "2022-09-06T11:29:59.173Z"
      },
      {
        "duration": 256,
        "start_time": "2022-09-06T11:30:02.935Z"
      },
      {
        "duration": 2159,
        "start_time": "2022-09-06T11:30:03.192Z"
      },
      {
        "duration": 15,
        "start_time": "2022-09-06T11:30:05.352Z"
      },
      {
        "duration": 14,
        "start_time": "2022-09-06T11:30:05.368Z"
      },
      {
        "duration": 3,
        "start_time": "2022-09-06T11:30:05.383Z"
      },
      {
        "duration": 4,
        "start_time": "2022-09-06T11:30:05.406Z"
      },
      {
        "duration": 28,
        "start_time": "2022-09-06T11:30:05.411Z"
      },
      {
        "duration": 11,
        "start_time": "2022-09-06T11:30:05.441Z"
      },
      {
        "duration": 13675,
        "start_time": "2022-09-06T11:30:05.454Z"
      },
      {
        "duration": 13598,
        "start_time": "2022-09-06T11:30:19.130Z"
      },
      {
        "duration": 3792,
        "start_time": "2022-09-06T11:30:32.730Z"
      },
      {
        "duration": 2991,
        "start_time": "2022-09-06T11:30:36.532Z"
      },
      {
        "duration": 491750,
        "start_time": "2022-09-06T11:30:39.528Z"
      },
      {
        "duration": 213,
        "start_time": "2022-09-06T11:38:51.282Z"
      },
      {
        "duration": 0,
        "start_time": "2022-09-06T11:38:51.496Z"
      },
      {
        "duration": 0,
        "start_time": "2022-09-06T11:38:51.498Z"
      },
      {
        "duration": 1445,
        "start_time": "2022-09-06T11:44:27.232Z"
      },
      {
        "duration": 685,
        "start_time": "2022-09-06T11:44:28.679Z"
      },
      {
        "duration": 31,
        "start_time": "2022-09-06T11:44:29.365Z"
      },
      {
        "duration": 22,
        "start_time": "2022-09-06T11:44:29.406Z"
      },
      {
        "duration": 42,
        "start_time": "2022-09-06T11:44:29.430Z"
      },
      {
        "duration": 12,
        "start_time": "2022-09-06T11:44:29.475Z"
      },
      {
        "duration": 46,
        "start_time": "2022-09-06T11:44:29.488Z"
      },
      {
        "duration": 16,
        "start_time": "2022-09-06T11:44:29.535Z"
      },
      {
        "duration": 3,
        "start_time": "2022-09-06T11:44:29.553Z"
      },
      {
        "duration": 252,
        "start_time": "2022-09-06T11:44:29.558Z"
      },
      {
        "duration": 113,
        "start_time": "2022-09-06T11:44:29.813Z"
      },
      {
        "duration": 242,
        "start_time": "2022-09-06T11:44:29.931Z"
      },
      {
        "duration": 3,
        "start_time": "2022-09-06T11:44:30.174Z"
      },
      {
        "duration": 14,
        "start_time": "2022-09-06T11:44:30.179Z"
      },
      {
        "duration": 19,
        "start_time": "2022-09-06T11:44:30.194Z"
      },
      {
        "duration": 44,
        "start_time": "2022-09-06T11:44:30.214Z"
      },
      {
        "duration": 30,
        "start_time": "2022-09-06T11:44:30.260Z"
      },
      {
        "duration": 10,
        "start_time": "2022-09-06T11:44:30.292Z"
      },
      {
        "duration": 32,
        "start_time": "2022-09-06T11:44:30.304Z"
      },
      {
        "duration": 31,
        "start_time": "2022-09-06T11:44:30.338Z"
      },
      {
        "duration": 16,
        "start_time": "2022-09-06T11:44:30.371Z"
      },
      {
        "duration": 58,
        "start_time": "2022-09-06T11:44:30.389Z"
      },
      {
        "duration": 23,
        "start_time": "2022-09-06T11:44:30.449Z"
      },
      {
        "duration": 45,
        "start_time": "2022-09-06T11:44:30.474Z"
      },
      {
        "duration": 63,
        "start_time": "2022-09-06T11:44:30.520Z"
      },
      {
        "duration": 50,
        "start_time": "2022-09-06T11:44:30.585Z"
      },
      {
        "duration": 4063,
        "start_time": "2022-09-06T11:44:30.636Z"
      },
      {
        "duration": 266,
        "start_time": "2022-09-06T11:44:34.707Z"
      },
      {
        "duration": 2198,
        "start_time": "2022-09-06T11:44:34.975Z"
      },
      {
        "duration": 15,
        "start_time": "2022-09-06T11:44:37.175Z"
      },
      {
        "duration": 26,
        "start_time": "2022-09-06T11:44:37.191Z"
      },
      {
        "duration": 7,
        "start_time": "2022-09-06T11:44:37.225Z"
      },
      {
        "duration": 17,
        "start_time": "2022-09-06T11:44:37.234Z"
      },
      {
        "duration": 13,
        "start_time": "2022-09-06T11:44:37.252Z"
      },
      {
        "duration": 14,
        "start_time": "2022-09-06T11:44:37.266Z"
      },
      {
        "duration": 13961,
        "start_time": "2022-09-06T11:44:37.282Z"
      },
      {
        "duration": 14420,
        "start_time": "2022-09-06T11:44:51.245Z"
      },
      {
        "duration": 4378,
        "start_time": "2022-09-06T11:45:05.667Z"
      },
      {
        "duration": 4480,
        "start_time": "2022-09-06T11:45:10.047Z"
      },
      {
        "duration": 494991,
        "start_time": "2022-09-06T11:45:14.540Z"
      },
      {
        "duration": 1447,
        "start_time": "2022-09-06T11:59:42.336Z"
      },
      {
        "duration": 705,
        "start_time": "2022-09-06T11:59:43.784Z"
      },
      {
        "duration": 41,
        "start_time": "2022-09-06T11:59:44.490Z"
      },
      {
        "duration": 17,
        "start_time": "2022-09-06T11:59:44.535Z"
      },
      {
        "duration": 25,
        "start_time": "2022-09-06T11:59:44.554Z"
      },
      {
        "duration": 38,
        "start_time": "2022-09-06T11:59:44.581Z"
      },
      {
        "duration": 40,
        "start_time": "2022-09-06T11:59:44.621Z"
      },
      {
        "duration": 17,
        "start_time": "2022-09-06T11:59:44.663Z"
      },
      {
        "duration": 4,
        "start_time": "2022-09-06T11:59:44.681Z"
      },
      {
        "duration": 255,
        "start_time": "2022-09-06T11:59:44.687Z"
      },
      {
        "duration": 116,
        "start_time": "2022-09-06T11:59:44.943Z"
      },
      {
        "duration": 246,
        "start_time": "2022-09-06T11:59:45.061Z"
      },
      {
        "duration": 6,
        "start_time": "2022-09-06T11:59:45.309Z"
      },
      {
        "duration": 28,
        "start_time": "2022-09-06T11:59:45.318Z"
      },
      {
        "duration": 6,
        "start_time": "2022-09-06T11:59:45.347Z"
      },
      {
        "duration": 11,
        "start_time": "2022-09-06T11:59:45.354Z"
      },
      {
        "duration": 21,
        "start_time": "2022-09-06T11:59:45.366Z"
      },
      {
        "duration": 9,
        "start_time": "2022-09-06T11:59:45.389Z"
      },
      {
        "duration": 32,
        "start_time": "2022-09-06T11:59:45.399Z"
      },
      {
        "duration": 16,
        "start_time": "2022-09-06T11:59:45.436Z"
      },
      {
        "duration": 12,
        "start_time": "2022-09-06T11:59:45.454Z"
      },
      {
        "duration": 17,
        "start_time": "2022-09-06T11:59:45.467Z"
      },
      {
        "duration": 22,
        "start_time": "2022-09-06T11:59:45.506Z"
      },
      {
        "duration": 32,
        "start_time": "2022-09-06T11:59:45.530Z"
      },
      {
        "duration": 26,
        "start_time": "2022-09-06T11:59:45.564Z"
      },
      {
        "duration": 10,
        "start_time": "2022-09-06T11:59:45.592Z"
      },
      {
        "duration": 4148,
        "start_time": "2022-09-06T11:59:45.603Z"
      },
      {
        "duration": 285,
        "start_time": "2022-09-06T11:59:49.753Z"
      },
      {
        "duration": 2117,
        "start_time": "2022-09-06T11:59:50.040Z"
      },
      {
        "duration": 16,
        "start_time": "2022-09-06T11:59:52.159Z"
      },
      {
        "duration": 33,
        "start_time": "2022-09-06T11:59:52.177Z"
      },
      {
        "duration": 9,
        "start_time": "2022-09-06T11:59:52.216Z"
      },
      {
        "duration": 13,
        "start_time": "2022-09-06T11:59:52.232Z"
      },
      {
        "duration": 9,
        "start_time": "2022-09-06T11:59:52.246Z"
      },
      {
        "duration": 16,
        "start_time": "2022-09-06T11:59:52.257Z"
      },
      {
        "duration": 14694,
        "start_time": "2022-09-06T11:59:52.275Z"
      },
      {
        "duration": 14871,
        "start_time": "2022-09-06T12:00:06.971Z"
      },
      {
        "duration": 2574,
        "start_time": "2022-09-06T12:00:21.844Z"
      },
      {
        "duration": 2501,
        "start_time": "2022-09-06T12:00:24.424Z"
      },
      {
        "duration": 494697,
        "start_time": "2022-09-06T12:00:26.932Z"
      },
      {
        "duration": 1434,
        "start_time": "2022-09-06T12:13:20.327Z"
      },
      {
        "duration": 766,
        "start_time": "2022-09-06T12:13:21.763Z"
      },
      {
        "duration": 29,
        "start_time": "2022-09-06T12:13:22.532Z"
      },
      {
        "duration": 16,
        "start_time": "2022-09-06T12:13:22.563Z"
      },
      {
        "duration": 23,
        "start_time": "2022-09-06T12:13:22.581Z"
      },
      {
        "duration": 24,
        "start_time": "2022-09-06T12:13:22.608Z"
      },
      {
        "duration": 45,
        "start_time": "2022-09-06T12:13:22.633Z"
      },
      {
        "duration": 16,
        "start_time": "2022-09-06T12:13:22.680Z"
      },
      {
        "duration": 3,
        "start_time": "2022-09-06T12:13:22.698Z"
      },
      {
        "duration": 257,
        "start_time": "2022-09-06T12:13:22.703Z"
      },
      {
        "duration": 106,
        "start_time": "2022-09-06T12:13:22.962Z"
      },
      {
        "duration": 317,
        "start_time": "2022-09-06T12:13:23.069Z"
      },
      {
        "duration": 3,
        "start_time": "2022-09-06T12:13:23.388Z"
      },
      {
        "duration": 68,
        "start_time": "2022-09-06T12:13:23.393Z"
      },
      {
        "duration": 23,
        "start_time": "2022-09-06T12:13:23.463Z"
      },
      {
        "duration": 65,
        "start_time": "2022-09-06T12:13:23.488Z"
      },
      {
        "duration": 27,
        "start_time": "2022-09-06T12:13:23.555Z"
      },
      {
        "duration": 39,
        "start_time": "2022-09-06T12:13:23.584Z"
      },
      {
        "duration": 54,
        "start_time": "2022-09-06T12:13:23.624Z"
      },
      {
        "duration": 18,
        "start_time": "2022-09-06T12:13:23.680Z"
      },
      {
        "duration": 47,
        "start_time": "2022-09-06T12:13:23.699Z"
      },
      {
        "duration": 18,
        "start_time": "2022-09-06T12:13:23.748Z"
      },
      {
        "duration": 23,
        "start_time": "2022-09-06T12:13:23.768Z"
      },
      {
        "duration": 36,
        "start_time": "2022-09-06T12:13:23.793Z"
      },
      {
        "duration": 53,
        "start_time": "2022-09-06T12:13:23.830Z"
      },
      {
        "duration": 39,
        "start_time": "2022-09-06T12:13:23.884Z"
      },
      {
        "duration": 4218,
        "start_time": "2022-09-06T12:13:23.925Z"
      },
      {
        "duration": 292,
        "start_time": "2022-09-06T12:13:28.146Z"
      },
      {
        "duration": 2192,
        "start_time": "2022-09-06T12:13:28.441Z"
      },
      {
        "duration": 18,
        "start_time": "2022-09-06T12:13:30.635Z"
      },
      {
        "duration": 37,
        "start_time": "2022-09-06T12:13:30.655Z"
      },
      {
        "duration": 3,
        "start_time": "2022-09-06T12:13:30.694Z"
      },
      {
        "duration": 35,
        "start_time": "2022-09-06T12:13:30.699Z"
      },
      {
        "duration": 20,
        "start_time": "2022-09-06T12:13:30.736Z"
      },
      {
        "duration": 37,
        "start_time": "2022-09-06T12:13:30.757Z"
      },
      {
        "duration": 13972,
        "start_time": "2022-09-06T12:13:30.796Z"
      },
      {
        "duration": 14377,
        "start_time": "2022-09-06T12:13:44.769Z"
      },
      {
        "duration": 3368,
        "start_time": "2022-09-06T12:13:59.148Z"
      },
      {
        "duration": 4599,
        "start_time": "2022-09-06T12:14:02.518Z"
      },
      {
        "duration": 1397,
        "start_time": "2022-09-06T12:21:26.453Z"
      },
      {
        "duration": 697,
        "start_time": "2022-09-06T12:21:27.853Z"
      },
      {
        "duration": 34,
        "start_time": "2022-09-06T12:21:28.552Z"
      },
      {
        "duration": 37,
        "start_time": "2022-09-06T12:21:28.589Z"
      },
      {
        "duration": 24,
        "start_time": "2022-09-06T12:21:28.628Z"
      },
      {
        "duration": 11,
        "start_time": "2022-09-06T12:21:28.653Z"
      },
      {
        "duration": 28,
        "start_time": "2022-09-06T12:21:28.665Z"
      },
      {
        "duration": 22,
        "start_time": "2022-09-06T12:21:28.708Z"
      },
      {
        "duration": 5,
        "start_time": "2022-09-06T12:21:28.735Z"
      },
      {
        "duration": 232,
        "start_time": "2022-09-06T12:21:28.743Z"
      },
      {
        "duration": 109,
        "start_time": "2022-09-06T12:21:28.977Z"
      },
      {
        "duration": 260,
        "start_time": "2022-09-06T12:21:29.087Z"
      },
      {
        "duration": 3,
        "start_time": "2022-09-06T12:21:29.349Z"
      },
      {
        "duration": 13,
        "start_time": "2022-09-06T12:21:29.354Z"
      },
      {
        "duration": 5,
        "start_time": "2022-09-06T12:21:29.369Z"
      },
      {
        "duration": 6,
        "start_time": "2022-09-06T12:21:29.376Z"
      },
      {
        "duration": 45,
        "start_time": "2022-09-06T12:21:29.383Z"
      },
      {
        "duration": 20,
        "start_time": "2022-09-06T12:21:29.430Z"
      },
      {
        "duration": 22,
        "start_time": "2022-09-06T12:21:29.451Z"
      },
      {
        "duration": 15,
        "start_time": "2022-09-06T12:21:29.474Z"
      },
      {
        "duration": 21,
        "start_time": "2022-09-06T12:21:29.509Z"
      },
      {
        "duration": 26,
        "start_time": "2022-09-06T12:21:29.532Z"
      },
      {
        "duration": 13,
        "start_time": "2022-09-06T12:21:29.560Z"
      },
      {
        "duration": 38,
        "start_time": "2022-09-06T12:21:29.574Z"
      },
      {
        "duration": 35,
        "start_time": "2022-09-06T12:21:29.614Z"
      },
      {
        "duration": 12,
        "start_time": "2022-09-06T12:21:29.651Z"
      },
      {
        "duration": 4273,
        "start_time": "2022-09-06T12:21:29.665Z"
      },
      {
        "duration": 279,
        "start_time": "2022-09-06T12:21:33.941Z"
      },
      {
        "duration": 2215,
        "start_time": "2022-09-06T12:21:34.222Z"
      },
      {
        "duration": 21,
        "start_time": "2022-09-06T12:21:36.439Z"
      },
      {
        "duration": 19,
        "start_time": "2022-09-06T12:21:36.462Z"
      },
      {
        "duration": 5,
        "start_time": "2022-09-06T12:21:36.483Z"
      },
      {
        "duration": 32,
        "start_time": "2022-09-06T12:21:36.511Z"
      },
      {
        "duration": 9,
        "start_time": "2022-09-06T12:21:36.544Z"
      },
      {
        "duration": 20,
        "start_time": "2022-09-06T12:21:36.554Z"
      },
      {
        "duration": 14025,
        "start_time": "2022-09-06T12:21:36.575Z"
      },
      {
        "duration": 15200,
        "start_time": "2022-09-06T12:21:50.602Z"
      },
      {
        "duration": 5036,
        "start_time": "2022-09-06T12:22:05.805Z"
      },
      {
        "duration": 3799,
        "start_time": "2022-09-06T12:22:10.846Z"
      },
      {
        "duration": 504788,
        "start_time": "2022-09-06T12:22:14.647Z"
      },
      {
        "duration": 496704,
        "start_time": "2022-09-06T12:30:39.437Z"
      },
      {
        "duration": 1401,
        "start_time": "2022-09-06T12:38:56.143Z"
      },
      {
        "duration": 1533,
        "start_time": "2022-09-06T12:38:57.546Z"
      },
      {
        "duration": 1281,
        "start_time": "2022-09-06T12:50:53.348Z"
      },
      {
        "duration": 1238,
        "start_time": "2022-09-06T13:04:22.100Z"
      },
      {
        "duration": 1427,
        "start_time": "2022-09-06T13:11:23.320Z"
      },
      {
        "duration": 652,
        "start_time": "2022-09-06T13:11:24.749Z"
      },
      {
        "duration": 35,
        "start_time": "2022-09-06T13:11:25.402Z"
      },
      {
        "duration": 20,
        "start_time": "2022-09-06T13:11:25.438Z"
      },
      {
        "duration": 49,
        "start_time": "2022-09-06T13:11:25.460Z"
      },
      {
        "duration": 14,
        "start_time": "2022-09-06T13:11:25.511Z"
      },
      {
        "duration": 37,
        "start_time": "2022-09-06T13:11:25.526Z"
      },
      {
        "duration": 16,
        "start_time": "2022-09-06T13:11:25.565Z"
      },
      {
        "duration": 27,
        "start_time": "2022-09-06T13:11:25.582Z"
      },
      {
        "duration": 244,
        "start_time": "2022-09-06T13:11:25.610Z"
      },
      {
        "duration": 97,
        "start_time": "2022-09-06T13:11:25.855Z"
      },
      {
        "duration": 263,
        "start_time": "2022-09-06T13:11:25.954Z"
      },
      {
        "duration": 4,
        "start_time": "2022-09-06T13:11:26.220Z"
      },
      {
        "duration": 17,
        "start_time": "2022-09-06T13:11:26.227Z"
      },
      {
        "duration": 6,
        "start_time": "2022-09-06T13:11:26.246Z"
      },
      {
        "duration": 10,
        "start_time": "2022-09-06T13:11:26.254Z"
      },
      {
        "duration": 48,
        "start_time": "2022-09-06T13:11:26.266Z"
      },
      {
        "duration": 8,
        "start_time": "2022-09-06T13:11:26.316Z"
      },
      {
        "duration": 20,
        "start_time": "2022-09-06T13:11:26.326Z"
      },
      {
        "duration": 15,
        "start_time": "2022-09-06T13:11:26.348Z"
      },
      {
        "duration": 11,
        "start_time": "2022-09-06T13:11:26.364Z"
      },
      {
        "duration": 41,
        "start_time": "2022-09-06T13:11:26.377Z"
      },
      {
        "duration": 12,
        "start_time": "2022-09-06T13:11:26.420Z"
      },
      {
        "duration": 20,
        "start_time": "2022-09-06T13:11:26.433Z"
      },
      {
        "duration": 24,
        "start_time": "2022-09-06T13:11:26.454Z"
      },
      {
        "duration": 35,
        "start_time": "2022-09-06T13:11:26.480Z"
      },
      {
        "duration": 3736,
        "start_time": "2022-09-06T13:11:26.517Z"
      },
      {
        "duration": 255,
        "start_time": "2022-09-06T13:11:30.254Z"
      },
      {
        "duration": 2133,
        "start_time": "2022-09-06T13:11:30.511Z"
      },
      {
        "duration": 15,
        "start_time": "2022-09-06T13:11:32.646Z"
      },
      {
        "duration": 14,
        "start_time": "2022-09-06T13:11:32.663Z"
      },
      {
        "duration": 3,
        "start_time": "2022-09-06T13:11:32.679Z"
      },
      {
        "duration": 22,
        "start_time": "2022-09-06T13:11:32.684Z"
      },
      {
        "duration": 10,
        "start_time": "2022-09-06T13:11:32.708Z"
      },
      {
        "duration": 12,
        "start_time": "2022-09-06T13:11:32.720Z"
      },
      {
        "duration": 13082,
        "start_time": "2022-09-06T13:11:32.733Z"
      },
      {
        "duration": 13421,
        "start_time": "2022-09-06T13:11:45.817Z"
      },
      {
        "duration": 1569,
        "start_time": "2022-09-06T13:11:59.240Z"
      },
      {
        "duration": 1298,
        "start_time": "2022-09-06T13:12:00.811Z"
      },
      {
        "duration": 463980,
        "start_time": "2022-09-06T13:12:02.111Z"
      },
      {
        "duration": 1359,
        "start_time": "2022-09-06T13:26:10.681Z"
      },
      {
        "duration": 679,
        "start_time": "2022-09-06T13:26:12.042Z"
      },
      {
        "duration": 31,
        "start_time": "2022-09-06T13:26:12.723Z"
      },
      {
        "duration": 18,
        "start_time": "2022-09-06T13:26:12.756Z"
      },
      {
        "duration": 44,
        "start_time": "2022-09-06T13:26:12.775Z"
      },
      {
        "duration": 13,
        "start_time": "2022-09-06T13:26:12.820Z"
      },
      {
        "duration": 27,
        "start_time": "2022-09-06T13:26:12.834Z"
      },
      {
        "duration": 17,
        "start_time": "2022-09-06T13:26:12.863Z"
      },
      {
        "duration": 4,
        "start_time": "2022-09-06T13:26:12.906Z"
      },
      {
        "duration": 234,
        "start_time": "2022-09-06T13:26:12.912Z"
      },
      {
        "duration": 105,
        "start_time": "2022-09-06T13:26:13.148Z"
      },
      {
        "duration": 215,
        "start_time": "2022-09-06T13:26:13.254Z"
      },
      {
        "duration": 2,
        "start_time": "2022-09-06T13:26:13.471Z"
      },
      {
        "duration": 11,
        "start_time": "2022-09-06T13:26:13.475Z"
      },
      {
        "duration": 5,
        "start_time": "2022-09-06T13:26:13.506Z"
      },
      {
        "duration": 5,
        "start_time": "2022-09-06T13:26:13.512Z"
      },
      {
        "duration": 19,
        "start_time": "2022-09-06T13:26:13.518Z"
      },
      {
        "duration": 9,
        "start_time": "2022-09-06T13:26:13.539Z"
      },
      {
        "duration": 20,
        "start_time": "2022-09-06T13:26:13.549Z"
      },
      {
        "duration": 45,
        "start_time": "2022-09-06T13:26:13.571Z"
      },
      {
        "duration": 11,
        "start_time": "2022-09-06T13:26:13.618Z"
      },
      {
        "duration": 15,
        "start_time": "2022-09-06T13:26:13.630Z"
      },
      {
        "duration": 11,
        "start_time": "2022-09-06T13:26:13.646Z"
      },
      {
        "duration": 20,
        "start_time": "2022-09-06T13:26:13.659Z"
      },
      {
        "duration": 23,
        "start_time": "2022-09-06T13:26:13.705Z"
      },
      {
        "duration": 14,
        "start_time": "2022-09-06T13:26:13.730Z"
      },
      {
        "duration": 3672,
        "start_time": "2022-09-06T13:26:13.745Z"
      },
      {
        "duration": 240,
        "start_time": "2022-09-06T13:26:17.420Z"
      },
      {
        "duration": 2041,
        "start_time": "2022-09-06T13:26:17.662Z"
      },
      {
        "duration": 17,
        "start_time": "2022-09-06T13:26:19.705Z"
      },
      {
        "duration": 15,
        "start_time": "2022-09-06T13:26:19.723Z"
      },
      {
        "duration": 3,
        "start_time": "2022-09-06T13:26:19.740Z"
      },
      {
        "duration": 15,
        "start_time": "2022-09-06T13:26:19.745Z"
      },
      {
        "duration": 14,
        "start_time": "2022-09-06T13:26:19.762Z"
      },
      {
        "duration": 12,
        "start_time": "2022-09-06T13:26:19.778Z"
      },
      {
        "duration": 13030,
        "start_time": "2022-09-06T13:26:19.792Z"
      },
      {
        "duration": 12805,
        "start_time": "2022-09-06T13:26:32.824Z"
      },
      {
        "duration": 1484,
        "start_time": "2022-09-06T13:26:45.630Z"
      },
      {
        "duration": 1698,
        "start_time": "2022-09-06T13:26:47.116Z"
      },
      {
        "duration": 463453,
        "start_time": "2022-09-06T13:26:48.816Z"
      },
      {
        "duration": 476770,
        "start_time": "2022-09-06T13:34:32.271Z"
      },
      {
        "duration": 1205,
        "start_time": "2022-09-06T13:42:29.043Z"
      },
      {
        "duration": 1280,
        "start_time": "2022-09-06T13:42:30.249Z"
      },
      {
        "duration": 8,
        "start_time": "2022-09-06T13:42:31.531Z"
      },
      {
        "duration": 1238,
        "start_time": "2022-09-06T13:44:15.434Z"
      },
      {
        "duration": 9,
        "start_time": "2022-09-06T13:44:47.294Z"
      }
    ],
    "kernelspec": {
      "display_name": "Python 3 (ipykernel)",
      "language": "python",
      "name": "python3"
    },
    "language_info": {
      "codemirror_mode": {
        "name": "ipython",
        "version": 3
      },
      "file_extension": ".py",
      "mimetype": "text/x-python",
      "name": "python",
      "nbconvert_exporter": "python",
      "pygments_lexer": "ipython3",
      "version": "3.9.5"
    },
    "toc": {
      "base_numbering": 1,
      "nav_menu": {},
      "number_sections": true,
      "sideBar": true,
      "skip_h1_title": true,
      "title_cell": "Содержание",
      "title_sidebar": "Contents",
      "toc_cell": true,
      "toc_position": {},
      "toc_section_display": true,
      "toc_window_display": true
    },
    "colab": {
      "provenance": []
    }
  },
  "nbformat": 4,
  "nbformat_minor": 0
}